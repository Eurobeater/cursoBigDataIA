{
 "cells": [
  {
   "cell_type": "markdown",
   "metadata": {},
   "source": [
    "# Tarea Minería de Datos"
   ]
  },
  {
   "cell_type": "markdown",
   "metadata": {},
   "source": [
    "## 1. Definir el problema y Objetivos\n",
    "\n",
    "#### El objetivo es predecir si un estudiante aprobará o no el examen final en función de las variables.\n",
    "\n",
    "### Descripción del Dataset\n",
    "\n",
    "- Student_ID: Identificador del estudiante (no es relevante para el análisis).\n",
    "\n",
    "- Gender: Género del estudiante.\n",
    "- Study_Hours_per_Week: Horas de estudio a la semana.\n",
    "- Attendance_Rate: Porcentaje de asistencia.\n",
    "- Past_Exam_Scores: Nota de exámenes anteriores.\n",
    "- Parental_Education_Level: Nivel educativo de los padres.\n",
    "- Internet_Access_at_Home: Si tiene acceso a Internet en casa (Yes o No).\n",
    "- Extracurricular_Activities: Si realiza actividades extracurriculares (Yes o No).\n",
    "- Final_Exam_Score: Nota del examen final.\n",
    "- Pass_Fail: Etiqueta de si el estudiante aprobó (Pass) o reprobó (Fail)."
   ]
  },
  {
   "cell_type": "markdown",
   "metadata": {},
   "source": [
    "## 2. Búsqueda y Adquisición de Datos\n",
    "\n",
    "#### El dataset utilizado es el student_performance_dataset.csv, encontrado en Kaggle\n",
    "\n",
    "https://www.kaggle.com/datasets/amrmaree/student-performance-prediction?resource=download"
   ]
  },
  {
   "cell_type": "markdown",
   "metadata": {},
   "source": [
    "## 3. Preparar el entorno de trabajo\n",
    "\n"
   ]
  },
  {
   "cell_type": "code",
   "execution_count": 14,
   "metadata": {},
   "outputs": [],
   "source": [
    "import pandas as pd\n",
    "import numpy as np\n",
    "import matplotlib.pyplot as plt\n",
    "import seaborn as sns\n",
    "from sklearn.model_selection import train_test_split\n",
    "from sklearn.linear_model import LogisticRegression\n",
    "from sklearn.metrics import accuracy_score, classification_report, confusion_matrix"
   ]
  },
  {
   "cell_type": "markdown",
   "metadata": {},
   "source": [
    "## 4. Exploración de Datos (Data Exploration)"
   ]
  },
  {
   "cell_type": "markdown",
   "metadata": {},
   "source": [
    "#### Carga de datos"
   ]
  },
  {
   "cell_type": "code",
   "execution_count": 20,
   "metadata": {},
   "outputs": [
    {
     "data": {
      "text/html": [
       "<div>\n",
       "<style scoped>\n",
       "    .dataframe tbody tr th:only-of-type {\n",
       "        vertical-align: middle;\n",
       "    }\n",
       "\n",
       "    .dataframe tbody tr th {\n",
       "        vertical-align: top;\n",
       "    }\n",
       "\n",
       "    .dataframe thead th {\n",
       "        text-align: right;\n",
       "    }\n",
       "</style>\n",
       "<table border=\"1\" class=\"dataframe\">\n",
       "  <thead>\n",
       "    <tr style=\"text-align: right;\">\n",
       "      <th></th>\n",
       "      <th>Student_ID</th>\n",
       "      <th>Gender</th>\n",
       "      <th>Study_Hours_per_Week</th>\n",
       "      <th>Attendance_Rate</th>\n",
       "      <th>Past_Exam_Scores</th>\n",
       "      <th>Parental_Education_Level</th>\n",
       "      <th>Internet_Access_at_Home</th>\n",
       "      <th>Extracurricular_Activities</th>\n",
       "      <th>Final_Exam_Score</th>\n",
       "      <th>Pass_Fail</th>\n",
       "    </tr>\n",
       "  </thead>\n",
       "  <tbody>\n",
       "    <tr>\n",
       "      <th>0</th>\n",
       "      <td>S147</td>\n",
       "      <td>Male</td>\n",
       "      <td>31</td>\n",
       "      <td>68.267841</td>\n",
       "      <td>86</td>\n",
       "      <td>High School</td>\n",
       "      <td>Yes</td>\n",
       "      <td>Yes</td>\n",
       "      <td>63</td>\n",
       "      <td>Pass</td>\n",
       "    </tr>\n",
       "    <tr>\n",
       "      <th>1</th>\n",
       "      <td>S136</td>\n",
       "      <td>Male</td>\n",
       "      <td>16</td>\n",
       "      <td>78.222927</td>\n",
       "      <td>73</td>\n",
       "      <td>PhD</td>\n",
       "      <td>No</td>\n",
       "      <td>No</td>\n",
       "      <td>50</td>\n",
       "      <td>Fail</td>\n",
       "    </tr>\n",
       "    <tr>\n",
       "      <th>2</th>\n",
       "      <td>S209</td>\n",
       "      <td>Female</td>\n",
       "      <td>21</td>\n",
       "      <td>87.525096</td>\n",
       "      <td>74</td>\n",
       "      <td>PhD</td>\n",
       "      <td>Yes</td>\n",
       "      <td>No</td>\n",
       "      <td>55</td>\n",
       "      <td>Fail</td>\n",
       "    </tr>\n",
       "    <tr>\n",
       "      <th>3</th>\n",
       "      <td>S458</td>\n",
       "      <td>Female</td>\n",
       "      <td>27</td>\n",
       "      <td>92.076483</td>\n",
       "      <td>99</td>\n",
       "      <td>Bachelors</td>\n",
       "      <td>No</td>\n",
       "      <td>No</td>\n",
       "      <td>65</td>\n",
       "      <td>Pass</td>\n",
       "    </tr>\n",
       "    <tr>\n",
       "      <th>4</th>\n",
       "      <td>S078</td>\n",
       "      <td>Female</td>\n",
       "      <td>37</td>\n",
       "      <td>98.655517</td>\n",
       "      <td>63</td>\n",
       "      <td>Masters</td>\n",
       "      <td>No</td>\n",
       "      <td>Yes</td>\n",
       "      <td>70</td>\n",
       "      <td>Pass</td>\n",
       "    </tr>\n",
       "  </tbody>\n",
       "</table>\n",
       "</div>"
      ],
      "text/plain": [
       "  Student_ID  Gender  Study_Hours_per_Week  Attendance_Rate  Past_Exam_Scores  \\\n",
       "0       S147    Male                    31        68.267841                86   \n",
       "1       S136    Male                    16        78.222927                73   \n",
       "2       S209  Female                    21        87.525096                74   \n",
       "3       S458  Female                    27        92.076483                99   \n",
       "4       S078  Female                    37        98.655517                63   \n",
       "\n",
       "  Parental_Education_Level Internet_Access_at_Home Extracurricular_Activities  \\\n",
       "0              High School                     Yes                        Yes   \n",
       "1                      PhD                      No                         No   \n",
       "2                      PhD                     Yes                         No   \n",
       "3                Bachelors                      No                         No   \n",
       "4                  Masters                      No                        Yes   \n",
       "\n",
       "   Final_Exam_Score Pass_Fail  \n",
       "0                63      Pass  \n",
       "1                50      Fail  \n",
       "2                55      Fail  \n",
       "3                65      Pass  \n",
       "4                70      Pass  "
      ]
     },
     "execution_count": 20,
     "metadata": {},
     "output_type": "execute_result"
    }
   ],
   "source": [
    "df = pd.read_csv(r\"C:\\Users\\USUARIO\\Documents\\Curso IA y Big Data\\Sistemas de Big Data\\Tema 5 Analisis\\Tarea Mineria de Datos\\data\\student_performance_dataset.csv\")\n",
    "df.head() # Visualiza las primeras filas\n"
   ]
  },
  {
   "cell_type": "markdown",
   "metadata": {},
   "source": [
    "#### Análisis descriptivo"
   ]
  },
  {
   "cell_type": "code",
   "execution_count": 29,
   "metadata": {},
   "outputs": [
    {
     "name": "stdout",
     "output_type": "stream",
     "text": [
      "<class 'pandas.core.frame.DataFrame'>\n",
      "RangeIndex: 708 entries, 0 to 707\n",
      "Data columns (total 12 columns):\n",
      " #   Column                                Non-Null Count  Dtype  \n",
      "---  ------                                --------------  -----  \n",
      " 0   Student_ID                            708 non-null    object \n",
      " 1   Gender                                0 non-null      float64\n",
      " 2   Study_Hours_per_Week                  708 non-null    int64  \n",
      " 3   Attendance_Rate                       708 non-null    float64\n",
      " 4   Past_Exam_Scores                      708 non-null    int64  \n",
      " 5   Internet_Access_at_Home               0 non-null      float64\n",
      " 6   Extracurricular_Activities            0 non-null      float64\n",
      " 7   Final_Exam_Score                      708 non-null    int64  \n",
      " 8   Pass_Fail                             708 non-null    object \n",
      " 9   Parental_Education_Level_High School  708 non-null    bool   \n",
      " 10  Parental_Education_Level_Masters      708 non-null    bool   \n",
      " 11  Parental_Education_Level_PhD          708 non-null    bool   \n",
      "dtypes: bool(3), float64(4), int64(3), object(2)\n",
      "memory usage: 52.0+ KB\n"
     ]
    },
    {
     "data": {
      "text/html": [
       "<div>\n",
       "<style scoped>\n",
       "    .dataframe tbody tr th:only-of-type {\n",
       "        vertical-align: middle;\n",
       "    }\n",
       "\n",
       "    .dataframe tbody tr th {\n",
       "        vertical-align: top;\n",
       "    }\n",
       "\n",
       "    .dataframe thead th {\n",
       "        text-align: right;\n",
       "    }\n",
       "</style>\n",
       "<table border=\"1\" class=\"dataframe\">\n",
       "  <thead>\n",
       "    <tr style=\"text-align: right;\">\n",
       "      <th></th>\n",
       "      <th>Gender</th>\n",
       "      <th>Study_Hours_per_Week</th>\n",
       "      <th>Attendance_Rate</th>\n",
       "      <th>Past_Exam_Scores</th>\n",
       "      <th>Internet_Access_at_Home</th>\n",
       "      <th>Extracurricular_Activities</th>\n",
       "      <th>Final_Exam_Score</th>\n",
       "    </tr>\n",
       "  </thead>\n",
       "  <tbody>\n",
       "    <tr>\n",
       "      <th>count</th>\n",
       "      <td>0.0</td>\n",
       "      <td>708.000000</td>\n",
       "      <td>708.000000</td>\n",
       "      <td>708.000000</td>\n",
       "      <td>0.0</td>\n",
       "      <td>0.0</td>\n",
       "      <td>708.000000</td>\n",
       "    </tr>\n",
       "    <tr>\n",
       "      <th>mean</th>\n",
       "      <td>NaN</td>\n",
       "      <td>26.132768</td>\n",
       "      <td>78.107722</td>\n",
       "      <td>77.871469</td>\n",
       "      <td>NaN</td>\n",
       "      <td>NaN</td>\n",
       "      <td>58.771186</td>\n",
       "    </tr>\n",
       "    <tr>\n",
       "      <th>std</th>\n",
       "      <td>NaN</td>\n",
       "      <td>8.877727</td>\n",
       "      <td>13.802802</td>\n",
       "      <td>14.402739</td>\n",
       "      <td>NaN</td>\n",
       "      <td>NaN</td>\n",
       "      <td>6.705877</td>\n",
       "    </tr>\n",
       "    <tr>\n",
       "      <th>min</th>\n",
       "      <td>NaN</td>\n",
       "      <td>10.000000</td>\n",
       "      <td>50.116970</td>\n",
       "      <td>50.000000</td>\n",
       "      <td>NaN</td>\n",
       "      <td>NaN</td>\n",
       "      <td>50.000000</td>\n",
       "    </tr>\n",
       "    <tr>\n",
       "      <th>25%</th>\n",
       "      <td>NaN</td>\n",
       "      <td>19.000000</td>\n",
       "      <td>67.550094</td>\n",
       "      <td>65.000000</td>\n",
       "      <td>NaN</td>\n",
       "      <td>NaN</td>\n",
       "      <td>52.000000</td>\n",
       "    </tr>\n",
       "    <tr>\n",
       "      <th>50%</th>\n",
       "      <td>NaN</td>\n",
       "      <td>27.000000</td>\n",
       "      <td>79.363046</td>\n",
       "      <td>79.000000</td>\n",
       "      <td>NaN</td>\n",
       "      <td>NaN</td>\n",
       "      <td>59.500000</td>\n",
       "    </tr>\n",
       "    <tr>\n",
       "      <th>75%</th>\n",
       "      <td>NaN</td>\n",
       "      <td>34.000000</td>\n",
       "      <td>89.504232</td>\n",
       "      <td>91.000000</td>\n",
       "      <td>NaN</td>\n",
       "      <td>NaN</td>\n",
       "      <td>64.000000</td>\n",
       "    </tr>\n",
       "    <tr>\n",
       "      <th>max</th>\n",
       "      <td>NaN</td>\n",
       "      <td>39.000000</td>\n",
       "      <td>99.967675</td>\n",
       "      <td>100.000000</td>\n",
       "      <td>NaN</td>\n",
       "      <td>NaN</td>\n",
       "      <td>77.000000</td>\n",
       "    </tr>\n",
       "  </tbody>\n",
       "</table>\n",
       "</div>"
      ],
      "text/plain": [
       "       Gender  Study_Hours_per_Week  Attendance_Rate  Past_Exam_Scores  \\\n",
       "count     0.0            708.000000       708.000000        708.000000   \n",
       "mean      NaN             26.132768        78.107722         77.871469   \n",
       "std       NaN              8.877727        13.802802         14.402739   \n",
       "min       NaN             10.000000        50.116970         50.000000   \n",
       "25%       NaN             19.000000        67.550094         65.000000   \n",
       "50%       NaN             27.000000        79.363046         79.000000   \n",
       "75%       NaN             34.000000        89.504232         91.000000   \n",
       "max       NaN             39.000000        99.967675        100.000000   \n",
       "\n",
       "       Internet_Access_at_Home  Extracurricular_Activities  Final_Exam_Score  \n",
       "count                      0.0                         0.0        708.000000  \n",
       "mean                       NaN                         NaN         58.771186  \n",
       "std                        NaN                         NaN          6.705877  \n",
       "min                        NaN                         NaN         50.000000  \n",
       "25%                        NaN                         NaN         52.000000  \n",
       "50%                        NaN                         NaN         59.500000  \n",
       "75%                        NaN                         NaN         64.000000  \n",
       "max                        NaN                         NaN         77.000000  "
      ]
     },
     "execution_count": 29,
     "metadata": {},
     "output_type": "execute_result"
    }
   ],
   "source": [
    "df.info()\n",
    "df.describe()"
   ]
  },
  {
   "cell_type": "code",
   "execution_count": 30,
   "metadata": {},
   "outputs": [
    {
     "data": {
      "text/plain": [
       "Student_ID                                0\n",
       "Gender                                  708\n",
       "Study_Hours_per_Week                      0\n",
       "Attendance_Rate                           0\n",
       "Past_Exam_Scores                          0\n",
       "Internet_Access_at_Home                 708\n",
       "Extracurricular_Activities              708\n",
       "Final_Exam_Score                          0\n",
       "Pass_Fail                                 0\n",
       "Parental_Education_Level_High School      0\n",
       "Parental_Education_Level_Masters          0\n",
       "Parental_Education_Level_PhD              0\n",
       "dtype: int64"
      ]
     },
     "execution_count": 30,
     "metadata": {},
     "output_type": "execute_result"
    }
   ],
   "source": [
    "# Revisar valores nulos\n",
    "df.isnull().sum()"
   ]
  },
  {
   "cell_type": "markdown",
   "metadata": {},
   "source": [
    "#### Visualización inicial"
   ]
  },
  {
   "cell_type": "markdown",
   "metadata": {},
   "source": [
    "####"
   ]
  },
  {
   "cell_type": "code",
   "execution_count": 31,
   "metadata": {},
   "outputs": [],
   "source": [
    "# Rellenar valores nulos solo en las columnas numéricas\n",
    "df.fillna(df.select_dtypes(include=[\"number\"]).mean(), inplace=True)"
   ]
  },
  {
   "cell_type": "code",
   "execution_count": 32,
   "metadata": {},
   "outputs": [
    {
     "ename": "KeyError",
     "evalue": "\"None of [Index(['Parental_Education_Level'], dtype='object')] are in the [columns]\"",
     "output_type": "error",
     "traceback": [
      "\u001b[1;31m---------------------------------------------------------------------------\u001b[0m",
      "\u001b[1;31mKeyError\u001b[0m                                  Traceback (most recent call last)",
      "Cell \u001b[1;32mIn[32], line 5\u001b[0m\n\u001b[0;32m      3\u001b[0m df[\u001b[38;5;124m\"\u001b[39m\u001b[38;5;124mInternet_Access_at_Home\u001b[39m\u001b[38;5;124m\"\u001b[39m] \u001b[38;5;241m=\u001b[39m df[\u001b[38;5;124m\"\u001b[39m\u001b[38;5;124mInternet_Access_at_Home\u001b[39m\u001b[38;5;124m\"\u001b[39m]\u001b[38;5;241m.\u001b[39mmap({\u001b[38;5;124m\"\u001b[39m\u001b[38;5;124mYes\u001b[39m\u001b[38;5;124m\"\u001b[39m: \u001b[38;5;241m1\u001b[39m, \u001b[38;5;124m\"\u001b[39m\u001b[38;5;124mNo\u001b[39m\u001b[38;5;124m\"\u001b[39m: \u001b[38;5;241m0\u001b[39m})\n\u001b[0;32m      4\u001b[0m df[\u001b[38;5;124m\"\u001b[39m\u001b[38;5;124mExtracurricular_Activities\u001b[39m\u001b[38;5;124m\"\u001b[39m] \u001b[38;5;241m=\u001b[39m df[\u001b[38;5;124m\"\u001b[39m\u001b[38;5;124mExtracurricular_Activities\u001b[39m\u001b[38;5;124m\"\u001b[39m]\u001b[38;5;241m.\u001b[39mmap({\u001b[38;5;124m\"\u001b[39m\u001b[38;5;124mYes\u001b[39m\u001b[38;5;124m\"\u001b[39m: \u001b[38;5;241m1\u001b[39m, \u001b[38;5;124m\"\u001b[39m\u001b[38;5;124mNo\u001b[39m\u001b[38;5;124m\"\u001b[39m: \u001b[38;5;241m0\u001b[39m})\n\u001b[1;32m----> 5\u001b[0m df \u001b[38;5;241m=\u001b[39m pd\u001b[38;5;241m.\u001b[39mget_dummies(df, columns\u001b[38;5;241m=\u001b[39m[\u001b[38;5;124m\"\u001b[39m\u001b[38;5;124mParental_Education_Level\u001b[39m\u001b[38;5;124m\"\u001b[39m], drop_first\u001b[38;5;241m=\u001b[39m\u001b[38;5;28;01mTrue\u001b[39;00m)\n",
      "File \u001b[1;32mc:\\Users\\USUARIO\\anaconda3\\Lib\\site-packages\\pandas\\core\\reshape\\encoding.py:169\u001b[0m, in \u001b[0;36mget_dummies\u001b[1;34m(data, prefix, prefix_sep, dummy_na, columns, sparse, drop_first, dtype)\u001b[0m\n\u001b[0;32m    167\u001b[0m     \u001b[38;5;28;01mraise\u001b[39;00m \u001b[38;5;167;01mTypeError\u001b[39;00m(\u001b[38;5;124m\"\u001b[39m\u001b[38;5;124mInput must be a list-like for parameter `columns`\u001b[39m\u001b[38;5;124m\"\u001b[39m)\n\u001b[0;32m    168\u001b[0m \u001b[38;5;28;01melse\u001b[39;00m:\n\u001b[1;32m--> 169\u001b[0m     data_to_encode \u001b[38;5;241m=\u001b[39m data[columns]\n\u001b[0;32m    171\u001b[0m \u001b[38;5;66;03m# validate prefixes and separator to avoid silently dropping cols\u001b[39;00m\n\u001b[0;32m    172\u001b[0m \u001b[38;5;28;01mdef\u001b[39;00m \u001b[38;5;21mcheck_len\u001b[39m(item, name: \u001b[38;5;28mstr\u001b[39m):\n",
      "File \u001b[1;32mc:\\Users\\USUARIO\\anaconda3\\Lib\\site-packages\\pandas\\core\\frame.py:4108\u001b[0m, in \u001b[0;36mDataFrame.__getitem__\u001b[1;34m(self, key)\u001b[0m\n\u001b[0;32m   4106\u001b[0m     \u001b[38;5;28;01mif\u001b[39;00m is_iterator(key):\n\u001b[0;32m   4107\u001b[0m         key \u001b[38;5;241m=\u001b[39m \u001b[38;5;28mlist\u001b[39m(key)\n\u001b[1;32m-> 4108\u001b[0m     indexer \u001b[38;5;241m=\u001b[39m \u001b[38;5;28mself\u001b[39m\u001b[38;5;241m.\u001b[39mcolumns\u001b[38;5;241m.\u001b[39m_get_indexer_strict(key, \u001b[38;5;124m\"\u001b[39m\u001b[38;5;124mcolumns\u001b[39m\u001b[38;5;124m\"\u001b[39m)[\u001b[38;5;241m1\u001b[39m]\n\u001b[0;32m   4110\u001b[0m \u001b[38;5;66;03m# take() does not accept boolean indexers\u001b[39;00m\n\u001b[0;32m   4111\u001b[0m \u001b[38;5;28;01mif\u001b[39;00m \u001b[38;5;28mgetattr\u001b[39m(indexer, \u001b[38;5;124m\"\u001b[39m\u001b[38;5;124mdtype\u001b[39m\u001b[38;5;124m\"\u001b[39m, \u001b[38;5;28;01mNone\u001b[39;00m) \u001b[38;5;241m==\u001b[39m \u001b[38;5;28mbool\u001b[39m:\n",
      "File \u001b[1;32mc:\\Users\\USUARIO\\anaconda3\\Lib\\site-packages\\pandas\\core\\indexes\\base.py:6200\u001b[0m, in \u001b[0;36mIndex._get_indexer_strict\u001b[1;34m(self, key, axis_name)\u001b[0m\n\u001b[0;32m   6197\u001b[0m \u001b[38;5;28;01melse\u001b[39;00m:\n\u001b[0;32m   6198\u001b[0m     keyarr, indexer, new_indexer \u001b[38;5;241m=\u001b[39m \u001b[38;5;28mself\u001b[39m\u001b[38;5;241m.\u001b[39m_reindex_non_unique(keyarr)\n\u001b[1;32m-> 6200\u001b[0m \u001b[38;5;28mself\u001b[39m\u001b[38;5;241m.\u001b[39m_raise_if_missing(keyarr, indexer, axis_name)\n\u001b[0;32m   6202\u001b[0m keyarr \u001b[38;5;241m=\u001b[39m \u001b[38;5;28mself\u001b[39m\u001b[38;5;241m.\u001b[39mtake(indexer)\n\u001b[0;32m   6203\u001b[0m \u001b[38;5;28;01mif\u001b[39;00m \u001b[38;5;28misinstance\u001b[39m(key, Index):\n\u001b[0;32m   6204\u001b[0m     \u001b[38;5;66;03m# GH 42790 - Preserve name from an Index\u001b[39;00m\n",
      "File \u001b[1;32mc:\\Users\\USUARIO\\anaconda3\\Lib\\site-packages\\pandas\\core\\indexes\\base.py:6249\u001b[0m, in \u001b[0;36mIndex._raise_if_missing\u001b[1;34m(self, key, indexer, axis_name)\u001b[0m\n\u001b[0;32m   6247\u001b[0m \u001b[38;5;28;01mif\u001b[39;00m nmissing:\n\u001b[0;32m   6248\u001b[0m     \u001b[38;5;28;01mif\u001b[39;00m nmissing \u001b[38;5;241m==\u001b[39m \u001b[38;5;28mlen\u001b[39m(indexer):\n\u001b[1;32m-> 6249\u001b[0m         \u001b[38;5;28;01mraise\u001b[39;00m \u001b[38;5;167;01mKeyError\u001b[39;00m(\u001b[38;5;124mf\u001b[39m\u001b[38;5;124m\"\u001b[39m\u001b[38;5;124mNone of [\u001b[39m\u001b[38;5;132;01m{\u001b[39;00mkey\u001b[38;5;132;01m}\u001b[39;00m\u001b[38;5;124m] are in the [\u001b[39m\u001b[38;5;132;01m{\u001b[39;00maxis_name\u001b[38;5;132;01m}\u001b[39;00m\u001b[38;5;124m]\u001b[39m\u001b[38;5;124m\"\u001b[39m)\n\u001b[0;32m   6251\u001b[0m     not_found \u001b[38;5;241m=\u001b[39m \u001b[38;5;28mlist\u001b[39m(ensure_index(key)[missing_mask\u001b[38;5;241m.\u001b[39mnonzero()[\u001b[38;5;241m0\u001b[39m]]\u001b[38;5;241m.\u001b[39munique())\n\u001b[0;32m   6252\u001b[0m     \u001b[38;5;28;01mraise\u001b[39;00m \u001b[38;5;167;01mKeyError\u001b[39;00m(\u001b[38;5;124mf\u001b[39m\u001b[38;5;124m\"\u001b[39m\u001b[38;5;132;01m{\u001b[39;00mnot_found\u001b[38;5;132;01m}\u001b[39;00m\u001b[38;5;124m not in index\u001b[39m\u001b[38;5;124m\"\u001b[39m)\n",
      "\u001b[1;31mKeyError\u001b[0m: \"None of [Index(['Parental_Education_Level'], dtype='object')] are in the [columns]\""
     ]
    }
   ],
   "source": [
    "# Convertir variables categóricas en valores numéricos\n",
    "df[\"Gender\"] = df[\"Gender\"].map({\"Male\": 0, \"Female\": 1})\n",
    "df[\"Internet_Access_at_Home\"] = df[\"Internet_Access_at_Home\"].map({\"Yes\": 1, \"No\": 0})\n",
    "df[\"Extracurricular_Activities\"] = df[\"Extracurricular_Activities\"].map({\"Yes\": 1, \"No\": 0})\n",
    "df = pd.get_dummies(df, columns=[\"Parental_Education_Level\"], drop_first=True)\n"
   ]
  },
  {
   "cell_type": "code",
   "execution_count": null,
   "metadata": {},
   "outputs": [],
   "source": [
    "# Variables predictoras (excluyendo Student_ID y Pass_Fail)\n",
    "X = df.drop(columns=[\"Student_ID\", \"Pass_Fail\"])\n",
    "\n",
    "# Variable objetivo (1 para \"Pass\", 0 para \"Fail\")\n",
    "y = df[\"Pass_Fail\"].map({\"Pass\": 1, \"Fail\": 0})\n",
    "\n",
    "# Separar en 80% entrenamiento y 20% prueba\n",
    "X_train, X_test, y_train, y_test = train_test_split(X, y, test_size=0.2, random_state=42)\n"
   ]
  }
 ],
 "metadata": {
  "kernelspec": {
   "display_name": "base",
   "language": "python",
   "name": "python3"
  },
  "language_info": {
   "codemirror_mode": {
    "name": "ipython",
    "version": 3
   },
   "file_extension": ".py",
   "mimetype": "text/x-python",
   "name": "python",
   "nbconvert_exporter": "python",
   "pygments_lexer": "ipython3",
   "version": "3.12.7"
  }
 },
 "nbformat": 4,
 "nbformat_minor": 2
}
