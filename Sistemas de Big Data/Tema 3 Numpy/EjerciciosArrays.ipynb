{
 "cells": [
  {
   "cell_type": "code",
   "execution_count": 2,
   "metadata": {},
   "outputs": [],
   "source": [
    "import numpy as np"
   ]
  },
  {
   "cell_type": "markdown",
   "metadata": {},
   "source": [
    "### Ejercicio 1\n",
    "\n",
    "Crea 3 nuevos arrays. \n",
    "- Array de tipo entero, que contenga solo los números impares del 1 al 100. \n",
    "- Array de tipo cadena con tu nombre y apellidos\n",
    "- Array de tipo fechas, que contenga todos los días desde el 01Enero2024 al 04Febrero2024"
   ]
  },
  {
   "cell_type": "code",
   "execution_count": null,
   "metadata": {},
   "outputs": [],
   "source": []
  },
  {
   "cell_type": "code",
   "execution_count": null,
   "metadata": {},
   "outputs": [],
   "source": []
  },
  {
   "cell_type": "code",
   "execution_count": null,
   "metadata": {},
   "outputs": [],
   "source": []
  },
  {
   "cell_type": "markdown",
   "metadata": {},
   "source": [
    "### Ejercicio 2\n",
    "\n",
    "Recupera los últimos 10 elementos del array de impares"
   ]
  },
  {
   "cell_type": "code",
   "execution_count": null,
   "metadata": {},
   "outputs": [],
   "source": []
  },
  {
   "cell_type": "markdown",
   "metadata": {},
   "source": [
    "### Ejercicio 3\n",
    "\n",
    "Recorre el array de fechas, y genera un nuevo numpy array que contenga unicamente los días laborales"
   ]
  },
  {
   "cell_type": "code",
   "execution_count": null,
   "metadata": {},
   "outputs": [],
   "source": []
  },
  {
   "cell_type": "markdown",
   "metadata": {},
   "source": [
    "Otra forma de hacerlo sería:"
   ]
  },
  {
   "cell_type": "code",
   "execution_count": null,
   "metadata": {},
   "outputs": [],
   "source": []
  },
  {
   "cell_type": "markdown",
   "metadata": {},
   "source": [
    "### Ejercicio 4\n",
    "\n",
    "Genera la siguiente matriz. \n",
    "\n",
    "$A = \\begin{pmatrix}\n",
    "10 & 1 & 8 & 4 \\\\\n",
    "3 & 7 & 2 & 1 \\\\\n",
    "0 & 2 & 20 & 12 \\\\\n",
    "\\end{pmatrix}$\n",
    "\n",
    "¿De qué tipo es?\n",
    "Luego, implementa una máscara a todos los números de la matriz mayores o iguales a 10"
   ]
  },
  {
   "cell_type": "code",
   "execution_count": null,
   "metadata": {},
   "outputs": [],
   "source": []
  },
  {
   "cell_type": "code",
   "execution_count": null,
   "metadata": {},
   "outputs": [],
   "source": []
  },
  {
   "cell_type": "code",
   "execution_count": null,
   "metadata": {},
   "outputs": [],
   "source": []
  },
  {
   "cell_type": "markdown",
   "metadata": {},
   "source": [
    "### Ejercicio 5"
   ]
  },
  {
   "cell_type": "markdown",
   "metadata": {},
   "source": [
    "Crea dos fechas, la primera de ellas será tu fecha de nacimiento, y la segunda, la de un familiar o amigo tuyo. \n",
    "\n",
    "- ¿Qué diferencia en horas hay entre las dos fechas?\n",
    "- ¿Cual sería tu fecha de nacimiento si hubieras nacido 236 horas antes?"
   ]
  },
  {
   "cell_type": "code",
   "execution_count": null,
   "metadata": {},
   "outputs": [],
   "source": []
  },
  {
   "cell_type": "markdown",
   "metadata": {},
   "source": [
    "Escribe el código de un programa que recorra todos los elementos de una array de tres dimensiones con las siguientes características:\n",
    "- Tiene que tener 2 caras\n",
    "- 2 filas\n",
    "- 3 columnas.\n",
    "\n",
    "Para hacerlo más fácil y visible que dicho array en tres dimensiones se construya con números enteros de forma secuencial."
   ]
  },
  {
   "cell_type": "code",
   "execution_count": null,
   "metadata": {},
   "outputs": [],
   "source": []
  },
  {
   "cell_type": "markdown",
   "metadata": {},
   "source": [
    "El mismo ejercicio que el anterior pero con 4 dimensiones."
   ]
  }
 ],
 "metadata": {
  "kernelspec": {
   "display_name": "Python 3 (ipykernel)",
   "language": "python",
   "name": "python3"
  },
  "language_info": {
   "codemirror_mode": {
    "name": "ipython",
    "version": 3
   },
   "file_extension": ".py",
   "mimetype": "text/x-python",
   "name": "python",
   "nbconvert_exporter": "python",
   "pygments_lexer": "ipython3",
   "version": "3.13.0"
  }
 },
 "nbformat": 4,
 "nbformat_minor": 4
}
