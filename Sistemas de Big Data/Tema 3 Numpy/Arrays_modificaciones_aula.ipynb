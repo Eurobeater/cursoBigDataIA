{
 "cells": [
  {
   "cell_type": "markdown",
   "metadata": {},
   "source": [
    "# Arrays"
   ]
  },
  {
   "cell_type": "markdown",
   "metadata": {},
   "source": [
    "Durante esta sección vamos a trabajar con el tipo de datos \"array\", aprendiendo como podemos generarlos, recorrerlos, consultarlos, etc. "
   ]
  },
  {
   "cell_type": "markdown",
   "metadata": {},
   "source": [
    "## Lección 1 - Creación de arrays"
   ]
  },
  {
   "attachments": {},
   "cell_type": "markdown",
   "metadata": {},
   "source": [
    "### La clase de objetos array\n",
    "Un array es una estructura de datos de un mismo tipo organizada en forma de tabla o cuadrícula de distintas dimensiones.\n",
    "\n",
    "Las dimensiones de un array también se conocen como ejes.\n",
    "<img src=https://aprendeconalf.es/docencia/python/manual/img/arrays.png>"
   ]
  },
  {
   "cell_type": "code",
   "execution_count": 2,
   "metadata": {},
   "outputs": [],
   "source": [
    "import numpy as np"
   ]
  },
  {
   "cell_type": "markdown",
   "metadata": {},
   "source": [
    "### Creación de arrays\n",
    "Para crear un array se utiliza la siguiente función de NumPy\n",
    "\n",
    "- `np.array(lista)` : Crea un array a partir de la lista o tupla lista y devuelve una referencia a él. El número de dimensiones del array dependerá de las listas o tuplas anidadas en lista:\n",
    "\n",
    "- Para una lista de valores se crea un array de una dimensión, también conocido como **vector**.\n",
    "\n",
    "- Para una lista de listas de valores se crea un array de dos dimensiones, también conocido como **matriz**.\n",
    "\n",
    "- Para una lista de listas de listas de valores se crea un array de tres dimensiones, también conocido como **cubo**.\n",
    "\n",
    "- Y así sucesivamente. No hay límite en el número de dimensiones del array más allá de la memoria disponible en el sistema.\n",
    "\n",
    "Los elementos de la lista o tupla deben ser del mismo tipo."
   ]
  },
  {
   "cell_type": "code",
   "execution_count": null,
   "metadata": {},
   "outputs": [],
   "source": [
    "#Array de una dimensión\n",
    "a1 = np.array([1, 2, 3])\n",
    "print(a1)"
   ]
  },
  {
   "cell_type": "code",
   "execution_count": null,
   "metadata": {},
   "outputs": [],
   "source": [
    "# Array de dos dimensiones\n",
    "a2 = np.array([[1, 2, 3], [4, 5, 6]])\n",
    "print(a2)"
   ]
  },
  {
   "cell_type": "code",
   "execution_count": null,
   "metadata": {},
   "outputs": [],
   "source": [
    "# Array de tres dimensiones\n",
    "a3 = np.array([[[1, 2, 3], [4, 5, 6]], [[7, 8, 9], [10, 11, 12]]])\n",
    "print(a3)\n",
    "a3.shape"
   ]
  },
  {
   "cell_type": "markdown",
   "metadata": {},
   "source": [
    "Un ***ndarray*** es un conjunto multidimensional (generalmente de tamaño fijo) de elementos del mismo tipo y tamaño. El número de dimensiones y elementos en una matriz se define por su forma, que es una tupla de N números enteros no negativos que especifican los tamaños de cada dimensión. El tipo de elementos de la matriz se especifica mediante un objeto de tipo de datos independiente (dtype), uno de los cuales está asociado con cada ndarray.\n",
    "\n",
    "El constructor a bajo nivel de **ndarray** es *np.ndarray*, pero no se recomienda su uso. Para la creación de arrays, se recomienda usar los métodos:\n",
    "- [array](https://numpy.org/doc/stable/reference/generated/numpy.array.html#numpy.array): Construye un nuevo array\n",
    "- [zeros](https://numpy.org/doc/stable/reference/generated/numpy.zeros.html#numpy.zeros): Construye un array de zeros\n",
    "- [ones](https://numpy.org/doc/stable/reference/generated/numpy.ones.html#numpy.ones): Construye un array vacío\n",
    "\n",
    "Vamos a usar dichos métodos para crear nuevos arrays.\n",
    "\n",
    "El parámetro `dtype` en Python, es muy útil cuando trabajamos con **arrays** de **NumPy** y **pandas** para especificar el tipo de datos."
   ]
  },
  {
   "cell_type": "markdown",
   "metadata": {},
   "source": [
    "<img src=https://numpy.org/doc/stable/_images/threefundamental.png>"
   ]
  },
  {
   "cell_type": "markdown",
   "metadata": {},
   "source": [
    "En la imagen anterior se ilustra el funcionamiento de `dtype`. Los componentes que puedes observar son: ndarray, header y head. \n",
    "- `ndarray`: esta es la representación de un array, en donde podemos ver las partes que lo componen. A grandes rasgos tenemos el encabezamiento (*header*) y un conjunto de cuadros que representan una serie de elementos contenidos en el array.\n",
    "- `header`: O encabezado, al principio del ndarray es una estructura de datos que contiene información crucial sobre el array. Específicamente:\n",
    "  -  Información sobre la forma (shape): las dimnensiones y el tamaño de la dimensión.\n",
    "  -  Información sobre el tipo de datos (dtype): el tipo de datos contiene (int, float, str, etc.) y el tamaño en bytes de cada elemento.\n",
    "  -  Información sobre el stride: el número de bytes que hay que saltar en memoria para ir al siguiente elemento.\n",
    "  -  Flags y metadatos adicionales: si el array es continuo en memoria, si es de solo lectura, etc\n",
    "- `head`: es como el \"cerebro\" del array que contiene toda la información necesaria para manejar y acceder a los datos. Nos podemos imaginar que es como la etiqueta de un producto que te dice todas sus características importantes.\n",
    "\n",
    "Otras funciones útiles que permiten generar arrays son:\n",
    "\n",
    "- `np.empty(dimensiones)` : Crea y devuelve una referencia a un array vacío con las dimensiones especificadas en la tupla dimensiones.\n",
    "\n",
    "- `np.zeros(dimensiones)` : Crea y devuelve una referencia a un array con las dimensiones especificadas en la tupla dimensiones cuyos elementos son todos ceros.\n",
    "\n",
    "- `np.ones(dimensiones)` : Crea y devuelve una referencia a un array con las dimensiones especificadas en la tupla dimensiones cuyos elementos son todos unos.\n",
    "\n",
    "- `np.full(dimensiones, valor)` : Crea y devuelve una referencia a un array con las dimensiones especificadas en la tupla dimensiones cuyos elementos son todos valor.\n",
    "\n",
    "- `np.identity(n)` : Crea y devuelve una referencia a la matriz identidad de dimensión n.\n",
    "\n",
    "- `np.arange(inicio, fin, salto)` : Crea y devuelve una referencia a un array de una dimensión cuyos elementos son la secuencia desde inicio hasta fin tomando valores cada salto.\n",
    "\n",
    "- `np.linspace(inicio, fin, n`) : Crea y devuelve una referencia a un array de una dimensión cuyos elementos son la secuencia de n valores equidistantes desde inicio hasta fin.\n",
    "\n",
    "- `np.random.random(dimensiones)` : Crea y devuelve una referencia a un array con las dimensiones especificadas en la tupla dimensiones cuyos elementos son aleatorios."
   ]
  },
  {
   "cell_type": "code",
   "execution_count": null,
   "metadata": {},
   "outputs": [],
   "source": [
    "print(np.zeros(3,2))"
   ]
  },
  {
   "cell_type": "code",
   "execution_count": null,
   "metadata": {},
   "outputs": [],
   "source": [
    "print(np.idendity(3))"
   ]
  },
  {
   "cell_type": "code",
   "execution_count": null,
   "metadata": {},
   "outputs": [],
   "source": [
    "print(np.arange(1, 10, 2))"
   ]
  },
  {
   "cell_type": "code",
   "execution_count": null,
   "metadata": {},
   "outputs": [],
   "source": [
    "print(np.linspace(0, 10, 5))"
   ]
  },
  {
   "cell_type": "markdown",
   "metadata": {},
   "source": [
    "#### array"
   ]
  },
  {
   "cell_type": "code",
   "execution_count": null,
   "metadata": {},
   "outputs": [],
   "source": [
    "array1 = np.array([1,2,3,4,5,6], dtype = 'int')\n",
    "print(type(array1))\n",
    "array1"
   ]
  },
  {
   "cell_type": "code",
   "execution_count": null,
   "metadata": {},
   "outputs": [],
   "source": [
    "array2 = np.array([[1,2,3],[4,5,6]], dtype = 'int', ndmin=2 )\n",
    "array2"
   ]
  },
  {
   "cell_type": "code",
   "execution_count": null,
   "metadata": {},
   "outputs": [],
   "source": [
    "array3 = np.array([1,2,3], dtype = 'complex')\n",
    "array3"
   ]
  },
  {
   "cell_type": "markdown",
   "metadata": {},
   "source": [
    "#### zeros"
   ]
  },
  {
   "cell_type": "code",
   "execution_count": null,
   "metadata": {},
   "outputs": [],
   "source": [
    "np.zeros(10)"
   ]
  },
  {
   "cell_type": "code",
   "execution_count": null,
   "metadata": {},
   "outputs": [],
   "source": [
    "np.zeros((5,2))"
   ]
  },
  {
   "cell_type": "markdown",
   "metadata": {},
   "source": [
    "#### ones"
   ]
  },
  {
   "cell_type": "code",
   "execution_count": null,
   "metadata": {},
   "outputs": [],
   "source": [
    "np.ones(10)"
   ]
  },
  {
   "cell_type": "code",
   "execution_count": null,
   "metadata": {},
   "outputs": [],
   "source": [
    "np.ones((5,2))"
   ]
  },
  {
   "cell_type": "markdown",
   "metadata": {},
   "source": [
    "#### range"
   ]
  },
  {
   "cell_type": "code",
   "execution_count": null,
   "metadata": {},
   "outputs": [],
   "source": [
    "a = np.arange(10)\n",
    "a"
   ]
  },
  {
   "cell_type": "markdown",
   "metadata": {},
   "source": [
    "### Atributos de un array\n",
    "Existen varios atributos y funciones que describen las características de un array.\n",
    "\n",
    "- `a.ndim` : Devuelve el número de dimensiones del array a.\n",
    "\n",
    "- `a.shape` : Devuelve una tupla con las dimensiones del array a.\n",
    "\n",
    "- `a.size` : Devuelve el número de elementos del array a.\n",
    "\n",
    "- `a.dtype`: Devuelve el tipo de datos de los elementos del array a.\n",
    "\n",
    "- `a.reshape`: Permite cambiar la forma de una matriz sin cambiar los datos.\n",
    "Un ejemplo:"
   ]
  },
  {
   "cell_type": "code",
   "execution_count": null,
   "metadata": {},
   "outputs": [],
   "source": [
    "a.reshape((2,5))"
   ]
  },
  {
   "cell_type": "markdown",
   "metadata": {},
   "source": [
    "## 1 - Tipos de datos"
   ]
  },
  {
   "cell_type": "code",
   "execution_count": null,
   "metadata": {},
   "outputs": [],
   "source": [
    "import numpy as np"
   ]
  },
  {
   "cell_type": "markdown",
   "metadata": {},
   "source": [
    "Python define solo un tipo por cadaclase de datos en particular (solo hay un tipo de entero, un tipo de float, etc.). Esto puede tener sentido en aplicaciones que no necesitan preocuparse por las distintas formas en en que se pueden representar los datos en un ordenador. Sin embargo, cuando trabajamos con el análisis de datos, a menudo necesitamos más control. \n",
    "\n",
    "En NumPy, hay 24 nuevos tipos fundamentales de Python para describir diferentes tipos de escalares. Estos descriptores de tipo se basan principalmente en los tipos disponibles en el lenguaje C en el que está escrito CPython, con varios tipos adicionales compatibles con los tipos de Python.\n",
    "\n",
    "Los diferentes tipos de datos están organizados de manera jerárquica como representa la siguiente figura:\n",
    "\n",
    "<img src=https://numpy.org/doc/stable/_images/dtype-hierarchy.png>\n",
    "Copyright 2008-2024, NumPy Desarrolladores"
   ]
  },
  {
   "cell_type": "code",
   "execution_count": null,
   "metadata": {},
   "outputs": [],
   "source": [
    "a = np.array([1,2,3,4], dtype=np.int_)\n",
    "a"
   ]
  },
  {
   "cell_type": "code",
   "execution_count": null,
   "metadata": {},
   "outputs": [],
   "source": [
    "bool_array = np.array([[1,0,0,1], [0,1,1,0]], dtype = np.bool_)\n",
    "bool_array"
   ]
  },
  {
   "cell_type": "code",
   "execution_count": null,
   "metadata": {},
   "outputs": [],
   "source": [
    "char_array = np.array(['a','b','c'], dtype = np.chararray)\n",
    "char_array"
   ]
  },
  {
   "attachments": {},
   "cell_type": "markdown",
   "metadata": {},
   "source": [
    "Además, cada uno de los tipos de la jerarquía que vemos arriba, poseen tipos de datos con distinto tamaño. Esto significa, capaces de almacenar un número distinto de bits. Por ejemplo: \n",
    "\n",
    "Para los ***int*** tenemos:\n",
    "- int8 &rarr; Máximo 8 bits (256)\n",
    "- int16 &rarr; Máximo 16 bits (65536)\n",
    "- int32 &rarr; Máximo 32 bits (4294967296)\n",
    "- int64 &rarr; Máximo 64 bits (18446744073709551616)\n",
    "\n",
    "Para los ***float*** tenemos:\n",
    "- float16 &rarr; Máximo 16 bits\n",
    "- float32 &rarr; Máximo 32 bits\n",
    "- float64 &rarr; Máximo 64 bits\n",
    "\n",
    "Te recuerdo qué es un FLOAT de 16 bits.\n",
    "Se compone de 3 partes:\n",
    "\n",
    "    Signo (1 bit)\n",
    "    Exponente (5 bits)\n",
    "    Mantisa/Fracción (10 bits)\n",
    "\n",
    "El float16 es útil cuando:\n",
    "\n",
    "    Necesitas ahorrar memoria\n",
    "    La precisión extrema no es crítica\n",
    "    Trabajas con hardware especializado (como GPUs)\n",
    "    Procesas grandes cantidades de datos\n",
    "\n",
    "Sin embargo, ten en cuenta que tiene menor precisión que float32 o float64. Ejemplos.\n",
    "\n",
    "Podéis encontrar todos los tipos de datos en el siguiente [enlace](https://numpy.org/doc/stable/reference/arrays.scalars.html#built-in-scalar-types)"
   ]
  },
  {
   "cell_type": "markdown",
   "metadata": {},
   "source": [
    "El siguiente trozo de código muestra el tamaño de los tipos `ndarray` dependiendo de si los elementos contenidos pertenecen a un entero de 8 bytes o a un entero de 64 bytes.\n"
   ]
  },
  {
   "cell_type": "code",
   "execution_count": null,
   "metadata": {},
   "outputs": [],
   "source": [
    "from sys import getsizeof\n",
    "\n",
    "a = np.array([1,2,3,4], dtype = np.int8)\n",
    "b = np.array([1,2,3,4], dtype = np.int64)\n",
    "\n",
    "print(\"A\", getsizeof(a))\n",
    "print(\"B\", getsizeof(b))"
   ]
  },
  {
   "cell_type": "markdown",
   "metadata": {},
   "source": [
    "Podemos consultar el tipo de datos de un array con el método *dtype*"
   ]
  },
  {
   "cell_type": "code",
   "execution_count": null,
   "metadata": {},
   "outputs": [],
   "source": [
    "print(a.dtype)\n",
    "print(b.dtype)\n",
    "\n",
    "#print(bool_array.dtype)"
   ]
  },
  {
   "cell_type": "code",
   "execution_count": null,
   "metadata": {},
   "outputs": [],
   "source": [
    "dt = np.dtype('int32')\n",
    "print(dt.type)\n",
    "dt.type is np.int32"
   ]
  },
  {
   "cell_type": "markdown",
   "metadata": {},
   "source": [
    "Además, podemos crear tipos de datos con una combinación de '**carácter**' + '**nº de bytes**'. Los carácteres que podemos usar son:\n",
    "\n",
    "- '?' : boolean\n",
    "- 'b' : (signed) byte\n",
    "- 'B' : unsigned byte\n",
    "- 'i' : (signed) integer\n",
    "- 'u' : unsigned integer\n",
    "- 'f' : floating-point\n",
    "- 'c' : complex-floating point\n",
    "- 'm' : timedelta\n",
    "- 'M' : datetime\n",
    "- 'O' : (Python) objects\n",
    "- 'S', 'a' : zero-terminated bytes (not recommended)\n",
    "- 'U' : Unicode string\n",
    "- 'V' : raw data (void)"
   ]
  },
  {
   "cell_type": "code",
   "execution_count": null,
   "metadata": {},
   "outputs": [],
   "source": [
    "dt = np.dtype('f8')\n",
    "a = np.array([1,2,3,4], dtype = dt)\n",
    "print(a)\n",
    "print(a.dtype)"
   ]
  },
  {
   "cell_type": "code",
   "execution_count": null,
   "metadata": {},
   "outputs": [],
   "source": [
    "dt = np.dtype('int32')\n",
    "dt.kind   #Identifica el tipo general de dato devolviendo el caracter que lo representa."
   ]
  },
  {
   "cell_type": "markdown",
   "metadata": {},
   "source": [
    "Un tipo de dato muy importante en Numpy es el **NaN**, o valor nulo."
   ]
  },
  {
   "cell_type": "code",
   "execution_count": null,
   "metadata": {},
   "outputs": [],
   "source": [
    "nan = np.nan\n",
    "np.isnan(nan)"
   ]
  },
  {
   "cell_type": "code",
   "execution_count": null,
   "metadata": {},
   "outputs": [],
   "source": [
    "x = np.array([[1., 2.], [np.nan, 3.], [np.nan, np.nan]])\n",
    "x"
   ]
  },
  {
   "cell_type": "markdown",
   "metadata": {},
   "source": [
    "#### El tipo matrix"
   ]
  },
  {
   "cell_type": "markdown",
   "metadata": {},
   "source": [
    "Los objetos de matriz heredan del ndarray y, por lo tanto, tienen los mismos atributos y métodos que ndarrays. Sin embargo, las matrices solo pueden tener dimensión 2. "
   ]
  },
  {
   "cell_type": "code",
   "execution_count": null,
   "metadata": {},
   "outputs": [],
   "source": [
    "m = np.matrix('1 2 3 ; 4 5 6')\n",
    "m"
   ]
  },
  {
   "cell_type": "code",
   "execution_count": null,
   "metadata": {},
   "outputs": [],
   "source": [
    "m = np.mat([[1,2,3], [3,4,5]], dtype = np.float16)\n",
    "len(m)"
   ]
  },
  {
   "cell_type": "code",
   "execution_count": null,
   "metadata": {},
   "outputs": [],
   "source": [
    "a = np.array([[[1,2,3], [3,4,5]],[[6,7,8], [9,10,11]]], dtype = np.float16)\n",
    "print(type(a))\n",
    "m = np.asmatrix(a)\n",
    "print(type(m))\n",
    "m"
   ]
  },
  {
   "cell_type": "markdown",
   "metadata": {},
   "source": [
    "## 2 - Indexado y recorrido de arrays"
   ]
  },
  {
   "cell_type": "markdown",
   "metadata": {},
   "source": [
    "Podemos consultar un campo del array con los carácteres []. Tenemos que recordar que en python, los indices comienzan por cero, por lo que si queremos consultar el primer elemento de un array lo haríamos de la siguiente manera"
   ]
  },
  {
   "cell_type": "code",
   "execution_count": null,
   "metadata": {},
   "outputs": [],
   "source": [
    "a = np.array([0,1,2,3,4,5,6,7,8,9])\n",
    "print(a[0])\n",
    "print(a[9])\n",
    "print(a.shape)\n",
    "print(a[9])"
   ]
  },
  {
   "cell_type": "code",
   "execution_count": 6,
   "metadata": {},
   "outputs": [
    {
     "name": "stdout",
     "output_type": "stream",
     "text": [
      "[[1 2 3]\n",
      " [4 5 6]\n",
      " [7 8 9]]\n",
      "4\n",
      "4\n"
     ]
    }
   ],
   "source": [
    "a = np.array([[1, 2, 3], [4, 5, 6],[7, 8, 9]])\n",
    "print(a)\n",
    "print(a[1, 0])  # Acceso al elemento de la fila 1 columna 0\n",
    "print(a[1][0])  # Otra forma de acceder al mismo elemento"
   ]
  },
  {
   "cell_type": "code",
   "execution_count": 7,
   "metadata": {},
   "outputs": [
    {
     "name": "stdout",
     "output_type": "stream",
     "text": [
      "[[1 2]\n",
      " [4 5]\n",
      " [7 8]]\n"
     ]
    }
   ],
   "source": [
    "print(a[:, 0:2])"
   ]
  },
  {
   "cell_type": "markdown",
   "metadata": {},
   "source": [
    "### Slicing"
   ]
  },
  {
   "cell_type": "markdown",
   "metadata": {},
   "source": [
    "Podemos consultar distintos elementos del array con el slicing. En el slice tenemos que definir: *inicio:fin:paso*"
   ]
  },
  {
   "cell_type": "code",
   "execution_count": 9,
   "metadata": {},
   "outputs": [
    {
     "name": "stdout",
     "output_type": "stream",
     "text": [
      "[[1 2 3]\n",
      " [4 5 6]\n",
      " [7 8 9]]\n",
      "--------\n",
      "[[1 2 3]\n",
      " [7 8 9]]\n",
      "--------\n",
      "[[1 2 3]]\n"
     ]
    }
   ],
   "source": [
    "print(a)\n",
    "print('--------')\n",
    "print(a[0:9:2])\n",
    "print('--------')\n",
    "print(a[0:8:3])"
   ]
  },
  {
   "cell_type": "markdown",
   "metadata": {},
   "source": [
    "Podemos recuperar los dos últimos elementos, usando valores negativos"
   ]
  },
  {
   "cell_type": "code",
   "execution_count": 10,
   "metadata": {},
   "outputs": [
    {
     "data": {
      "text/plain": [
       "array([[4, 5, 6],\n",
       "       [7, 8, 9]])"
      ]
     },
     "execution_count": 10,
     "metadata": {},
     "output_type": "execute_result"
    }
   ],
   "source": [
    "a[-2:10] # Recuerda que de esta manera podemos recuperar las últimas filas del array."
   ]
  },
  {
   "cell_type": "markdown",
   "metadata": {},
   "source": [
    "También podemos recorrer los valores de mayor a menor definiendo el tamaño del paso como un nº negativo"
   ]
  },
  {
   "cell_type": "code",
   "execution_count": 11,
   "metadata": {},
   "outputs": [
    {
     "data": {
      "text/plain": [
       "array([[7, 8, 9],\n",
       "       [4, 5, 6],\n",
       "       [1, 2, 3]])"
      ]
     },
     "execution_count": 11,
     "metadata": {},
     "output_type": "execute_result"
    }
   ],
   "source": [
    "a[9::-1]"
   ]
  },
  {
   "cell_type": "markdown",
   "metadata": {},
   "source": [
    "También podemos definir solo el inicio, o el fin"
   ]
  },
  {
   "cell_type": "code",
   "execution_count": null,
   "metadata": {},
   "outputs": [],
   "source": [
    "a[:5]"
   ]
  },
  {
   "cell_type": "code",
   "execution_count": null,
   "metadata": {},
   "outputs": [],
   "source": [
    "a[5:]"
   ]
  },
  {
   "cell_type": "markdown",
   "metadata": {},
   "source": [
    "Para los array multidimensionales funciona del mismo modo. Solo tenemos que verlos en forma de matriz, y consultar la fila y columna que deseemos."
   ]
  },
  {
   "cell_type": "code",
   "execution_count": null,
   "metadata": {},
   "outputs": [],
   "source": [
    "a = np.array([[1,2,3], [3,4,5]], dtype = np.int8)\n",
    "a"
   ]
  },
  {
   "cell_type": "code",
   "execution_count": null,
   "metadata": {},
   "outputs": [],
   "source": [
    "a[1][0]"
   ]
  },
  {
   "cell_type": "code",
   "execution_count": null,
   "metadata": {},
   "outputs": [],
   "source": [
    "a[1,0]"
   ]
  },
  {
   "cell_type": "code",
   "execution_count": null,
   "metadata": {},
   "outputs": [],
   "source": [
    "a[1, 0:2]"
   ]
  },
  {
   "cell_type": "code",
   "execution_count": null,
   "metadata": {},
   "outputs": [],
   "source": [
    "a[0:2, 0:2]"
   ]
  },
  {
   "cell_type": "markdown",
   "metadata": {},
   "source": [
    "Exactamente igual funciona cuando hablamos de un tipo matrix"
   ]
  },
  {
   "cell_type": "code",
   "execution_count": null,
   "metadata": {},
   "outputs": [],
   "source": [
    "print(type(m))\n",
    "m"
   ]
  },
  {
   "cell_type": "code",
   "execution_count": null,
   "metadata": {},
   "outputs": [],
   "source": [
    "m[0]"
   ]
  },
  {
   "cell_type": "code",
   "execution_count": null,
   "metadata": {},
   "outputs": [],
   "source": [
    "m[0,1] + m[0,0]"
   ]
  },
  {
   "cell_type": "markdown",
   "metadata": {},
   "source": [
    "En la lección anterior conocimimos el tipo nan. También podemos consultar este tipo de dato."
   ]
  },
  {
   "cell_type": "code",
   "execution_count": null,
   "metadata": {},
   "outputs": [],
   "source": [
    "x = np.array([[4, 3], [np.nan, 2.], [np.nan, np.nan]])\n",
    "print(x[x > 3])\n",
    "print(x[np.isnan(x)])\n",
    "print(x[~np.isnan(x)])"
   ]
  },
  {
   "cell_type": "markdown",
   "metadata": {},
   "source": [
    "### Indexado booleano"
   ]
  },
  {
   "cell_type": "markdown",
   "metadata": {},
   "source": [
    "El indexado booleano en NumPy permite seleccionar elementos de un array según un conjunto de condiciones booleanas. Esto se logra mediante la creación de una máscara booleana, que es un array que contiene valores True o False que se utilizan para filtrar los elementos del array original.\n",
    "\n",
    "#### Creación de una máscara booleana\n",
    "Puedes crear una máscara booleana de varias maneras:\n",
    "\n",
    "1. Comparando un array con un valor escalar, en el siguiente ejemplo:"
   ]
  },
  {
   "cell_type": "code",
   "execution_count": 26,
   "metadata": {},
   "outputs": [],
   "source": [
    "a = np.array([0,1,2,3,4,5,6,7,8,9])\n",
    "mask = a > 4"
   ]
  },
  {
   "cell_type": "markdown",
   "metadata": {},
   "source": [
    "Crea una máscara booleana con valores True para elementos > 4 y False en otro caso."
   ]
  },
  {
   "cell_type": "markdown",
   "metadata": {},
   "source": [
    "2. Comparando dos arrays:"
   ]
  },
  {
   "cell_type": "code",
   "execution_count": 14,
   "metadata": {},
   "outputs": [
    {
     "data": {
      "text/plain": [
       "array([False, False, False, False, False])"
      ]
     },
     "execution_count": 14,
     "metadata": {},
     "output_type": "execute_result"
    }
   ],
   "source": [
    "a1 = np.array([1, 2, 3, 4, 5])\n",
    "a2 = np.array([2, 3, 4, 5, 6])\n",
    "mask = a1 > a2"
   ]
  },
  {
   "cell_type": "markdown",
   "metadata": {},
   "source": [
    "### Filtrado de elementos de un array\n",
    "Una característica muy útil de los arrays es que es muy fácil obtener otro array con los elementos que cumplen una condición.\n",
    "\n",
    "- `a[condicion]` : Devuelve una lista con los elementos del array a que cumplen la condición condicion."
   ]
  },
  {
   "cell_type": "code",
   "execution_count": 27,
   "metadata": {},
   "outputs": [
    {
     "data": {
      "text/plain": [
       "array([5, 6, 7, 8, 9])"
      ]
     },
     "execution_count": 27,
     "metadata": {},
     "output_type": "execute_result"
    }
   ],
   "source": [
    "a[mask]"
   ]
  },
  {
   "cell_type": "code",
   "execution_count": 29,
   "metadata": {},
   "outputs": [
    {
     "name": "stdout",
     "output_type": "stream",
     "text": [
      "[2 4 6]\n"
     ]
    }
   ],
   "source": [
    "a = np.array([[1, 2, 3], [4, 5, 6]])\n",
    "mask = a % 2 == 0\n",
    "print(a[mask])"
   ]
  },
  {
   "cell_type": "code",
   "execution_count": 31,
   "metadata": {},
   "outputs": [
    {
     "name": "stdout",
     "output_type": "stream",
     "text": [
      "[[False False False]\n",
      " [ True False  True]]\n",
      "[4 6]\n"
     ]
    }
   ],
   "source": [
    "mask = (a % 2 == 0)  &  (a > 2)\n",
    "print(mask)\n",
    "print(a[mask])"
   ]
  },
  {
   "cell_type": "markdown",
   "metadata": {},
   "source": [
    "Veamos otro ejemplo"
   ]
  },
  {
   "cell_type": "code",
   "execution_count": null,
   "metadata": {},
   "outputs": [],
   "source": [
    "bool_array = np.array([True, False, True, False, True, False, True, False, True, False])\n",
    "print(a[bool_array[0:2]])"
   ]
  },
  {
   "cell_type": "markdown",
   "metadata": {},
   "source": [
    "También actuamos de la misma forma cuando el array es de tipo char"
   ]
  },
  {
   "cell_type": "code",
   "execution_count": 15,
   "metadata": {},
   "outputs": [
    {
     "data": {
      "text/plain": [
       "array(['Openwebinars', 'Machine Learning', 'Numpy'], dtype='<U16')"
      ]
     },
     "execution_count": 15,
     "metadata": {},
     "output_type": "execute_result"
    }
   ],
   "source": [
    "char_array = np.array(['Openwebinars', 'Machine Learning', 'Numpy'])\n",
    "char_array"
   ]
  },
  {
   "cell_type": "code",
   "execution_count": 16,
   "metadata": {},
   "outputs": [
    {
     "data": {
      "text/plain": [
       "array(['Numpy'], dtype='<U16')"
      ]
     },
     "execution_count": 16,
     "metadata": {},
     "output_type": "execute_result"
    }
   ],
   "source": [
    "char_array[char_array == 'Numpy']"
   ]
  },
  {
   "cell_type": "markdown",
   "metadata": {},
   "source": [
    "### Recorrido"
   ]
  },
  {
   "cell_type": "markdown",
   "metadata": {},
   "source": [
    "El iterador `nditer` de NumPy es un objeto que permite recorrer los elementos de una o más matrices de forma sistemática. Fue introducido en NumPy 1.6 y proporciona muchas formas flexibles de visitar todos los elementos de una matriz."
   ]
  },
  {
   "cell_type": "code",
   "execution_count": 32,
   "metadata": {},
   "outputs": [
    {
     "name": "stdout",
     "output_type": "stream",
     "text": [
      "0\n",
      "1\n",
      "2\n",
      "3\n",
      "4\n",
      "5\n",
      "6\n",
      "7\n",
      "8\n",
      "9\n"
     ]
    }
   ],
   "source": [
    "a = np.array([0,1,2,3,4,5,6,7,8,9])\n",
    "\n",
    "for valor in a:\n",
    "    print(valor)"
   ]
  },
  {
   "cell_type": "markdown",
   "metadata": {},
   "source": [
    "La tarea más básica que se puede realizar con el `nditer` es visitar cada elemento de una matriz. Cada elemento se proporciona uno por uno mediante la interfaz de iterador estándar de Python.\n",
    "Vamos a usar ahora el iterador `nditer`."
   ]
  },
  {
   "cell_type": "code",
   "execution_count": 39,
   "metadata": {},
   "outputs": [
    {
     "name": "stdout",
     "output_type": "stream",
     "text": [
      "0 1 2 3 4 5 6 7 8 9 "
     ]
    }
   ],
   "source": [
    "for valor in np.nditer(a):\n",
    "    print(valor, end=' ')"
   ]
  },
  {
   "cell_type": "markdown",
   "metadata": {},
   "source": [
    "**¡¡¡El siguiente ejemplo, va a dar un error!!!**"
   ]
  },
  {
   "cell_type": "code",
   "execution_count": 38,
   "metadata": {},
   "outputs": [
    {
     "name": "stdout",
     "output_type": "stream",
     "text": [
      "0 1 2 3 4 5 6 7 8 9 "
     ]
    }
   ],
   "source": [
    "a = np.arange(10).reshape(2,5)\n",
    "for x in np.nditer(a):\n",
    "    print(x, end=' ')\n",
    "    #print(x)"
   ]
  },
  {
   "cell_type": "markdown",
   "metadata": {},
   "source": [
    "## 4 - Mascaras"
   ]
  },
  {
   "cell_type": "markdown",
   "metadata": {},
   "source": [
    "En muchas circunstancias, los conjuntos de datos pueden estar incompletos o contaminados por la presencia de datos no válidos. Por ejemplo, es posible que un sensor no haya podido registrar datos o haya registrado un valor no válido. El módulo **numpy.ma** proporciona una forma conveniente de abordar este problema mediante la introducción de matrices enmascaradas.\n",
    "\n",
    "Una matriz enmascarada es la combinación de un *numpy.ndarray* estándar y una máscara. Cuando un elemento de la máscara es *False*, el elemento correspondiente de la matriz asociada es válido y se dice que está desenmascarado. Cuando un elemento de la máscara es *True*, se dice que el elemento correspondiente de la matriz asociada está enmascarado (no válido).\n",
    "\n",
    "Explicado por el Instituto Astrofísico de Canarias. \n",
    "\n",
    "Link: http://research.iac.es/sieinvens/python-course/numpy.html"
   ]
  },
  {
   "cell_type": "code",
   "execution_count": 40,
   "metadata": {},
   "outputs": [],
   "source": [
    "import numpy.ma as ma"
   ]
  },
  {
   "cell_type": "code",
   "execution_count": 41,
   "metadata": {},
   "outputs": [],
   "source": [
    "x = np.array([1,2,3,-1,4])"
   ]
  },
  {
   "cell_type": "code",
   "execution_count": 42,
   "metadata": {},
   "outputs": [],
   "source": [
    "# Definimos el valor negativo como invalido\n",
    "mask_array = ma.masked_array(x, mask = [0,0,0,1,0])"
   ]
  },
  {
   "cell_type": "code",
   "execution_count": 48,
   "metadata": {},
   "outputs": [
    {
     "data": {
      "text/plain": [
       "masked_array(data=[1, 2, 3, --, 4],\n",
       "             mask=[False, False, False,  True, False],\n",
       "       fill_value=999999)"
      ]
     },
     "execution_count": 48,
     "metadata": {},
     "output_type": "execute_result"
    }
   ],
   "source": [
    "mask_array"
   ]
  },
  {
   "cell_type": "code",
   "execution_count": 44,
   "metadata": {},
   "outputs": [
    {
     "data": {
      "text/plain": [
       "1"
      ]
     },
     "execution_count": 44,
     "metadata": {},
     "output_type": "execute_result"
    }
   ],
   "source": [
    "mask_array.min()"
   ]
  },
  {
   "cell_type": "markdown",
   "metadata": {},
   "source": [
    "También podemos definir la máscara directamente en el constructor de array del modulo ma."
   ]
  },
  {
   "cell_type": "code",
   "execution_count": 49,
   "metadata": {},
   "outputs": [
    {
     "data": {
      "text/plain": [
       "masked_array(data=[1, 2, 3, --, 4],\n",
       "             mask=[False, False, False,  True, False],\n",
       "       fill_value=999999)"
      ]
     },
     "execution_count": 49,
     "metadata": {},
     "output_type": "execute_result"
    }
   ],
   "source": [
    "x = ma.array([1,2,3,-1,4], mask = [0,0,0,1,0])\n",
    "x"
   ]
  },
  {
   "cell_type": "markdown",
   "metadata": {},
   "source": [
    "Si queremos recuperar únicamente los valores válidos, usamos el método *compressed*"
   ]
  },
  {
   "cell_type": "code",
   "execution_count": 50,
   "metadata": {},
   "outputs": [
    {
     "data": {
      "text/plain": [
       "array([1, 2, 3, 4])"
      ]
     },
     "execution_count": 50,
     "metadata": {},
     "output_type": "execute_result"
    }
   ],
   "source": [
    "x.compressed()"
   ]
  },
  {
   "cell_type": "markdown",
   "metadata": {},
   "source": [
    "Puedo enmascarar o desenmascarar todos los elementos asignando True o False a toda la máscara."
   ]
  },
  {
   "cell_type": "code",
   "execution_count": 51,
   "metadata": {},
   "outputs": [
    {
     "data": {
      "text/plain": [
       "masked_array(data=[--, --, --, --, --],\n",
       "             mask=[ True,  True,  True,  True,  True],\n",
       "       fill_value=999999,\n",
       "            dtype=int64)"
      ]
     },
     "execution_count": 51,
     "metadata": {},
     "output_type": "execute_result"
    }
   ],
   "source": [
    "x.mask = True\n",
    "x"
   ]
  },
  {
   "cell_type": "code",
   "execution_count": 52,
   "metadata": {},
   "outputs": [
    {
     "data": {
      "text/plain": [
       "masked_array(data=[1, 2, 3, -1, 4],\n",
       "             mask=[False, False, False, False, False],\n",
       "       fill_value=999999)"
      ]
     },
     "execution_count": 52,
     "metadata": {},
     "output_type": "execute_result"
    }
   ],
   "source": [
    "x.mask = False\n",
    "x"
   ]
  },
  {
   "cell_type": "markdown",
   "metadata": {},
   "source": [
    "Volvemos a como lo teníamos antes:"
   ]
  },
  {
   "cell_type": "code",
   "execution_count": 54,
   "metadata": {},
   "outputs": [
    {
     "data": {
      "text/plain": [
       "masked_array(data=[1, 2, 3, --, 4],\n",
       "             mask=[False, False, False,  True, False],\n",
       "       fill_value=999999)"
      ]
     },
     "execution_count": 54,
     "metadata": {},
     "output_type": "execute_result"
    }
   ],
   "source": [
    "x.mask = [0,0,0,1,0]\n",
    "x"
   ]
  },
  {
   "cell_type": "markdown",
   "metadata": {},
   "source": [
    "Podemos consultar si un valor es válido con el método *ma.masked*"
   ]
  },
  {
   "cell_type": "code",
   "execution_count": 56,
   "metadata": {},
   "outputs": [
    {
     "name": "stdout",
     "output_type": "stream",
     "text": [
      "False\n",
      "True\n"
     ]
    }
   ],
   "source": [
    "print(x[0] is ma.masked)\n",
    "print(x[3] is ma.masked)"
   ]
  },
  {
   "cell_type": "markdown",
   "metadata": {},
   "source": [
    "Podemos 'rellenar' los valores enmascarados con un valor concreto."
   ]
  },
  {
   "cell_type": "code",
   "execution_count": 55,
   "metadata": {},
   "outputs": [
    {
     "data": {
      "text/plain": [
       "array([1, 2, 3, 0, 4])"
      ]
     },
     "execution_count": 55,
     "metadata": {},
     "output_type": "execute_result"
    }
   ],
   "source": [
    "x.filled(0)"
   ]
  },
  {
   "cell_type": "markdown",
   "metadata": {},
   "source": [
    "Algunos métodos interesantes para la gestión de máscaras son:"
   ]
  },
  {
   "cell_type": "code",
   "execution_count": 57,
   "metadata": {},
   "outputs": [
    {
     "data": {
      "text/plain": [
       "array([ 1,  2,  3, -1,  4])"
      ]
     },
     "execution_count": 57,
     "metadata": {},
     "output_type": "execute_result"
    }
   ],
   "source": [
    "x = np.array([1,2,3,-1,4])\n",
    "x"
   ]
  },
  {
   "cell_type": "code",
   "execution_count": 58,
   "metadata": {},
   "outputs": [
    {
     "data": {
      "text/plain": [
       "masked_array(data=[1, 2, 3, -1, --],\n",
       "             mask=[False, False, False, False,  True],\n",
       "       fill_value=4)"
      ]
     },
     "execution_count": 58,
     "metadata": {},
     "output_type": "execute_result"
    }
   ],
   "source": [
    "masked = ma.masked_equal(x, 4)\n",
    "masked"
   ]
  },
  {
   "cell_type": "code",
   "execution_count": 59,
   "metadata": {},
   "outputs": [
    {
     "data": {
      "text/plain": [
       "masked_array(data=[--, 2, --, --, --],\n",
       "             mask=[ True, False,  True,  True,  True],\n",
       "       fill_value=999999)"
      ]
     },
     "execution_count": 59,
     "metadata": {},
     "output_type": "execute_result"
    }
   ],
   "source": [
    "masked = ma.masked_not_equal(x, 2)\n",
    "masked"
   ]
  },
  {
   "cell_type": "code",
   "execution_count": null,
   "metadata": {},
   "outputs": [],
   "source": [
    "masked = ma.masked_where(x<2, x)\n",
    "masked"
   ]
  },
  {
   "cell_type": "code",
   "execution_count": 60,
   "metadata": {},
   "outputs": [
    {
     "data": {
      "text/plain": [
       "masked_array(data=[1, --, --, -1, --],\n",
       "             mask=[False,  True,  True, False,  True],\n",
       "       fill_value=999999)"
      ]
     },
     "execution_count": 60,
     "metadata": {},
     "output_type": "execute_result"
    }
   ],
   "source": [
    "masked = ma.masked_greater_equal(x, 2)\n",
    "masked"
   ]
  },
  {
   "cell_type": "code",
   "execution_count": 61,
   "metadata": {},
   "outputs": [
    {
     "data": {
      "text/plain": [
       "masked_array(data=[--, --, --, -1, 4],\n",
       "             mask=[ True,  True,  True, False, False],\n",
       "       fill_value=999999)"
      ]
     },
     "execution_count": 61,
     "metadata": {},
     "output_type": "execute_result"
    }
   ],
   "source": [
    "masked = ma.masked_inside(x, 1, 3)\n",
    "masked"
   ]
  },
  {
   "cell_type": "markdown",
   "metadata": {},
   "source": [
    "## Lección 5 - Trabajando con fechas"
   ]
  },
  {
   "cell_type": "markdown",
   "metadata": {},
   "source": [
    "A partir de NumPy 1.7, existen tipos de datos de matriz central que admiten de forma nativa la funcionalidad de fecha y hora. El tipo de datos se llama \"datetime64\", así llamado porque \"datetime\" ya está usado por una librería nativa de Python.\n",
    "\n",
    "La forma más básica de crear fechas y horas es a partir de cadenas en formato de fecha o fecha y hora ISO 8601.  Las unidades de fecha son años ('Y'), meses ('M'), semanas ('W') y días ('D'), mientras que las unidades de tiempo son horas ('h'), minutos ('m' ), segundos ('s'), milisegundos ('ms'). "
   ]
  },
  {
   "cell_type": "code",
   "execution_count": null,
   "metadata": {},
   "outputs": [],
   "source": [
    "import numpy as np"
   ]
  },
  {
   "cell_type": "code",
   "execution_count": null,
   "metadata": {},
   "outputs": [],
   "source": [
    "# Orden: año - mes - dia\n",
    "d = np.datetime64('2020-09-01')\n",
    "d"
   ]
  },
  {
   "cell_type": "code",
   "execution_count": null,
   "metadata": {},
   "outputs": [],
   "source": [
    "d = np.datetime64('2020-13-01')\n",
    "d"
   ]
  },
  {
   "cell_type": "code",
   "execution_count": null,
   "metadata": {},
   "outputs": [],
   "source": [
    "dh = np.datetime64('2020-09-01T14:30')\n",
    "dh"
   ]
  },
  {
   "cell_type": "markdown",
   "metadata": {},
   "source": [
    "Podemos crear arrays de fechas, pero debemos indicar el tipo de dato. En otro caso, aparecerá como tipo cadena."
   ]
  },
  {
   "cell_type": "code",
   "execution_count": null,
   "metadata": {},
   "outputs": [],
   "source": [
    "np.array(['2020-07-01', '2020-08-01', '2020-09-01'])"
   ]
  },
  {
   "cell_type": "code",
   "execution_count": null,
   "metadata": {},
   "outputs": [],
   "source": [
    "np.array(['2020-07-01', '2020-08-01', '2020-09-01'], dtype='datetime64')"
   ]
  },
  {
   "cell_type": "markdown",
   "metadata": {},
   "source": [
    "También podemos crear arrays de fechas con el iterador de numpy ***arange***"
   ]
  },
  {
   "cell_type": "code",
   "execution_count": 62,
   "metadata": {},
   "outputs": [
    {
     "data": {
      "text/plain": [
       "array(['2020-08-01', '2020-08-02', '2020-08-03', '2020-08-04',\n",
       "       '2020-08-05', '2020-08-06', '2020-08-07', '2020-08-08',\n",
       "       '2020-08-09', '2020-08-10', '2020-08-11', '2020-08-12',\n",
       "       '2020-08-13', '2020-08-14', '2020-08-15', '2020-08-16',\n",
       "       '2020-08-17', '2020-08-18', '2020-08-19', '2020-08-20',\n",
       "       '2020-08-21', '2020-08-22', '2020-08-23', '2020-08-24',\n",
       "       '2020-08-25', '2020-08-26', '2020-08-27', '2020-08-28',\n",
       "       '2020-08-29', '2020-08-30', '2020-08-31'], dtype='datetime64[D]')"
      ]
     },
     "execution_count": 62,
     "metadata": {},
     "output_type": "execute_result"
    }
   ],
   "source": [
    "np.arange('2020-08', '2020-09', dtype='datetime64[D]')"
   ]
  },
  {
   "cell_type": "code",
   "execution_count": null,
   "metadata": {},
   "outputs": [],
   "source": [
    "np.arange('2020-08', '2020-09', dtype='datetime64[W]')"
   ]
  },
  {
   "cell_type": "markdown",
   "metadata": {},
   "source": [
    "También podemos realizar comparaciones entre los tipos fechas. Si dos fechas y horas tienen unidades diferentes, es posible que sigan representando el mismo momento de tiempo, y la conversión de una unidad más grande como meses a una unidad más pequeña como días se considera un elenco \"seguro\" porque el momento del tiempo todavía se representa exactamente."
   ]
  },
  {
   "cell_type": "code",
   "execution_count": null,
   "metadata": {},
   "outputs": [],
   "source": [
    "np.datetime64('2020') == np.datetime64('2020-01-01')"
   ]
  },
  {
   "cell_type": "code",
   "execution_count": null,
   "metadata": {},
   "outputs": [],
   "source": [
    "np.datetime64('2020-03-14T11') == np.datetime64('2020-03-14T11:00:00.00')"
   ]
  },
  {
   "cell_type": "markdown",
   "metadata": {},
   "source": [
    "### Operaciones con fechas"
   ]
  },
  {
   "cell_type": "markdown",
   "metadata": {},
   "source": [
    "NumPy permite la resta de dos valores de fecha y hora, una operación que produce un número con una unidad de tiempo. Para ello, se crea el tipo ***timedelta64***, el cual usa los mismos carácteres de 'Y', 'M', 'D', 'h', 'm', 's' para su creación"
   ]
  },
  {
   "cell_type": "code",
   "execution_count": null,
   "metadata": {},
   "outputs": [],
   "source": [
    "np.timedelta64(4, 'D')"
   ]
  },
  {
   "cell_type": "code",
   "execution_count": null,
   "metadata": {},
   "outputs": [],
   "source": [
    "np.timedelta64(10, 'h')"
   ]
  },
  {
   "cell_type": "markdown",
   "metadata": {},
   "source": [
    "También podemos generar un timedelta, y luego cambiar su unidad."
   ]
  },
  {
   "cell_type": "code",
   "execution_count": null,
   "metadata": {},
   "outputs": [],
   "source": [
    "a = np.timedelta64(8, 'D')\n",
    "np.timedelta64(a, 'W')"
   ]
  },
  {
   "cell_type": "markdown",
   "metadata": {},
   "source": [
    "Cuando restamos dos fechas, también obtenemos un timedelta64 como resultado"
   ]
  },
  {
   "cell_type": "code",
   "execution_count": null,
   "metadata": {},
   "outputs": [],
   "source": [
    "np.datetime64('2020-08-01') - np.datetime64('2020-07-01')"
   ]
  },
  {
   "cell_type": "code",
   "execution_count": null,
   "metadata": {},
   "outputs": [],
   "source": [
    "# Suma de dias / meses / semanas / etc. a una fecha\n",
    "\n",
    "np.datetime64('2020-08-01') + np.timedelta64(10, 'D')"
   ]
  },
  {
   "cell_type": "code",
   "execution_count": null,
   "metadata": {},
   "outputs": [],
   "source": [
    "np.datetime64('2020-08-01') - np.timedelta64(1, 'W')"
   ]
  },
  {
   "cell_type": "code",
   "execution_count": null,
   "metadata": {},
   "outputs": [],
   "source": [
    "np.datetime64('2020-08-01') + np.timedelta64(48, 'h')"
   ]
  },
  {
   "cell_type": "markdown",
   "metadata": {},
   "source": [
    "También podemos realizar operaciones directamente entre dos timedeltas distintos"
   ]
  },
  {
   "cell_type": "code",
   "execution_count": null,
   "metadata": {},
   "outputs": [],
   "source": [
    "np.timedelta64(1, 'W') + np.timedelta64(4, 'D')"
   ]
  },
  {
   "cell_type": "markdown",
   "metadata": {},
   "source": [
    "Hay dos unidades timedeltas ('Y', años y 'M', meses) que se tratan de manera especial, porque el tiempo que representan cambia dependiendo de cuándo se utilizan. Si bien una unidad de día timedelta equivale a 24 horas, no hay forma de convertir una unidad de mes en días, porque los diferentes meses tienen diferentes números de días."
   ]
  },
  {
   "cell_type": "code",
   "execution_count": null,
   "metadata": {},
   "outputs": [],
   "source": [
    "a = np.timedelta64(1, 'M')\n",
    "np.timedelta64(a, 'D')"
   ]
  },
  {
   "cell_type": "markdown",
   "metadata": {},
   "source": [
    "### Días laborables"
   ]
  },
  {
   "cell_type": "markdown",
   "metadata": {},
   "source": [
    "Para permitir que la fecha y hora se use en contextos donde solo ciertos días de la semana son válidos, NumPy incluye un conjunto de funciones de “día laborable” (día laboral). El valor predeterminado para las funciones de día laborable es que los únicos días válidos son de lunes a viernes (los días hábiles habituales). La implementación se basa en una \"máscara de semana\" que contiene 7 banderas booleanas para indicar días válidos"
   ]
  },
  {
   "cell_type": "code",
   "execution_count": null,
   "metadata": {},
   "outputs": [],
   "source": [
    "# 2020-09-03 --> Jueves\n",
    "np.busday_offset('2020-09-03', 1)"
   ]
  },
  {
   "cell_type": "code",
   "execution_count": null,
   "metadata": {},
   "outputs": [],
   "source": [
    "np.busday_offset('2020-09-03', 2)"
   ]
  },
  {
   "cell_type": "markdown",
   "metadata": {},
   "source": [
    "Si el día es no laborable, debemos indicar si queremos el siguiente día laborable, o el anterior. Podemos hacerlo con el parámetro *roll*"
   ]
  },
  {
   "cell_type": "code",
   "execution_count": null,
   "metadata": {},
   "outputs": [],
   "source": [
    "np.busday_offset('2020-09-05', 0)"
   ]
  },
  {
   "cell_type": "code",
   "execution_count": null,
   "metadata": {},
   "outputs": [],
   "source": [
    "np.busday_offset('2020-09-05', 0, roll = 'forward')"
   ]
  },
  {
   "cell_type": "code",
   "execution_count": null,
   "metadata": {},
   "outputs": [],
   "source": [
    "np.busday_offset('2020-09-05', 0, roll = 'backward')"
   ]
  },
  {
   "cell_type": "markdown",
   "metadata": {},
   "source": [
    "Para comprobar si un día es laborable, usamos la funcion ***np.is_busday***"
   ]
  },
  {
   "cell_type": "code",
   "execution_count": null,
   "metadata": {},
   "outputs": [],
   "source": [
    "# Jueves\n",
    "print(np.is_busday(np.datetime64('2020-09-03')))\n",
    "# Sabado\n",
    "print(np.is_busday(np.datetime64('2020-09-05')))"
   ]
  },
  {
   "cell_type": "markdown",
   "metadata": {},
   "source": [
    "También podemos contar el número de días laborables en un rango de fechas"
   ]
  },
  {
   "cell_type": "code",
   "execution_count": null,
   "metadata": {},
   "outputs": [],
   "source": [
    "np.busday_count(np.datetime64('2020-09-01'), np.datetime64('2020-09-30'))"
   ]
  },
  {
   "cell_type": "markdown",
   "metadata": {},
   "source": [
    "## Leccion 6 - Constantes"
   ]
  },
  {
   "cell_type": "markdown",
   "metadata": {},
   "source": [
    "Numpy incluye algunas constantes "
   ]
  },
  {
   "cell_type": "code",
   "execution_count": null,
   "metadata": {},
   "outputs": [],
   "source": [
    "# Valor infinito positivo\n",
    "np.inf"
   ]
  },
  {
   "cell_type": "code",
   "execution_count": null,
   "metadata": {},
   "outputs": [],
   "source": [
    "np.inf + np.inf"
   ]
  },
  {
   "cell_type": "code",
   "execution_count": null,
   "metadata": {},
   "outputs": [],
   "source": [
    "# Valor infinitov negativo\n",
    "np.NINF"
   ]
  },
  {
   "cell_type": "code",
   "execution_count": null,
   "metadata": {},
   "outputs": [],
   "source": [
    "np.isinf(np.NINF)"
   ]
  },
  {
   "cell_type": "code",
   "execution_count": null,
   "metadata": {},
   "outputs": [],
   "source": [
    "np.isposinf(np.NINF)"
   ]
  },
  {
   "cell_type": "code",
   "execution_count": null,
   "metadata": {},
   "outputs": [],
   "source": [
    "np.NINF + np.inf"
   ]
  },
  {
   "cell_type": "code",
   "execution_count": null,
   "metadata": {},
   "outputs": [],
   "source": [
    "np.log(0)"
   ]
  },
  {
   "cell_type": "code",
   "execution_count": null,
   "metadata": {},
   "outputs": [],
   "source": [
    "# NAN - Not a Number\n",
    "np.nan"
   ]
  },
  {
   "cell_type": "code",
   "execution_count": null,
   "metadata": {},
   "outputs": [],
   "source": [
    "# Valor cero negativo\n",
    "np.NZERO"
   ]
  },
  {
   "cell_type": "code",
   "execution_count": null,
   "metadata": {},
   "outputs": [],
   "source": [
    "# Valor cero positivo\n",
    "np.PZERO"
   ]
  },
  {
   "cell_type": "code",
   "execution_count": null,
   "metadata": {},
   "outputs": [],
   "source": [
    "# Numero e\n",
    "np.e"
   ]
  },
  {
   "cell_type": "code",
   "execution_count": null,
   "metadata": {},
   "outputs": [],
   "source": [
    "np.isfinite(np.e)"
   ]
  },
  {
   "cell_type": "code",
   "execution_count": null,
   "metadata": {},
   "outputs": [],
   "source": [
    "np.isfinite(np.NINF)"
   ]
  },
  {
   "cell_type": "code",
   "execution_count": null,
   "metadata": {},
   "outputs": [],
   "source": [
    "# Numero pi\n",
    "np.pi"
   ]
  }
 ],
 "metadata": {
  "kernelspec": {
   "display_name": "Python 3 (ipykernel)",
   "language": "python",
   "name": "python3"
  },
  "language_info": {
   "codemirror_mode": {
    "name": "ipython",
    "version": 3
   },
   "file_extension": ".py",
   "mimetype": "text/x-python",
   "name": "python",
   "nbconvert_exporter": "python",
   "pygments_lexer": "ipython3",
   "version": "3.13.0"
  }
 },
 "nbformat": 4,
 "nbformat_minor": 4
}
