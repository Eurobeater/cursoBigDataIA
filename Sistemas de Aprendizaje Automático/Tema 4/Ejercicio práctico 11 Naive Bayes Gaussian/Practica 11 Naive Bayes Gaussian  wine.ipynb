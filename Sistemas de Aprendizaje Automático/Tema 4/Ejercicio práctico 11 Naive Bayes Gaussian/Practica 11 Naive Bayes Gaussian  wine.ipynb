{
 "cells": [
  {
   "cell_type": "markdown",
   "metadata": {},
   "source": [
    "### Ejercicio 11 Naive Bayes Gaussiano\n",
    "\n",
    "En este Ejercicio ensayaremos un modelo Naive Bayes artiendo del dataset de wine\n"
   ]
  },
  {
   "cell_type": "code",
   "execution_count": 1,
   "metadata": {},
   "outputs": [
    {
     "name": "stdout",
     "output_type": "stream",
     "text": [
      "Dimensiones de X,Y dataset de entrenamiento: (142, 13),(142,).\n",
      "Dimensiones de X,Y dataset de validación: (36, 13),(36,).\n",
      "Tasa de aciertos en dataset de validación: 1.0\n",
      "Probabilidades a priori: [0.33802817 0.38732394 0.27464789]\n",
      "Probabilidades posteriores:\n",
      " [[2.70508062e-18 5.50616732e-05 9.99944938e-01]]\n"
     ]
    },
    {
     "data": {
      "text/plain": [
       "<Figure size 640x480 with 0 Axes>"
      ]
     },
     "metadata": {},
     "output_type": "display_data"
    }
   ],
   "source": [
    "import pandas as pd\n",
    "import numpy as np\n",
    "import matplotlib.pyplot as plt\n",
    "from sklearn.naive_bayes import GaussianNB\n",
    "from sklearn.metrics import accuracy_score\n",
    "from sklearn.model_selection import train_test_split\n",
    "\n",
    "df = pd.read_csv('./data/wine.csv', names=['class', 'Alcohol', 'Malic acid', 'Ash', \n",
    "'Alcalinity of ash', 'Magnesium', 'Total phenols', 'Flavanoids', 'Nonflavanoid phenols',\n",
    "'Proanthocyanins', 'Color intensity', 'Hue', 'OD280/OD315 of diluted wines', 'Proline'])\n",
    "\n",
    "\n",
    "\n",
    "plt.tight_layout()\n",
    "\n",
    "# Problema de clasificación: hacer categórico el atributo target: class\n",
    "target = 'class'\n",
    "df[target]=pd.Categorical(df[target])\n",
    "\n",
    "# X, Y\n",
    "x = df.drop(['class'], axis=1)\n",
    "y = df['class']\n",
    "\n",
    "RANDOM_SEED = 30\n",
    "\n",
    "x_train, x_test, y_train, y_test = train_test_split(x, y, test_size=0.2, random_state=RANDOM_SEED)\n",
    "\n",
    "print('Dimensiones de X,Y dataset de entrenamiento: {dimX},{dimY}.'.format(dimX=x_train.shape, dimY=y_train.shape))\n",
    "print('Dimensiones de X,Y dataset de validación: {dimX},{dimY}.'.format(dimX=x_test.shape, dimY=y_test.shape))\n",
    "\n",
    "# Clasificador GaussianNB.\n",
    "clf = GaussianNB()\n",
    "clf.fit(x_train, y_train)\n",
    "\n",
    "# Predicción para datos de validación\n",
    "y_pred = clf.predict(x_test)\n",
    "\n",
    "\n",
    "# Tasa de aciertos para dataset de validación\n",
    "acc_score = accuracy_score(y_test, y_pred)\n",
    "print('Tasa de aciertos en dataset de validación: {acc_sc}'.format(acc_sc=acc_score))\n",
    "\n",
    "# Ver las probabilidades a priori\n",
    "print(\"Probabilidades a priori:\", clf.class_prior_)\n",
    "\n",
    "# Clasificar nuevas instancias y obtener probabilidades posteriores\n",
    "nuevo_vino = pd.DataFrame([[13.5, 2.5, 2.3, 20.0, 90.0, 2.0, 0.5, 0.3, 1.5, 5.0, 0.8, 1.2, 500.0]],\n",
    "                         columns=x.columns)\n",
    "                        \n",
    "probabilidad = clf.predict_proba(nuevo_vino)\n",
    "\n",
    "print(\"Probabilidades posteriores:\\n\", probabilidad)\n"
   ]
  },
  {
   "cell_type": "markdown",
   "metadata": {},
   "source": [
    "Ejercicio: sustituir cualquier valor del datase y obtener la probabilidad posterior\n",
    "\n",
    "Ejercicio: reescribir el código anterior para trabajar con un dataset del que se ha eliminado la caracteristica que correlaciona 'Flavanoids'.\n",
    "Comparar los resultados de probabilidades."
   ]
  },
  {
   "cell_type": "markdown",
   "metadata": {},
   "source": [
    "- Sustituir cualquier valor del datase y obtener la probabilidad posterior"
   ]
  },
  {
   "cell_type": "code",
   "execution_count": null,
   "metadata": {},
   "outputs": [],
   "source": [
    "df = pd.read_csv('./data/wine.csv', names=['class', 'Alcohol', 'Malic acid', 'Ash', \n",
    "'Alcalinity of ash', 'Magnesium', 'Total phenols', 'Flavanoids', 'Nonflavanoid phenols',\n",
    "'Proanthocyanins', 'Color intensity', 'Hue', 'OD280/OD315 of diluted wines', 'Proline'])\n",
    "\n",
    "\n",
    "\n",
    "plt.tight_layout()\n",
    "\n",
    "# Problema de clasificación: hacer categórico el atributo target: class\n",
    "target = 'class'\n",
    "df[target]=pd.Categorical(df[target])\n",
    "\n",
    "# X, Y\n",
    "x = df.drop(['class'], axis=1)\n",
    "y = df['class']\n",
    "\n",
    "RANDOM_SEED = 30\n",
    "\n",
    "x_train, x_test, y_train, y_test = train_test_split(x, y, test_size=0.2, random_state=RANDOM_SEED)\n",
    "\n",
    "print('Dimensiones de X,Y dataset de entrenamiento: {dimX},{dimY}.'.format(dimX=x_train.shape, dimY=y_train.shape))\n",
    "print('Dimensiones de X,Y dataset de validación: {dimX},{dimY}.'.format(dimX=x_test.shape, dimY=y_test.shape))\n",
    "\n",
    "# Clasificador GaussianNB.\n",
    "clf = GaussianNB()\n",
    "clf.fit(x_train, y_train)\n",
    "\n",
    "# Predicción para datos de validación\n",
    "y_pred = clf.predict(x_test)\n",
    "\n",
    "\n",
    "# Tasa de aciertos para dataset de validación\n",
    "acc_score = accuracy_score(y_test, y_pred)\n",
    "print('Tasa de aciertos en dataset de validación: {acc_sc}'.format(acc_sc=acc_score))\n",
    "\n",
    "# Ver las probabilidades a priori\n",
    "print(\"Probabilidades a priori:\", clf.class_prior_)\n",
    "\n",
    "# Clasificar nuevas instancias y obtener probabilidades posteriores\n",
    "nuevo_vino = pd.DataFrame([[13.5, 2.5, 2.3, 20.0, 90.0, 2.0, 0.5, 0.3, 1.5, 5.0, 0.8, 1.2, 500.0]],\n",
    "                         columns=x.columns)\n",
    "                        \n",
    "probabilidad = clf.predict_proba(nuevo_vino)\n",
    "\n",
    "print(\"Probabilidades posteriores:\\n\", probabilidad)\n"
   ]
  }
 ],
 "metadata": {
  "kernelspec": {
   "display_name": "base",
   "language": "python",
   "name": "python3"
  },
  "language_info": {
   "codemirror_mode": {
    "name": "ipython",
    "version": 3
   },
   "file_extension": ".py",
   "mimetype": "text/x-python",
   "name": "python",
   "nbconvert_exporter": "python",
   "pygments_lexer": "ipython3",
   "version": "3.12.7"
  }
 },
 "nbformat": 4,
 "nbformat_minor": 2
}
