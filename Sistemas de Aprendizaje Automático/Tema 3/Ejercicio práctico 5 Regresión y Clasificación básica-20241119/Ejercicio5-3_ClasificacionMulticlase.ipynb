{
 "cells": [
  {
   "cell_type": "markdown",
   "metadata": {},
   "source": [
    "## Ejercicio 5-1: Creación de un modelo de clasificación multiclase con kNN elemental\n",
    "\n",
    "El siguiente programa de ejemplo muestra la creación y entrenamiento de un clasificador multiclase.\\\n",
    "Se utiliza el mismo dataset de las flores de iris, pero con todas las observaciones, de manera que es un problema de clasificación multiclase con tres clases.\\\n",
    "El modelo de clasificación es k-NN.\\\n",
    "Dado que hay dos atributos predictores, cada observación se representa mediante un punto en un espacio bidimensional.\\\n",
    "Para clasificar cada observación se consideran los k vecinos más cercanos.\\\n",
    "k es un hiperparámetro del modelo cuyo valor hay que establecer antes del proceso de entrenamiento. \n",
    "La observación se asigna a la clase más frecuente entre las k observaciones más cercanas.\n"
   ]
  },
  {
   "cell_type": "code",
   "execution_count": null,
   "metadata": {
    "id": "FhIYL20KsGLB"
   },
   "outputs": [],
   "source": [
    "import matplotlib.pyplot as plt\n",
    "import pandas as pd\n",
    "from sklearn.metrics import accuracy_score\n",
    "from sklearn.neighbors import KNeighborsClassifier\n",
    "from sklearn.inspection import DecisionBoundaryDisplay\n",
    "from sklearn.model_selection import train_test_split\n"
   ]
  },
  {
   "cell_type": "code",
   "execution_count": null,
   "metadata": {
    "id": "jgsPp3vRsa2-"
   },
   "outputs": [],
   "source": [
    "df = pd.read_csv('./data/iris.csv', names=['sepal_length', 'sepal_width', 'petal_length', 'petal_width', 'class'])"
   ]
  },
  {
   "cell_type": "code",
   "execution_count": null,
   "metadata": {
    "id": "SGofqwIaskd_"
   },
   "outputs": [],
   "source": [
    "# X, Y\n",
    "\n",
    "x = df.drop('class', axis=1)\n",
    "y = df['class']\n",
    "print(x)\n",
    "print(y)"
   ]
  },
  {
   "cell_type": "code",
   "execution_count": null,
   "metadata": {
    "id": "8V9gA_s76ELW"
   },
   "outputs": [],
   "source": [
    "# Partición en datos de entrenamiento y de validación\n",
    "# Si eliminamos la parte de aleatoriedad, cada vez que ejecutemos la linea se van a generar dataset con eleción de datos distintos\n",
    "# esto puede generar disparidad de resultados de validación en cada ejecución (podemos hacer una prueba de varias ejecuciones con K=3)\n",
    "\n",
    "RANDOM_SEED = 10\n",
    "\n",
    "x_train, x_test, y_train, y_test = train_test_split(x, y, test_size=0.2, random_state=RANDOM_SEED)\n",
    "#x_train, x_test, y_train, y_test = train_test_split(x, y, test_size=0.2)\n",
    "\n",
    "print(x_train.shape,'  ',y_train.shape)\n"
   ]
  },
  {
   "cell_type": "code",
   "execution_count": null,
   "metadata": {
    "colab": {
     "base_uri": "https://localhost:8080/"
    },
    "id": "0HCllmrMBLuZ",
    "outputId": "ab57c1fa-c16e-41b4-cd6e-57a38e7b1a51"
   },
   "outputs": [],
   "source": [
    "print('Dimensiones del dataset de entrenamiento: ',x_train.shape,'  ',y_train.shape) # filas y de columnas de las features y filas y columnas del target\n",
    "print('Dimensiones del dataset de validación: ',x_test.shape, '  ',y_test.shape)     # filas y de columnas de las features y filas y columnas del target"
   ]
  },
  {
   "cell_type": "code",
   "execution_count": null,
   "metadata": {
    "id": "vRP7E3ensn-F"
   },
   "outputs": [],
   "source": [
    "# Creación de un clasificador k-NN (k=5 vecinos más cercanos)\n",
    "clf = KNeighborsClassifier(n_neighbors=5)  "
   ]
  },
  {
   "cell_type": "code",
   "execution_count": null,
   "metadata": {
    "colab": {
     "base_uri": "https://localhost:8080/"
    },
    "id": "MDiQRNtPtdvC",
    "outputId": "6bb20b91-a969-4baa-b0ba-83d1a6905ad5"
   },
   "outputs": [],
   "source": [
    "clf.fit(x_train, y_train)  # Entrenamiento del clasificador"
   ]
  },
  {
   "cell_type": "code",
   "execution_count": null,
   "metadata": {
    "id": "Cw7gOKKztkmT"
   },
   "outputs": [],
   "source": [
    "# Predicción para datos de validación\n",
    "y_pred = clf.predict(x_test)  \n",
    "print(x_test)\n"
   ]
  },
  {
   "cell_type": "code",
   "execution_count": null,
   "metadata": {
    "colab": {
     "base_uri": "https://localhost:8080/"
    },
    "id": "YuQgzhFztn5a",
    "outputId": "b6756d03-a306-4b44-dac6-551524ae5b15"
   },
   "outputs": [],
   "source": [
    "# Tasa de aciertos con los datos de validación\n",
    "acc_score = accuracy_score(y_test, y_pred)  \n",
    "print('Tasa de aciertos con los datos de validación es:', acc_score)"
   ]
  },
  {
   "cell_type": "code",
   "execution_count": null,
   "metadata": {
    "id": "-PphqKYrtqS5"
   },
   "outputs": [],
   "source": [
    " # Predicción para dataset de entrenamiento\n",
    "y_pred_train = clf.predict(x_train)  "
   ]
  },
  {
   "cell_type": "code",
   "execution_count": null,
   "metadata": {
    "colab": {
     "base_uri": "https://localhost:8080/"
    },
    "id": "12Lup_7pttA6",
    "outputId": "20e6cf78-d215-4284-d5e1-64dd1206e4af"
   },
   "outputs": [],
   "source": [
    "# Tasa de aciertos con los datos de entrenamiento\n",
    "acc_score_train = accuracy_score(y_train, y_pred_train) # Tasa de aciertos para dataset de entrenamiento\n",
    "print('Tasa de aciertos con los datos de entrenamiento es: ',acc_score_train)"
   ]
  },
  {
   "cell_type": "code",
   "execution_count": 46,
   "metadata": {},
   "outputs": [
    {
     "name": "stdout",
     "output_type": "stream",
     "text": [
      "Predicción para la entrada: ['Iris-versicolor']\n",
      "Predicción para la entrada: ['Iris-virginica']\n"
     ]
    }
   ],
   "source": [
    "# Predicción para un valor introducido por el usuario\n",
    "\n",
    "# Definir una entrada con los valores de las características de un valor que ya tenemos\n",
    "v1=5.6\n",
    "v2=2.9\n",
    "v3=3.6\n",
    "v4=1.3\n",
    "x_single = [[v1,v2,v3,v4]]  \n",
    "\n",
    "# Crear un DataFrame con los nombres de las características, como en los datos de entrenamiento\n",
    "x_single_df = pd.DataFrame(x_single,columns=['sepal_length', 'sepal_width', 'petal_length', 'petal_width'])\n",
    "\n",
    "# Realizar la predicción para la entrada única\n",
    "y_pred_single = clf.predict(x_single_df)\n",
    "\n",
    "print(\"Predicción para la entrada:\", y_pred_single)\n",
    "\n",
    "\n",
    "# Definir una entrada con los valores de las características de un valor nuevo\n",
    "v1=6.2\n",
    "v2=2.8\n",
    "v3=5.7\n",
    "v4=1.9\n",
    "x_single = [[v1,v2,v3,v4]] \n",
    " \n",
    "\n",
    "# Crear un DataFrame con los nombres de las características, como en los datos de entrenamiento\n",
    "x_single_df = pd.DataFrame(x_single, columns=x_train.columns)\n",
    "\n",
    "# Realizar la predicción para la entrada única\n",
    "y_pred_single = clf.predict(x_single_df)\n",
    "\n",
    "print(\"Predicción para la entrada:\", y_pred_single)\n",
    "  "
   ]
  },
  {
   "cell_type": "code",
   "execution_count": null,
   "metadata": {},
   "outputs": [],
   "source": [
    "# Crearemos una interface gráfica desde la que solicitar datos para ofrecerselos al modelo\n",
    "\n",
    "import tkinter as tk                   # Importa el módulo tkinter para crear interfaces gráficas\n",
    "from tkinter import messagebox         # Importa messagebox para mostrar mensajes emergentes\n",
    "\n",
    "# Crear la ventana principal\n",
    "ventana = tk.Tk()                      # Inicializa la ventana principal\n",
    "ventana.title(\"Modelo de IA para predecir la clase de flores de Iris\")    # Define el título de la ventana\n",
    "ventana.geometry(\"450x350\")            # Establece el tamaño de la ventana (ancho x alto)\n",
    "\n",
    "# Función que se ejecuta al hacer clic en el botón\n",
    "def mostrar_saludo():\n",
    "    v1 = float(entrada_v1.get()) # Obtiene el valor ingresado en el campo de entrada1\n",
    "    v2 = float(entrada_v2.get()) # Obtiene el valor ingresado en el campo de entrada2\n",
    "    v3 = float(entrada_v3.get()) # Obtiene el valor ingresado en el campo de entrada3\n",
    "    v4 = float(entrada_v4.get()) # Obtiene el valor ingresado en el campo de entrada4\n",
    "    x_single = [[v1,v2,v3,v4]]  \n",
    "\n",
    "    # Crear un DataFrame con los valores tecleados\n",
    "    x_single_df = pd.DataFrame(x_single,columns=['sepal_length', 'sepal_width', 'petal_length', 'petal_width'])\n",
    "\n",
    "    # Realizar la predicción para la entrada única\n",
    "    y_pred_single = clf.predict(x_single_df)\n",
    "       \n",
    "    messagebox.showinfo(\"La clase es...\", y_pred_single)  # Muestra un mensaje de saludo en una ventana emergente\n",
    "    entrada_v1.delete(0,tk.END)\n",
    "    entrada_v2.delete(0,tk.END)  \n",
    "    entrada_v3.delete(0,tk.END)\n",
    "    entrada_v4.delete(0,tk.END)\n",
    "    \n",
    "# Etiqueta para solicitar el nombre\n",
    "etiqueta1 = tk.Label(ventana, text=\"Longitud del Sépalo\")  # Crea una etiqueta con el texto indicado\n",
    "etiqueta2 = tk.Label(ventana, text=\"Ancho del Sépalo\")  # Crea una etiqueta con el texto indicado\n",
    "etiqueta3 = tk.Label(ventana, text=\"Longitud del Pétalo\")  # Crea una etiqueta con el texto indicado\n",
    "etiqueta4 = tk.Label(ventana, text=\"Ancho del Pétalo\")  # Crea una etiqueta con el texto indicado\n",
    "# Campo de entrada de texto para el nombre\n",
    "entrada_v1 = tk.Entry(ventana) # Crea un campo de entrada donde el usuario puede escribir\n",
    "entrada_v2 = tk.Entry(ventana) # Crea un campo de entrada donde el usuario puede escribir\n",
    "entrada_v3 = tk.Entry(ventana) # Crea un campo de entrada donde el usuario puede escribir\n",
    "entrada_v4 = tk.Entry(ventana) # Crea un campo de entrada donde el usuario puede escribir\n",
    "\n",
    "# Agregar etiquetas a la ventana\n",
    "etiqueta1.pack(pady=10) # Agrega la etiqueta a la ventana con un margen vertical de 10 píxeles\n",
    "entrada_v1.pack() # Agrega el campo de entrada a la ventana principal\n",
    "etiqueta2.pack(pady=10) # Agrega la etiqueta a la ventana con un margen vertical de 10 píxeles\n",
    "entrada_v2.pack() # Agrega el campo de entrada a la ventana principal\n",
    "etiqueta3.pack(pady=10) # Agrega la etiqueta a la ventana con un margen vertical de 10 píxeles\n",
    "entrada_v3.pack() # Agrega el campo de entrada a la ventana principal\n",
    "etiqueta4.pack(pady=10) # Agrega la etiqueta a la ventana con un margen vertical de 10 píxeles\n",
    "entrada_v4.pack() # Agrega el campo de entrada a la ventana principal\n",
    "\n",
    "# Botón para clacular la clase\n",
    "boton = tk.Button(ventana, text=\"Calcular\", command=mostrar_saludo)  # Crea un botón y asocia la función 'mostrar_saludo' a él\n",
    "boton.pack(pady=10)  # Agrega el botón a la ventana con un margen vertical de 10 píxeles\n",
    "\n",
    "# Llamar al modelo con los datos leidos\n",
    "\n",
    "# Ejecutar el bucle de la aplicación\n",
    "ventana.mainloop() # Inicia el bucle principal de la ventana para mantenerla abierta\n"
   ]
  },
  {
   "cell_type": "markdown",
   "metadata": {},
   "source": [
    "### Ejercicio:\n",
    "Obtener la tasa de acierto validación-entrenamiento con K=1, K=3, K=5 y K=7 y determinar con qué valor de este hiperparametro es más adecuado entrenar."
   ]
  },
  {
   "cell_type": "markdown",
   "metadata": {},
   "source": [
    "### ----------------------------\n",
    "\n",
    "## Análisis de resultados\n",
    "\n",
    "### En general, es ideal que la tasa de acierto con el conjunto de validación sea similar a la obtenida con el conjunto de entrenamiento. \n",
    "La relación entre ambas tasas puede darnos pistas sobre el rendimiento y el ajuste del modelo:\n",
    "\n",
    "### 1. Tasa de acierto en validación similar a la de entrenamiento (ideal)\n",
    "Si la tasa de acierto en el conjunto de validación es similar a la de entrenamiento, esto indica que el modelo ha encontrado un buen equilibrio. Ha aprendido los patrones presentes en los datos de entrenamiento sin sobreajustarse, y es capaz de generalizar esos patrones a datos no vistos.\n",
    "Este es el escenario ideal y generalmente indica un modelo bien ajustado. La diferencia entre ambas tasas suele ser pequeña (por ejemplo, de 1-2 puntos porcentuales o menos), lo cual es natural debido a la variabilidad entre los datos de entrenamiento y de validación.\n",
    "\n",
    "### 2. Tasa de acierto en validación significativamente menor que en entrenamiento (indica sobreajuste)\n",
    "Si la tasa de acierto en el conjunto de validación es significativamente menor que en el conjunto de entrenamiento, esto sugiere que el modelo está sobreajustado. Ha memorizado patrones específicos del conjunto de entrenamiento pero no generaliza bien a nuevos datos.\n",
    "\n",
    "Para mejorar la generalización en este caso, se puede aumentar la cantidad de datos.\n",
    "\n",
    "### 3. Tasa de acierto en validación superior a la de entrenamiento (raro, potencialmente problemático)\n",
    "Si la tasa de acierto en el conjunto de validación es mayor que en el de entrenamiento, es un caso inusual y puede indicar problemas en la partición de los datos o una dependencia indirecta del conjunto de validación durante el entrenamiento.\n",
    "Este resultado puede ocurrir cuando el conjunto de validación contiene ejemplos más sencillos o menos representativos que los de entrenamiento, o si el conjunto de validación se utilizó de alguna forma para ajustar el modelo (lo cual debe evitarse).\n",
    "Si ocurre este caso, es recomendable revisar la forma en que se dividieron los datos.\n",
    "\n",
    "### Resumen\n",
    "Lo ideal es que la tasa de acierto en el conjunto de validación sea cercana a la del entrenamiento. Esto indica un modelo bien ajustado y que generaliza adecuadamente. Una diferencia significativa hacia abajo indica sobreajuste, mientras que una diferencia hacia arriba es rara y generalmente sugiere problemas en la evaluación.\n",
    "\n",
    "\n",
    "\n",
    "\n",
    "\n",
    "\n"
   ]
  }
 ],
 "metadata": {
  "colab": {
   "provenance": []
  },
  "kernelspec": {
   "display_name": "Python 3",
   "name": "python3"
  },
  "language_info": {
   "codemirror_mode": {
    "name": "ipython",
    "version": 3
   },
   "file_extension": ".py",
   "mimetype": "text/x-python",
   "name": "python",
   "nbconvert_exporter": "python",
   "pygments_lexer": "ipython3",
   "version": "3.9.13"
  }
 },
 "nbformat": 4,
 "nbformat_minor": 0
}
