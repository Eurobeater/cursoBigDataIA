{
 "cells": [
  {
   "cell_type": "markdown",
   "metadata": {},
   "source": [
    "### Conversor de archivos .arff en .csv"
   ]
  },
  {
   "cell_type": "code",
   "execution_count": 1,
   "metadata": {},
   "outputs": [
    {
     "name": "stdout",
     "output_type": "stream",
     "text": [
      "archivo generado con éxito\n"
     ]
    }
   ],
   "source": [
    "import pandas as pd\n",
    "from scipy.io import arff\n",
    "\n",
    "def arff_to_csv(input_file, output_file):\n",
    "    # Cargar el archivo ARFF\n",
    "    data, meta = arff.loadarff(input_file)\n",
    "    \n",
    "    # Convertir a DataFrame de pandas\n",
    "    df = pd.DataFrame(data)\n",
    "    \n",
    "    # Guardar en formato CSV\n",
    "    df.to_csv(output_file, index=False)\n",
    "\n",
    "# Uso del programa\n",
    "input_file = 'banana.arff'  # Nombre del archivo ARFF de entrada\n",
    "output_file = 'banana.csv'  # Nombre del archivo CSV de salida\n",
    "\n",
    "arff_to_csv(input_file, output_file)\n",
    "\n",
    "print(\"archivo generado con éxito\")\n"
   ]
  }
 ],
 "metadata": {
  "kernelspec": {
   "display_name": "Python 3",
   "language": "python",
   "name": "python3"
  },
  "language_info": {
   "codemirror_mode": {
    "name": "ipython",
    "version": 3
   },
   "file_extension": ".py",
   "mimetype": "text/x-python",
   "name": "python",
   "nbconvert_exporter": "python",
   "pygments_lexer": "ipython3",
   "version": "3.9.13"
  }
 },
 "nbformat": 4,
 "nbformat_minor": 2
}
