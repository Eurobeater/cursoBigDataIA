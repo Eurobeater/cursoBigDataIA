{
 "cells": [
  {
   "cell_type": "markdown",
   "id": "c20c3d7c",
   "metadata": {},
   "source": [
    "### Anexo: \n",
    "\n",
    "Un Callback es una función o conjunto de acciones que se ejecutan automáticamente en ciertos momentos del entrenamiento del modelo, como al final de una época, al inicio, cuando se alcanza un valor concreto de una métrica, etc.\n",
    "\n",
    "En este caso, el objetivo perseguido es conseguir finalizar el entrenamiento de una RNA con los mejores resultados de perdida y precisión de forma automática.\n",
    "\n",
    "A continuación se ofrece el código necesario para añadir a la función de entrenamiento tanto un CallBack de tipo Checkpoint como un Punto de Ruptura EarlyStopping"
   ]
  },
  {
   "cell_type": "code",
   "execution_count": null,
   "id": "c1daada0",
   "metadata": {},
   "outputs": [],
   "source": [
    "from tensorflow.keras.callbacks import ModelCheckpoint, EarlyStopping\n",
    "\n",
    "# -------------------------------\n",
    "# Callback para guardar el mejor modelo\n",
    "# -------------------------------\n",
    "checkpoint = ModelCheckpoint(\n",
    "    filepath=\"mejor_modelo.h5\",      # Ruta donde se guardará el modelo\n",
    "    monitor=\"val_loss\",              # Métrica a observar para decidir si el modelo ha mejorado\n",
    "    mode=\"min\",                      # 'min' significa que buscamos minimizar la val_loss (como es habitual)\n",
    "    save_best_only=True,             # Solo guarda el modelo si mejora la métrica monitorizada\n",
    "    save_weights_only=False,         # False indica que se guarda todo el modelo (estructura + pesos)\n",
    "    verbose=1                        # Muestra un mensaje cada vez que se guarda un nuevo mejor modelo\n",
    ")\n",
    "\n",
    "# -------------------------------\n",
    "# Callback para detener el entrenamiento si no hay mejoras\n",
    "# -------------------------------\n",
    "early_stop = EarlyStopping(\n",
    "    monitor=\"val_loss\",              # Métrica que se vigila para saber si el modelo está mejorando\n",
    "    mode=\"min\",                      # De nuevo, se busca minimizar la pérdida de validación\n",
    "    patience=3,                      # Nº de épocas que esperamos sin mejora antes de detener el entrenamiento\n",
    "    restore_best_weights=True,       # Al parar, se restauran automáticamente los pesos del mejor modelo\n",
    "    verbose=1                        # Muestra un mensaje cuando se detiene el entrenamiento\n",
    ")\n",
    "\n",
    "# -------------------------------\n",
    "# Entrenamiento del modelo con los callbacks\n",
    "# -------------------------------\n",
    "history = modelo.fit(\n",
    "    x_train, y_train,\n",
    "    epochs=50,                          # Número máximo de épocas\n",
    "    batch_size=32,                      # Tamaño del lote\n",
    "    validation_split=0.1,               # Porcentaje del conjunto de entrenamiento reservado para validación\n",
    "    callbacks=[checkpoint, early_stop]  # Lista de callbacks que se aplicarán durante el entrenamiento\n",
    ")\n"
   ]
  }
 ],
 "metadata": {
  "language_info": {
   "name": "python"
  }
 },
 "nbformat": 4,
 "nbformat_minor": 5
}
