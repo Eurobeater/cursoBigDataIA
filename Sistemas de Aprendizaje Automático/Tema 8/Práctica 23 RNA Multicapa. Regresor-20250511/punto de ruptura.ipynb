{
 "cells": [
  {
   "cell_type": "markdown",
   "id": "3e389045",
   "metadata": {},
   "source": [
    "Cuando entrenamos una RNA no podemos saber con certeza si va a mejorar la precisión a lo largo del entrenamoento en las sucesivas epocas. Pero sí podemos estimar cuándo probablemente ya no va a mejorar. Para ello utilizamo  herramientas como EarlyStopping."
   ]
  },
  {
   "cell_type": "code",
   "execution_count": null,
   "id": "be667d17",
   "metadata": {},
   "outputs": [],
   "source": [
    "from tensorflow.keras.callbacks import EarlyStopping, ModelCheckpoint\n",
    "\n",
    "# Callback para detener si no mejora después de 5 épocas\n",
    "early_stop = EarlyStopping(\n",
    "    monitor='val_loss',\n",
    "    patience=5,\n",
    "    restore_best_weights=True\n",
    ")\n",
    "\n",
    "# Callback para guardar el mejor modelo en un archivo\n",
    "checkpoint = ModelCheckpoint(\n",
    "    'mejor_modelo.h5',        # Nombre del archivo de salida\n",
    "    monitor='val_loss',\n",
    "    save_best_only=True,\n",
    "    verbose=1\n",
    ")\n",
    "\n",
    "# Entrenamiento con callbacks\n",
    "historia = modelo.fit(\n",
    "    X_train_scaled, y_train,\n",
    "    epochs=100,\n",
    "    batch_size=32,\n",
    "    validation_split=0.2,\n",
    "    verbose=1,\n",
    "    callbacks=[early_stop, checkpoint]\n",
    ")\n"
   ]
  }
 ],
 "metadata": {
  "language_info": {
   "name": "python"
  }
 },
 "nbformat": 4,
 "nbformat_minor": 5
}
