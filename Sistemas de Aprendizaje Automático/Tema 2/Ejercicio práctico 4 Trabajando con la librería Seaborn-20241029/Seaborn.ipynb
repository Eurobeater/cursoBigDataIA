{
 "cells": [
  {
   "cell_type": "markdown",
   "metadata": {},
   "source": [
    "# Práctica nº 4 Bibliotecas MatPlotLib y Seaborn \n",
    "\n",
    "Seaborn es una biblioteca de Python construida sobre Matplotlib, diseñada específicamente para crear visualizaciones de datos de alta calidad y estéticamente agradables. A diferencia de Matplotlib, que ofrece un gran nivel de control pero requiere más código, Seaborn proporciona una interfaz más sencilla y funciones predefinidas para crear una amplia variedad de gráficos estadísticos. Facilita el EDA"
   ]
  },
  {
   "cell_type": "markdown",
   "metadata": {},
   "source": [
    "## ÍNDICE\n",
    "\n",
    "1. DataSet\n",
    "2. Visualización univariable\n",
    "    * #2.1-Características cuantitativas\n",
    "    * #2.2-Características categóricas y binarias\n",
    "3. Visualización multivariable\n",
    "    * #3.1-Cuantitativo vs Cuantitativo\n",
    "    * #3.2-Cuantitativo vs Categórico\n",
    "    * #3.3-Categórico vs Categórico"
   ]
  },
  {
   "cell_type": "markdown",
   "metadata": {},
   "source": [
    "### Investigar y comentar las instrucciones"
   ]
  },
  {
   "cell_type": "code",
   "execution_count": 2,
   "metadata": {},
   "outputs": [],
   "source": [
    "import numpy as np\n",
    "import pandas as pd\n",
    "\n",
    "# Matplotlib es la libreria base para la visualización de datos en Python\n",
    "import matplotlib.pyplot as plt\n",
    "\n",
    "# Bajo Seaborn subyace Matplotlib. Será usada por Seaborn \n",
    "import seaborn as sns"
   ]
  },
  {
   "cell_type": "markdown",
   "metadata": {},
   "source": [
    "Estilos para Seaborn:\n",
    "- darkgrid: Un fondo oscuro con una cuadrícula gris clara. Ideal para presentaciones y visualizaciones donde los datos son el foco principal.\\\n",
    "- whitegrid: Un fondo blanco con una cuadrícula gris clara. Similar a darkgrid, pero con un fondo más claro.\\\n",
    "- dark: Un fondo oscuro sin cuadrícula. Ideal para gráficos simples o cuando se desea un fondo más limpio.\\\n",
    "- white: Un fondo blanco sin cuadrícula. Similar a dark, pero con un fondo más claro.\\\n",
    "- ticks: Un estilo minimalista con solo marcas en los ejes. Ideal para gráficos que enfatizan los datos sin distracciones visuales.\\"
   ]
  },
  {
   "cell_type": "code",
   "execution_count": 3,
   "metadata": {},
   "outputs": [],
   "source": [
    "# Establecer el estilo \"darkgrid\" \n",
    "sns.set_style(\"darkgrid\")"
   ]
  },
  {
   "cell_type": "markdown",
   "metadata": {},
   "source": [
    "Formatos más utilizados con Seaborn:\n",
    "- png: Formato de imagen ráster muy común, ideal para compartir en redes sociales, presentaciones o documentos digitales. Ofrece una buena calidad y compresión.\\\n",
    "- jpg: Otro formato ráster, similar al PNG pero con mayor compresión, lo que puede resultar en una pérdida de calidad si se aplica una compresión muy alta. Es adecuado para imágenes con pocas variaciones de color.\\\n",
    "- pdf: Formato vectorial escalable, ideal para documentos impresos o presentaciones de alta calidad. Los gráficos conservan su nitidez incluso al ser ampliados.\\\n",
    "- svg: Formato vectorial escalable, similar al PDF pero diseñado para la web. Ofrece una excelente calidad y es compatible con la mayoría de los navegadores web modernos. Es especialmente recomendado para gráficos interactivos.\\"
   ]
  },
  {
   "cell_type": "code",
   "execution_count": 4,
   "metadata": {},
   "outputs": [],
   "source": [
    "# Seleccionamos mostrar los graficos en formato SVG (Gráficos Vectoriales Escalables), son mas nitidos y legibles que otros formatos\n",
    "%config InlineBackend.figure_format = 'svg'"
   ]
  },
  {
   "cell_type": "markdown",
   "metadata": {},
   "source": [
    "# 1. El dataset\n",
    "### La descripción del dataset telecom_churn.csv la podemos encontrar en la práctica anterior"
   ]
  },
  {
   "cell_type": "code",
   "execution_count": 5,
   "metadata": {},
   "outputs": [],
   "source": [
    "df = pd.read_csv('./data/telecom_churn.csv')"
   ]
  },
  {
   "cell_type": "code",
   "execution_count": null,
   "metadata": {},
   "outputs": [],
   "source": [
    "df.head()"
   ]
  },
  {
   "cell_type": "code",
   "execution_count": null,
   "metadata": {},
   "outputs": [],
   "source": [
    "df.info()"
   ]
  },
  {
   "cell_type": "code",
   "execution_count": null,
   "metadata": {},
   "outputs": [],
   "source": [
    "df.columns"
   ]
  },
  {
   "cell_type": "markdown",
   "metadata": {},
   "source": [
    "### Estadística de las Columnas:\n",
    "\n"
   ]
  },
  {
   "cell_type": "code",
   "execution_count": null,
   "metadata": {},
   "outputs": [],
   "source": [
    "df.describe()"
   ]
  },
  {
   "cell_type": "code",
   "execution_count": null,
   "metadata": {},
   "outputs": [],
   "source": [
    "df.describe(include=['object', 'bool']) "
   ]
  },
  {
   "cell_type": "markdown",
   "metadata": {},
   "source": [
    "## 2. Visualización univariable\n",
    "### 2.1 Variables cuantitativas\n",
    "### Histogramas y gráficos de densidad"
   ]
  },
  {
   "cell_type": "code",
   "execution_count": null,
   "metadata": {},
   "outputs": [],
   "source": [
    "features = ['total day minutes']\n",
    "df[features].hist(figsize=(10, 4)) # Se establece 10 unidades de ancho y 4 unidades de alto"
   ]
  },
  {
   "cell_type": "code",
   "execution_count": null,
   "metadata": {},
   "outputs": [],
   "source": [
    "# Ahora con Seaborn. \n",
    "sns.histplot(data=df, x='total day minutes', kde=True) "
   ]
  },
  {
   "cell_type": "code",
   "execution_count": null,
   "metadata": {},
   "outputs": [],
   "source": [
    "df[features].plot(kind='density', subplots=True, layout=(1, 1), sharex=False, figsize=(10, 4))"
   ]
  },
  {
   "cell_type": "markdown",
   "metadata": {},
   "source": [
    "### Ejercicio\n",
    "¿Que nos están indicando valores de densidad tan bajos?"
   ]
  },
  {
   "cell_type": "code",
   "execution_count": null,
   "metadata": {},
   "outputs": [],
   "source": [
    "# Ahora con Seaborn\n",
    "sns.kdeplot(data=df, x='total day minutes')\n"
   ]
  },
  {
   "cell_type": "markdown",
   "metadata": {},
   "source": [
    "## 2.2 Características categoricas y binarias\n",
    "## Tabla de frecuencias\n"
   ]
  },
  {
   "cell_type": "code",
   "execution_count": null,
   "metadata": {},
   "outputs": [],
   "source": [
    "df['churn'].value_counts()"
   ]
  },
  {
   "cell_type": "code",
   "execution_count": null,
   "metadata": {},
   "outputs": [],
   "source": [
    "df['customer service calls'].value_counts()"
   ]
  },
  {
   "cell_type": "markdown",
   "metadata": {},
   "source": [
    "## Diagrama de barras"
   ]
  },
  {
   "cell_type": "code",
   "execution_count": null,
   "metadata": {},
   "outputs": [],
   "source": [
    "fig, axes = plt.subplots(nrows=1, ncols=2, figsize=(12, 4))\n",
    "\n",
    "sns.countplot(x='churn', data=df, ax=axes[0]); \n",
    "sns.countplot(x='customer service calls', data=df, ax=axes[1]);"
   ]
  },
  {
   "cell_type": "markdown",
   "metadata": {},
   "source": [
    "## 3. Visualización multivariable\n",
    "\n",
    "## 3.1 Cuantitativa vs Cuntitativa\n",
    "\n",
    "## Matriz de correlación"
   ]
  },
  {
   "cell_type": "code",
   "execution_count": null,
   "metadata": {},
   "outputs": [],
   "source": [
    "# ¿Que obtenemos con esta linea?\n",
    "numerical = list(set(df.columns) - set(['state', 'phone number','international plan', 'voice mail plan','area code', 'churn', 'customer service calls']))\n",
    "\n",
    "# Obtengo y muestro la matriz de correlación. En este caso en forma de mapa de calor\n",
    "corr_matrix = df[numerical].corr()\n",
    "sns.heatmap(corr_matrix);"
   ]
  },
  {
   "cell_type": "code",
   "execution_count": null,
   "metadata": {},
   "outputs": [],
   "source": [
    "# Muestro valores formato texto\n",
    "print(corr_matrix)"
   ]
  },
  {
   "cell_type": "code",
   "execution_count": null,
   "metadata": {},
   "outputs": [],
   "source": [
    "plt.scatter(df['total day minutes'], df['total night minutes']);"
   ]
  },
  {
   "cell_type": "code",
   "execution_count": null,
   "metadata": {},
   "outputs": [],
   "source": [
    "sns.jointplot(x='total day minutes', y='total night minutes', data=df, kind='scatter')"
   ]
  },
  {
   "cell_type": "code",
   "execution_count": null,
   "metadata": {},
   "outputs": [],
   "source": [
    "sns.jointplot(x='total day minutes',y='total night minutes', data=df, kind=\"kde\", color=\"g\");"
   ]
  },
  {
   "cell_type": "code",
   "execution_count": null,
   "metadata": {},
   "outputs": [],
   "source": [
    "sns.lmplot(x='total day minutes',y= 'total night minutes', data=df, hue='churn', fit_reg=False) # Si lo ponemos a true muestra linea de regresión"
   ]
  },
  {
   "cell_type": "code",
   "execution_count": null,
   "metadata": {},
   "outputs": [],
   "source": [
    "# La función puede ser más lenta cuando trabajamos con el formato por defecto SVG (Scalable Vector Graphics o Gráficos Vectoriales Escalables)\n",
    "# Solicitamos los gráficos en formato png\n",
    "%config InlineBackend.figure_format = 'png'\n",
    "\n",
    "numerical = list(set(numerical) - set(['total day charge', 'total eve charge', 'total night charge', 'total intl charge']))\n",
    "\n",
    "# Esta función de Seaborn genera una matriz de gráficos de pares, donde se visualizan las relaciones entre todas las combinaciones posibles de variables numéricas.\n",
    "numerical = list(set(numerical) - set(['total day charge', 'total eve charge', 'total night charge', 'total intl charge']))\n",
    "sns.pairplot(df[numerical + ['churn']], vars = numerical, hue='churn');\n"
   ]
  },
  {
   "cell_type": "code",
   "execution_count": 22,
   "metadata": {},
   "outputs": [],
   "source": [
    "# Volvemos al formato SVG\n",
    "%config InlineBackend.figure_format = 'svg'"
   ]
  },
  {
   "cell_type": "markdown",
   "metadata": {},
   "source": [
    "## 3.2 Variables cuantitativas vs. categoricas\n",
    "### Diagramas de violin"
   ]
  },
  {
   "cell_type": "code",
   "execution_count": null,
   "metadata": {},
   "outputs": [],
   "source": [
    "sns.violinplot(x=\"churn\", y=\"total intl calls\", data=df);"
   ]
  },
  {
   "cell_type": "markdown",
   "metadata": {},
   "source": [
    "## 3.3 Variables categoricas vs. categoricas"
   ]
  },
  {
   "cell_type": "code",
   "execution_count": null,
   "metadata": {},
   "outputs": [],
   "source": [
    "sns.countplot(x='customer service calls', hue='churn', data=df);"
   ]
  },
  {
   "cell_type": "code",
   "execution_count": null,
   "metadata": {},
   "outputs": [],
   "source": [
    "# Para poner en comparación dos variables\n",
    "fig, axes = plt.subplots(1, 2, sharey=True, figsize=(10, 4))\n",
    "\n",
    "sns.countplot(x='international plan', hue='churn', data=df, ax=axes[0]);\n",
    "sns.countplot(x='voice mail plan', hue='churn', data=df, ax=axes[1]);"
   ]
  },
  {
   "cell_type": "code",
   "execution_count": null,
   "metadata": {},
   "outputs": [],
   "source": [
    "pd.crosstab(df['state'], df['churn']).T"
   ]
  },
  {
   "cell_type": "markdown",
   "metadata": {},
   "source": [
    "## Ejercicio 1\n",
    "Crear la matriz de gráficos de pares donde se visualizan las relaciones entre todas las combinaciones posibles de variables numéricas del dataset de wine.\n",
    "Determinar los pares de variables donde existe una correlación lineal (si existen)"
   ]
  },
  {
   "cell_type": "markdown",
   "metadata": {},
   "source": [
    "## Ejercicio 2\n",
    "Crear la matriz de gráficos de parespara el dataset de las flores de Iris\n",
    "¿Pdríamos aplicar sobre estas variables algoritmos de regresón lineal?¿Y de clasificación?\n"
   ]
  }
 ],
 "metadata": {
  "kernelspec": {
   "display_name": "Python 3",
   "language": "python",
   "name": "python3"
  },
  "language_info": {
   "codemirror_mode": {
    "name": "ipython",
    "version": 3
   },
   "file_extension": ".py",
   "mimetype": "text/x-python",
   "name": "python",
   "nbconvert_exporter": "python",
   "pygments_lexer": "ipython3",
   "version": "3.9.13"
  }
 },
 "nbformat": 4,
 "nbformat_minor": 4
}
