{
 "cells": [
  {
   "cell_type": "markdown",
   "metadata": {},
   "source": [
    "# Actividad obligatoria con Seaborn \n",
    "\n",
    "Despues de haber trabajado con las funciones de Seaborn, se plantea la siguiente actividad.\\\n",
    "Se trata de localizar dos dataset en cualquiera de las fuentes que se ofrecen más abajo:\n",
    "- Un dataset debe ofrecer de entre todas sus caracteristicas o features predictoras, al menos 2 parjas entre las que exista una relación tal que permita un entrenamiento de regresión lineal.\n",
    "- Un dataset debe ofrecer de entre todas sus caracteristicas o features predictoras, al menos 2 parjas entre las que exista una relación tal que permita un entrenamiento de clasificación. \n",
    "\n",
    "Con ayuda de la biblioteca Seaborn y tomando como referencia esta plantilla, describe y ofrece una visualización de las relaciones entre variables de los dataset seleccionados.\\\n",
    "Debes subir el archivo una vez completado el codigo que corresponda junto con los dataset seleccionados.\n",
    "\n",
    "\n",
    "### Algunos sitios donde encontrar dataset:\n",
    "https://archive.ics.uci.edu/datasets\n",
    "\n",
    "https://www.kaggle.com/datasets\n",
    "\n",
    "https://data.gov/\n",
    "\n",
    "https://data.unicef.org/resources/resource-type/datasets/\n",
    "\n"
   ]
  },
  {
   "cell_type": "code",
   "execution_count": 2,
   "metadata": {},
   "outputs": [],
   "source": [
    "import numpy as np\n",
    "import pandas as pd\n",
    "\n",
    "# Matplotlib es la libreria base para la visualización de datos en Python\n",
    "import matplotlib.pyplot as plt\n",
    "\n",
    "# Bajo Seaborn subyace Matplotlib. Será usada por Seaborn \n",
    "import seaborn as sns"
   ]
  },
  {
   "cell_type": "code",
   "execution_count": 3,
   "metadata": {},
   "outputs": [],
   "source": [
    "# Establecer el estilo \"darkgrid\" \n",
    "sns.set_style(\"darkgrid\")"
   ]
  },
  {
   "cell_type": "code",
   "execution_count": 4,
   "metadata": {},
   "outputs": [],
   "source": [
    "# Seleccionamos mostrar los graficos en formato SVG (Gráficos Vectoriales Escalables), son mas nitidos y legibles que otros formatos\n",
    "%config InlineBackend.figure_format = 'svg'"
   ]
  },
  {
   "cell_type": "markdown",
   "metadata": {},
   "source": [
    "# 1. El dataset\n",
    "### Descripción del dataset 1 elegido"
   ]
  },
  {
   "cell_type": "code",
   "execution_count": 5,
   "metadata": {},
   "outputs": [],
   "source": [
    "df = pd.read_csv('./data/........')"
   ]
  },
  {
   "cell_type": "code",
   "execution_count": null,
   "metadata": {},
   "outputs": [],
   "source": [
    "df.head()"
   ]
  },
  {
   "cell_type": "code",
   "execution_count": null,
   "metadata": {},
   "outputs": [],
   "source": [
    "df.info()"
   ]
  },
  {
   "cell_type": "code",
   "execution_count": null,
   "metadata": {},
   "outputs": [],
   "source": [
    "df.columns"
   ]
  },
  {
   "cell_type": "markdown",
   "metadata": {},
   "source": [
    "### Estadística de las Columnas:\n",
    "\n"
   ]
  },
  {
   "cell_type": "code",
   "execution_count": null,
   "metadata": {},
   "outputs": [],
   "source": [
    "df.describe()"
   ]
  },
  {
   "cell_type": "markdown",
   "metadata": {},
   "source": [
    "## 2. Visualización univariable\n",
    "### 2.1 Variables cuantitativas\n",
    "### Histogramas y gráficos de densidad"
   ]
  },
  {
   "cell_type": "code",
   "execution_count": null,
   "metadata": {},
   "outputs": [],
   "source": [
    "features = ['........']\n",
    "df[features].hist(figsize=(10, 4)) # Se establece 10 unidades de ancho y 4 unidades de alto"
   ]
  },
  {
   "cell_type": "code",
   "execution_count": null,
   "metadata": {},
   "outputs": [],
   "source": [
    "df[features].plot(kind='density', subplots=True, layout=(1, 1), sharex=False, figsize=(10, 4))"
   ]
  },
  {
   "cell_type": "code",
   "execution_count": null,
   "metadata": {},
   "outputs": [],
   "source": [
    "sns.histplot(data=df, x='.............', kde=True) "
   ]
  },
  {
   "cell_type": "code",
   "execution_count": null,
   "metadata": {},
   "outputs": [],
   "source": [
    "sns.kdeplot(data=df, x='.................')"
   ]
  },
  {
   "cell_type": "markdown",
   "metadata": {},
   "source": [
    "## 2.2 Características categoricas y binarias\n",
    "## Tabla de frecuencias\n"
   ]
  },
  {
   "cell_type": "code",
   "execution_count": null,
   "metadata": {},
   "outputs": [],
   "source": [
    "df['..............'].value_counts()"
   ]
  },
  {
   "cell_type": "code",
   "execution_count": null,
   "metadata": {},
   "outputs": [],
   "source": [
    "df['...............'].value_counts()"
   ]
  },
  {
   "cell_type": "markdown",
   "metadata": {},
   "source": [
    "## Diagrama de barras"
   ]
  },
  {
   "cell_type": "code",
   "execution_count": null,
   "metadata": {},
   "outputs": [],
   "source": [
    "fig, axes = plt.subplots(nrows=1, ncols=2, figsize=(12, 4))\n",
    "\n",
    "sns.countplot(x='......', data=df, ax=axes[0]); \n",
    "sns.countplot(x='......', data=df, ax=axes[1]);"
   ]
  },
  {
   "cell_type": "markdown",
   "metadata": {},
   "source": [
    "## 3. Visualización multivariable\n",
    "\n",
    "## 3.1 Cuantitativa vs Cuntitativa\n",
    "\n",
    "## Matriz de correlación"
   ]
  },
  {
   "cell_type": "code",
   "execution_count": null,
   "metadata": {},
   "outputs": [],
   "source": [
    "numerical = list(set(df.columns) - set(['.....', '.....','.....', '.....','......', '.....', '.....']))\n",
    "\n",
    "# Obtengo y muestro la matriz de correlación. En este caso en forma de mapa de calor\n",
    "corr_matrix = df[numerical].corr()\n",
    "sns.heatmap(corr_matrix);"
   ]
  },
  {
   "cell_type": "code",
   "execution_count": null,
   "metadata": {},
   "outputs": [],
   "source": [
    "plt.scatter(df['.....'], df['.....']);"
   ]
  },
  {
   "cell_type": "code",
   "execution_count": null,
   "metadata": {},
   "outputs": [],
   "source": [
    "sns.jointplot(x='......',y='.......', data=df, kind=\"kde\", color=\"g\");"
   ]
  },
  {
   "cell_type": "code",
   "execution_count": null,
   "metadata": {},
   "outputs": [],
   "source": [
    "sns.lmplot(x='.....',y= '..............', data=df, hue='......', fit_reg=False) # Si lo ponemos a true muestra linea de regresión"
   ]
  },
  {
   "cell_type": "code",
   "execution_count": null,
   "metadata": {},
   "outputs": [],
   "source": [
    "# Solicitamos los gráficos en formato png\n",
    "%config InlineBackend.figure_format = 'png'\n",
    "\n",
    "numerical = list(set(numerical) - set(['.....', '....', '.....', '.....']))\n",
    "\n",
    "# Esta función de Seaborn genera una matriz de gráficos de pares, donde se visualizan las relaciones entre todas las combinaciones posibles de variables numéricas.\n",
    "numerical = list(set(numerical) - set(['....', '....', '....', '....']))\n",
    "sns.pairplot(df[numerical + ['....']], vars = numerical, hue='....');\n"
   ]
  },
  {
   "cell_type": "code",
   "execution_count": 22,
   "metadata": {},
   "outputs": [],
   "source": [
    "# Volvemos al formato SVG\n",
    "%config InlineBackend.figure_format = 'svg'"
   ]
  },
  {
   "cell_type": "markdown",
   "metadata": {},
   "source": [
    "## 3.2 Variables cuantitativas vs. categoricas\n",
    "### Diagramas de violin"
   ]
  },
  {
   "cell_type": "code",
   "execution_count": null,
   "metadata": {},
   "outputs": [],
   "source": [
    "sns.violinplot(x='....', y='....', data=df);"
   ]
  },
  {
   "cell_type": "markdown",
   "metadata": {},
   "source": [
    "## 3.3 Variables categoricas vs. categoricas"
   ]
  },
  {
   "cell_type": "code",
   "execution_count": null,
   "metadata": {},
   "outputs": [],
   "source": [
    "sns.countplot(x='....', hue='....', data=df);"
   ]
  },
  {
   "cell_type": "code",
   "execution_count": null,
   "metadata": {},
   "outputs": [],
   "source": [
    "# Para poner en comparación dos variables\n",
    "fig, axes = plt.subplots(1, 2, sharey=True, figsize=(10, 4))\n",
    "\n",
    "sns.countplot(x='....', hue='....', data=df, ax=axes[0]);\n",
    "sns.countplot(x='...', hue='....', data=df, ax=axes[1]);"
   ]
  }
 ],
 "metadata": {
  "kernelspec": {
   "display_name": "Python 3",
   "language": "python",
   "name": "python3"
  },
  "language_info": {
   "codemirror_mode": {
    "name": "ipython",
    "version": 3
   },
   "file_extension": ".py",
   "mimetype": "text/x-python",
   "name": "python",
   "nbconvert_exporter": "python",
   "pygments_lexer": "ipython3",
   "version": "3.9.13"
  }
 },
 "nbformat": 4,
 "nbformat_minor": 4
}
