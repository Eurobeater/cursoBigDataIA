{
 "cells": [
  {
   "cell_type": "markdown",
   "metadata": {},
   "source": [
    "# Elemplo de definición de la clase Automovil\n",
    "## Definimos atributos y metodos"
   ]
  },
  {
   "cell_type": "code",
   "execution_count": 4,
   "metadata": {},
   "outputs": [
    {
     "name": "stdout",
     "output_type": "stream",
     "text": [
      "El automóvil Toyota modelo Corolla ha sido encendido.\n",
      "El automóvil está a 50 km/h.\n",
      "El automóvil está a 30 km/h.\n",
      "El automóvil ha sido apagado.\n",
      "\n",
      "El automóvil Honda modelo CR-V ha sido encendido.\n",
      "El automóvil está a 80 km/h.\n",
      "El automóvil está a 50 km/h.\n",
      "El automóvil ha sido apagado.\n"
     ]
    }
   ],
   "source": [
    "class Automovil:\n",
    "    def __init__(self, marca, modelo, año, color):\n",
    "        self.marca = marca\n",
    "        self.modelo = modelo\n",
    "        self.año = año\n",
    "        self.color = color\n",
    "        self.encendido = False\n",
    "        self.velocidad = 0\n",
    "\n",
    "    def encender(self):\n",
    "        self.encendido = True\n",
    "        print(f\"El automóvil {self.marca} modelo {self.modelo} ha sido encendido.\")\n",
    "\n",
    "    def apagar(self):\n",
    "        self.encendido = False\n",
    "        self.velocidad = 0\n",
    "        print(\"El automóvil ha sido apagado.\")\n",
    "\n",
    "    def acelerar(self, incremento):\n",
    "        self.velocidad += incremento\n",
    "        print(f\"El automóvil está a {self.velocidad} km/h.\")\n",
    "       \n",
    "\n",
    "    def frenar(self, decremento):\n",
    "        self.velocidad -= decremento\n",
    "        print(f\"El automóvil está a {self.velocidad} km/h.\")\n",
    "        \n",
    "\n",
    "# Creamos dos instancias de la clase Automovil\n",
    "automovil_1 = Automovil(\"Toyota\", \"Corolla\", 2023, \"Blanco\")\n",
    "\n",
    "automovil_2 = Automovil(\"Honda\", \"CR-V\", 2018, \"Rojo\")\n",
    "\n",
    "# Llamada a los métodos del objeto automovil_1\n",
    "automovil_1.encender()\n",
    "automovil_1.acelerar(50)\n",
    "automovil_1.frenar(20)\n",
    "automovil_1.apagar()\n",
    "\n",
    "print()\n",
    "\n",
    "# Llamada a los métodos del objeto automovil_2\n",
    "automovil_2.encender()\n",
    "automovil_2.acelerar(80)\n",
    "automovil_2.frenar(30)\n",
    "automovil_2.apagar()"
   ]
  }
 ],
 "metadata": {
  "kernelspec": {
   "display_name": "Python 3",
   "language": "python",
   "name": "python3"
  },
  "language_info": {
   "codemirror_mode": {
    "name": "ipython",
    "version": 3
   },
   "file_extension": ".py",
   "mimetype": "text/x-python",
   "name": "python",
   "nbconvert_exporter": "python",
   "pygments_lexer": "ipython3",
   "version": "3.11.9"
  }
 },
 "nbformat": 4,
 "nbformat_minor": 2
}
