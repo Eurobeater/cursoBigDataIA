{
 "cells": [
  {
   "cell_type": "markdown",
   "metadata": {},
   "source": [
    "# Batería de ejercicios de Pandas"
   ]
  },
  {
   "cell_type": "code",
   "execution_count": 2,
   "metadata": {},
   "outputs": [],
   "source": [
    "import pandas as pd"
   ]
  },
  {
   "cell_type": "code",
   "execution_count": 3,
   "metadata": {},
   "outputs": [],
   "source": [
    "df = pd.read_csv(\"data/high_popularity_spotify_data.csv\")"
   ]
  },
  {
   "cell_type": "markdown",
   "metadata": {},
   "source": [
    "## Exploración y limpieza de datos"
   ]
  },
  {
   "cell_type": "markdown",
   "metadata": {},
   "source": [
    "- Muestra las primeras 10 filas del dataset"
   ]
  },
  {
   "cell_type": "code",
   "execution_count": 4,
   "metadata": {},
   "outputs": [
    {
     "data": {
      "text/html": [
       "<div>\n",
       "<style scoped>\n",
       "    .dataframe tbody tr th:only-of-type {\n",
       "        vertical-align: middle;\n",
       "    }\n",
       "\n",
       "    .dataframe tbody tr th {\n",
       "        vertical-align: top;\n",
       "    }\n",
       "\n",
       "    .dataframe thead th {\n",
       "        text-align: right;\n",
       "    }\n",
       "</style>\n",
       "<table border=\"1\" class=\"dataframe\">\n",
       "  <thead>\n",
       "    <tr style=\"text-align: right;\">\n",
       "      <th></th>\n",
       "      <th>energy</th>\n",
       "      <th>tempo</th>\n",
       "      <th>danceability</th>\n",
       "      <th>playlist_genre</th>\n",
       "      <th>loudness</th>\n",
       "      <th>liveness</th>\n",
       "      <th>valence</th>\n",
       "      <th>track_artist</th>\n",
       "      <th>time_signature</th>\n",
       "      <th>speechiness</th>\n",
       "      <th>...</th>\n",
       "      <th>instrumentalness</th>\n",
       "      <th>track_album_id</th>\n",
       "      <th>mode</th>\n",
       "      <th>key</th>\n",
       "      <th>duration_ms</th>\n",
       "      <th>acousticness</th>\n",
       "      <th>id</th>\n",
       "      <th>playlist_subgenre</th>\n",
       "      <th>type</th>\n",
       "      <th>playlist_id</th>\n",
       "    </tr>\n",
       "  </thead>\n",
       "  <tbody>\n",
       "    <tr>\n",
       "      <th>0</th>\n",
       "      <td>0.592</td>\n",
       "      <td>157.969</td>\n",
       "      <td>0.521</td>\n",
       "      <td>pop</td>\n",
       "      <td>-7.777</td>\n",
       "      <td>0.1220</td>\n",
       "      <td>0.535</td>\n",
       "      <td>Lady Gaga, Bruno Mars</td>\n",
       "      <td>3</td>\n",
       "      <td>0.0304</td>\n",
       "      <td>...</td>\n",
       "      <td>0.000000</td>\n",
       "      <td>10FLjwfpbxLmW8c25Xyc2N</td>\n",
       "      <td>0</td>\n",
       "      <td>6</td>\n",
       "      <td>251668</td>\n",
       "      <td>0.3080</td>\n",
       "      <td>2plbrEY59IikOBgBGLjaoe</td>\n",
       "      <td>mainstream</td>\n",
       "      <td>audio_features</td>\n",
       "      <td>37i9dQZF1DXcBWIGoYBM5M</td>\n",
       "    </tr>\n",
       "    <tr>\n",
       "      <th>1</th>\n",
       "      <td>0.507</td>\n",
       "      <td>104.978</td>\n",
       "      <td>0.747</td>\n",
       "      <td>pop</td>\n",
       "      <td>-10.171</td>\n",
       "      <td>0.1170</td>\n",
       "      <td>0.438</td>\n",
       "      <td>Billie Eilish</td>\n",
       "      <td>4</td>\n",
       "      <td>0.0358</td>\n",
       "      <td>...</td>\n",
       "      <td>0.060800</td>\n",
       "      <td>7aJuG4TFXa2hmE4z1yxc3n</td>\n",
       "      <td>1</td>\n",
       "      <td>2</td>\n",
       "      <td>210373</td>\n",
       "      <td>0.2000</td>\n",
       "      <td>6dOtVTDdiauQNBQEDOtlAB</td>\n",
       "      <td>mainstream</td>\n",
       "      <td>audio_features</td>\n",
       "      <td>37i9dQZF1DXcBWIGoYBM5M</td>\n",
       "    </tr>\n",
       "    <tr>\n",
       "      <th>2</th>\n",
       "      <td>0.808</td>\n",
       "      <td>108.548</td>\n",
       "      <td>0.554</td>\n",
       "      <td>pop</td>\n",
       "      <td>-4.169</td>\n",
       "      <td>0.1590</td>\n",
       "      <td>0.372</td>\n",
       "      <td>Gracie Abrams</td>\n",
       "      <td>4</td>\n",
       "      <td>0.0368</td>\n",
       "      <td>...</td>\n",
       "      <td>0.000000</td>\n",
       "      <td>0hBRqPYPXhr1RkTDG3n4Mk</td>\n",
       "      <td>1</td>\n",
       "      <td>1</td>\n",
       "      <td>166300</td>\n",
       "      <td>0.2140</td>\n",
       "      <td>7ne4VBA60CxGM75vw0EYad</td>\n",
       "      <td>mainstream</td>\n",
       "      <td>audio_features</td>\n",
       "      <td>37i9dQZF1DXcBWIGoYBM5M</td>\n",
       "    </tr>\n",
       "    <tr>\n",
       "      <th>3</th>\n",
       "      <td>0.910</td>\n",
       "      <td>112.966</td>\n",
       "      <td>0.670</td>\n",
       "      <td>pop</td>\n",
       "      <td>-4.070</td>\n",
       "      <td>0.3040</td>\n",
       "      <td>0.786</td>\n",
       "      <td>Sabrina Carpenter</td>\n",
       "      <td>4</td>\n",
       "      <td>0.0634</td>\n",
       "      <td>...</td>\n",
       "      <td>0.000000</td>\n",
       "      <td>4B4Elma4nNDUyl6D5PvQkj</td>\n",
       "      <td>0</td>\n",
       "      <td>0</td>\n",
       "      <td>157280</td>\n",
       "      <td>0.0939</td>\n",
       "      <td>1d7Ptw3qYcfpdLNL5REhtJ</td>\n",
       "      <td>mainstream</td>\n",
       "      <td>audio_features</td>\n",
       "      <td>37i9dQZF1DXcBWIGoYBM5M</td>\n",
       "    </tr>\n",
       "    <tr>\n",
       "      <th>4</th>\n",
       "      <td>0.783</td>\n",
       "      <td>149.027</td>\n",
       "      <td>0.777</td>\n",
       "      <td>pop</td>\n",
       "      <td>-4.477</td>\n",
       "      <td>0.3550</td>\n",
       "      <td>0.939</td>\n",
       "      <td>ROSÉ, Bruno Mars</td>\n",
       "      <td>4</td>\n",
       "      <td>0.2600</td>\n",
       "      <td>...</td>\n",
       "      <td>0.000000</td>\n",
       "      <td>2IYQwwgxgOIn7t3iF6ufFD</td>\n",
       "      <td>0</td>\n",
       "      <td>0</td>\n",
       "      <td>169917</td>\n",
       "      <td>0.0283</td>\n",
       "      <td>5vNRhkKd0yEAg8suGBpjeY</td>\n",
       "      <td>mainstream</td>\n",
       "      <td>audio_features</td>\n",
       "      <td>37i9dQZF1DXcBWIGoYBM5M</td>\n",
       "    </tr>\n",
       "    <tr>\n",
       "      <th>5</th>\n",
       "      <td>0.582</td>\n",
       "      <td>116.712</td>\n",
       "      <td>0.700</td>\n",
       "      <td>pop</td>\n",
       "      <td>-5.960</td>\n",
       "      <td>0.0881</td>\n",
       "      <td>0.785</td>\n",
       "      <td>Chappell Roan</td>\n",
       "      <td>4</td>\n",
       "      <td>0.0356</td>\n",
       "      <td>...</td>\n",
       "      <td>0.000000</td>\n",
       "      <td>1WAjjRMfZjEXtB0lQrAw6Q</td>\n",
       "      <td>0</td>\n",
       "      <td>11</td>\n",
       "      <td>218424</td>\n",
       "      <td>0.0502</td>\n",
       "      <td>0WbMK4wrZ1wFSty9F7FCgu</td>\n",
       "      <td>mainstream</td>\n",
       "      <td>audio_features</td>\n",
       "      <td>37i9dQZF1DXcBWIGoYBM5M</td>\n",
       "    </tr>\n",
       "    <tr>\n",
       "      <th>6</th>\n",
       "      <td>0.561</td>\n",
       "      <td>150.069</td>\n",
       "      <td>0.669</td>\n",
       "      <td>pop</td>\n",
       "      <td>-6.538</td>\n",
       "      <td>0.0954</td>\n",
       "      <td>0.841</td>\n",
       "      <td>Addison Rae</td>\n",
       "      <td>4</td>\n",
       "      <td>0.0411</td>\n",
       "      <td>...</td>\n",
       "      <td>0.009620</td>\n",
       "      <td>0XA403JTounqFh2owquBXu</td>\n",
       "      <td>1</td>\n",
       "      <td>10</td>\n",
       "      <td>169698</td>\n",
       "      <td>0.4950</td>\n",
       "      <td>6MzofobZt2dm0Kf1hTThFz</td>\n",
       "      <td>mainstream</td>\n",
       "      <td>audio_features</td>\n",
       "      <td>37i9dQZF1DXcBWIGoYBM5M</td>\n",
       "    </tr>\n",
       "    <tr>\n",
       "      <th>7</th>\n",
       "      <td>0.247</td>\n",
       "      <td>148.101</td>\n",
       "      <td>0.467</td>\n",
       "      <td>pop</td>\n",
       "      <td>-12.002</td>\n",
       "      <td>0.1700</td>\n",
       "      <td>0.126</td>\n",
       "      <td>Billie Eilish</td>\n",
       "      <td>4</td>\n",
       "      <td>0.0431</td>\n",
       "      <td>...</td>\n",
       "      <td>0.000271</td>\n",
       "      <td>7aJuG4TFXa2hmE4z1yxc3n</td>\n",
       "      <td>0</td>\n",
       "      <td>6</td>\n",
       "      <td>261467</td>\n",
       "      <td>0.6120</td>\n",
       "      <td>3QaPy1KgI7nu9FJEQUgn6h</td>\n",
       "      <td>mainstream</td>\n",
       "      <td>audio_features</td>\n",
       "      <td>37i9dQZF1DXcBWIGoYBM5M</td>\n",
       "    </tr>\n",
       "    <tr>\n",
       "      <th>8</th>\n",
       "      <td>0.416</td>\n",
       "      <td>94.926</td>\n",
       "      <td>0.492</td>\n",
       "      <td>pop</td>\n",
       "      <td>-10.439</td>\n",
       "      <td>0.2030</td>\n",
       "      <td>0.297</td>\n",
       "      <td>Gigi Perez</td>\n",
       "      <td>4</td>\n",
       "      <td>0.0254</td>\n",
       "      <td>...</td>\n",
       "      <td>0.000086</td>\n",
       "      <td>4DWrYvfGXRE8ko5ZxlIpit</td>\n",
       "      <td>1</td>\n",
       "      <td>11</td>\n",
       "      <td>211979</td>\n",
       "      <td>0.6860</td>\n",
       "      <td>0UYnhUfnUj5adChuAXvLUB</td>\n",
       "      <td>mainstream</td>\n",
       "      <td>audio_features</td>\n",
       "      <td>37i9dQZF1DXcBWIGoYBM5M</td>\n",
       "    </tr>\n",
       "    <tr>\n",
       "      <th>9</th>\n",
       "      <td>0.722</td>\n",
       "      <td>119.973</td>\n",
       "      <td>0.769</td>\n",
       "      <td>pop</td>\n",
       "      <td>-5.485</td>\n",
       "      <td>0.1110</td>\n",
       "      <td>0.570</td>\n",
       "      <td>The Weeknd, Playboi Carti</td>\n",
       "      <td>4</td>\n",
       "      <td>0.0507</td>\n",
       "      <td>...</td>\n",
       "      <td>0.000003</td>\n",
       "      <td>2IRxVVqbSbqHJo8Zx50LYn</td>\n",
       "      <td>0</td>\n",
       "      <td>11</td>\n",
       "      <td>256000</td>\n",
       "      <td>0.0584</td>\n",
       "      <td>1Es7AUAhQvapIcoh3qMKDL</td>\n",
       "      <td>mainstream</td>\n",
       "      <td>audio_features</td>\n",
       "      <td>37i9dQZF1DXcBWIGoYBM5M</td>\n",
       "    </tr>\n",
       "  </tbody>\n",
       "</table>\n",
       "<p>10 rows × 29 columns</p>\n",
       "</div>"
      ],
      "text/plain": [
       "   energy    tempo  danceability playlist_genre  loudness  liveness  valence  \\\n",
       "0   0.592  157.969         0.521            pop    -7.777    0.1220    0.535   \n",
       "1   0.507  104.978         0.747            pop   -10.171    0.1170    0.438   \n",
       "2   0.808  108.548         0.554            pop    -4.169    0.1590    0.372   \n",
       "3   0.910  112.966         0.670            pop    -4.070    0.3040    0.786   \n",
       "4   0.783  149.027         0.777            pop    -4.477    0.3550    0.939   \n",
       "5   0.582  116.712         0.700            pop    -5.960    0.0881    0.785   \n",
       "6   0.561  150.069         0.669            pop    -6.538    0.0954    0.841   \n",
       "7   0.247  148.101         0.467            pop   -12.002    0.1700    0.126   \n",
       "8   0.416   94.926         0.492            pop   -10.439    0.2030    0.297   \n",
       "9   0.722  119.973         0.769            pop    -5.485    0.1110    0.570   \n",
       "\n",
       "                track_artist  time_signature  speechiness  ...  \\\n",
       "0      Lady Gaga, Bruno Mars               3       0.0304  ...   \n",
       "1              Billie Eilish               4       0.0358  ...   \n",
       "2              Gracie Abrams               4       0.0368  ...   \n",
       "3          Sabrina Carpenter               4       0.0634  ...   \n",
       "4           ROSÉ, Bruno Mars               4       0.2600  ...   \n",
       "5              Chappell Roan               4       0.0356  ...   \n",
       "6                Addison Rae               4       0.0411  ...   \n",
       "7              Billie Eilish               4       0.0431  ...   \n",
       "8                 Gigi Perez               4       0.0254  ...   \n",
       "9  The Weeknd, Playboi Carti               4       0.0507  ...   \n",
       "\n",
       "   instrumentalness          track_album_id mode key duration_ms acousticness  \\\n",
       "0          0.000000  10FLjwfpbxLmW8c25Xyc2N    0   6      251668       0.3080   \n",
       "1          0.060800  7aJuG4TFXa2hmE4z1yxc3n    1   2      210373       0.2000   \n",
       "2          0.000000  0hBRqPYPXhr1RkTDG3n4Mk    1   1      166300       0.2140   \n",
       "3          0.000000  4B4Elma4nNDUyl6D5PvQkj    0   0      157280       0.0939   \n",
       "4          0.000000  2IYQwwgxgOIn7t3iF6ufFD    0   0      169917       0.0283   \n",
       "5          0.000000  1WAjjRMfZjEXtB0lQrAw6Q    0  11      218424       0.0502   \n",
       "6          0.009620  0XA403JTounqFh2owquBXu    1  10      169698       0.4950   \n",
       "7          0.000271  7aJuG4TFXa2hmE4z1yxc3n    0   6      261467       0.6120   \n",
       "8          0.000086  4DWrYvfGXRE8ko5ZxlIpit    1  11      211979       0.6860   \n",
       "9          0.000003  2IRxVVqbSbqHJo8Zx50LYn    0  11      256000       0.0584   \n",
       "\n",
       "                       id playlist_subgenre            type  \\\n",
       "0  2plbrEY59IikOBgBGLjaoe        mainstream  audio_features   \n",
       "1  6dOtVTDdiauQNBQEDOtlAB        mainstream  audio_features   \n",
       "2  7ne4VBA60CxGM75vw0EYad        mainstream  audio_features   \n",
       "3  1d7Ptw3qYcfpdLNL5REhtJ        mainstream  audio_features   \n",
       "4  5vNRhkKd0yEAg8suGBpjeY        mainstream  audio_features   \n",
       "5  0WbMK4wrZ1wFSty9F7FCgu        mainstream  audio_features   \n",
       "6  6MzofobZt2dm0Kf1hTThFz        mainstream  audio_features   \n",
       "7  3QaPy1KgI7nu9FJEQUgn6h        mainstream  audio_features   \n",
       "8  0UYnhUfnUj5adChuAXvLUB        mainstream  audio_features   \n",
       "9  1Es7AUAhQvapIcoh3qMKDL        mainstream  audio_features   \n",
       "\n",
       "              playlist_id  \n",
       "0  37i9dQZF1DXcBWIGoYBM5M  \n",
       "1  37i9dQZF1DXcBWIGoYBM5M  \n",
       "2  37i9dQZF1DXcBWIGoYBM5M  \n",
       "3  37i9dQZF1DXcBWIGoYBM5M  \n",
       "4  37i9dQZF1DXcBWIGoYBM5M  \n",
       "5  37i9dQZF1DXcBWIGoYBM5M  \n",
       "6  37i9dQZF1DXcBWIGoYBM5M  \n",
       "7  37i9dQZF1DXcBWIGoYBM5M  \n",
       "8  37i9dQZF1DXcBWIGoYBM5M  \n",
       "9  37i9dQZF1DXcBWIGoYBM5M  \n",
       "\n",
       "[10 rows x 29 columns]"
      ]
     },
     "execution_count": 4,
     "metadata": {},
     "output_type": "execute_result"
    }
   ],
   "source": [
    "df.head(10)"
   ]
  },
  {
   "cell_type": "markdown",
   "metadata": {},
   "source": [
    "- ¿Cuáles son las columnas categóricas y cuáles son numéricas?"
   ]
  },
  {
   "cell_type": "code",
   "execution_count": 5,
   "metadata": {},
   "outputs": [
    {
     "name": "stdout",
     "output_type": "stream",
     "text": [
      "Columnas y sus tipos:\n",
      "\n"
     ]
    },
    {
     "data": {
      "text/plain": [
       "energy                      float64\n",
       "tempo                       float64\n",
       "danceability                float64\n",
       "playlist_genre               object\n",
       "loudness                    float64\n",
       "liveness                    float64\n",
       "valence                     float64\n",
       "track_artist                 object\n",
       "time_signature                int64\n",
       "speechiness                 float64\n",
       "track_popularity              int64\n",
       "track_href                   object\n",
       "uri                          object\n",
       "track_album_name             object\n",
       "playlist_name                object\n",
       "analysis_url                 object\n",
       "track_id                     object\n",
       "track_name                   object\n",
       "track_album_release_date     object\n",
       "instrumentalness            float64\n",
       "track_album_id               object\n",
       "mode                          int64\n",
       "key                           int64\n",
       "duration_ms                   int64\n",
       "acousticness                float64\n",
       "id                           object\n",
       "playlist_subgenre            object\n",
       "type                         object\n",
       "playlist_id                  object\n",
       "dtype: object"
      ]
     },
     "execution_count": 5,
     "metadata": {},
     "output_type": "execute_result"
    }
   ],
   "source": [
    "print(\"Columnas y sus tipos:\\n\")\n",
    "df.dtypes"
   ]
  },
  {
   "cell_type": "code",
   "execution_count": 6,
   "metadata": {},
   "outputs": [
    {
     "name": "stdout",
     "output_type": "stream",
     "text": [
      "\n",
      "Columnas numéricas:\n",
      "             energy        tempo  danceability     loudness     liveness  \\\n",
      "count  1686.000000  1686.000000   1686.000000  1686.000000  1686.000000   \n",
      "mean      0.667216   121.070938      0.650362    -6.704131     0.171579   \n",
      "std       0.184908    27.066029      0.157721     3.377068     0.123953   \n",
      "min       0.001610    49.305000      0.136000   -43.643000     0.021000   \n",
      "25%       0.551000   100.058750      0.543250    -7.950250     0.093400   \n",
      "50%       0.689000   120.001000      0.664500    -5.974500     0.121000   \n",
      "75%       0.807000   136.833500      0.769000    -4.687250     0.210000   \n",
      "max       0.990000   209.688000      0.979000     1.295000     0.950000   \n",
      "\n",
      "           valence  time_signature  speechiness  track_popularity  \\\n",
      "count  1686.000000     1686.000000  1686.000000       1686.000000   \n",
      "mean      0.525737        3.950178     0.100926         75.806050   \n",
      "std       0.236113        0.326673     0.099748          6.032532   \n",
      "min       0.034800        1.000000     0.023200         68.000000   \n",
      "25%       0.339000        4.000000     0.037900         71.000000   \n",
      "50%       0.528000        4.000000     0.058100         75.000000   \n",
      "75%       0.720000        4.000000     0.118000         79.000000   \n",
      "max       0.978000        5.000000     0.848000        100.000000   \n",
      "\n",
      "       instrumentalness         mode          key    duration_ms  acousticness  \n",
      "count       1686.000000  1686.000000  1686.000000    1686.000000   1686.000000  \n",
      "mean           0.041520     0.578292     5.338078  214562.125741      0.221220  \n",
      "std            0.156556     0.493979     3.608208   58310.747929      0.250593  \n",
      "min            0.000000     0.000000     0.000000   61673.000000      0.000013  \n",
      "25%            0.000000     0.000000     2.000000  176607.750000      0.023050  \n",
      "50%            0.000006     1.000000     5.000000  211180.000000      0.124000  \n",
      "75%            0.000814     1.000000     8.000000  244993.250000      0.334750  \n",
      "max            0.971000     1.000000    11.000000  547107.000000      0.995000  \n"
     ]
    }
   ],
   "source": [
    "df_numericas = df.describe()\n",
    "print(\"\\nColumnas numéricas:\\n\", df_numericas)"
   ]
  },
  {
   "cell_type": "code",
   "execution_count": 7,
   "metadata": {},
   "outputs": [
    {
     "name": "stdout",
     "output_type": "stream",
     "text": [
      "\n",
      "Columnas categóricas:\n",
      "        playlist_genre track_artist  \\\n",
      "count            1686         1686   \n",
      "unique             28         1033   \n",
      "top               pop    Bad Bunny   \n",
      "freq              357           20   \n",
      "\n",
      "                                               track_href  \\\n",
      "count                                                1686   \n",
      "unique                                               1437   \n",
      "top     https://api.spotify.com/v1/tracks/6AI3ezQ4o3HU...   \n",
      "freq                                                    4   \n",
      "\n",
      "                                         uri  track_album_name  \\\n",
      "count                                   1686              1685   \n",
      "unique                                  1437              1212   \n",
      "top     spotify:track:6AI3ezQ4o3HUoP6Dhudph3  Un Verano Sin Ti   \n",
      "freq                                       4                16   \n",
      "\n",
      "          playlist_name                                       analysis_url  \\\n",
      "count              1686                                               1686   \n",
      "unique               73                                               1437   \n",
      "top     Throwback Party  https://api.spotify.com/v1/audio-analysis/6AI3...   \n",
      "freq                150                                                  4   \n",
      "\n",
      "                      track_id track_name track_album_release_date  \\\n",
      "count                     1686       1686                     1686   \n",
      "unique                    1437       1408                      868   \n",
      "top     6AI3ezQ4o3HUoP6Dhudph3  Too Sweet               2024-10-18   \n",
      "freq                         4          5                       17   \n",
      "\n",
      "                track_album_id                      id playlist_subgenre  \\\n",
      "count                     1686                    1686              1686   \n",
      "unique                    1223                    1437                53   \n",
      "top     3RQQmkQEvNCY4prGKE6oc5  6AI3ezQ4o3HUoP6Dhudph3            modern   \n",
      "freq                        16                       4               356   \n",
      "\n",
      "                  type             playlist_id  \n",
      "count             1686                    1686  \n",
      "unique               1                      72  \n",
      "top     audio_features  37i9dQZF1DX7F6T2n2fegs  \n",
      "freq              1686                     150  \n"
     ]
    }
   ],
   "source": [
    "df_categoricas = df.describe(include=[\"object\"])\n",
    "print(\"\\nColumnas categóricas:\\n\", df_categoricas)"
   ]
  },
  {
   "cell_type": "markdown",
   "metadata": {},
   "source": [
    "- Verifica si hay valores nulos en el dataset y calcula la proporción de valores nulos por columna."
   ]
  },
  {
   "cell_type": "code",
   "execution_count": 8,
   "metadata": {},
   "outputs": [
    {
     "name": "stdout",
     "output_type": "stream",
     "text": [
      "\n",
      "Proporción de valores nulos por columna:\n",
      " energy                      0.000000\n",
      "tempo                       0.000000\n",
      "danceability                0.000000\n",
      "playlist_genre              0.000000\n",
      "loudness                    0.000000\n",
      "liveness                    0.000000\n",
      "valence                     0.000000\n",
      "track_artist                0.000000\n",
      "time_signature              0.000000\n",
      "speechiness                 0.000000\n",
      "track_popularity            0.000000\n",
      "track_href                  0.000000\n",
      "uri                         0.000000\n",
      "track_album_name            0.000593\n",
      "playlist_name               0.000000\n",
      "analysis_url                0.000000\n",
      "track_id                    0.000000\n",
      "track_name                  0.000000\n",
      "track_album_release_date    0.000000\n",
      "instrumentalness            0.000000\n",
      "track_album_id              0.000000\n",
      "mode                        0.000000\n",
      "key                         0.000000\n",
      "duration_ms                 0.000000\n",
      "acousticness                0.000000\n",
      "id                          0.000000\n",
      "playlist_subgenre           0.000000\n",
      "type                        0.000000\n",
      "playlist_id                 0.000000\n",
      "dtype: float64\n"
     ]
    }
   ],
   "source": [
    "print(\"\\nProporción de valores nulos por columna:\\n\", df.isnull().sum() / len(df))"
   ]
  },
  {
   "cell_type": "markdown",
   "metadata": {},
   "source": [
    "- Verifica si hay filas duplicadas en el dataset y elimínalas dejando solo la primera aparición."
   ]
  },
  {
   "cell_type": "code",
   "execution_count": 9,
   "metadata": {},
   "outputs": [
    {
     "name": "stdout",
     "output_type": "stream",
     "text": [
      "Filas si están duplicadas o no\n",
      " 0       False\n",
      "1       False\n",
      "2       False\n",
      "3       False\n",
      "4       False\n",
      "        ...  \n",
      "1681    False\n",
      "1682    False\n",
      "1683    False\n",
      "1684    False\n",
      "1685    False\n",
      "Length: 1686, dtype: bool\n"
     ]
    }
   ],
   "source": [
    "print(\"Filas si están duplicadas o no\\n\", df.duplicated())"
   ]
  },
  {
   "cell_type": "code",
   "execution_count": 10,
   "metadata": {},
   "outputs": [
    {
     "name": "stdout",
     "output_type": "stream",
     "text": [
      "\n",
      "Dataset sin filas duplicadas con solo la primera aparición:       energy    tempo  danceability playlist_genre  loudness  liveness  \\\n",
      "0      0.592  157.969         0.521            pop    -7.777    0.1220   \n",
      "1      0.507  104.978         0.747            pop   -10.171    0.1170   \n",
      "2      0.808  108.548         0.554            pop    -4.169    0.1590   \n",
      "3      0.910  112.966         0.670            pop    -4.070    0.3040   \n",
      "4      0.783  149.027         0.777            pop    -4.477    0.3550   \n",
      "...      ...      ...           ...            ...       ...       ...   \n",
      "1681   0.422  124.357         0.573          latin    -7.621    0.1020   \n",
      "1682   0.725  105.016         0.711          latin    -8.315    0.1100   \n",
      "1683   0.809   99.005         0.724          latin    -5.022    0.0765   \n",
      "1684   0.642   83.389         0.463          latin    -4.474    0.0686   \n",
      "1685   0.890  126.881         0.645            pop    -4.985    0.3760   \n",
      "\n",
      "      valence               track_artist  time_signature  speechiness  ...  \\\n",
      "0       0.535      Lady Gaga, Bruno Mars               3       0.0304  ...   \n",
      "1       0.438              Billie Eilish               4       0.0358  ...   \n",
      "2       0.372              Gracie Abrams               4       0.0368  ...   \n",
      "3       0.786          Sabrina Carpenter               4       0.0634  ...   \n",
      "4       0.939           ROSÉ, Bruno Mars               4       0.2600  ...   \n",
      "...       ...                        ...             ...          ...  ...   \n",
      "1681    0.693                   Libianca               5       0.0678  ...   \n",
      "1682    0.530                   Omah Lay               4       0.0941  ...   \n",
      "1683    0.606               Davido, FAVE               4       0.0929  ...   \n",
      "1684    0.339        Future, Drake, Tems               4       0.3400  ...   \n",
      "1685    0.421  Alan Walker, Ina Wroldsen               4       0.1280  ...   \n",
      "\n",
      "      instrumentalness          track_album_id mode key duration_ms  \\\n",
      "0             0.000000  10FLjwfpbxLmW8c25Xyc2N    0   6      251668   \n",
      "1             0.060800  7aJuG4TFXa2hmE4z1yxc3n    1   2      210373   \n",
      "2             0.000000  0hBRqPYPXhr1RkTDG3n4Mk    1   1      166300   \n",
      "3             0.000000  4B4Elma4nNDUyl6D5PvQkj    0   0      157280   \n",
      "4             0.000000  2IYQwwgxgOIn7t3iF6ufFD    0   0      169917   \n",
      "...                ...                     ...  ...  ..         ...   \n",
      "1681          0.000013  5Hmh6N8oisrcuZKa8EY5dn    0  10      184791   \n",
      "1682          0.129000  5NLjxx8nRy9ooUmgpOvfem    0   3      183057   \n",
      "1683          0.000000  6lI21W76LD0S3vC55GrfSS    0   6      194040   \n",
      "1684          0.000000  6tE9Dnp2zInFij4jKssysL    1   1      189893   \n",
      "1685          0.000009  34yBJhr8zlBAHMEMSwrISN    1   6      205087   \n",
      "\n",
      "     acousticness                      id playlist_subgenre            type  \\\n",
      "0          0.3080  2plbrEY59IikOBgBGLjaoe        mainstream  audio_features   \n",
      "1          0.2000  6dOtVTDdiauQNBQEDOtlAB        mainstream  audio_features   \n",
      "2          0.2140  7ne4VBA60CxGM75vw0EYad        mainstream  audio_features   \n",
      "3          0.0939  1d7Ptw3qYcfpdLNL5REhtJ        mainstream  audio_features   \n",
      "4          0.0283  5vNRhkKd0yEAg8suGBpjeY        mainstream  audio_features   \n",
      "...           ...                     ...               ...             ...   \n",
      "1681       0.5510  26b3oVLrRUaaybJulow9kz        afro-latin  audio_features   \n",
      "1682       0.4240  1wADwLSkYhrSmy4vdy6BRn        afro-latin  audio_features   \n",
      "1683       0.1820  7vKXc90NT5WBm3UTT4iTVG        afro-latin  audio_features   \n",
      "1684       0.3140  59nOXPmaKlBfGMDeOVGrIK        afro-latin  audio_features   \n",
      "1685       0.2590  2GE3k8I0Sbh0puCjI15KGy            scandi  audio_features   \n",
      "\n",
      "                 playlist_id  \n",
      "0     37i9dQZF1DXcBWIGoYBM5M  \n",
      "1     37i9dQZF1DXcBWIGoYBM5M  \n",
      "2     37i9dQZF1DXcBWIGoYBM5M  \n",
      "3     37i9dQZF1DXcBWIGoYBM5M  \n",
      "4     37i9dQZF1DXcBWIGoYBM5M  \n",
      "...                      ...  \n",
      "1681  0oU30cCr8klmMsuOKHDLkh  \n",
      "1682  0oU30cCr8klmMsuOKHDLkh  \n",
      "1683  0oU30cCr8klmMsuOKHDLkh  \n",
      "1684  0oU30cCr8klmMsuOKHDLkh  \n",
      "1685  59z06GgF6TTDbm5cr1RZUC  \n",
      "\n",
      "[1686 rows x 29 columns]\n"
     ]
    }
   ],
   "source": [
    "print(\"\\nDataset sin filas duplicadas con solo la primera aparición:\", df.drop_duplicates(keep='first'))\n"
   ]
  },
  {
   "cell_type": "markdown",
   "metadata": {},
   "source": [
    "## Transformaciones y manipulaciones"
   ]
  },
  {
   "cell_type": "markdown",
   "metadata": {},
   "source": [
    "- Convierte la columna `track_album_release_date` al tipo de dato `datetime`."
   ]
  },
  {
   "cell_type": "code",
   "execution_count": 11,
   "metadata": {},
   "outputs": [
    {
     "name": "stdout",
     "output_type": "stream",
     "text": [
      "0       2024-08-16\n",
      "1       2024-05-17\n",
      "2       2024-10-18\n",
      "3       2024-08-23\n",
      "4       2024-10-18\n",
      "           ...    \n",
      "1681    2022-12-06\n",
      "1682    2022-07-14\n",
      "1683    2023-03-30\n",
      "1684    2022-04-29\n",
      "1685    2024-06-13\n",
      "Name: track_album_release_date, Length: 1686, dtype: object\n"
     ]
    },
    {
     "ename": "ValueError",
     "evalue": "time data \"1977\" doesn't match format \"%Y-%m-%d\", at position 58. You might want to try:\n    - passing `format` if your strings have a consistent format;\n    - passing `format='ISO8601'` if your strings are all ISO8601 but not necessarily in exactly the same format;\n    - passing `format='mixed'`, and the format will be inferred for each element individually. You might want to use `dayfirst` alongside this.",
     "output_type": "error",
     "traceback": [
      "\u001b[1;31m---------------------------------------------------------------------------\u001b[0m",
      "\u001b[1;31mValueError\u001b[0m                                Traceback (most recent call last)",
      "Cell \u001b[1;32mIn[11], line 3\u001b[0m\n\u001b[0;32m      1\u001b[0m \u001b[38;5;28mprint\u001b[39m(df[\u001b[38;5;124m\"\u001b[39m\u001b[38;5;124mtrack_album_release_date\u001b[39m\u001b[38;5;124m\"\u001b[39m])\n\u001b[1;32m----> 3\u001b[0m df[\u001b[38;5;124m\"\u001b[39m\u001b[38;5;124mtrack_album_release_date\u001b[39m\u001b[38;5;124m\"\u001b[39m] \u001b[38;5;241m=\u001b[39m \u001b[43mpd\u001b[49m\u001b[38;5;241;43m.\u001b[39;49m\u001b[43mto_datetime\u001b[49m\u001b[43m(\u001b[49m\u001b[43mdf\u001b[49m\u001b[43m[\u001b[49m\u001b[38;5;124;43m\"\u001b[39;49m\u001b[38;5;124;43mtrack_album_release_date\u001b[39;49m\u001b[38;5;124;43m\"\u001b[39;49m\u001b[43m]\u001b[49m\u001b[43m)\u001b[49m\n\u001b[0;32m      4\u001b[0m \u001b[38;5;28mprint\u001b[39m(\u001b[38;5;124m\"\u001b[39m\u001b[38;5;130;01m\\n\u001b[39;00m\u001b[38;5;124mDataset con `track_album_release_date` como datetime:\u001b[39m\u001b[38;5;130;01m\\n\u001b[39;00m\u001b[38;5;124m\"\u001b[39m, df)\n",
      "File \u001b[1;32mc:\\Users\\Eurobeater\\AppData\\Local\\Programs\\Python\\Python313\\Lib\\site-packages\\pandas\\core\\tools\\datetimes.py:1067\u001b[0m, in \u001b[0;36mto_datetime\u001b[1;34m(arg, errors, dayfirst, yearfirst, utc, format, exact, unit, infer_datetime_format, origin, cache)\u001b[0m\n\u001b[0;32m   1065\u001b[0m         result \u001b[38;5;241m=\u001b[39m arg\u001b[38;5;241m.\u001b[39mmap(cache_array)\n\u001b[0;32m   1066\u001b[0m     \u001b[38;5;28;01melse\u001b[39;00m:\n\u001b[1;32m-> 1067\u001b[0m         values \u001b[38;5;241m=\u001b[39m \u001b[43mconvert_listlike\u001b[49m\u001b[43m(\u001b[49m\u001b[43marg\u001b[49m\u001b[38;5;241;43m.\u001b[39;49m\u001b[43m_values\u001b[49m\u001b[43m,\u001b[49m\u001b[43m \u001b[49m\u001b[38;5;28;43mformat\u001b[39;49m\u001b[43m)\u001b[49m\n\u001b[0;32m   1068\u001b[0m         result \u001b[38;5;241m=\u001b[39m arg\u001b[38;5;241m.\u001b[39m_constructor(values, index\u001b[38;5;241m=\u001b[39marg\u001b[38;5;241m.\u001b[39mindex, name\u001b[38;5;241m=\u001b[39marg\u001b[38;5;241m.\u001b[39mname)\n\u001b[0;32m   1069\u001b[0m \u001b[38;5;28;01melif\u001b[39;00m \u001b[38;5;28misinstance\u001b[39m(arg, (ABCDataFrame, abc\u001b[38;5;241m.\u001b[39mMutableMapping)):\n",
      "File \u001b[1;32mc:\\Users\\Eurobeater\\AppData\\Local\\Programs\\Python\\Python313\\Lib\\site-packages\\pandas\\core\\tools\\datetimes.py:433\u001b[0m, in \u001b[0;36m_convert_listlike_datetimes\u001b[1;34m(arg, format, name, utc, unit, errors, dayfirst, yearfirst, exact)\u001b[0m\n\u001b[0;32m    431\u001b[0m \u001b[38;5;66;03m# `format` could be inferred, or user didn't ask for mixed-format parsing.\u001b[39;00m\n\u001b[0;32m    432\u001b[0m \u001b[38;5;28;01mif\u001b[39;00m \u001b[38;5;28mformat\u001b[39m \u001b[38;5;129;01mis\u001b[39;00m \u001b[38;5;129;01mnot\u001b[39;00m \u001b[38;5;28;01mNone\u001b[39;00m \u001b[38;5;129;01mand\u001b[39;00m \u001b[38;5;28mformat\u001b[39m \u001b[38;5;241m!=\u001b[39m \u001b[38;5;124m\"\u001b[39m\u001b[38;5;124mmixed\u001b[39m\u001b[38;5;124m\"\u001b[39m:\n\u001b[1;32m--> 433\u001b[0m     \u001b[38;5;28;01mreturn\u001b[39;00m \u001b[43m_array_strptime_with_fallback\u001b[49m\u001b[43m(\u001b[49m\u001b[43marg\u001b[49m\u001b[43m,\u001b[49m\u001b[43m \u001b[49m\u001b[43mname\u001b[49m\u001b[43m,\u001b[49m\u001b[43m \u001b[49m\u001b[43mutc\u001b[49m\u001b[43m,\u001b[49m\u001b[43m \u001b[49m\u001b[38;5;28;43mformat\u001b[39;49m\u001b[43m,\u001b[49m\u001b[43m \u001b[49m\u001b[43mexact\u001b[49m\u001b[43m,\u001b[49m\u001b[43m \u001b[49m\u001b[43merrors\u001b[49m\u001b[43m)\u001b[49m\n\u001b[0;32m    435\u001b[0m result, tz_parsed \u001b[38;5;241m=\u001b[39m objects_to_datetime64(\n\u001b[0;32m    436\u001b[0m     arg,\n\u001b[0;32m    437\u001b[0m     dayfirst\u001b[38;5;241m=\u001b[39mdayfirst,\n\u001b[1;32m   (...)\u001b[0m\n\u001b[0;32m    441\u001b[0m     allow_object\u001b[38;5;241m=\u001b[39m\u001b[38;5;28;01mTrue\u001b[39;00m,\n\u001b[0;32m    442\u001b[0m )\n\u001b[0;32m    444\u001b[0m \u001b[38;5;28;01mif\u001b[39;00m tz_parsed \u001b[38;5;129;01mis\u001b[39;00m \u001b[38;5;129;01mnot\u001b[39;00m \u001b[38;5;28;01mNone\u001b[39;00m:\n\u001b[0;32m    445\u001b[0m     \u001b[38;5;66;03m# We can take a shortcut since the datetime64 numpy array\u001b[39;00m\n\u001b[0;32m    446\u001b[0m     \u001b[38;5;66;03m# is in UTC\u001b[39;00m\n",
      "File \u001b[1;32mc:\\Users\\Eurobeater\\AppData\\Local\\Programs\\Python\\Python313\\Lib\\site-packages\\pandas\\core\\tools\\datetimes.py:467\u001b[0m, in \u001b[0;36m_array_strptime_with_fallback\u001b[1;34m(arg, name, utc, fmt, exact, errors)\u001b[0m\n\u001b[0;32m    456\u001b[0m \u001b[38;5;28;01mdef\u001b[39;00m \u001b[38;5;21m_array_strptime_with_fallback\u001b[39m(\n\u001b[0;32m    457\u001b[0m     arg,\n\u001b[0;32m    458\u001b[0m     name,\n\u001b[1;32m   (...)\u001b[0m\n\u001b[0;32m    462\u001b[0m     errors: \u001b[38;5;28mstr\u001b[39m,\n\u001b[0;32m    463\u001b[0m ) \u001b[38;5;241m-\u001b[39m\u001b[38;5;241m>\u001b[39m Index:\n\u001b[0;32m    464\u001b[0m \u001b[38;5;250m    \u001b[39m\u001b[38;5;124;03m\"\"\"\u001b[39;00m\n\u001b[0;32m    465\u001b[0m \u001b[38;5;124;03m    Call array_strptime, with fallback behavior depending on 'errors'.\u001b[39;00m\n\u001b[0;32m    466\u001b[0m \u001b[38;5;124;03m    \"\"\"\u001b[39;00m\n\u001b[1;32m--> 467\u001b[0m     result, tz_out \u001b[38;5;241m=\u001b[39m \u001b[43marray_strptime\u001b[49m\u001b[43m(\u001b[49m\u001b[43marg\u001b[49m\u001b[43m,\u001b[49m\u001b[43m \u001b[49m\u001b[43mfmt\u001b[49m\u001b[43m,\u001b[49m\u001b[43m \u001b[49m\u001b[43mexact\u001b[49m\u001b[38;5;241;43m=\u001b[39;49m\u001b[43mexact\u001b[49m\u001b[43m,\u001b[49m\u001b[43m \u001b[49m\u001b[43merrors\u001b[49m\u001b[38;5;241;43m=\u001b[39;49m\u001b[43merrors\u001b[49m\u001b[43m,\u001b[49m\u001b[43m \u001b[49m\u001b[43mutc\u001b[49m\u001b[38;5;241;43m=\u001b[39;49m\u001b[43mutc\u001b[49m\u001b[43m)\u001b[49m\n\u001b[0;32m    468\u001b[0m     \u001b[38;5;28;01mif\u001b[39;00m tz_out \u001b[38;5;129;01mis\u001b[39;00m \u001b[38;5;129;01mnot\u001b[39;00m \u001b[38;5;28;01mNone\u001b[39;00m:\n\u001b[0;32m    469\u001b[0m         unit \u001b[38;5;241m=\u001b[39m np\u001b[38;5;241m.\u001b[39mdatetime_data(result\u001b[38;5;241m.\u001b[39mdtype)[\u001b[38;5;241m0\u001b[39m]\n",
      "File \u001b[1;32mstrptime.pyx:501\u001b[0m, in \u001b[0;36mpandas._libs.tslibs.strptime.array_strptime\u001b[1;34m()\u001b[0m\n",
      "File \u001b[1;32mstrptime.pyx:451\u001b[0m, in \u001b[0;36mpandas._libs.tslibs.strptime.array_strptime\u001b[1;34m()\u001b[0m\n",
      "File \u001b[1;32mstrptime.pyx:583\u001b[0m, in \u001b[0;36mpandas._libs.tslibs.strptime._parse_with_format\u001b[1;34m()\u001b[0m\n",
      "\u001b[1;31mValueError\u001b[0m: time data \"1977\" doesn't match format \"%Y-%m-%d\", at position 58. You might want to try:\n    - passing `format` if your strings have a consistent format;\n    - passing `format='ISO8601'` if your strings are all ISO8601 but not necessarily in exactly the same format;\n    - passing `format='mixed'`, and the format will be inferred for each element individually. You might want to use `dayfirst` alongside this."
     ]
    }
   ],
   "source": [
    "print(df[\"track_album_release_date\"])\n",
    "\n",
    "df[\"track_album_release_date\"] = pd.to_datetime(df[\"track_album_release_date\"])\n",
    "print(\"\\nDataset con `track_album_release_date` como datetime:\\n\", df)"
   ]
  },
  {
   "cell_type": "markdown",
   "metadata": {},
   "source": [
    "- Reduce el tamaño de las columnas numéricas (`energy`, `tempo`, `duration_ms`) para optimizar el uso de memoria"
   ]
  },
  {
   "cell_type": "code",
   "execution_count": 41,
   "metadata": {},
   "outputs": [
    {
     "name": "stdout",
     "output_type": "stream",
     "text": [
      "Tipos de datos originales:\n",
      " energy         float64\n",
      "tempo          float64\n",
      "duration_ms      int64\n",
      "dtype: object\n",
      "\n",
      "Uso de memoria antes de optimización: Index            132\n",
      "energy         13488\n",
      "tempo          13488\n",
      "duration_ms    13488\n",
      "dtype: int64\n",
      "\n",
      "Uso de memoria después de la optimización:\n",
      " Index           132\n",
      "energy         6744\n",
      "tempo          6744\n",
      "duration_ms    6744\n",
      "dtype: int64\n",
      "\n",
      "DataFrame optimizado:\n",
      "       energy       tempo  duration_ms\n",
      "0      0.592  157.968994       251668\n",
      "1      0.507  104.977997       210373\n",
      "2      0.808  108.547997       166300\n",
      "3      0.910  112.966003       157280\n",
      "4      0.783  149.026993       169917\n",
      "...      ...         ...          ...\n",
      "1681   0.422  124.357002       184791\n",
      "1682   0.725  105.015999       183057\n",
      "1683   0.809   99.004997       194040\n",
      "1684   0.642   83.389000       189893\n",
      "1685   0.890  126.880997       205087\n",
      "\n",
      "[1686 rows x 3 columns]\n",
      "<class 'pandas.core.frame.DataFrame'>\n",
      "RangeIndex: 1686 entries, 0 to 1685\n",
      "Data columns (total 3 columns):\n",
      " #   Column       Non-Null Count  Dtype  \n",
      "---  ------       --------------  -----  \n",
      " 0   energy       1686 non-null   float32\n",
      " 1   tempo        1686 non-null   float32\n",
      " 2   duration_ms  1686 non-null   int32  \n",
      "dtypes: float32(2), int32(1)\n",
      "memory usage: 19.9 KB\n",
      "\n",
      "Información general:\n",
      " None\n"
     ]
    }
   ],
   "source": [
    "print(\"Tipos de datos originales:\\n\", df[[\"energy\", \"tempo\", \"duration_ms\"]].dtypes)\n",
    "print(\"\\nUso de memoria antes de optimización:\", df[[\"energy\", \"tempo\", \"duration_ms\"]].memory_usage(deep=True))\n",
    "\n",
    "df_optimized = pd.read_csv(\n",
    "    \"data/high_popularity_spotify_data.csv\",\n",
    "    usecols=[\"energy\", \"tempo\", \"duration_ms\"],\n",
    "    dtype={\n",
    "        \"energy\": \"float32\",\n",
    "        \"tempo\": \"float32\",\n",
    "        \"duration_ms\": \"int32\",\n",
    "    }\n",
    ")\n",
    "\n",
    "print(\"\\nUso de memoria después de la optimización:\\n\", df_optimized.memory_usage(deep=True))  # Fixed line\n",
    "print(\"\\nDataFrame optimizado:\\n\", df_optimized)\n",
    "print(\"\\nInformación general:\\n\", df_optimized.info())\n"
   ]
  },
  {
   "cell_type": "markdown",
   "metadata": {},
   "source": [
    "- Extrae el nombre del primer artista de la columna `track_artist`."
   ]
  },
  {
   "cell_type": "code",
   "execution_count": 45,
   "metadata": {},
   "outputs": [
    {
     "name": "stdout",
     "output_type": "stream",
     "text": [
      "Lady Gaga\n"
     ]
    }
   ],
   "source": [
    "primer_artista = df.loc[0, \"track_artist\"]\n",
    "# primer_artista = df.loc[0, \"track_artist\"].split(\",\")[0]\n",
    "print(primer_artista)"
   ]
  },
  {
   "cell_type": "markdown",
   "metadata": {},
   "source": [
    "- Crea una nueva columna que contenga únicamente el género (`playlist_genre`) en mayúsculas."
   ]
  },
  {
   "cell_type": "code",
   "execution_count": 19,
   "metadata": {},
   "outputs": [
    {
     "name": "stdout",
     "output_type": "stream",
     "text": [
      "\n",
      "Géneros por defecto:\n",
      " 0         pop\n",
      "1         pop\n",
      "2         pop\n",
      "3         pop\n",
      "4         pop\n",
      "        ...  \n",
      "1681    latin\n",
      "1682    latin\n",
      "1683    latin\n",
      "1684    latin\n",
      "1685      pop\n",
      "Name: playlist_genre, Length: 1686, dtype: object\n",
      "\n",
      "Géneros en mayúsculas:\n",
      " 0         POP\n",
      "1         POP\n",
      "2         POP\n",
      "3         POP\n",
      "4         POP\n",
      "        ...  \n",
      "1681    LATIN\n",
      "1682    LATIN\n",
      "1683    LATIN\n",
      "1684    LATIN\n",
      "1685      POP\n",
      "Name: playlist_genre_upper, Length: 1686, dtype: object\n"
     ]
    }
   ],
   "source": [
    "df = pd.read_csv(\"data/high_popularity_spotify_data.csv\")\n",
    "df['playlist_genre_upper'] = df['playlist_genre'].str.upper()\n",
    "\n",
    "print(\"\\nGéneros por defecto:\\n\", df[\"playlist_genre\"])\n",
    "print(\"\\nGéneros en mayúsculas:\\n\", df[\"playlist_genre_upper\"])\n"
   ]
  },
  {
   "cell_type": "markdown",
   "metadata": {},
   "source": [
    "- Calcula el 'nivel de energía ajustado', definiéndolo como: `energy` × `valence`."
   ]
  },
  {
   "cell_type": "code",
   "execution_count": 25,
   "metadata": {},
   "outputs": [
    {
     "name": "stdout",
     "output_type": "stream",
     "text": [
      "\n",
      "Nivel de energía ajustado:\n",
      "    energy  valence  adjusted_energy\n",
      "0   0.592    0.535         0.316720\n",
      "1   0.507    0.438         0.222066\n",
      "2   0.808    0.372         0.300576\n",
      "3   0.910    0.786         0.715260\n",
      "4   0.783    0.939         0.735237\n"
     ]
    }
   ],
   "source": [
    "df['adjusted_energy'] = df['energy'] * df['valence']\n",
    "\n",
    "print(\"\\nNivel de energía ajustado:\\n\", df[['energy', 'valence', 'adjusted_energy']].head())"
   ]
  },
  {
   "cell_type": "markdown",
   "metadata": {},
   "source": [
    "- Convierte la duración de las canciones (`duration_ms`) de milisegundos a minutos y guárdalo en una nueva columna."
   ]
  },
  {
   "cell_type": "code",
   "execution_count": 26,
   "metadata": {},
   "outputs": [
    {
     "name": "stdout",
     "output_type": "stream",
     "text": [
      "\n",
      "Duración en ms a minutos:\n",
      "    duration_ms  duration_min\n",
      "0       251668      4.194467\n",
      "1       210373      3.506217\n",
      "2       166300      2.771667\n",
      "3       157280      2.621333\n",
      "4       169917      2.831950\n"
     ]
    }
   ],
   "source": [
    "df['duration_min'] = df['duration_ms'] / 60000\n",
    "print(\"\\nDuración en ms a minutos:\\n\", df[['duration_ms', 'duration_min']].head())"
   ]
  }
 ],
 "metadata": {
  "kernelspec": {
   "display_name": "Python 3",
   "language": "python",
   "name": "python3"
  },
  "language_info": {
   "codemirror_mode": {
    "name": "ipython",
    "version": 3
   },
   "file_extension": ".py",
   "mimetype": "text/x-python",
   "name": "python",
   "nbconvert_exporter": "python",
   "pygments_lexer": "ipython3",
   "version": "3.13.0"
  }
 },
 "nbformat": 4,
 "nbformat_minor": 2
}
