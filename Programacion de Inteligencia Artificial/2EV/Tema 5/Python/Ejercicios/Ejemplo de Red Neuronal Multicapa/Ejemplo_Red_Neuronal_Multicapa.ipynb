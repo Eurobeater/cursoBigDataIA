{
  "cells": [
    {
      "cell_type": "code",
      "execution_count": 4,
      "metadata": {
        "id": "OYT1ubo0n1AR"
      },
      "outputs": [],
      "source": [
        "import numpy as np"
      ]
    },
    {
      "cell_type": "code",
      "execution_count": 5,
      "metadata": {
        "id": "yPH-gy2WoEMB"
      },
      "outputs": [],
      "source": [
        "class NetNode(object):\n",
        "    \"\"\" Base class that represents a node in a neural net \"\"\"\n",
        "\n",
        "    def __init__(self):\n",
        "        self.inputs = []\n",
        "        self.weights = []\n",
        "        self.value = None"
      ]
    },
    {
      "cell_type": "code",
      "execution_count": 6,
      "metadata": {
        "id": "axystQQEpnjL"
      },
      "outputs": [],
      "source": [
        "class Network(object):\n",
        "    \"\"\" Main class to construct ant train neural networks \"\"\"\n",
        "\n",
        "    def __init__(self, layers):\n",
        "        \"\"\"\n",
        "        Parameters\n",
        "        ----------\n",
        "        layers:\n",
        "            A list that represents the neurons and layers of the network.\n",
        "            For example, [2, 3, 1] represents a network with 3 layers:\n",
        "            - input layer: 2 neurons.\n",
        "            - hidden layer: 3 neurons.\n",
        "            - output layer: 1 neuron.\n",
        "        \"\"\"\n",
        "        self.net = [[NetNode() for _ in range(size)] for size in layers]\n",
        "\n",
        "        sizes = len(layers)\n",
        "\n",
        "        # Make connections\n",
        "        for layer in range(1, sizes):\n",
        "            for node in self.net[layer]:\n",
        "                for unit in self.net[layer - 1]:\n",
        "                    node.inputs.append(unit)\n",
        "                    node.weights.append(0)\n",
        "\n",
        "    def relu(self, z):\n",
        "        \"\"\" Relu activation function \"\"\"\n",
        "        return max(0, z)\n",
        "\n",
        "    def relu_prime(self, z):\n",
        "        \"\"\" Derivative of relu activation function \"\"\"\n",
        "        return 1 if z > 0 else 0\n",
        "\n",
        "    def predict(self, input_data):\n",
        "        inputs = self.net[0]\n",
        "\n",
        "        # Initialize inputs\n",
        "        for v, n in zip(input_data, inputs):\n",
        "            n.value = v\n",
        "\n",
        "        # Forward step\n",
        "        for layer in self.net[1:]:\n",
        "            for node in layer:\n",
        "                in_val = [n.value for n in node.inputs]\n",
        "                unit_value = np.dot(in_val, node.weights)\n",
        "                node.value = self.relu(unit_value)\n",
        "\n",
        "        outputs = self.net[-1]\n",
        "        return outputs.index(max(outputs, key=lambda node: node.value))\n",
        "\n",
        "    def accuracy(self, examples):\n",
        "        correct = 0\n",
        "\n",
        "        for x_test, y_test in examples:\n",
        "            prediction = self.predict(x_test)\n",
        "\n",
        "            if (y_test[prediction] == 1):\n",
        "                correct += 1\n",
        "\n",
        "        return correct / len(examples)\n",
        "\n",
        "    def backpropagation(self, eta, examples, epochs):\n",
        "        inputs = self.net[0]\n",
        "        outputs = self.net[-1]\n",
        "        layer_size = len(self.net)\n",
        "\n",
        "        # Initialize weights\n",
        "        for layer in self.net[1:]:\n",
        "            for node in layer:\n",
        "                node.weights = [np.random.uniform()\n",
        "                                for _ in range(len(node.weights))]\n",
        "\n",
        "        for epoch in range(epochs):\n",
        "            for x_train, y_train in examples:\n",
        "                # Initialize inputs\n",
        "                for value, node in zip(x_train, inputs):\n",
        "                    node.value = value\n",
        "\n",
        "                # Forward step\n",
        "                for layer in self.net[1:]:\n",
        "                    for node in layer:\n",
        "                        in_val = [n.value for n in node.inputs]\n",
        "                        unit_value = np.dot(in_val, node.weights)\n",
        "                        node.value = self.relu(unit_value)\n",
        "\n",
        "                # Initialize delta\n",
        "                delta = [[] for _ in range(layer_size)]\n",
        "\n",
        "                # Error for the MSE cost function\n",
        "                err = [y_train[i] -\n",
        "                       outputs[i].value for i in range(len(outputs))]\n",
        "\n",
        "                delta[-1] = [self.relu_prime(outputs[i].value) * err[i]\n",
        "                             for i in range(len(outputs))]\n",
        "\n",
        "                # Backward step\n",
        "                hidden_layers = layer_size - 2\n",
        "                for i in range(hidden_layers, 0, -1):\n",
        "                    layer = self.net[i]\n",
        "                    n_layers = len(layer)\n",
        "\n",
        "                    # Weights from the last layer\n",
        "                    w = [[node.weights[l] for node in self.net[i + 1]]\n",
        "                         for l in range(n_layers)]\n",
        "\n",
        "                    delta[i] = [self.relu_prime(\n",
        "                        layer[j].value) * np.dot(w[j], delta[i + 1]) for j in range(n_layers)]\n",
        "\n",
        "                # Update weights\n",
        "                for i in range(1, layer_size):\n",
        "                    layer = self.net[i]\n",
        "                    in_val = [node.value for node in self.net[i - 1]]\n",
        "                    n_layers = len(self.net[i])\n",
        "                    for j in range(n_layers):\n",
        "                        layer[j].weights = np.add(\n",
        "                            layer[j].weights, np.multiply(eta * delta[i][j], in_val))\n",
        "\n",
        "            print(\n",
        "                f\"epoch {epoch}/{epochs} | total error={np.sum(err)/len(examples)}\")\n"
      ]
    },
    {
      "cell_type": "code",
      "execution_count": 7,
      "metadata": {
        "id": "IVu3NqFcIvLy"
      },
      "outputs": [
        {
          "ename": "ModuleNotFoundError",
          "evalue": "No module named 'keras'",
          "output_type": "error",
          "traceback": [
            "\u001b[1;31m---------------------------------------------------------------------------\u001b[0m",
            "\u001b[1;31mModuleNotFoundError\u001b[0m                       Traceback (most recent call last)",
            "Cell \u001b[1;32mIn[7], line 5\u001b[0m\n\u001b[0;32m      3\u001b[0m \u001b[38;5;28;01mfrom\u001b[39;00m \u001b[38;5;21;01msklearn\u001b[39;00m\u001b[38;5;21;01m.\u001b[39;00m\u001b[38;5;21;01mmodel_selection\u001b[39;00m \u001b[38;5;28;01mimport\u001b[39;00m train_test_split\n\u001b[0;32m      4\u001b[0m \u001b[38;5;66;03m# from keras.utils import np_utils\u001b[39;00m\n\u001b[1;32m----> 5\u001b[0m \u001b[38;5;28;01mfrom\u001b[39;00m \u001b[38;5;21;01mkeras\u001b[39;00m\u001b[38;5;21;01m.\u001b[39;00m\u001b[38;5;21;01mutils\u001b[39;00m \u001b[38;5;28;01mimport\u001b[39;00m to_categorical\n",
            "\u001b[1;31mModuleNotFoundError\u001b[0m: No module named 'keras'"
          ]
        }
      ],
      "source": [
        "from sklearn import datasets\n",
        "from sklearn.preprocessing import normalize\n",
        "from sklearn.model_selection import train_test_split\n",
        "# from keras.utils import np_utils\n",
        "from keras.utils import to_categorical"
      ]
    },
    {
      "cell_type": "code",
      "execution_count": null,
      "metadata": {
        "id": "IAK3KrAJI1W2"
      },
      "outputs": [],
      "source": [
        "# import data to play with\n",
        "iris_X, iris_y = datasets.load_iris(return_X_y=True)"
      ]
    },
    {
      "cell_type": "code",
      "execution_count": null,
      "metadata": {
        "id": "RjdRoh7TVRpP"
      },
      "outputs": [],
      "source": [
        "# First 10 elements of input data\n",
        "iris_X[:10]"
      ]
    },
    {
      "cell_type": "code",
      "execution_count": null,
      "metadata": {
        "id": "P4xiB-m_VsYe"
      },
      "outputs": [],
      "source": [
        "# First 10 elements of output data\n",
        "iris_y[:10]"
      ]
    },
    {
      "cell_type": "code",
      "execution_count": null,
      "metadata": {
        "id": "z7xTNaOELN3a"
      },
      "outputs": [],
      "source": [
        "iris_x_normalized = normalize(iris_X, axis=0)"
      ]
    },
    {
      "cell_type": "code",
      "execution_count": null,
      "metadata": {
        "id": "tACz7erfLWM_"
      },
      "outputs": [],
      "source": [
        "# Creating train and test data\n",
        "'''\n",
        "80% -- train data\n",
        "20% -- test data\n",
        "'''\n",
        "X_train, X_test, y_train, y_test = train_test_split(\n",
        "    iris_x_normalized, iris_y, test_size=0.2, shuffle=True)"
      ]
    },
    {
      "cell_type": "code",
      "execution_count": null,
      "metadata": {
        "id": "HWdy34sgLZ9f"
      },
      "outputs": [],
      "source": [
        "# Convert classes from categorical ('Setosa', 'Versicolor', 'Virginica')\n",
        "# to numerical (0, 1, 2) and then to one-hot encoded ([1, 0, 0], [0, 1, 0], [0, 0, 1]).\n",
        "'''\n",
        "[0]--->[1 0 0]\n",
        "[1]--->[0 1 0]\n",
        "[2]--->[0 0 1]\n",
        "'''\n",
        "# y_train = np_utils.to_categorical(y_train, num_classes=3)\n",
        "# y_test = np_utils.to_categorical(y_test, num_classes=3)\n",
        "y_train = to_categorical(y_train, num_classes=3)\n",
        "y_test = to_categorical(y_test, num_classes=3)"
      ]
    },
    {
      "cell_type": "code",
      "execution_count": null,
      "metadata": {
        "id": "PRHAtZlJLmiO"
      },
      "outputs": [],
      "source": [
        "examples = []\n",
        "for i in range(len(X_train)):\n",
        "    examples.append([X_train[i], y_train[i]])"
      ]
    },
    {
      "cell_type": "code",
      "execution_count": null,
      "metadata": {
        "id": "n3M2ZcEjLvcS"
      },
      "outputs": [],
      "source": [
        "net = Network([4, 7, 3])\n",
        "net.backpropagation(0.1, examples, 500)"
      ]
    },
    {
      "cell_type": "code",
      "execution_count": null,
      "metadata": {
        "id": "ljBLb96oL5hY"
      },
      "outputs": [],
      "source": [
        "examples = []\n",
        "for i in range(len(X_test)):\n",
        "    examples.append([X_test[i], y_test[i]])\n"
      ]
    },
    {
      "cell_type": "code",
      "execution_count": null,
      "metadata": {
        "id": "uuuZsMzJL-wK"
      },
      "outputs": [],
      "source": [
        "accuracy = net.accuracy(examples)\n",
        "print(f\"Accuracy: {accuracy}\")"
      ]
    },
    {
      "cell_type": "code",
      "execution_count": null,
      "metadata": {
        "id": "PXFqRhWfMA-3"
      },
      "outputs": [],
      "source": [
        "prediction = net.predict(X_test[1])\n",
        "print(f\"Desired output: {y_test[1]}\")\n",
        "print(f\"Index of output: {prediction}\")"
      ]
    }
  ],
  "metadata": {
    "colab": {
      "provenance": []
    },
    "kernelspec": {
      "display_name": "base",
      "language": "python",
      "name": "python3"
    },
    "language_info": {
      "codemirror_mode": {
        "name": "ipython",
        "version": 3
      },
      "file_extension": ".py",
      "mimetype": "text/x-python",
      "name": "python",
      "nbconvert_exporter": "python",
      "pygments_lexer": "ipython3",
      "version": "3.12.7"
    }
  },
  "nbformat": 4,
  "nbformat_minor": 0
}
