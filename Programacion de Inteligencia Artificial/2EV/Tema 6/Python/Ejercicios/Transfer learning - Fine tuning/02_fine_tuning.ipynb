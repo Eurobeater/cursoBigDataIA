{
 "cells": [
  {
   "metadata": {},
   "cell_type": "markdown",
   "source": [
    "## Haciendo ajuste fino de un modelo existente\n",
    "\n",
    "\n",
    "\n",
    "**Aprendizaje por transferencia de ajuste fino (fine tuning)** es cuando tomas los patrones subyacentes (también llamados pesos) de un modelo preentrenado y los ajustas (afinas) a tu propio problema.\n",
    "\n",
    "    * Esto generalmente significa entrenar **algunas, muchas o todas** las capas en el modelo preentrenado. Esto es útil cuando tienes un conjunto de datos grande (por ejemplo, más de 100 imágenes por clase) donde tus datos son ligeramente diferentes a los datos con los que el modelo original fue entrenado.\n",
    "\n",
    "Un flujo de trabajo común es \"congelar\" todos los patrones aprendidos en las capas inferiores de un modelo preentrenado para que no se puedan entrenar. Y luego entrenar las 2-3 capas superiores para que el modelo preentrenado pueda ajustar sus salidas a tus datos personalizados (**extracción de características**).\n",
    "\n",
    "Después de haber entrenado las 2-3 capas superiores, puedes gradualmente \"descongelar\" más y más capas y ejecutar el proceso de entrenamiento en tus propios datos para afinar aún más el modelo preentrenado.\n",
    "\n",
    "\n",
    "![image.png](transfer_learning.png)  \n"
   ],
   "id": "2ceaa8a7dd60e9dc"
  },
  {
   "metadata": {},
   "cell_type": "code",
   "source": [
    "import tensorflow as tf\n",
    "print(tf.__version__)\n",
    "import os\n",
    "os.environ['TF_CPP_MIN_LOG_LEVEL'] = '3' "
   ],
   "id": "471d22ee88027c1a",
   "outputs": [],
   "execution_count": null
  },
  {
   "metadata": {},
   "cell_type": "code",
   "source": [
    "# En primer lugar, vamos a cargar nuestro dataset\n",
    "\n",
    "# Definir la forma de la imagen y el tamaño del lote\n",
    "IMAGE_SHAPE = (224, 224)\n",
    "BATCH_SIZE = 32\n",
    "\n",
    "# Directorios para los conjuntos de datos de entrenamiento y prueba\n",
    "train_dir = \"./10_food_classes_10_percent/train/\"\n",
    "test_dir = \"./10_food_classes_10_percent/test/\"\n",
    "\n",
    "# Crea el conjunto de datos de entrenamiento\n",
    "\n",
    "\n",
    "# Crea el conjunto de datos de prueba\n",
    "\n"
   ],
   "id": "8665cd1228951d48",
   "outputs": [],
   "execution_count": null
  },
  {
   "metadata": {},
   "cell_type": "code",
   "source": "efficientnet_url = \"https://www.kaggle.com/models/google/efficientnet-v2/tensorFlow2/imagenet1k-b0-feature-vector/2\"",
   "id": "b95be2b15dc324e3",
   "outputs": [],
   "execution_count": null
  },
  {
   "metadata": {},
   "cell_type": "code",
   "source": "# NOTA: cargar el feature-vector implica que quitamos la parte top del clasificador para añadir la nuestra, además, feature-vector significa que la última capa nos da un GlobalAveragePooling como resumen de las capacidades que ha aprendido el modelo",
   "id": "377b1ddfa7021d8",
   "outputs": [],
   "execution_count": null
  },
  {
   "metadata": {},
   "cell_type": "code",
   "source": [
    "def create_model(model_url, num_classes=10):\n",
    "    \"\"\"Crea un modelo funcional de Keras basado en EfficientNetV2B0.\"\"\"\n",
    "\n",
    "    # Añade la capa de Input \n",
    "    \n",
    "    # Añade capas de aumentación (RandomFlip, RandomRotation,RandomZoom,RandomHeight, RandomWidth\n",
    "\n",
    "    # Carga el modelo base preentrenado de tf.keras.applications.efficientnet_v2.EfficientNetV2B0\n",
    "\n",
    "    # Congela los parámetros del modelo base\n",
    "    \n",
    "    # Pasa los datos aumentados por el modelo base\n",
    "    \n",
    "    # Agrega una capa de pooling global \"Vector de características\"\n",
    "    \n",
    "    # Agrega una capa de salida densa\n",
    "\n",
    "    # Crea el modelo final con tf.keras.Model\n",
    "    \n",
    "\n",
    "    return model\n"
   ],
   "id": "7476ecc726d72511",
   "outputs": [],
   "execution_count": null
  },
  {
   "metadata": {},
   "cell_type": "code",
   "source": "# Cream el modelo y compílalo\n",
   "id": "2c6fea3ecc0470c9",
   "outputs": [],
   "execution_count": null
  },
  {
   "metadata": {},
   "cell_type": "code",
   "source": "# saca un resumen del modelo",
   "id": "66b6540ff1d7cfa5",
   "outputs": [],
   "execution_count": null
  },
  {
   "metadata": {},
   "cell_type": "code",
   "source": "# examinama las capas del modelo con el atributo layers\n",
   "id": "5d7867fd694be5fd",
   "outputs": [],
   "execution_count": null
  },
  {
   "metadata": {},
   "cell_type": "code",
   "source": "# recorre las capas mostrando el nombre, el tipo y si es o no entrenable ",
   "id": "2fb2d09c8ba958dc",
   "outputs": [],
   "execution_count": null
  },
  {
   "metadata": {},
   "cell_type": "code",
   "source": "# Quédate con una referencia a efficientnetv2-b0 (capa 6)\n",
   "id": "3f89bc0498765f35",
   "outputs": [],
   "execution_count": null
  },
  {
   "metadata": {},
   "cell_type": "code",
   "source": [
    "# Acceder a las capas internas del modelo base e imprímelas por pantalla\n",
    "\n"
   ],
   "id": "8b36d7d6e132a0a",
   "outputs": [],
   "execution_count": null
  },
  {
   "metadata": {},
   "cell_type": "code",
   "source": "# saca un summary() del modelo base",
   "id": "2caaabe123f062b7",
   "outputs": [],
   "execution_count": null
  },
  {
   "metadata": {},
   "cell_type": "code",
   "source": "# ¿Cuántas capas entrenables hay en nuestro modelo?\n",
   "id": "624c36e5fe275d4d",
   "outputs": [],
   "execution_count": null
  },
  {
   "metadata": {},
   "cell_type": "markdown",
   "source": [
    "## Procedimiento:\n",
    "\n",
    "### PASO 1: Entrenamiento Inicial del Clasificador:\n",
    "Entrenar primero solo el clasificador permite que las últimas capas (generalmente inicializadas aleatoriamente) aprendan a mapear las características extraídas por el modelo base preentrenado a tus clases objetivo. Esto ayuda a estabilizar el modelo y reduce el riesgo de grandes actualizaciones de gradiente que puedan desajustar los pesos preentrenados.\n",
    "\n",
    "### Paso 2: Fine-Tuning Controlado:\n",
    "Una vez que el clasificador está bien entrenado, puedes descongelar las capas superiores del modelo base para realizar fine-tuning. Esto ajusta los patrones del modelo base para que se adapten mejor a tus datos específicos, pero manteniendo gran parte del conocimiento preentrenado."
   ],
   "id": "438ba56159fbc48e"
  },
  {
   "metadata": {},
   "cell_type": "code",
   "source": "#PASO 1, entrena por 5 épocas\n",
   "id": "7c7914c27f5045",
   "outputs": [],
   "execution_count": null
  },
  {
   "metadata": {},
   "cell_type": "code",
   "source": [
    "# PASO 2: cambia el modelo base a entrenable (trainable=True)\n",
    "\n",
    "\n",
    "# congela todas las capas menos las últimas 10\n",
    "\n",
    "# Recompila todo el modelo utilizando un learning_rate de 0.00001\n"
   ],
   "id": "fc4b0747f98d3ded",
   "outputs": [],
   "execution_count": null
  },
  {
   "metadata": {},
   "cell_type": "code",
   "source": "# ¿Cuántas capas entrenables hay ahora en nuestro modelo?\n",
   "id": "b88db871ce0acaee",
   "outputs": [],
   "execution_count": null
  },
  {
   "metadata": {},
   "cell_type": "code",
   "source": [
    "# entrena otras 5 épocas más, pero comenzando desde el entrenamiento base, es decir epochs=10, initial_epoch=5\n",
    "# esta vez utiliza validation_steps=int(0.25*len(test_dataset)\n"
   ],
   "id": "9eadd2b0201e7c80",
   "outputs": [],
   "execution_count": null
  },
  {
   "metadata": {},
   "cell_type": "code",
   "source": "# evalua los resultados del nuevo modelo\n",
   "id": "67094706fe834436",
   "outputs": [],
   "execution_count": null
  }
 ],
 "metadata": {
  "kernelspec": {
   "display_name": "Python 3",
   "language": "python",
   "name": "python3"
  },
  "language_info": {
   "codemirror_mode": {
    "name": "ipython",
    "version": 2
   },
   "file_extension": ".py",
   "mimetype": "text/x-python",
   "name": "python",
   "nbconvert_exporter": "python",
   "pygments_lexer": "ipython2",
   "version": "2.7.6"
  }
 },
 "nbformat": 4,
 "nbformat_minor": 5
}
