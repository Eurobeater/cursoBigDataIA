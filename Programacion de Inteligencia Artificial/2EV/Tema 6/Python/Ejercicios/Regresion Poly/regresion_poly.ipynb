{
 "cells": [
  {
   "cell_type": "code",
   "id": "initial_id",
   "metadata": {
    "collapsed": true,
    "ExecuteTime": {
     "end_time": "2024-11-30T07:40:12.315720Z",
     "start_time": "2024-11-30T07:40:12.307283Z"
    }
   },
   "source": [
    "# Con el siguiente código...\n",
    "\n",
    "import torch\n",
    "torch.manual_seed(seed=42) \n",
    "POLY_DEGREE = 4\n",
    "W_target = torch.randn(POLY_DEGREE, 1) * 5\n",
    "b_target = torch.randn(1) * 5\n",
    "\n",
    "def make_features(x):\n",
    "    \"\"\"Construye características, estilo un vector [x, x^2, x^3, x^4].\"\"\"\n",
    "    x = x.unsqueeze(1)\n",
    "    return torch.cat([x ** i for i in range(1, POLY_DEGREE+1)], 1)\n",
    "\n",
    "def f(x):\n",
    "    \"\"\"Función de aproximación.\"\"\"\n",
    "    return x.mm(W_target) + b_target.item()\n",
    "\n",
    "def poly_desc(W, b):\n",
    "    \"\"\"Descripción del polinomio en str.\"\"\"\n",
    "    result = 'y = '\n",
    "    for i, w in enumerate(W):\n",
    "        result += '{:+.2f} x^{} '.format(w, i + 1)\n",
    "    result += '{:+.2f}'.format(b[0])\n",
    "    return result\n",
    "\n",
    "\n",
    "def get_batch(batch_size=32):\n",
    "    \"\"\"Construye batches en parejas (x, f(x)).\"\"\"\n",
    "    random = torch.randn(batch_size)\n",
    "    x = make_features(random)\n",
    "    y = f(x)\n",
    "    return x, y\n",
    "\n",
    "\n"
   ],
   "outputs": [],
   "execution_count": 4
  },
  {
   "metadata": {
    "ExecuteTime": {
     "end_time": "2024-11-30T07:43:25.734297Z",
     "start_time": "2024-11-30T07:43:25.728293Z"
    }
   },
   "cell_type": "code",
   "source": "# examina W_target\n",
   "id": "4d1a7070ca519dc6",
   "outputs": [],
   "execution_count": 7
  },
  {
   "metadata": {
    "ExecuteTime": {
     "end_time": "2024-11-30T07:43:29.007314Z",
     "start_time": "2024-11-30T07:43:29.004218Z"
    }
   },
   "cell_type": "code",
   "source": "# Cambia la vista para verlo como un vector\n",
   "id": "ae7889328fbb8a67",
   "outputs": [],
   "execution_count": 8
  },
  {
   "metadata": {
    "ExecuteTime": {
     "end_time": "2024-11-30T07:43:31.608555Z",
     "start_time": "2024-11-30T07:43:31.592422Z"
    }
   },
   "cell_type": "code",
   "source": "# examina b_target\n",
   "id": "a93bbfaae5d09769",
   "outputs": [],
   "execution_count": 9
  },
  {
   "metadata": {
    "ExecuteTime": {
     "end_time": "2024-11-30T07:43:41.348350Z",
     "start_time": "2024-11-30T07:43:41.335039Z"
    }
   },
   "cell_type": "code",
   "source": "# Imprime la descripción del polinomio\n",
   "id": "1ac91a22d1d7bb05",
   "outputs": [],
   "execution_count": 10
  },
  {
   "metadata": {
    "ExecuteTime": {
     "end_time": "2024-11-30T07:43:46.648937Z",
     "start_time": "2024-11-30T07:43:46.638131Z"
    }
   },
   "cell_type": "code",
   "source": [
    "# Crea un conjunto de muestras X en el rango de -2 a 2, con pasos de 0.1\n",
    "\n",
    "\n",
    "# invoca a la función make_features para crear las y\n",
    "\n",
    "\n",
    "# dibuja con matplotlib el polinomio con X e y\n"
   ],
   "id": "d55511d7ac12d4e8",
   "outputs": [],
   "execution_count": 11
  },
  {
   "metadata": {
    "ExecuteTime": {
     "end_time": "2024-11-21T16:08:17.676799Z",
     "start_time": "2024-11-21T16:08:17.672773Z"
    }
   },
   "cell_type": "code",
   "source": [
    "# Crea la clase Aproximador de polinomios con capa de entrada de 4 unidades, \n",
    "# capa densa de 10 unidades y capa de salida de una unidad (regresión)\n",
    "    "
   ],
   "id": "81ec0f6fb030ab5",
   "outputs": [],
   "execution_count": 84
  },
  {
   "metadata": {
    "ExecuteTime": {
     "end_time": "2024-11-30T07:45:30.018257Z",
     "start_time": "2024-11-30T07:45:30.002117Z"
    }
   },
   "cell_type": "code",
   "source": [
    "# crea los siguientes elementos\n",
    "# a) una instancia del modelo\n",
    "# b) un optimizador Adam (torch.optim.Adam())\n",
    "# c) una función de pérdida torch.nn.MSELoss()\n",
    "\n",
    "\n",
    "\n",
    "\n",
    "# pon el modelo en modo entrenamiento\n",
    "\n",
    "\n",
    "\n",
    "# entrena el modelo 200 épocas con 4 batches\n",
    "\n"
   ],
   "id": "8afb0ee34120d87f",
   "outputs": [],
   "execution_count": 12
  },
  {
   "metadata": {
    "ExecuteTime": {
     "end_time": "2024-11-30T07:52:07.153128Z",
     "start_time": "2024-11-30T07:52:07.146767Z"
    }
   },
   "cell_type": "code",
   "source": [
    "# Evalúa el modelo \n",
    "\n",
    "# Visualiza con matplotlib las predicciones en rojo y las y verdades en azul \n",
    "\n"
   ],
   "id": "250ab49b748c7a18",
   "outputs": [],
   "execution_count": 13
  },
  {
   "metadata": {},
   "cell_type": "markdown",
   "source": [
    "### Ahora tu, prueba a crear tu modelo AproximadorPolinomios0 con un esquema más sencillo\n",
    "#### Entrena, evalua y visualiza las predicciones"
   ],
   "id": "9fe9982f56ff8f43"
  }
 ],
 "metadata": {
  "kernelspec": {
   "display_name": "Python 3",
   "language": "python",
   "name": "python3"
  },
  "language_info": {
   "codemirror_mode": {
    "name": "ipython",
    "version": 2
   },
   "file_extension": ".py",
   "mimetype": "text/x-python",
   "name": "python",
   "nbconvert_exporter": "python",
   "pygments_lexer": "ipython2",
   "version": "2.7.6"
  }
 },
 "nbformat": 4,
 "nbformat_minor": 5
}
