{
  "cells": [
    {
      "cell_type": "markdown",
      "metadata": {
        "id": "OgYkrRCRec0r"
      },
      "source": [
        "# Módulo 2: El workflow de pytorch\n",
        "\n",
        "# 01. Fundamentos del Flujo de Trabajo en PyTorch\n",
        "\n",
        "La esencia del aprendizaje automático y el aprendizaje profundo es tomar datos del pasado, construir un algoritmo (como una red neuronal) para descubrir patrones en ellos y usar los patrones descubiertos para predecir el futuro.\n",
        "\n",
        "Hay muchas maneras de hacer esto, y constantemente se están descubriendo nuevas formas.\n",
        "\n",
        "Pero empecemos con algo sencillo.\n",
        "\n",
        "¿Qué tal si empezamos con una línea recta?\n",
        "\n",
        "Y veamos si podemos construir un modelo de PyTorch que aprenda el patrón de la línea recta y lo reproduzca.\n",
        "## Lo que vamos a cubrir\n",
        "\n",
        "En este módulo vamos a abordar un flujo de trabajo estándar de PyTorch (se puede modificar según sea necesario, pero cubre los pasos principales).\n",
        "\n",
        "<img src=\"https://fp.cloud.riberadeltajo.es/ia/workflow.png\" width=900 alt=\"diagrama de flujo del trabajo en PyTorch\"/>\n",
        "\n",
        "Por ahora, utilizaremos este flujo de trabajo para predecir una simple línea recta, pero los pasos del flujo de trabajo se pueden repetir y modificar según el problema en el que estés trabajando.\n",
        "\n",
        "Específicamente, vamos a cubrir:\n",
        "\n",
        "| **Tema** | **Contenido** |\n",
        "| ----- | ----- |\n",
        "| **1. Preparar los datos** | Los datos pueden ser casi cualquier cosa, pero para comenzar vamos a crear una simple línea recta. |\n",
        "| **2. Construir un modelo** | Aquí crearemos un modelo para aprender patrones en los datos, también elegiremos una **función de pérdida**, un **optimizador** y construiremos un **bucle de entrenamiento**. |\n",
        "| **3. Ajustar el modelo a los datos (entrenamiento)** | Tenemos datos y un modelo, ahora dejemos que el modelo (intente) encontrar patrones en los datos (**entrenamiento**). |\n",
        "| **4. Hacer predicciones y evaluar un modelo (inferencia)** | Nuestro modelo encontró patrones en los datos, comparemos sus hallazgos con los datos reales (**pruebas**). |\n",
        "| **5. Guardar y cargar un modelo** | Es posible que desees usar tu modelo en otro lugar o volver a él más tarde, aquí cubriremos cómo hacerlo. |\n",
        "| **6. Poner todo junto** | Tomemos todo lo anterior y combinémoslo. |\n"
      ]
    },
    {
      "cell_type": "code",
      "execution_count": 83,
      "metadata": {
        "ExecuteTime": {
          "end_time": "2024-11-28T15:26:58.593893Z",
          "start_time": "2024-11-28T15:26:56.615857Z"
        },
        "id": "ZT_ikDC-ec0w"
      },
      "outputs": [
        {
          "data": {
            "text/plain": [
              "'2.5.1'"
            ]
          },
          "execution_count": 83,
          "metadata": {},
          "output_type": "execute_result"
        }
      ],
      "source": [
        "import torch\n",
        "from torch import nn # nn contains all of PyTorch's building blocks for neural networks\n",
        "import matplotlib.pyplot as plt\n",
        "\n",
        "# Comprobar versión de pytorch\n",
        "torch.__version__"
      ]
    },
    {
      "cell_type": "markdown",
      "metadata": {
        "id": "ci_-geIdec0w"
      },
      "source": [
        "## 1. Datos (preparación y carga)\n",
        "\n",
        "Los \"datos\" en el aprendizaje automático pueden ser casi cualquier cosa que puedas imaginar. Una tabla de números (como una gran hoja de cálculo de Excel), imágenes de cualquier tipo, videos (¡YouTube tiene muchos datos!), archivos de audio como canciones o podcasts, estructuras de proteínas, texto y mucho más.\n",
        "\n",
        "El aprendizaje automático es un juego de dos partes:  \n",
        "1. Convierte tus datos, sean los que sean, en números (una representación).  \n",
        "2. Elige o construye un modelo para aprender esa representación lo mejor posible.  \n",
        "\n",
        "A veces, los pasos uno y dos se pueden hacer al mismo tiempo.\n",
        "\n",
        "Pero, ¿qué pasa si no tienes datos?\n",
        "\n",
        "Bueno, eso es justo donde estamos ahora.\n",
        "\n",
        "No tenemos datos.\n",
        "\n",
        "Pero podemos crearlos.\n",
        "\n",
        "Vamos a crear nuestros datos como una línea recta.\n",
        "\n",
        "Usaremos [regresión lineal](https://es.wikipedia.org/wiki/Regresi%C3%B3n_lineal) para crear los datos con **parámetros** conocidos (cosas que un modelo puede aprender) y luego usaremos PyTorch para ver si podemos construir un modelo que estime estos parámetros utilizando el [**descenso por gradiente**](https://es.wikipedia.org/wiki/M%C3%A9todo_de_descenso_de_gradiente).\n",
        "\n",
        "No te preocupes si los términos anteriores no tienen mucho sentido ahora; los veremos en acción y proporcionaré recursos adicionales a continuación para que puedas aprender más.\n"
      ]
    },
    {
      "cell_type": "code",
      "execution_count": 84,
      "metadata": {
        "ExecuteTime": {
          "end_time": "2024-11-28T15:26:58.605754Z",
          "start_time": "2024-11-28T15:26:58.595329Z"
        },
        "id": "HmZWVNjGec0x"
      },
      "outputs": [
        {
          "data": {
            "text/plain": [
              "(tensor([[0.0000],\n",
              "         [0.0200],\n",
              "         [0.0400],\n",
              "         [0.0600],\n",
              "         [0.0800],\n",
              "         [0.1000],\n",
              "         [0.1200],\n",
              "         [0.1400],\n",
              "         [0.1600],\n",
              "         [0.1800]]),\n",
              " tensor([[0.3000],\n",
              "         [0.3140],\n",
              "         [0.3280],\n",
              "         [0.3420],\n",
              "         [0.3560],\n",
              "         [0.3700],\n",
              "         [0.3840],\n",
              "         [0.3980],\n",
              "         [0.4120],\n",
              "         [0.4260]]))"
            ]
          },
          "execution_count": 84,
          "metadata": {},
          "output_type": "execute_result"
        }
      ],
      "source": [
        "# Crear parámetros\n",
        "weight = 0.7\n",
        "bias = 0.3\n",
        "\n",
        "# Creamos datos\n",
        "start = 0\n",
        "end = 1\n",
        "step = 0.02\n",
        "X = torch.arange(start, end, step).unsqueeze(dim=1)\n",
        "y = weight * X + bias\n",
        "\n",
        "X[:10], y[:10]"
      ]
    },
    {
      "cell_type": "markdown",
      "metadata": {
        "id": "YApM7diprjP0"
      },
      "source": [
        "### Dividir los datos en conjuntos de entrenamiento y prueba\n",
        "\n",
        "Tenemos algunos datos.\n",
        "\n",
        "Pero antes de construir un modelo, necesitamos dividirlos.\n",
        "\n",
        "Uno de los pasos más importantes en un proyecto de aprendizaje automático es crear un conjunto de entrenamiento y un conjunto de prueba (y, cuando sea necesario, un conjunto de validación).\n",
        "\n",
        "Cada división del conjunto de datos tiene un propósito específico:\n",
        "\n",
        "| División | Propósito | Porcentaje del total de datos | ¿Con qué frecuencia se usa? |\n",
        "| ----- | ----- | ----- | ----- |\n",
        "| **Conjunto de entrenamiento** | El modelo aprende a partir de estos datos (como los materiales de estudio durante el semestre). | ~60-80% | Siempre |\n",
        "| **Conjunto de validación** | El modelo se ajusta utilizando estos datos (como el examen de práctica antes del examen final). | ~10-20% | Frecuentemente, pero no siempre |\n",
        "| **Conjunto de prueba** | El modelo se evalúa con estos datos para verificar lo que ha aprendido (como el examen final al final del semestre). | ~10-20% | Siempre |\n",
        "\n",
        "Por ahora, solo usaremos un conjunto de entrenamiento y un conjunto de prueba. Esto significa que tendremos un conjunto de datos para que nuestro modelo aprenda y otro para ser evaluado.\n",
        "\n",
        "Podemos crearlos dividiendo nuestros tensores `X` y `y`.\n",
        "\n",
        "> **Nota:** Al trabajar con datos del mundo real, este paso generalmente se realiza al inicio de un proyecto (el conjunto de prueba siempre debe mantenerse separado de los demás datos). Queremos que nuestro modelo aprenda a partir de los datos de entrenamiento y luego evaluarlo en los datos de prueba para obtener una indicación de qué tan bien se **generaliza** a ejemplos no vistos.\n"
      ]
    },
    {
      "cell_type": "code",
      "execution_count": 85,
      "metadata": {
        "ExecuteTime": {
          "end_time": "2024-11-28T15:26:58.621837Z",
          "start_time": "2024-11-28T15:26:58.606865Z"
        },
        "id": "BpyB7JgHec0y"
      },
      "outputs": [
        {
          "data": {
            "text/plain": [
              "(40, 40, 10, 10)"
            ]
          },
          "execution_count": 85,
          "metadata": {},
          "output_type": "execute_result"
        }
      ],
      "source": [
        "# Crear conjuntos de train y test\n",
        "train_split = int(0.8 * len(X)) # 80% train, 20% test\n",
        "X_train, y_train = X[:train_split], y[:train_split]\n",
        "X_test, y_test = X[train_split:], y[train_split:]\n",
        "\n",
        "len(X_train), len(y_train), len(X_test), len(y_test)"
      ]
    },
    {
      "cell_type": "markdown",
      "metadata": {
        "id": "ua1y5hFjtLxC"
      },
      "source": [
        "Tenemos 40 muestras para entrenamiento (`X_train` y `y_train`) y 10 muestras para prueba (`X_test` y `y_test`).\n",
        "\n",
        "El modelo que crearemos intentará aprender la relación entre `X_train` y `y_train`, y luego evaluaremos lo que ha aprendido utilizando `X_test` y `y_test`.\n",
        "\n",
        "Pero por ahora, nuestros datos son solo números en una hoja.\n",
        "\n",
        "Vamos a crear una función para visualizarlos.\n"
      ]
    },
    {
      "cell_type": "code",
      "execution_count": 86,
      "metadata": {
        "ExecuteTime": {
          "end_time": "2024-11-28T15:26:58.634104Z",
          "start_time": "2024-11-28T15:26:58.623209Z"
        },
        "id": "w9Ep0T-Dec0y"
      },
      "outputs": [],
      "source": [
        "def plot_predictions(train_data=X_train,\n",
        "                     train_labels=y_train,\n",
        "                     test_data=X_test,\n",
        "                     test_labels=y_test,\n",
        "                     predictions=None):\n",
        "  \"\"\"\n",
        "  Dibuja los datos de training y test data y compara las predicciones\n",
        "  \"\"\"\n",
        "  plt.figure(figsize=(10, 7))\n",
        "\n",
        "  # training en azul\n",
        "  plt.scatter(train_data, train_labels, c=\"b\", s=4, label=\"training\")\n",
        "\n",
        "  # test en verde\n",
        "  plt.scatter(test_data, test_labels, c=\"g\", s=4, label=\"test\")\n",
        "\n",
        "  if predictions is not None:\n",
        "    # predicciones en rojo\n",
        "    plt.scatter(test_data, predictions, c=\"r\", s=4, label=\"Predicciones\")\n",
        "\n",
        "  plt.legend(prop={\"size\": 14});"
      ]
    },
    {
      "cell_type": "code",
      "execution_count": 87,
      "metadata": {
        "ExecuteTime": {
          "end_time": "2024-11-28T15:26:58.824400Z",
          "start_time": "2024-11-28T15:26:58.635323Z"
        },
        "id": "xTaIwydGec0z"
      },
      "outputs": [
        {
          "data": {
            "image/png": "[encoded data removed]",
            "text/plain": [
              "<Figure size 1000x700 with 1 Axes>"
            ]
          },
          "metadata": {},
          "output_type": "display_data"
        }
      ],
      "source": [
        "# muestra los datos con la función anterior\n",
        "plot_predictions()"
      ]
    },
    {
      "cell_type": "markdown",
      "metadata": {
        "id": "mdElzVUJuWRe"
      },
      "source": [
        "\n",
        "Ahora, en lugar de ser solo números en una hoja, nuestros datos forman una línea recta.\n",
        "\n",
        "> **Nota:** \"¡visualiza, visualiza, visualiza!\"  \n",
        ">\n",
        "> Ten esto en mente siempre que trabajes con datos y los conviertas en números: si puedes visualizar algo, puede hacer maravillas para tu comprensión.\n",
        ">\n",
        "> A las máquinas les encantan los números, y a nosotros, los humanos, también nos gustan, pero también nos gusta observar las cosas.\n"
      ]
    },
    {
      "cell_type": "markdown",
      "metadata": {
        "id": "0eFsorRHec00"
      },
      "source": [
        "## 2. Construir un modelo\n",
        "\n",
        "Ahora que tenemos algunos datos, construyamos un modelo para usar los puntos azules y predecir los puntos verdes.\n",
        "\n",
        "Vamos a ir directo al grano.\n",
        "\n",
        "Escribiremos el código primero y luego explicaremos todo.\n",
        "\n",
        "Vamos a replicar un modelo estándar de regresión lineal utilizando únicamente PyTorch.\n"
      ]
    },
    {
      "cell_type": "code",
      "execution_count": 88,
      "metadata": {
        "ExecuteTime": {
          "end_time": "2024-11-28T15:31:04.890571Z",
          "start_time": "2024-11-28T15:31:04.886540Z"
        },
        "id": "jhcUJBFuec00"
      },
      "outputs": [],
      "source": [
        "# Crea una clase de modelo de Regresión Lineal con dos parámetros (weights y bias)\n",
        "class LinearRegressionModel(nn.Module):\n",
        "    def __init__(self):\n",
        "        super().__init__()\n",
        "        self.weights = nn.Parameter(torch.randn(1, requires_grad=True))\n",
        "        self.bias = nn.Parameter(torch.randn(1, requires_grad=True))\n",
        "\n",
        "# define la función forward usando como fórmula la self.weights * x + self.bias, donde x es la entrada a la red\n",
        "    def forward(self, x):\n",
        "        return self.weights * x + self.bias"
      ]
    },
    {
      "cell_type": "markdown",
      "metadata": {
        "id": "xhu5wxVO7s_q"
      },
      "source": [
        "Muy bien, hay bastante sucediendo en el código anterior, pero vamos a desglosarlo paso a paso.\n",
        "\n",
        "> **Recurso:** Usaremos clases de Python para crear componentes para construir redes neuronales. Si no estás familiarizado con la notación de clases en Python, te recomendaría leer [la guía de programación orientada a objetos en Python 3 de Real Python](https://realpython.com/python3-object-oriented-programming/) varias veces.\n",
        "\n",
        "\n"
      ]
    },
    {
      "cell_type": "markdown",
      "metadata": {
        "id": "iRRq3a0Gvvnl"
      },
      "source": [
        "### Elementos esenciales para construir modelos en PyTorch\n",
        "\n",
        "PyTorch tiene cuatro (más o menos) módulos esenciales que puedes usar para crear casi cualquier tipo de red neuronal que puedas imaginar.\n",
        "\n",
        "Estos son [`torch.nn`](https://pytorch.org/docs/stable/nn.html), [`torch.optim`](https://pytorch.org/docs/stable/optim.html), [`torch.utils.data.Dataset`](https://pytorch.org/docs/stable/data.html#torch.utils.data.Dataset) y [`torch.utils.data.DataLoader`](https://pytorch.org/docs/stable/data.html). Por ahora, nos enfocaremos en los dos primeros y abordaremos los otros más adelante (aunque quizás puedas adivinar qué hacen).\n",
        "\n",
        "| Módulo de PyTorch | ¿Qué hace? |\n",
        "| ----- | ----- |\n",
        "| [`torch.nn`](https://pytorch.org/docs/stable/nn.html) | Contiene todos los bloques de construcción para grafos computacionales (esencialmente una serie de cálculos ejecutados de una manera específica). |\n",
        "| [`torch.nn.Parameter`](https://pytorch.org/docs/stable/generated/torch.nn.parameter.Parameter.html#parameter) | Almacena tensores que pueden ser usados con `nn.Module`. Si `requires_grad=True`, los gradientes (usados para actualizar los parámetros del modelo mediante [**descenso por gradiente**](https://ml-cheatsheet.readthedocs.io/en/latest/gradient_descent.html)) se calculan automáticamente; esto se conoce comúnmente como \"autograd\". |\n",
        "| [`torch.nn.Module`](https://pytorch.org/docs/stable/generated/torch.nn.Module.html#torch.nn.Module) | La clase base para todos los módulos de redes neuronales; todos los bloques de construcción de redes neuronales son subclases. Si estás construyendo una red neuronal en PyTorch, tus modelos deberían ser subclases de `nn.Module`. Requiere que se implemente un método `forward()`. |\n",
        "| [`torch.optim`](https://pytorch.org/docs/stable/optim.html) | Contiene varios algoritmos de optimización (estos indican a los parámetros del modelo almacenados en `nn.Parameter` cómo cambiar para mejorar el descenso por gradiente y, a su vez, reducir la pérdida). |\n",
        "| `def forward()` | Todas las subclases de `nn.Module` requieren un método `forward()`, que define el cálculo que se realizará en los datos pasados al `nn.Module` en cuestión (por ejemplo, la fórmula de regresión lineal vista antes). |\n",
        "\n",
        "Si lo anterior parece complejo, piénsalo de esta manera: casi todo en una red neuronal de PyTorch proviene de `torch.nn`:\n",
        "* `nn.Module` contiene los bloques más grandes (capas).\n",
        "* `nn.Parameter` contiene los parámetros más pequeños como pesos y sesgos (combínalos para crear `nn.Module`(s)).\n",
        "* `forward()` indica a los bloques más grandes cómo realizar cálculos en los datos de entrada (tensores llenos de datos) dentro de `nn.Module`(s).\n",
        "* `torch.optim` contiene métodos de optimización para mejorar los parámetros dentro de `nn.Parameter` y representar mejor los datos de entrada.\n",
        "\n",
        "> **Recurso:** Consulta más sobre estos módulos esenciales y sus casos de uso en la [Hoja de trucos de PyTorch](https://pytorch.org/tutorials/beginner/ptcheat.html).\n"
      ]
    },
    {
      "cell_type": "markdown",
      "metadata": {
        "id": "HYt5sKsgufG7"
      },
      "source": [
        "\n",
        "### Verificando el contenido de un modelo en PyTorch\n",
        "\n",
        "Ahora que hemos aclarado estos conceptos, vamos a crear una instancia del modelo con la clase que hemos creado y verificar sus parámetros utilizando [`.parameters()`](https://pytorch.org/docs/stable/generated/torch.nn.Module.html#torch.nn.Module.parameters).\n"
      ]
    },
    {
      "cell_type": "code",
      "execution_count": 89,
      "metadata": {
        "ExecuteTime": {
          "end_time": "2024-11-28T15:32:12.005830Z",
          "start_time": "2024-11-28T15:32:12.003435Z"
        },
        "id": "CsEKA3A_ec01"
      },
      "outputs": [
        {
          "name": "stdout",
          "output_type": "stream",
          "text": [
            "Parameter containing:\n",
            "tensor([0.3367], requires_grad=True)\n",
            "Parameter containing:\n",
            "tensor([0.1288], requires_grad=True)\n"
          ]
        }
      ],
      "source": [
        "# 1. Configura una semilla manual ya que nn.Parameter se inicializa aleatoriamente\n",
        "torch.manual_seed(42)\n",
        "\n",
        "# 2. Crea una instancia del modelo (esta es una subclase de nn.Module que contiene nn.Parameter(s))\n",
        "model_0 = LinearRegressionModel()\n",
        "\n",
        "# 3. Verificar, con list(model_0.parameters) los nn.Parameter(s) dentro de la subclase nn.Module que creamos\n",
        "for param in list(model_0.parameters()):\n",
        "    print(param)"
      ]
    },
    {
      "cell_type": "markdown",
      "metadata": {
        "id": "CNOmcQdSq34e"
      },
      "source": [
        "También podemos obtener el estado (lo que contiene el modelo) del modelo utilizando [`.state_dict()`](https://pytorch.org/docs/stable/generated/torch.nn.Module.html#torch.nn.Module.state_dict).\n"
      ]
    },
    {
      "cell_type": "code",
      "execution_count": 90,
      "metadata": {
        "ExecuteTime": {
          "end_time": "2024-11-28T15:32:14.287941Z",
          "start_time": "2024-11-28T15:32:14.285351Z"
        },
        "id": "XC1N_1Qrec01"
      },
      "outputs": [
        {
          "name": "stdout",
          "output_type": "stream",
          "text": [
            "weights\n",
            "bias\n"
          ]
        }
      ],
      "source": [
        "# Lista los nombres de parámetros usando state_dict()\n",
        "for name in model_0.state_dict():\n",
        "    print(name)"
      ]
    },
    {
      "cell_type": "markdown",
      "metadata": {
        "id": "tdTEPSwSec02"
      },
      "source": [
        "¿Notaste cómo los valores de `weights` y `bias` en `model_0.state_dict()` aparecen como tensores de números flotantes aleatorios?\n",
        "\n",
        "Esto se debe a que los inicializamos anteriormente usando `torch.randn()`.\n",
        "\n",
        "Esencialmente, queremos comenzar con parámetros aleatorios y hacer que el modelo los actualice hacia parámetros que se ajusten mejor a nuestros datos (los valores de `weight` y `bias` que establecimos al crear nuestros datos de línea recta).\n",
        "\n",
        "> **Ejercicio:** Intenta cambiar el valor de `torch.manual_seed()` dos celdas arriba y observa qué sucede con los valores de weights y bias.\n",
        "\n",
        "Debido a que nuestro modelo comienza con valores aleatorios, por ahora tendrá un bajo poder predictivo.\n",
        "\n",
        "\n"
      ]
    },
    {
      "cell_type": "code",
      "execution_count": 91,
      "metadata": {},
      "outputs": [
        {
          "name": "stdout",
          "output_type": "stream",
          "text": [
            "OrderedDict({'weights': tensor([-0.1115]), 'bias': tensor([0.1204])})\n"
          ]
        }
      ],
      "source": [
        "torch.manual_seed(123)\n",
        "model_1 = LinearRegressionModel()\n",
        "print(model_1.state_dict())"
      ]
    },
    {
      "cell_type": "markdown",
      "metadata": {},
      "source": [
        "- Cuando cambiamos torch.manual_seed(), los valores de weight y bias del modelo también cambian."
      ]
    },
    {
      "cell_type": "markdown",
      "metadata": {
        "id": "BDKdLN7nuheb"
      },
      "source": [
        "### Realizando predicciones usando `torch.inference_mode()`\n",
        "\n",
        "Para verificar esto, podemos pasarle los datos de prueba `X_test` y observar qué tan cerca está de predecir `y_test`.\n",
        "\n",
        "Cuando pasamos datos a nuestro modelo, estos pasarán por el método `forward()` del modelo y producirán un resultado utilizando el cálculo que hemos definido.\n",
        "\n",
        "Hagamos algunas predicciones.\n"
      ]
    },
    {
      "cell_type": "code",
      "execution_count": 92,
      "metadata": {
        "ExecuteTime": {
          "end_time": "2024-11-28T15:33:04.203689Z",
          "start_time": "2024-11-28T15:33:04.200862Z"
        },
        "id": "-ITlZgU5ec02"
      },
      "outputs": [],
      "source": [
        "# Haz predicciones con el modelo. 1º pon el inference_mode y luego, invoca al callable del modelo0 pasando X_test como parámetro\n",
        "with torch.inference_mode():\n",
        "    y_preds = model_0(X_test)"
      ]
    },
    {
      "cell_type": "markdown",
      "metadata": {
        "id": "L_Bx5I1FsIS0"
      },
      "source": [
        "Probablemente notaste que usamos [`torch.inference_mode()`](https://pytorch.org/docs/stable/generated/torch.inference_mode.html) como un [administrador de contexto](https://realpython.com/python-with-statement/) (eso es lo que significa `with torch.inference_mode():`) para realizar las predicciones.\n",
        "\n",
        "Como su nombre lo indica, `torch.inference_mode()` se utiliza cuando usamos un modelo para inferencia (hacer predicciones).\n",
        "\n",
        "`torch.inference_mode()` desactiva varias cosas (como el seguimiento de gradientes, que es necesario para el entrenamiento pero no para la inferencia) para que las **pasadas hacia adelante** (el paso de datos a través del método `forward()`) sean más rápidas.\n",
        "\n",
        "> **Nota:** En código más antiguo de PyTorch, también podrías ver que se utiliza `torch.no_grad()` para la inferencia. Aunque `torch.inference_mode()` y `torch.no_grad()` hacen cosas similares, `torch.inference_mode()` es más reciente, potencialmente más rápido y es la opción preferida. Consulta este [Tweet de PyTorch](https://twitter.com/PyTorch/status/1437838231505096708?s=20) para más información.\n",
        "\n",
        "Hemos hecho algunas predicciones, veamos qué pinta tienen.\n"
      ]
    },
    {
      "cell_type": "code",
      "execution_count": 93,
      "metadata": {
        "ExecuteTime": {
          "end_time": "2024-11-28T15:33:07.941305Z",
          "start_time": "2024-11-28T15:33:07.938617Z"
        },
        "id": "k4xCScCvec02"
      },
      "outputs": [
        {
          "name": "stdout",
          "output_type": "stream",
          "text": [
            "Número de muestras de test: 10\n",
            "Número de predicciones: 10\n",
            "Valores predichos:\n",
            "tensor([[0.3982],\n",
            "        [0.4049],\n",
            "        [0.4116],\n",
            "        [0.4184],\n",
            "        [0.4251],\n",
            "        [0.4318],\n",
            "        [0.4386],\n",
            "        [0.4453],\n",
            "        [0.4520],\n",
            "        [0.4588]])\n"
          ]
        }
      ],
      "source": [
        "print(f\"Número de muestras de test: {len(X_test)}\")\n",
        "print(f\"Número de predicciones: {len(y_preds)}\")\n",
        "print(f\"Valores predichos:\\n{y_preds}\")"
      ]
    },
    {
      "cell_type": "markdown",
      "metadata": {
        "id": "FnSwGbQEupZs"
      },
      "source": [
        "Nota cómo hay un valor de predicción por cada muestra de prueba.\n",
        "\n",
        "Esto se debe al tipo de datos que estamos utilizando. Para nuestra línea recta, un valor de `X` se asigna a un valor de `y`.\n",
        "\n",
        "Sin embargo, los modelos de aprendizaje automático son muy flexibles. Podrías tener 100 valores de `X` asignándose a uno, dos, tres o incluso 10 valores de `y`. Todo depende de lo que estés trabajando.\n",
        "\n",
        "Nuestras predicciones siguen siendo números en una hoja, así que vamos a visualizarlas con nuestra función `plot_predictions()` que creamos anteriormente.\n"
      ]
    },
    {
      "cell_type": "code",
      "execution_count": 94,
      "metadata": {
        "ExecuteTime": {
          "end_time": "2024-11-28T15:26:59.073848Z",
          "start_time": "2024-11-28T15:26:58.892348Z"
        },
        "id": "pwjxLWZTec02"
      },
      "outputs": [
        {
          "data": {
            "image/png": "[encoded data removed]",
            "text/plain": [
              "<Figure size 800x600 with 1 Axes>"
            ]
          },
          "metadata": {},
          "output_type": "display_data"
        }
      ],
      "source": [
        "# con la función plot_predictions muestra los datos de entrenamiento,\n",
        "# los de test y las predicciones que has hecho sobre los datos de test\n",
        "def plot_predictions(train_data=X_train, train_labels=y_train,\n",
        "                     test_data=X_test, test_labels=y_test,\n",
        "                     predictions=None):\n",
        "    plt.figure(figsize=(8, 6))\n",
        "    \n",
        "    plt.scatter(train_data, train_labels, c=\"blue\", label=\"Datos de entrenamiento\")\n",
        "\n",
        "    plt.scatter(test_data, test_labels, c=\"green\", label=\"Datos de prueba\")\n",
        "\n",
        "    if predictions is not None:\n",
        "        plt.scatter(test_data, predictions, c=\"red\", label=\"Predicciones\")\n",
        "    \n",
        "    plt.legend()\n",
        "    plt.title(\"Visualización de predicciones\")\n",
        "    plt.xlabel(\"X\")\n",
        "    plt.ylabel(\"y\")\n",
        "    plt.grid(True)\n",
        "    plt.show()\n",
        "    \n",
        "plot_predictions(predictions=y_preds)"
      ]
    },
    {
      "cell_type": "code",
      "execution_count": 95,
      "metadata": {
        "ExecuteTime": {
          "end_time": "2024-11-28T15:26:59.081750Z",
          "start_time": "2024-11-28T15:26:59.075229Z"
        },
        "id": "JLJWVANkhY3-"
      },
      "outputs": [
        {
          "name": "stdout",
          "output_type": "stream",
          "text": [
            "Diferencia entre y_test - y_preds:\n",
            "tensor([[0.4618],\n",
            "        [0.4691],\n",
            "        [0.4764],\n",
            "        [0.4836],\n",
            "        [0.4909],\n",
            "        [0.4982],\n",
            "        [0.5054],\n",
            "        [0.5127],\n",
            "        [0.5200],\n",
            "        [0.5272]])\n"
          ]
        }
      ],
      "source": [
        "# mide la diferencia entre y_test y las predicciones (y_test - y_preds)\n",
        "error = y_test - y_preds\n",
        "print(\"Diferencia entre y_test - y_preds:\")\n",
        "print(error)"
      ]
    },
    {
      "cell_type": "markdown",
      "metadata": {
        "id": "lxt8WUzdv1qS"
      },
      "source": [
        "Esas predicciones tienen muy mala pinta\n",
        "\n",
        "Sin embargo, esto tiene sentido si recuerdas que nuestro modelo solo está usando valores de parámetros aleatorios para hacer predicciones.\n",
        "\n",
        "Ni siquiera ha mirado los puntos azules para intentar predecir los puntos verdes.\n",
        "\n",
        "Es hora de cambiar eso.\n"
      ]
    },
    {
      "cell_type": "markdown",
      "metadata": {
        "id": "ZZpa-fXLec03"
      },
      "source": [
        "## 3. Entrenar el modelo\n",
        "\n",
        "En este momento, nuestro modelo está haciendo predicciones utilizando parámetros aleatorios para realizar cálculos, básicamente está adivinando (de manera aleatoria).\n",
        "\n",
        "Para solucionar esto, podemos actualizar sus parámetros internos (también me refiero a *parámetros* como patrones), los valores de `weights` y `bias` que establecimos aleatoriamente utilizando `nn.Parameter()` y `torch.randn()`, para que representen mejor los datos.\n",
        "\n",
        "Podríamos codificar esto manualmente (ya que conocemos los valores predeterminados `weight=0.7` y `bias=0.3`), pero ¿dónde estaría la diversión en eso?\n",
        "\n",
        "La mayor parte del tiempo no sabrás cuáles son los parámetros ideales para un modelo.\n",
        "\n",
        "En su lugar, es mucho más divertido escribir código para ver si el modelo puede intentar descubrirlos por sí mismo.\n",
        "\n",
        "\n"
      ]
    },
    {
      "cell_type": "markdown",
      "metadata": {
        "id": "W1niHEPuRO-S"
      },
      "source": [
        "### Creando una función de pérdida y un optimizador en PyTorch\n",
        "\n",
        "Para que nuestro modelo actualice sus parámetros por sí mismo, necesitamos agregar algunos elementos más a nuestra receta.\n",
        "\n",
        "Eso incluye una **función de pérdida** y un **optimizador**.\n",
        "\n",
        "Sus roles son:\n",
        "\n",
        "| Función | ¿Qué hace?                                                                                                                                                             | ¿Dónde vive en PyTorch? | Valores comunes |\n",
        "| ----- |------------------------------------------------------------------------------------------------------------------------------------------------------------------------| ----- | ----- |\n",
        "| **Función de pérdida** | Mide cómo de malas son las predicciones de tu modelo (por ejemplo, `y_preds`) en comparación con las etiquetas reales (por ejemplo, `y_test`). Cuanto más baja, mejor. | PyTorch tiene muchas funciones de pérdida integradas en [`torch.nn`](https://pytorch.org/docs/stable/nn.html#loss-functions). | Error absoluto medio (MAE) para problemas de regresión ([`torch.nn.L1Loss()`](https://pytorch.org/docs/stable/generated/torch.nn.L1Loss.html)). Entropía cruzada binaria para problemas de clasificación binaria ([`torch.nn.BCELoss()`](https://pytorch.org/docs/stable/generated/torch.nn.BCELoss.html)). |\n",
        "| **Optimizador** | Indica a tu modelo cómo actualizar sus parámetros internos para reducir la pérdida.                                                                                    | Puedes encontrar varias implementaciones de funciones de optimización en [`torch.optim`](https://pytorch.org/docs/stable/optim.html). | Descenso por gradiente estocástico ([`torch.optim.SGD()`](https://pytorch.org/docs/stable/generated/torch.optim.SGD.html#torch.optim.SGD)). Optimizador Adam ([`torch.optim.Adam()`](https://pytorch.org/docs/stable/generated/torch.optim.Adam.html#torch.optim.Adam)). |\n",
        "\n",
        "Vamos a crear una función de pérdida y un optimizador que nos ayuden a mejorar nuestro modelo.\n",
        "\n",
        "El tipo de función de pérdida y optimizador que uses dependerá del problema en el que estés trabajando.\n",
        "\n",
        "Sin embargo, hay algunos valores comunes que se sabe que funcionan bien, como el optimizador SGD (descenso por gradiente estocástico) o Adam, y la función de pérdida MAE (error absoluto medio) para problemas de regresión (predicción de un número) o la función de pérdida de entropía cruzada binaria para problemas de clasificación (predecir una cosa u otra).\n",
        "\n",
        "En nuestro caso, como estamos prediciendo un número, usaremos MAE (que está en `torch.nn.L1Loss()`) en PyTorch como nuestra función de pérdida.\n",
        "\n",
        "*El error absoluto medio (MAE, en PyTorch: `torch.nn.L1Loss`) mide la diferencia absoluta entre dos puntos (predicciones y etiquetas) y luego toma el promedio entre todos los ejemplos.*\n",
        "\n",
        "\n",
        "Usaremos SGD, `torch.optim.SGD(params, lr)`, donde:\n",
        "\n",
        "- `params` son los parámetros del modelo que deseas optimizar (por ejemplo, los valores de `weights` y `bias` que configuramos aleatoriamente antes).\n",
        "- `lr` es la **tasa de aprendizaje** con la que deseas que el optimizador actualice los parámetros. Un valor más alto significa que el optimizador intentará actualizaciones más grandes (que a veces pueden ser demasiado grandes y hacer que el optimizador falle), mientras que un valor más bajo significa que intentará actualizaciones más pequeñas (que pueden ser demasiado pequeñas y tardar mucho en encontrar los valores ideales). La tasa de aprendizaje se considera un **hiperparámetro** (porque es configurada por un ingeniero de aprendizaje automático). Valores iniciales comunes para la tasa de aprendizaje son `0.01`, `0.001`, `0.0001`, aunque también se pueden ajustar con el tiempo (esto se llama [programación de tasa de aprendizaje](https://pytorch.org/docs/stable/optim.html#how-to-adjust-learning-rate)).\n",
        "\n",
        "Es mucha información, veámoslo en código."
      ]
    },
    {
      "cell_type": "code",
      "execution_count": 96,
      "metadata": {
        "ExecuteTime": {
          "end_time": "2024-11-28T15:27:00.191368Z",
          "start_time": "2024-11-28T15:26:59.082605Z"
        },
        "id": "P3T7hpNPec03"
      },
      "outputs": [],
      "source": [
        "# Crea la función de pérdida (utiliza L1Loss() que es igual que MAE\n",
        "loss_fn = torch.nn.L1Loss()\n",
        "\n",
        "# Crea el optimizador, utiliza torch.optim.SGD y un learning_rate de 0.01 (lr)\n",
        "optimizer = torch.optim.SGD(params=model_0.parameters(), lr=0.01)"
      ]
    },
    {
      "cell_type": "markdown",
      "metadata": {
        "id": "agXn72H-sgyd"
      },
      "source": [
        "### Creando un bucle de optimización en PyTorch\n",
        "\n",
        "## Bucle de entrenamiento en PyTorch\n",
        "Para el bucle de entrenamiento, construiremos los siguientes pasos:\n",
        "\n",
        "| Número | Nombre del paso | ¿Qué hace? | Ejemplo de código |\n",
        "| ----- | ----- | ----- | ----- |\n",
        "| 1 | Paso hacia adelante (Forward pass) | El modelo pasa por todos los datos de entrenamiento una vez, ejecutando los cálculos de su función `forward()`. | `model(x_train)` |\n",
        "| 2 | Calcular la pérdida | Las salidas del modelo (predicciones) se comparan con la verdad real (ground truth) y se evalúan para ver qué tan incorrectas están. | `loss = loss_fn(y_pred, y_train)` |\n",
        "| 3 | Reiniciar gradientes | Los gradientes del optimizador se reinician a cero (por defecto se acumulan) para que puedan recalcularse en este paso específico de entrenamiento. | `optimizer.zero_grad()` |\n",
        "| 4 | Realizar retropropagación en la pérdida | Calcula el gradiente de la pérdida con respecto a cada parámetro del modelo que será actualizado (cada parámetro con `requires_grad=True`). Esto se conoce como **retropropagación**, de ahí \"hacia atrás\". | `loss.backward()` |\n",
        "| 5 | Actualizar el optimizador (**descenso por gradiente**) | Actualiza los parámetros con `requires_grad=True` basándose en los gradientes de la pérdida para mejorarlos. | `optimizer.step()` |\n",
        "\n",
        "> **Nota:** Lo anterior es solo un ejemplo de cómo se podrían ordenar o describir los pasos. Con experiencia, descubrirás que los bucles de entrenamiento en PyTorch pueden ser bastante flexibles.\n",
        ">\n",
        "> En cuanto al orden de los pasos, el anterior es un buen orden predeterminado, pero podrías ver ligeras variaciones. Algunas reglas generales:\n",
        "> * Calcula la pérdida (`loss = ...`) *antes* de realizar la retropropagación en ella (`loss.backward()`).\n",
        "> * Reinicia los gradientes (`optimizer.zero_grad()`) *antes* de calcular los gradientes de la pérdida con respecto a cada parámetro del modelo (`loss.backward()`).\n",
        "> * Actualiza el optimizador (`optimizer.step()`) *después* de realizar la retropropagación en la pérdida (`loss.backward()`).\n",
        "\n",
        "Para recursos adicionales que ayuden a entender lo que ocurre detrás de escena con la retropropagación y el descenso por gradiente, consulta la sección de currículo adicional.\n"
      ]
    },
    {
      "cell_type": "markdown",
      "metadata": {
        "id": "OXHDdlfjssDc"
      },
      "source": [
        "### Bucle de prueba en PyTorch\n",
        "\n",
        "En cuanto al bucle de prueba (evaluar nuestro modelo), los pasos típicos incluyen:\n",
        "\n",
        "| Número | Nombre del paso | ¿Qué hace? | Ejemplo de código |\n",
        "| ----- | ----- | ----- | ----- |\n",
        "| 1 | Paso hacia adelante (Forward pass) | El modelo pasa por todos los datos de prueba una vez, ejecutando los cálculos de su función `forward()`. | `model(x_test)` |\n",
        "| 2 | Calcular la pérdida | Las salidas del modelo (predicciones) se comparan con la verdad real (ground truth) y se evalúan para ver qué tan incorrectas están. | `loss = loss_fn(y_pred, y_test)` |\n",
        "| 3 | Calcular métricas de evaluación (opcional) | Además del valor de la pérdida, es posible que desees calcular otras métricas de evaluación, como la precisión en el conjunto de prueba. | Funciones personalizadas |\n",
        "\n",
        "Nota que el bucle de prueba no incluye realizar retropropagación (`loss.backward()`) ni actualizar el optimizador (`optimizer.step()`), ya que no se están cambiando los parámetros del modelo durante la prueba; estos ya han sido calculados. En la prueba, solo nos interesa la salida del paso hacia adelante a través del modelo.\n",
        "\n",
        "Vamos a juntar todo lo anterior y entrenar nuestro modelo durante 100 **épocas** (pasos hacia adelante a través de los datos) y lo evaluaremos cada 10 épocas.\n"
      ]
    },
    {
      "cell_type": "code",
      "execution_count": 97,
      "metadata": {
        "ExecuteTime": {
          "end_time": "2024-11-28T15:27:00.271266Z",
          "start_time": "2024-11-28T15:27:00.192405Z"
        },
        "id": "k1DfhyJ7ec03"
      },
      "outputs": [
        {
          "name": "stdout",
          "output_type": "stream",
          "text": [
            "Época: 0 | MAE [train]: 0.31288138031959534 | MAE [test]: 0.48106518387794495 \n",
            "Época: 10 | MAE [train]: 0.1976713240146637 | MAE [test]: 0.3463551998138428 \n",
            "Época: 20 | MAE [train]: 0.08908725529909134 | MAE [test]: 0.21729660034179688 \n",
            "Época: 30 | MAE [train]: 0.053148526698350906 | MAE [test]: 0.14464017748832703 \n",
            "Época: 40 | MAE [train]: 0.04543796554207802 | MAE [test]: 0.11360953003168106 \n",
            "Época: 50 | MAE [train]: 0.04167863354086876 | MAE [test]: 0.09919948130846024 \n",
            "Época: 60 | MAE [train]: 0.03818932920694351 | MAE [test]: 0.08886633068323135 \n",
            "Época: 70 | MAE [train]: 0.03476089984178543 | MAE [test]: 0.0805937647819519 \n",
            "Época: 80 | MAE [train]: 0.03132382780313492 | MAE [test]: 0.07232122868299484 \n",
            "Época: 90 | MAE [train]: 0.02788739837706089 | MAE [test]: 0.06473556160926819 \n"
          ]
        }
      ],
      "source": [
        "torch.manual_seed(42)\n",
        "\n",
        "# Establecer el número de épocas (cuántas veces el modelo pasará sobre los datos de entrenamiento)\n",
        "epochs = 100\n",
        "\n",
        "# Crear listas vacías para rastrear los valores de la pérdida\n",
        "train_loss_values = []\n",
        "test_loss_values = []\n",
        "epoch_count = []\n",
        "\n",
        "for epoch in range(epochs):\n",
        "    ### Entrenamiento\n",
        "\n",
        "    # Poner el modelo en modo de entrenamiento (este es el estado predeterminado de un modelo)\n",
        "    model_0.train()\n",
        "\n",
        "    # 1. Paso hacia adelante con los datos de entrenamiento usando el método forward()\n",
        "    y_pred = model_0(X_train)\n",
        "    # print(y_pred)\n",
        "\n",
        "    # 2. Calcular la pérdida (qué tan diferentes son las predicciones de nuestro modelo con respecto a la verdad real)\n",
        "    loss = loss_fn(y_pred, y_train)\n",
        "\n",
        "    # 3. Reiniciar los gradientes del optimizador\n",
        "    optimizer.zero_grad()\n",
        "\n",
        "    # 4. Retropropagación de la pérdida\n",
        "    loss.backward()\n",
        "\n",
        "    # 5. Actualizar los parámetros del modelo con el optimizador\n",
        "    optimizer.step()\n",
        "\n",
        "    ### Prueba\n",
        "\n",
        "    # Poner el modelo en modo de evaluación\n",
        "    model_0.eval()\n",
        "\n",
        "    with torch.inference_mode():\n",
        "        # 1. Paso hacia adelante con los datos de prueba\n",
        "        test_pred = model_0(X_test)\n",
        "\n",
        "        # 2. Calcular la pérdida en los datos de prueba\n",
        "        test_loss = loss_fn(test_pred, y_test.type(torch.float)) # las predicciones vienen en formato torch.float, así que las comparaciones deben hacerse con tensores del mismo tipo\n",
        "\n",
        "        # Imprimir lo que está ocurriendo\n",
        "        if epoch % 10 == 0:\n",
        "            epoch_count.append(epoch)\n",
        "            train_loss_values.append(loss.detach().numpy())\n",
        "            test_loss_values.append(test_loss.detach().numpy())\n",
        "            print(f\"Época: {epoch} | MAE [train]: {loss} | MAE [test]: {test_loss} \")\n"
      ]
    },
    {
      "cell_type": "markdown",
      "metadata": {
        "id": "1krgBqXBdYHc"
      },
      "source": [
        "Parece que la pérdida disminuye en cada época, echemos un vistazo"
      ]
    },
    {
      "cell_type": "code",
      "execution_count": 98,
      "metadata": {
        "ExecuteTime": {
          "end_time": "2024-11-28T15:27:00.397298Z",
          "start_time": "2024-11-28T15:27:00.272247Z"
        },
        "id": "FPXfvPLkau72"
      },
      "outputs": [
        {
          "data": {
            "image/png": "[encoded data removed]",
            "text/plain": [
              "<Figure size 640x480 with 1 Axes>"
            ]
          },
          "metadata": {},
          "output_type": "display_data"
        }
      ],
      "source": [
        "plt.plot(epoch_count, train_loss_values, label=\"Train loss\")\n",
        "plt.plot(epoch_count, test_loss_values, label=\"Test loss\")\n",
        "plt.title(\"Curvas de entrenamiento\")\n",
        "plt.ylabel(\"Loss\")\n",
        "plt.xlabel(\"épocas\")\n",
        "plt.legend();"
      ]
    },
    {
      "cell_type": "markdown",
      "metadata": {
        "id": "lmqQE8Kpec04"
      },
      "source": [
        "¡Genial! Las **curvas de pérdida** muestran cómo la pérdida disminuye con el tiempo. Recuerda, la pérdida es una medida de cómo de *incorrecto* es tu modelo, por lo que cuanto más baja, mejor.\n",
        "\n",
        "¿Pero por qué disminuyó la pérdida?\n",
        "\n",
        "Gracias a nuestra función de pérdida y optimizador, los parámetros internos del modelo (`weights` y `bias`) se actualizaron para reflejar mejor los patrones subyacentes en los datos.\n",
        "\n",
        "Vamos a inspeccionar el [`.state_dict()`](https://pytorch.org/tutorials/recipes/recipes/what_is_state_dict.html) de nuestro modelo para ver qué cómo de cerca está nuestro modelo de los valores originales que establecimos para `weights` y `bias`.\n"
      ]
    },
    {
      "cell_type": "code",
      "execution_count": 99,
      "metadata": {
        "ExecuteTime": {
          "end_time": "2024-11-28T15:27:00.403494Z",
          "start_time": "2024-11-28T15:27:00.398340Z"
        },
        "id": "Ci0W7kn5ec04"
      },
      "outputs": [
        {
          "name": "stdout",
          "output_type": "stream",
          "text": [
            "El modelo aprendió los siguientes valores para weights y bias:\n",
            "OrderedDict({'weights': tensor([0.5784]), 'bias': tensor([0.3513])})\n",
            "\n",
            "Y los valores originales para weights y bias son:\n",
            "weights: 0.7, bias: 0.3\n"
          ]
        }
      ],
      "source": [
        "# Encontrar los parámetros aprendidos por nuestro modelo\n",
        "print(\"El modelo aprendió los siguientes valores para weights y bias:\")\n",
        "print(model_0.state_dict())\n",
        "print(\"\\nY los valores originales para weights y bias son:\")\n",
        "print(f\"weights: {weight}, bias: {bias}\")\n"
      ]
    },
    {
      "cell_type": "markdown",
      "metadata": {
        "id": "BZyBa9rMelBv"
      },
      "source": [
        "Nuestro modelo se acercó mucho a calcular los valores originales exactos para `weight` y `bias` (y probablemente se acercaría aún más si lo entrenáramos durante más tiempo).\n",
        "\n",
        "> **Ejercicio:** Intenta cambiar el valor de `epochs` arriba a 200. ¿Qué sucede con las curvas de pérdida y los valores de los parámetros `weights` y `bias` del modelo?\n",
        "\n",
        "Es probable que nunca los adivine *perfectamente* (especialmente cuando se usan conjuntos de datos más complejos), pero eso está bien; a menudo puedes lograr cosas muy interesantes con una aproximación cercana.\n",
        "\n",
        "Esta es toda la idea del aprendizaje automático y profundo: **existen valores ideales que describen nuestros datos** y, en lugar de descubrirlos manualmente, **podemos entrenar un modelo para que los descubra de manera programada**.\n"
      ]
    },
    {
      "cell_type": "markdown",
      "metadata": {},
      "source": [
        "- La pérdida de entrenamiento y prueba disminuyó entre la epoca 60 y 70."
      ]
    },
    {
      "cell_type": "code",
      "execution_count": 115,
      "metadata": {},
      "outputs": [
        {
          "name": "stdout",
          "output_type": "stream",
          "text": [
            "Época: 0 | MAE [train]: 0.024458957836031914 | MAE [test]: 0.05646304413676262 \n",
            "Época: 10 | MAE [train]: 0.021020207554101944 | MAE [test]: 0.04819049686193466 \n",
            "Época: 20 | MAE [train]: 0.01758546568453312 | MAE [test]: 0.04060482233762741 \n",
            "Época: 30 | MAE [train]: 0.014155393466353416 | MAE [test]: 0.03233227878808975 \n",
            "Época: 40 | MAE [train]: 0.010716589167714119 | MAE [test]: 0.024059748277068138 \n",
            "Época: 50 | MAE [train]: 0.0072835334576666355 | MAE [test]: 0.016474086791276932 \n",
            "Época: 60 | MAE [train]: 0.0038517764769494534 | MAE [test]: 0.008201557211577892 \n",
            "Época: 70 | MAE [train]: 0.008932482451200485 | MAE [test]: 0.005023092031478882 \n",
            "Época: 80 | MAE [train]: 0.008932482451200485 | MAE [test]: 0.005023092031478882 \n",
            "Época: 90 | MAE [train]: 0.008932482451200485 | MAE [test]: 0.005023092031478882 \n",
            "Época: 100 | MAE [train]: 0.008932482451200485 | MAE [test]: 0.005023092031478882 \n",
            "Época: 110 | MAE [train]: 0.008932482451200485 | MAE [test]: 0.005023092031478882 \n",
            "Época: 120 | MAE [train]: 0.008932482451200485 | MAE [test]: 0.005023092031478882 \n",
            "Época: 130 | MAE [train]: 0.008932482451200485 | MAE [test]: 0.005023092031478882 \n",
            "Época: 140 | MAE [train]: 0.008932482451200485 | MAE [test]: 0.005023092031478882 \n",
            "Época: 150 | MAE [train]: 0.008932482451200485 | MAE [test]: 0.005023092031478882 \n",
            "Época: 160 | MAE [train]: 0.008932482451200485 | MAE [test]: 0.005023092031478882 \n",
            "Época: 170 | MAE [train]: 0.008932482451200485 | MAE [test]: 0.005023092031478882 \n",
            "Época: 180 | MAE [train]: 0.008932482451200485 | MAE [test]: 0.005023092031478882 \n",
            "Época: 190 | MAE [train]: 0.008932482451200485 | MAE [test]: 0.005023092031478882 \n"
          ]
        },
        {
          "data": {
            "image/png": "[encoded data removed]",
            "text/plain": [
              "<Figure size 640x480 with 1 Axes>"
            ]
          },
          "metadata": {},
          "output_type": "display_data"
        }
      ],
      "source": [
        "torch.manual_seed(42)\n",
        "\n",
        "# Establecer el número de épocas (cuántas veces el modelo pasará sobre los datos de entrenamiento)\n",
        "epochs = 200\n",
        "\n",
        "# Crear listas vacías para rastrear los valores de la pérdida\n",
        "train_loss_values = []\n",
        "test_loss_values = []\n",
        "epoch_count = []\n",
        "\n",
        "for epoch in range(epochs):\n",
        "    ### Entrenamiento\n",
        "\n",
        "    # Poner el modelo en modo de entrenamiento (este es el estado predeterminado de un modelo)\n",
        "    model_0.train()\n",
        "\n",
        "    # 1. Paso hacia adelante con los datos de entrenamiento usando el método forward()\n",
        "    y_pred = model_0(X_train)\n",
        "    # print(y_pred)\n",
        "\n",
        "    # 2. Calcular la pérdida (qué tan diferentes son las predicciones de nuestro modelo con respecto a la verdad real)\n",
        "    loss = loss_fn(y_pred, y_train)\n",
        "\n",
        "    # 3. Reiniciar los gradientes del optimizador\n",
        "    optimizer.zero_grad()\n",
        "\n",
        "    # 4. Retropropagación de la pérdida\n",
        "    loss.backward()\n",
        "\n",
        "    # 5. Actualizar los parámetros del modelo con el optimizador\n",
        "    optimizer.step()\n",
        "\n",
        "    ### Prueba\n",
        "\n",
        "    # Poner el modelo en modo de evaluación\n",
        "    model_0.eval()\n",
        "\n",
        "    with torch.inference_mode():\n",
        "        # 1. Paso hacia adelante con los datos de prueba\n",
        "        test_pred = model_0(X_test)\n",
        "\n",
        "        # 2. Calcular la pérdida en los datos de prueba\n",
        "        test_loss = loss_fn(test_pred, y_test.type(torch.float)) # las predicciones vienen en formato torch.float, así que las comparaciones deben hacerse con tensores del mismo tipo\n",
        "\n",
        "        # Imprimir lo que está ocurriendo\n",
        "        if epoch % 10 == 0:\n",
        "            epoch_count.append(epoch)\n",
        "            train_loss_values.append(loss.detach().numpy())\n",
        "            test_loss_values.append(test_loss.detach().numpy())\n",
        "            print(f\"Época: {epoch} | MAE [train]: {loss} | MAE [test]: {test_loss} \")\n",
        "\n",
        "plt.plot(epoch_count, train_loss_values, label=\"Train loss\")\n",
        "plt.plot(epoch_count, test_loss_values, label=\"Test loss\")\n",
        "plt.title(\"Curvas de entrenamiento\")\n",
        "plt.ylabel(\"Loss\")\n",
        "plt.xlabel(\"épocas\")\n",
        "plt.legend();\n"
      ]
    },
    {
      "cell_type": "markdown",
      "metadata": {
        "id": "c-VBDFd2ec05"
      },
      "source": [
        "## 4. Realizando predicciones con un modelo entrenado de PyTorch (inferencia)\n",
        "\n",
        "Una vez que has entrenado un modelo, probablemente querrás hacer predicciones con él.\n",
        "\n",
        "Ya hemos visto un adelanto de esto en el código de entrenamiento y prueba anterior; los pasos para hacerlo fuera del bucle de entrenamiento/prueba son similares.\n",
        "\n",
        "Hay tres cosas que recordar al realizar predicciones (también llamado realizar inferencia) con un modelo de PyTorch:\n",
        "\n",
        "1. Configura el modelo en modo de evaluación (`model.eval()`).\n",
        "2. Realiza las predicciones usando el administrador de contexto para el modo de inferencia (`with torch.inference_mode(): ...`).\n",
        "3. Todas las predicciones deben realizarse con objetos en el mismo dispositivo (por ejemplo, datos y modelo en GPU o datos y modelo en CPU).\n",
        "\n",
        "Los dos primeros puntos aseguran que todos los cálculos y configuraciones útiles que PyTorch utiliza tras bambalinas durante el entrenamiento, pero que no son necesarios para la inferencia, se desactiven (esto resulta en un cálculo más rápido). Y el tercer punto asegura que no te enfrentarás a errores por dispositivos cruzados.\n"
      ]
    },
    {
      "cell_type": "code",
      "execution_count": 123,
      "metadata": {
        "ExecuteTime": {
          "end_time": "2024-11-28T15:28:16.486482Z",
          "start_time": "2024-11-28T15:28:16.479905Z"
        },
        "id": "xKKxSBVuec05"
      },
      "outputs": [],
      "source": [
        "# 1. Poner el modelo en modo de evaluación\n",
        "model_0.eval()\n",
        "\n",
        "# 2. Realiza las predicciones en modo torch.inference_mode()\n",
        "with torch.inference_mode():\n",
        "    y_preds = model_0(X_test)"
      ]
    },
    {
      "cell_type": "markdown",
      "metadata": {
        "id": "Cn21JvzmjbBO"
      },
      "source": [
        "Vale, ahora veamos qué pinta tienen las predicciones"
      ]
    },
    {
      "cell_type": "code",
      "execution_count": 124,
      "metadata": {
        "ExecuteTime": {
          "end_time": "2024-11-28T15:27:00.611489Z",
          "start_time": "2024-11-28T15:27:00.434700Z"
        },
        "id": "b_kBqpCfec05"
      },
      "outputs": [
        {
          "data": {
            "image/png": "[encoded data removed]",
            "text/plain": [
              "<Figure size 800x600 with 1 Axes>"
            ]
          },
          "metadata": {},
          "output_type": "display_data"
        }
      ],
      "source": [
        "# imprime de nuevo los datos de training, los de test y las predicciones\n",
        "plot_predictions(train_data=X_train, train_labels=y_train,\n",
        "                 test_data=X_test, test_labels=y_test, predictions=y_preds)"
      ]
    },
    {
      "cell_type": "markdown",
      "metadata": {
        "id": "fEHGrjLgji6E"
      },
      "source": [
        "Pues parece que nos hemos aproximado bastante!\n"
      ]
    },
    {
      "cell_type": "markdown",
      "metadata": {
        "id": "8NRng9aEec05"
      },
      "source": [
        "## 5. Cargar y guardar un modelo en PyTorch\n",
        "\n",
        "Si has entrenado un modelo en PyTorch, lo más probable es que desees guardarlo y exportarlo a algún lugar.\n",
        "\n",
        "Por ejemplo, podrías entrenarlo en Google Colab o en tu máquina local con una GPU, pero luego querrías exportarlo a algún tipo de aplicación donde otros puedan usarlo.\n",
        "\n",
        "O tal vez desees guardar tu progreso en un modelo y volver a cargarlo más tarde.\n",
        "\n",
        "Para guardar y cargar modelos en PyTorch, hay tres métodos principales que deberías conocer (todos ellos están tomados de la [guía de guardar y cargar modelos en PyTorch](https://pytorch.org/tutorials/beginner/saving_loading_models.html#saving-loading-model-for-inference)):\n",
        "\n",
        "| Método de PyTorch | ¿Qué hace? |\n",
        "| ----- | ----- |\n",
        "| [`torch.save`](https://pytorch.org/docs/stable/torch.html?highlight=save#torch.save) | Guarda un objeto serializado en el disco utilizando la utilidad [`pickle`](https://docs.python.org/3/library/pickle.html) de Python. Los modelos, tensores y otros objetos de Python como diccionarios pueden guardarse con `torch.save`. |\n",
        "| [`torch.load`](https://pytorch.org/docs/stable/torch.html?highlight=torch%20load#torch.load) | Usa las funciones de deserialización de `pickle` para cargar archivos de objetos serializados de Python (como modelos, tensores o diccionarios) en memoria. También puedes especificar en qué dispositivo cargar el objeto (CPU, GPU, etc.). |\n",
        "| [`torch.nn.Module.load_state_dict`](https://pytorch.org/docs/stable/generated/torch.nn.Module.html?highlight=load_state_dict#torch.nn.Module.load_state_dict)| Carga el diccionario de parámetros de un modelo (`model.state_dict()`) usando un objeto `state_dict()` guardado previamente. |\n",
        "\n",
        "> **Nota:** Como se indica en la [documentación de `pickle` de Python](https://docs.python.org/3/library/pickle.html), el módulo `pickle` **no es seguro**. Esto significa que solo debes deserializar (cargar) datos en los que confíes. Esto también aplica a cargar modelos de PyTorch. Solo utiliza modelos de PyTorch guardados de fuentes confiables.\n"
      ]
    },
    {
      "cell_type": "markdown",
      "metadata": {
        "id": "SdAGcH2aec05"
      },
      "source": [
        "### Guardando el `state_dict()` de un modelo en PyTorch\n",
        "\n",
        "La [forma recomendada](https://pytorch.org/tutorials/beginner/saving_loading_models.html#saving-loading-model-for-inference) de guardar y cargar un modelo para inferencia (hacer predicciones) es guardando y cargando el `state_dict()` del modelo.\n",
        "\n",
        "Veamos cómo podemos hacerlo en unos pocos pasos:\n",
        "\n",
        "1. Crearemos un directorio para guardar los modelos llamado `models` utilizando el módulo `pathlib` de Python.\n",
        "2. Crearemos una ruta de archivo donde guardar el modelo.\n",
        "3. Llamaremos a `torch.save(obj, f)`, donde `obj` es el `state_dict()` del modelo objetivo y `f` es el nombre del archivo donde guardar el modelo.\n",
        "\n",
        "> **Nota:** Es una convención común que los modelos o objetos guardados en PyTorch terminen con `.pt` o `.pth`, como `saved_model_01.pth`.\n",
        "\n"
      ]
    },
    {
      "cell_type": "code",
      "execution_count": 174,
      "metadata": {
        "ExecuteTime": {
          "end_time": "2024-11-28T15:27:00.627508Z",
          "start_time": "2024-11-28T15:27:00.612491Z"
        },
        "id": "qsQhY2S2jv90"
      },
      "outputs": [
        {
          "name": "stdout",
          "output_type": "stream",
          "text": [
            "Guardando el modelo en: models\\01_pytorch_workflow_model_0.pth\n"
          ]
        }
      ],
      "source": [
        "from pathlib import Path\n",
        "\n",
        "# 1. Crear un directorio para los modelos\n",
        "MODEL_PATH = Path(\"models\")\n",
        "MODEL_PATH.mkdir(parents=True, exist_ok=True)\n",
        "\n",
        "# 2. Crear la ruta para guardar el modelo\n",
        "MODEL_NAME = \"01_pytorch_workflow_model_0.pth\"\n",
        "MODEL_SAVE_PATH = MODEL_PATH / MODEL_NAME\n",
        "\n",
        "# 3. Guardar el state_dict del modelo\n",
        "print(f\"Guardando el modelo en: {MODEL_SAVE_PATH}\")\n",
        "torch.save(obj=model_0.state_dict(), # guardar solo el state_dict() guarda únicamente los parámetros aprendidos del modelo\n",
        "           f=MODEL_SAVE_PATH)\n"
      ]
    },
    {
      "cell_type": "code",
      "execution_count": null,
      "metadata": {
        "ExecuteTime": {
          "end_time": "2024-11-28T15:27:01.172343Z",
          "start_time": "2024-11-28T15:27:00.628385Z"
        },
        "id": "mpQc45zwec06"
      },
      "outputs": [
        {
          "name": "stdout",
          "output_type": "stream",
          "text": [
            " El volumen de la unidad C no tiene etiqueta.\n",
            " El n�mero de serie del volumen es: AC05-173B\n",
            "\n",
            " Directorio de c:\\Users\\Buhardilla\\OneDrive\\Documentos\\Curso IA y Big Data Git\\Programacion de Inteligencia Artificial\\2EV\\Tema 6\\Python\\Ejercicios\\Pytorch Workflow\\models\n",
            "\n",
            "08/05/2025  21:00             1.680 01_pytorch_workflow_model_0.pth\n",
            "               1 archivos          1.680 bytes\n",
            "               0 dirs   4.797.255.680 bytes libres\n",
            "\n",
            "Desde Python: \n",
            "\n",
            "01_pytorch_workflow_model_0.pth\n"
          ]
        }
      ],
      "source": [
        "# Comprobar que el modelo está ahí\n",
        "# !ls -l models/01_pytorch_workflow_model_0.pth\n",
        "\n",
        "# o en windows :(\n",
        "!dir models\\01_pytorch_workflow_model_0.pth\n",
        "\n",
        "# He tenido que hacerlo desde Python, me sale un error\n",
        "print(\"\\nDesde Python: \\n\")\n",
        "for file in MODEL_PATH.iterdir():\n",
        "    print(file.name)\n"
      ]
    },
    {
      "cell_type": "markdown",
      "metadata": {
        "id": "jFQpRoH5ec06"
      },
      "source": [
        "### Cargando el `state_dict()` de un modelo guardado en PyTorch\n",
        "\n",
        "Dado que ahora tenemos un `state_dict()` del modelo guardado en `models/01_pytorch_workflow_model_0.pth`, podemos cargarlo utilizando `torch.nn.Module.load_state_dict(torch.load(f))`, donde `f` es la ruta al archivo de nuestro `state_dict()` guardado.\n",
        "\n",
        "#### ¿Por qué llamar a `torch.load()` dentro de `torch.nn.Module.load_state_dict()`?\n",
        "\n",
        "Como solo guardamos el `state_dict()` del modelo, que es un diccionario de parámetros aprendidos y no el modelo completo, primero debemos cargar el `state_dict()` con `torch.load()` y luego pasarlo a una nueva instancia de nuestro modelo (que es una subclase de `nn.Module`).\n",
        "\n",
        "#### ¿Por qué no guardar el modelo completo?\n",
        "\n",
        "[Guardar el modelo completo](https://pytorch.org/tutorials/beginner/saving_loading_models.html#save-load-entire-model) en lugar de solo el `state_dict()` es más intuitivo, sin embargo, citando la documentación de PyTorch (énfasis mío):\n",
        "\n",
        "> La desventaja de este enfoque *(guardar el modelo completo)* es que los datos serializados están vinculados a las clases específicas y a la estructura exacta del directorio utilizado cuando se guarda el modelo...\n",
        ">\n",
        "> Debido a esto, tu código puede romperse de diversas formas al usarse en otros proyectos o después de refactorizaciones.\n",
        "\n",
        "Por lo tanto, estamos utilizando el método flexible de guardar y cargar solo el `state_dict()`, que básicamente es un diccionario de parámetros del modelo.\n",
        "\n",
        "Probémoslo creando otra instancia de `LinearRegressionModel()`, que es una subclase de `torch.nn.Module` y, por lo tanto, tiene el método incorporado `load_state_dict()`.\n"
      ]
    },
    {
      "cell_type": "code",
      "execution_count": 176,
      "metadata": {
        "ExecuteTime": {
          "end_time": "2024-11-28T15:27:01.184740Z",
          "start_time": "2024-11-28T15:27:01.175647Z"
        },
        "id": "xlQgLsP0RO-Z"
      },
      "outputs": [
        {
          "data": {
            "text/plain": [
              "<All keys matched successfully>"
            ]
          },
          "execution_count": 176,
          "metadata": {},
          "output_type": "execute_result"
        }
      ],
      "source": [
        "# Crear una nueva instancia de nuestro modelo (esto se inicializará con pesos aleatorios)\n",
        "loaded_model_0 = LinearRegressionModel()\n",
        "\n",
        "# Cargar el state_dict de nuestro modelo guardado (esto actualizará la nueva instancia de nuestro modelo con los pesos entrenados)\n",
        "loaded_model_0.load_state_dict(torch.load(f=MODEL_SAVE_PATH, weights_only=True))\n"
      ]
    },
    {
      "cell_type": "markdown",
      "metadata": {
        "id": "vK8PRtY7Qgpz"
      },
      "source": [
        "¡Excelente! Parece que todo coincide.\n",
        "\n",
        "Ahora, para probar nuestro modelo cargado, hagamos inferencias con él (predicciones) en los datos de prueba.\n",
        "\n",
        "¿Recuerdas las reglas para realizar inferencias con modelos de PyTorch?\n",
        "\n",
        "Si no, aquí tienes un repaso:\n",
        "\n",
        "<details>\n",
        "    <summary>Reglas para realizar inferencias en PyTorch</summary>\n",
        "    <ol>\n",
        "        <li> Configura el modelo en modo de evaluación (<code>model.eval()</code>). </li>\n",
        "        <li> Realiza las predicciones usando el administrador de contexto para el modo de inferencia (<code>with torch.inference_mode(): ...</code>). </li>\n",
        "        <li> Todas las predicciones deben hacerse con los objetos en el mismo dispositivo (por ejemplo, datos y modelo solo en GPU o datos y modelo solo en CPU).</li>\n",
        "    </ol>\n",
        "</details>\n",
        "\n",
        "\n"
      ]
    },
    {
      "cell_type": "code",
      "execution_count": 177,
      "metadata": {
        "ExecuteTime": {
          "end_time": "2024-11-28T15:27:01.203220Z",
          "start_time": "2024-11-28T15:27:01.185572Z"
        },
        "id": "Ps-AuJqkec06"
      },
      "outputs": [],
      "source": [
        "# 1. Poner el modelo cargado en modo de evaluación\n",
        "loaded_model_0.eval()\n",
        "\n",
        "# 2. Usar el administrador de contexto de modo de inferencia para hacer predicciones\n",
        "with torch.inference_mode():\n",
        "    loaded_model_preds = loaded_model_0(X_test) # realizar un paso hacia adelante en los datos de prueba con el modelo cargado\n"
      ]
    },
    {
      "cell_type": "markdown",
      "metadata": {
        "id": "e81XpN8WSSqn"
      },
      "source": [
        "Now we've made some predictions with the loaded model, let's see if they're the same as the previous predictions."
      ]
    },
    {
      "cell_type": "code",
      "execution_count": 178,
      "metadata": {
        "ExecuteTime": {
          "end_time": "2024-11-28T15:27:01.222755Z",
          "start_time": "2024-11-28T15:27:01.204602Z"
        },
        "id": "il9gqj6Nec06"
      },
      "outputs": [
        {
          "data": {
            "text/plain": [
              "tensor([[True],\n",
              "        [True],\n",
              "        [True],\n",
              "        [True],\n",
              "        [True],\n",
              "        [True],\n",
              "        [True],\n",
              "        [True],\n",
              "        [True],\n",
              "        [True]])"
            ]
          },
          "execution_count": 178,
          "metadata": {},
          "output_type": "execute_result"
        }
      ],
      "source": [
        "# Comparar las predicciones con las cargadas (deberían ser igual)\n",
        "y_preds == loaded_model_preds"
      ]
    },
    {
      "cell_type": "markdown",
      "metadata": {
        "id": "9Y4ZcxxfNcVu"
      },
      "source": [
        "Perfecto! Esto quiere decir que el modelo se guardó correctamente y recuperamos los pesos correctamente\n",
        "\n",
        "> **Nota:** Hay más métodos para guardar y cargar modelos. Puedes echarles un vistazo aquí: [PyTorch guide for saving and loading models](https://pytorch.org/tutorials/beginner/saving_loading_models.html#saving-and-loading-models)"
      ]
    }
  ],
  "metadata": {
    "accelerator": "GPU",
    "colab": {
      "provenance": [],
      "toc_visible": true
    },
    "kernelspec": {
      "display_name": "base",
      "language": "python",
      "name": "python3"
    },
    "language_info": {
      "codemirror_mode": {
        "name": "ipython",
        "version": 3
      },
      "file_extension": ".py",
      "mimetype": "text/x-python",
      "name": "python",
      "nbconvert_exporter": "python",
      "pygments_lexer": "ipython3",
      "version": "3.12.7"
    }
  },
  "nbformat": 4,
  "nbformat_minor": 0
}
