{
 "cells": [
  {
   "cell_type": "markdown",
   "metadata": {
    "application/vnd.databricks.v1+cell": {
     "cellMetadata": {},
     "inputWidgets": {},
     "nuid": "13f817b1-6d03-490c-953d-1754c19ec201",
     "showTitle": false,
     "tableResultSettingsMap": {},
     "title": ""
    }
   },
   "source": [
    "## Ejercicio 1. Operaciones con RDD’s\n",
    "\n",
    "- Crea un RDD con números del 1 al 100. Calcula la cantidad de elementos, la suma total, el promedio y el valor máximo. Imprime los resultados.\n",
    "- Sobre el RDD anterior, filtra únicamente los números pares. Usa map para transformar cada número filtrado en su cuadrado. Muestra los primeros 10 resultados.\n",
    "- Transforma el RDD anterior en un RDD de tuplas en formato (categoría, valor), donde la categoría sea el último dígito del cuadrado convertido a string. Utiliza reduceByKey para sumar los valores de cada categoría. Imprime el resultado para cada categoría.\n"
   ]
  },
  {
   "cell_type": "markdown",
   "metadata": {
    "application/vnd.databricks.v1+cell": {
     "cellMetadata": {},
     "inputWidgets": {},
     "nuid": "b6081409-fb07-4909-a702-0e64459b952e",
     "showTitle": false,
     "tableResultSettingsMap": {},
     "title": ""
    }
   },
   "source": [
    "## Ejercicio 2. Operaciones con dataframes\n",
    "- Sobre los datos de ratings (u.data), películas (u.item) y usuarios (u.user), muestra la película con mayor número de votos positivos (4,5) según los siguientes criterios:\n",
    "  - Sexo\n",
    "  - Edad (0-25, 25-45, 45-65, >65)\n",
    "  - Ocupación"
   ]
  },
  {
   "cell_type": "markdown",
   "metadata": {
    "application/vnd.databricks.v1+cell": {
     "cellMetadata": {},
     "inputWidgets": {},
     "nuid": "1e573e26-94da-4e66-b037-274414add67a",
     "showTitle": false,
     "tableResultSettingsMap": {},
     "title": ""
    }
   },
   "source": [
    "## Ejercicio 3. Análisis de ventas\n",
    "Disponemos de tres ficheros de ventas de una tienda americana de productos de tecnología, correspondientes a los meses de octubre, noviembre y diciembre. Realiza las siguientes tareas:\n",
    "- Lectura de los ficheros como RDDs\n",
    "- Limpieza de datos: eliminar registros vacíos o con un número de campos incorrecto. Detectar y eliminar posibles filas de cabecera (header) si aparecen como registros.\n",
    "- Convertir a dataframe con el siguiente esquema:\n",
    "  - \"Order ID\", Integer\n",
    "  - \"Product\", String\n",
    "  - \"Quantity Ordered\", Integer\n",
    "  - \"Price Each\", Double\n",
    "  - \"Order Date\", String\n",
    "  - \"Purchase Address\", String\n",
    "- Unir los registros en un único dataframe \"Ventas\"\n",
    "- Generar una tabla temporal \"Productos\" con los productos vendidos y su precio medio\n",
    "- Crear campos adicionales en el dataframe Ventas: year, month, state, city, CP a partir de los campos Order Date y Purchase Address\n",
    "- Obtener el día con mayores ingresos\n",
    "- Obtener el producto más vendido (por cantidad total) y qué ingresos ha generado en total.\n",
    "- Listar las 10 ciudades con mayores ventas (en ingresos).\n",
    "- Tabla de número de pedidos e importe por horas (campo hour extraído de Order Date).\n",
    "- Almacenar los datos en formato Parquet en la carpeta \"sales\", particionando por year y month."
   ]
  },
  {
   "cell_type": "markdown",
   "metadata": {
    "application/vnd.databricks.v1+cell": {
     "cellMetadata": {},
     "inputWidgets": {},
     "nuid": "54580e56-d245-432f-b64e-5123c34e4e28",
     "showTitle": false,
     "tableResultSettingsMap": {},
     "title": ""
    }
   },
   "source": [
    "## Ejercicio 4. Completar Problema del Viajante con Búsqueda en Anchura en PySpark\n",
    "Se dispone de un diccionario de distancias entre 10 ciudades españolas. El objetivo es implementar, utilizando PySpark, un algoritmo que resuelva un caso simplificado del Problema del Viajante (TSP). Específicamente, se debe encontrar la ruta de menor distancia que parta desde Madrid y que visite cada una de las ciudades exactamente una vez.\n",
    "\n",
    "Para ello, se utilizará un recorrido en anchura (Breadth First Search, BFS) sobre un RDD. Cada ruta parcial se representará como una tupla formada por:\n",
    "- Una lista con el orden de ciudades visitadas.\n",
    "- La distancia acumulada en esa ruta.\n",
    "\n",
    "Se empleará una variable broadcast para compartir la tabla de distancias entre los workers, evitando así que cada tarea tenga que reenviar estos datos.\n",
    "\n",
    "Entender las funciones definidas, completar las llamadas que faltan y ejecutar."
   ]
  },
  {
   "cell_type": "code",
   "execution_count": 0,
   "metadata": {
    "application/vnd.databricks.v1+cell": {
     "cellMetadata": {
      "byteLimit": 2048000,
      "rowLimit": 10000
     },
     "inputWidgets": {},
     "nuid": "73947e7d-8567-4092-8e17-6e5924a5b680",
     "showTitle": false,
     "tableResultSettingsMap": {},
     "title": ""
    }
   },
   "outputs": [],
   "source": [
    "# Diccionario que contiene las distancias (en kilómetros) entre cada par de ciudades.\n",
    "distancias = {\n",
    "    \"Madrid\": {\"Barcelona\": 620, \"Valencia\": 350, \"Sevilla\": 530, \"Zaragoza\": 320, \"Málaga\": 530, \"Bilbao\": 400, \"Murcia\": 420, \"Palma\": 500, \"Alicante\": 420},\n",
    "    \"Barcelona\": {\"Madrid\": 620, \"Valencia\": 350, \"Sevilla\": 1000, \"Zaragoza\": 300, \"Málaga\": 1080, \"Bilbao\": 600, \"Murcia\": 700, \"Palma\": 210, \"Alicante\": 520},\n",
    "    \"Valencia\": {\"Madrid\": 350, \"Barcelona\": 350, \"Sevilla\": 660, \"Zaragoza\": 300, \"Málaga\": 600, \"Bilbao\": 700, \"Murcia\": 140, \"Palma\": 250, \"Alicante\": 170},\n",
    "    \"Sevilla\": {\"Madrid\": 530, \"Barcelona\": 1000, \"Valencia\": 660, \"Zaragoza\": 700, \"Málaga\": 210, \"Bilbao\": 750, \"Murcia\": 500, \"Palma\": 650, \"Alicante\": 450},\n",
    "    \"Zaragoza\": {\"Madrid\": 320, \"Barcelona\": 300, \"Valencia\": 300, \"Sevilla\": 700, \"Málaga\": 670, \"Bilbao\": 300, \"Murcia\": 510, \"Palma\": 450, \"Alicante\": 500},\n",
    "    \"Málaga\": {\"Madrid\": 530, \"Barcelona\": 1080, \"Valencia\": 600, \"Sevilla\": 210, \"Zaragoza\": 670, \"Bilbao\": 800, \"Murcia\": 400, \"Palma\": 700, \"Alicante\": 480},\n",
    "    \"Bilbao\": {\"Madrid\": 400, \"Barcelona\": 600, \"Valencia\": 700, \"Sevilla\": 750, \"Zaragoza\": 300, \"Málaga\": 800, \"Murcia\": 650, \"Palma\": 750, \"Alicante\": 680},\n",
    "    \"Murcia\": {\"Madrid\": 420, \"Barcelona\": 700, \"Valencia\": 140, \"Sevilla\": 500, \"Zaragoza\": 510, \"Málaga\": 400, \"Bilbao\": 650, \"Palma\": 350, \"Alicante\": 75},\n",
    "    \"Palma\": {\"Madrid\": 500, \"Barcelona\": 210, \"Valencia\": 250, \"Sevilla\": 650, \"Zaragoza\": 450, \"Málaga\": 700, \"Bilbao\": 750, \"Murcia\": 350, \"Alicante\": 520},\n",
    "    \"Alicante\": {\"Madrid\": 420, \"Barcelona\": 520, \"Valencia\": 170, \"Sevilla\": 450, \"Zaragoza\": 500, \"Málaga\": 480, \"Bilbao\": 680, \"Murcia\": 75, \"Palma\": 520}\n",
    "}\n",
    "\n",
    "# Variable “distancias_compartidas” de solo lectura, distribuida entre nodos del cluster\n",
    "distancias_compartidas = ## COMPLETAR ##\n",
    "\n",
    "# Extiende cada ruta parcial añadiendo un nuevo nodo para cada ciudad no visitada.\n",
    "def expandir_camino(camino):\n",
    "    ruta = camino[0]\n",
    "    distancia = camino[1]\n",
    "    ultimo_nodo = ruta[-1]\n",
    "    caminos_expandidos = []\n",
    "    \n",
    "    nodos_visitados = set(ruta)\n",
    "    nodos_no_visitados = set(distancias_compartidas.value.keys()) - nodos_visitados\n",
    "    \n",
    "    for nodo in nodos_no_visitados:\n",
    "        nueva_ruta = ruta + [nodo]\n",
    "        nueva_distancia = distancia + distancias_compartidas.value[ultimo_nodo][nodo]\n",
    "        caminos_expandidos.append((nueva_ruta, nueva_distancia))\n",
    "    \n",
    "    return caminos_expandidos\n",
    "\n",
    "# Para cada par de caminos, se queda con el de menor distancia\n",
    "def reducir_caminos(camino1, camino2):\n",
    "    return camino1 if camino1[1] < camino2[1] else camino2\n",
    "\n",
    "# Inicializa el camino con el nodo inicial y la distancia 0\n",
    "nodo_inicial = ['Madrid']\n",
    "distancia = 0\n",
    "camino_rdd = ## COMPLETAR ##\n",
    "\n",
    "# Iterar hasta que todos los nodos sean visitados por todos los caminos\n",
    "while len(camino_rdd.first()[0]) < len(distancias_compartidas.value):\n",
    "    camino_rdd = ## COMPLETAR ##\n",
    "\n",
    "# Ver número de caminos generados\n",
    "num_caminos = ## COMPLETAR ##\n",
    "print(f\"Se han generado {num_caminos} caminos\")\n",
    "\n",
    "# Obtener el camino más corto\n",
    "camino_mas_corto = ## COMPLETAR ##\n",
    "\n",
    "print(f\"El camino más corto es: {camino_mas_corto[0]} con una distancia de {camino_mas_corto[1]} km\")\n"
   ]
  }
 ],
 "metadata": {
  "application/vnd.databricks.v1+notebook": {
   "computePreferences": null,
   "dashboards": [],
   "environmentMetadata": {
    "base_environment": "",
    "client": "1"
   },
   "language": "python",
   "notebookMetadata": {
    "pythonIndentUnit": 4
   },
   "notebookName": "Examen práctico 2ª evaluación",
   "widgets": {}
  }
 },
 "nbformat": 4,
 "nbformat_minor": 0
}
