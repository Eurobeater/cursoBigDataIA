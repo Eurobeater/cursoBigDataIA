{
 "cells": [
  {
   "cell_type": "markdown",
   "metadata": {
    "application/vnd.databricks.v1+cell": {
     "cellMetadata": {
      "byteLimit": 2048000,
      "rowLimit": 10000
     },
     "inputWidgets": {},
     "nuid": "2ef23b78-46ab-4dd1-95a1-97c4830626d7",
     "showTitle": false,
     "tableResultSettingsMap": {},
     "title": ""
    }
   },
   "source": [
    "# Inicializa contexto Spark"
   ]
  },
  {
   "cell_type": "code",
   "execution_count": 0,
   "metadata": {
    "application/vnd.databricks.v1+cell": {
     "cellMetadata": {
      "byteLimit": 2048000,
      "rowLimit": 10000
     },
     "inputWidgets": {},
     "nuid": "1b6aadc3-d35c-4932-9dca-32ba6752f38d",
     "showTitle": false,
     "tableResultSettingsMap": {},
     "title": ""
    }
   },
   "outputs": [
    {
     "output_type": "stream",
     "name": "stdout",
     "output_type": "stream",
     "text": [
      "<SparkContext master=local[8] appName=Databricks Shell>\nOut[1]: <pyspark.conf.SparkConf at 0x7f00c041c250>"
     ]
    }
   ],
   "source": [
    "# Import PySpark libraries\n",
    "from pyspark import SparkContext, SparkConf \n",
    "from pyspark.sql import SparkSession\n",
    "#from pyspark import SparkContext\n",
    "\n",
    "# Obtener la sesión de Spark en Databricks (NO creamos un nuevo SparkContext)\n",
    "spark = SparkSession.builder.appName(\"Ejercicios RDD\").getOrCreate()\n",
    "\n",
    "# Obtener el SparkContext ya existente desde SparkSession\n",
    "sc = spark.sparkContext  # ✅ Usa el SparkContext que ya existe\n",
    "\n",
    "print(sc)\n",
    "\n",
    "# Initialize SparkConf\n",
    "conf = SparkConf().setMaster(\"local[*]\").setAppName(\"Ejercicios RDD\")\n",
    "\n",
    "conf.set(\"spark.hadoop.fs.defaultFS\", \"file:///\")  # Sistema de archivos local\n",
    "conf.set(\"spark.hadoop.io.file.buffer.size\", \"4096\")\n",
    "\n",
    "# Initialize SparkContext\n",
    "# sc = SparkContext(conf = conf)\n"
   ]
  },
  {
   "cell_type": "markdown",
   "metadata": {
    "application/vnd.databricks.v1+cell": {
     "cellMetadata": {
      "byteLimit": 2048000,
      "rowLimit": 10000
     },
     "inputWidgets": {},
     "nuid": "0d19c93d-c16f-4ffa-a871-1e8215b5446c",
     "showTitle": false,
     "tableResultSettingsMap": {},
     "title": ""
    }
   },
   "source": [
    "# 1. Crea un RDD y visualiza su contenido\n",
    "\n",
    "Ejercicio  \n",
    "Crea un RDD con los nombres de países más visitados del mundo. Muestra su contenido.  \n",
    "\n",
    "Datos  \n",
    "paises = [\"Francia\", \"España\", \"Estados Unidos\", \"China\", \"Italia\", \"Turquía\"]  \n",
    "\n",
    "Tarea\n",
    " - Crear un RDD a partir de la lista de países (usar función parallelize de SparkContext).\n",
    " - Mostrar su contenido usando collect().\n"
   ]
  },
  {
   "cell_type": "code",
   "execution_count": 0,
   "metadata": {
    "application/vnd.databricks.v1+cell": {
     "cellMetadata": {
      "byteLimit": 2048000,
      "rowLimit": 10000
     },
     "inputWidgets": {},
     "nuid": "5b0bfde9-0c57-4b67-b722-efc80d20e815",
     "showTitle": false,
     "tableResultSettingsMap": {},
     "title": ""
    }
   },
   "outputs": [
    {
     "output_type": "stream",
     "name": "stdout",
     "output_type": "stream",
     "text": [
      "Out[2]: ['Francia', 'España', 'Estados Unidos', 'China', 'Italia', 'Turquía']"
     ]
    }
   ],
   "source": [
    "# Datos\n",
    "paises = [\"Francia\", \"España\", \"Estados Unidos\", \"China\", \"Italia\", \"Turquía\"]\n",
    "\n",
    "# Tarea\n",
    "# - Crear un RDD con la lista.\n",
    "rdd = sc.parallelize(paises)\n",
    "\n",
    "# - Mostrar su contenido usando collect(). collect() es una acción que recupera todos los elementos del RDD y los devuelve como una lista.\n",
    "rdd.collect()\n"
   ]
  },
  {
   "cell_type": "markdown",
   "metadata": {
    "application/vnd.databricks.v1+cell": {
     "cellMetadata": {
      "byteLimit": 2048000,
      "rowLimit": 10000
     },
     "inputWidgets": {},
     "nuid": "01282a0a-e097-441f-b3e8-38a215003fc3",
     "showTitle": false,
     "tableResultSettingsMap": {},
     "title": ""
    }
   },
   "source": [
    "# 2. map(): Transformar datos  \n",
    "Aplica una función a cada elemento del RDD y devuelve un nuevo RDD.\n",
    "\n",
    "- https://spark.apache.org/docs/latest/api/python/reference/api/pyspark.RDD.map.html\n",
    "\n",
    "Ejercicio  \n",
    "Tenemos las temperaturas promedio (en °C) de las principales ciudades del mundo en una lista. Convierte estas temperaturas a grados Fahrenheit.  \n",
    "\n",
    "Datos  \n",
    "temperaturas_c = [20, 15, 30, 25, 10]\n",
    "\n",
    "Tarea\n",
    " - Crear un RDD con las temperaturas.\n",
    " - Convertir cada temperatura de °C a °F usando la fórmula: (°C × 9/5) + 32.\n"
   ]
  },
  {
   "cell_type": "code",
   "execution_count": 0,
   "metadata": {
    "application/vnd.databricks.v1+cell": {
     "cellMetadata": {
      "byteLimit": 2048000,
      "rowLimit": 10000
     },
     "inputWidgets": {},
     "nuid": "4938d782-d87d-4d31-9a36-351e8c426426",
     "showTitle": false,
     "tableResultSettingsMap": {},
     "title": ""
    }
   },
   "outputs": [
    {
     "output_type": "stream",
     "name": "stdout",
     "output_type": "stream",
     "text": [
      "Temperaturas en °C y su equivalente en °F:\n[(20, 68.0), (15, 59.0), (30, 86.0), (25, 77.0), (10, 50.0)]\n"
     ]
    }
   ],
   "source": [
    "# Datos\n",
    "temperaturas_c = [20, 15, 30, 25, 10]\n",
    "\n",
    "# Tarea\n",
    "# - Crear un RDD con las temperaturas\n",
    "rdd_temperaturas = sc.parallelize(temperaturas_c)\n",
    "\n",
    "# - Convertir temperaturas a grados Fahrenheit\n",
    "rdd_temperaturas_f = rdd_temperaturas.map(lambda temp: (temp, (temp * 9/5) + 32))\n",
    "\n",
    "# - Mostrar su contenido usando collect()\n",
    "print(\"Temperaturas en °C y su equivalente en °F:\")\n",
    "print(rdd_temperaturas_f.collect())"
   ]
  },
  {
   "cell_type": "markdown",
   "metadata": {
    "application/vnd.databricks.v1+cell": {
     "cellMetadata": {
      "byteLimit": 2048000,
      "rowLimit": 10000
     },
     "inputWidgets": {},
     "nuid": "48c1464b-4159-47e3-8729-3c8194a20184",
     "showTitle": false,
     "tableResultSettingsMap": {},
     "title": ""
    }
   },
   "source": [
    "# 3. filter(): Filtrar datos\n",
    "Devuelve un nuevo RDD que contiene solo los elementos que cumplen con la condición dada.\n",
    "\n",
    "- https://spark.apache.org/docs/latest/api/python/reference/api/pyspark.RDD.filter.html\n",
    "\n",
    "Ejercicio  \n",
    "De una lista de alturas de montañas (en metros), selecciona solo las montañas que superen los 3000 metros.  \n",
    "\n",
    "Datos  \n",
    "alturas_montanas = [8848, 8611, 2825, 4500, 1500, 3100]\n",
    "\n",
    "Tarea\n",
    " - Crear un RDD con las alturas.\n",
    " - Filtrar las alturas mayores a 3000 metros.\n"
   ]
  },
  {
   "cell_type": "code",
   "execution_count": 0,
   "metadata": {
    "application/vnd.databricks.v1+cell": {
     "cellMetadata": {
      "byteLimit": 2048000,
      "rowLimit": 10000
     },
     "inputWidgets": {},
     "nuid": "d9bb2152-8dab-432b-b3d5-269a60063847",
     "showTitle": false,
     "tableResultSettingsMap": {},
     "title": ""
    }
   },
   "outputs": [
    {
     "output_type": "stream",
     "name": "stdout",
     "output_type": "stream",
     "text": [
      "Alturas mayores a 3000 metros:\n[8848, 8611, 4500, 3100]\n"
     ]
    }
   ],
   "source": [
    "# Datos\n",
    "alturas_montanas = [8848, 8611, 2825, 4500, 1500, 3100]\n",
    "\n",
    "# Tarea\n",
    "# - Crear un rdd con las alturas\n",
    "rdd_alturas = sc.parallelize(alturas_montanas)\n",
    "\n",
    "# - Filtrar las alturas mayores que 30  00\n",
    "rdd_alturas_filtradas = rdd_alturas.filter(lambda h: h > 3000)\n",
    "# - Mostrar su contenido usando collect()\n",
    "print(\"Alturas mayores a 3000 metros:\")\n",
    "print(rdd_alturas_filtradas.collect())"
   ]
  },
  {
   "cell_type": "markdown",
   "metadata": {
    "application/vnd.databricks.v1+cell": {
     "cellMetadata": {
      "byteLimit": 2048000,
      "rowLimit": 10000
     },
     "inputWidgets": {},
     "nuid": "802596dc-ac6a-4ac0-be1d-d8594577a8ed",
     "showTitle": false,
     "tableResultSettingsMap": {},
     "title": ""
    }
   },
   "source": [
    "# 4. flatMap(): Generar múltiples elementos por entrada\n",
    "Similar a map, pero cada elemento de entrada puede ser mapeado a cero o más elementos de salida (aplana el resultado).\n",
    "\n",
    "- https://spark.apache.org/docs/latest/api/python/reference/api/pyspark.RDD.flatMap.html\n",
    "\n",
    "Ejercicio  \n",
    "Divide las siguientes frases en palabras individuales.  \n",
    "\n",
    "Datos  \n",
    "frases = [\"El león es el rey de la selva\", \"Los elefantes son los mamíferos terrestres más grandes\", \"Las ballenas son gigantes del océano\"]\n",
    "\n",
    "Tarea\n",
    " - Crear un RDD con las frases.\n",
    " - Usar flatMap para dividir cada frase en palabras (la función split divide una cadena por el separador indicado).\n"
   ]
  },
  {
   "cell_type": "code",
   "execution_count": 0,
   "metadata": {
    "application/vnd.databricks.v1+cell": {
     "cellMetadata": {
      "byteLimit": 2048000,
      "rowLimit": 10000
     },
     "inputWidgets": {},
     "nuid": "743da014-5a6d-4a65-9133-7d7f18772a93",
     "showTitle": false,
     "tableResultSettingsMap": {},
     "title": ""
    }
   },
   "outputs": [
    {
     "output_type": "stream",
     "name": "stdout",
     "output_type": "stream",
     "text": [
      "Palabras individuales:\n['El', 'león', 'es', 'el', 'rey', 'de', 'la', 'selva', 'Los', 'elefantes', 'son', 'los', 'mamíferos', 'terrestres', 'más', 'grandes', 'Las', 'ballenas', 'son', 'gigantes', 'del', 'océano']\n"
     ]
    }
   ],
   "source": [
    "# Datos\n",
    "frases = [\"El león es el rey de la selva\", \"Los elefantes son los mamíferos terrestres más grandes\", \"Las ballenas son gigantes del océano\"]\n",
    "\n",
    "# Tarea\n",
    "# - Crear un rdd con las frases\n",
    "rdd_frases = sc.parallelize(frases)\n",
    "\n",
    "# - Dividir cada frase en palabras\n",
    "# - Usar flatMap para dividir cada frase en palabras\n",
    "# La función split() separa la cadena por espacios\n",
    "rdd_palabras = rdd_frases.flatMap(lambda frase: frase.split(\" \"))\n",
    "\n",
    "# - Mostrar su contenido usando collect()\n",
    "print(\"Palabras individuales:\")\n",
    "print(rdd_palabras.collect())"
   ]
  },
  {
   "cell_type": "markdown",
   "metadata": {
    "application/vnd.databricks.v1+cell": {
     "cellMetadata": {
      "byteLimit": 2048000,
      "rowLimit": 10000
     },
     "inputWidgets": {},
     "nuid": "b1c7d50f-d58c-46dc-ba56-6d7a8dbf7245",
     "showTitle": false,
     "tableResultSettingsMap": {},
     "title": ""
    }
   },
   "source": [
    "# 5. reduce(): Agregar valores\n",
    "Agrega los elementos del RDD usando una función de reducción (combinación).\n",
    "\n",
    "- https://spark.apache.org/docs/latest/api/python/reference/api/pyspark.RDD.reduce.html \n",
    "\n",
    "Ejercicio  \n",
    "Calcula el total de puntos de una temporada de un equipo de fútbol sumando los puntos de cada partido.  \n",
    "\n",
    "Datos\n",
    "puntos_partidos = [3, 1, 0, 3, 3, 1]\n",
    "\n",
    " Tarea\n",
    " - Crear un RDD con los puntos de cada partido.\n",
    " - Usar reduce para obtener la suma total de puntos.\n"
   ]
  },
  {
   "cell_type": "code",
   "execution_count": 0,
   "metadata": {
    "application/vnd.databricks.v1+cell": {
     "cellMetadata": {
      "byteLimit": 2048000,
      "rowLimit": 10000
     },
     "inputWidgets": {},
     "nuid": "4edf7e59-af85-4b78-8370-7a3427731152",
     "showTitle": false,
     "tableResultSettingsMap": {},
     "title": ""
    }
   },
   "outputs": [
    {
     "output_type": "stream",
     "name": "stdout",
     "output_type": "stream",
     "text": [
      "La suma total de puntos es: 11\n"
     ]
    }
   ],
   "source": [
    "# Datos\n",
    "puntos_partidos = [3, 1, 0, 3, 3, 1]\n",
    "\n",
    "# Tarea\n",
    "# - Crear un RDD con los puntos de cada partido.\n",
    "rdd_puntos = sc.parallelize(puntos_partidos)\n",
    "\n",
    "# - Usar reduce para obtener la suma total de puntos.\n",
    "total_puntos = rdd_puntos.reduce(lambda a, b: a + b)\n",
    "\n",
    "# - Imprimir resultado\n",
    "print(\"La suma total de puntos es:\", total_puntos)"
   ]
  },
  {
   "cell_type": "markdown",
   "metadata": {
    "application/vnd.databricks.v1+cell": {
     "cellMetadata": {
      "byteLimit": 2048000,
      "rowLimit": 10000
     },
     "inputWidgets": {},
     "nuid": "133cd5bd-bab0-4399-af2d-4eb9e610e3db",
     "showTitle": false,
     "tableResultSettingsMap": {},
     "title": ""
    }
   },
   "source": [
    "# 6. groupBy(): Agrupar datos\n",
    "Agrupa los elementos del RDD usando una función de agrupamiento.  \n",
    "  - https://spark.apache.org/docs/latest/api/python/reference/api/pyspark.RDD.groupBy.html\n",
    "\n",
    "\n",
    "Ejercicio  \n",
    "Agrupa los nombres de animales según su longitud (número de letras).  \n",
    " \n",
    " \n",
    "Datos  \n",
    "animales = [\"gato\", \"elefante\", \"perro\", \"jirafa\", \"pez\", \"león\"]\n",
    "\n",
    " Tarea\n",
    " - Crear un RDD con los nombres de los animales.\n",
    " - Agrupar los animales por la longitud de sus nombres (función len()).\n"
   ]
  },
  {
   "cell_type": "code",
   "execution_count": 0,
   "metadata": {
    "application/vnd.databricks.v1+cell": {
     "cellMetadata": {
      "byteLimit": 2048000,
      "rowLimit": 10000
     },
     "inputWidgets": {},
     "nuid": "87f38397-55d6-4d5d-801b-6b672e80d5d0",
     "showTitle": false,
     "tableResultSettingsMap": {},
     "title": ""
    }
   },
   "outputs": [
    {
     "output_type": "stream",
     "name": "stdout",
     "output_type": "stream",
     "text": [
      "Longitud: 8, grupo: ['elefante']\nLongitud: 3, grupo: ['pez']\nLongitud: 4, grupo: ['gato', 'león']\nLongitud: 5, grupo: ['perro']\nLongitud: 6, grupo: ['jirafa']\n"
     ]
    }
   ],
   "source": [
    "# Datos\n",
    "animales = [\"gato\", \"elefante\", \"perro\", \"jirafa\", \"pez\", \"león\"]\n",
    "\n",
    "# Tarea\n",
    "# - Crear un RDD con los nombres de los animales.\n",
    "rdd_animales = sc.parallelize(animales)\n",
    "\n",
    "# - Agrupar los animales por la longitud de sus nombres.\n",
    "rdd_animales_agrupados = rdd_animales.groupBy(lambda animal: len(animal))\n",
    "# - Convertir a lista con collect() y recorrer con un bucle para mostrar longitud y lista del iterable grupo\n",
    "\n",
    "for longitud, grupo in rdd_animales_agrupados.collect():\n",
    "    print(f\"Longitud: {longitud}, grupo: {list(grupo)}\")\n",
    "\n"
   ]
  },
  {
   "cell_type": "markdown",
   "metadata": {
    "application/vnd.databricks.v1+cell": {
     "cellMetadata": {
      "byteLimit": 2048000,
      "rowLimit": 10000
     },
     "inputWidgets": {},
     "nuid": "ae9b1882-dbac-40db-8340-a8eadf617f1d",
     "showTitle": false,
     "tableResultSettingsMap": {},
     "title": ""
    }
   },
   "source": [
    "# 7. distinct(): Eliminar duplicados\n",
    "Devuelve un nuevo RDD que contiene solo elementos distintos del RDD original.\n",
    "\n",
    "- https://spark.apache.org/docs/latest/api/python/reference/api/pyspark.RDD.distinct.html\n",
    "\n",
    "Ejercicio  \n",
    "Tienes una lista de destinos turísticos visitados por diferentes personas. Obtén una lista de destinos únicos.  \n",
    "\n",
    "Datos  \n",
    "destinos = [\"París\", \"Nueva York\", \"Londres\", \"París\", \"Tokio\", \"Londres\"]\n",
    "\n",
    "Tarea\n",
    " - Crear un RDD con los destinos.\n",
    " - Obtener una lista de destinos únicos usando distinct().\n"
   ]
  },
  {
   "cell_type": "code",
   "execution_count": 0,
   "metadata": {
    "application/vnd.databricks.v1+cell": {
     "cellMetadata": {
      "byteLimit": 2048000,
      "rowLimit": 10000
     },
     "inputWidgets": {},
     "nuid": "4da4bc3a-5788-466f-bf4d-da2d6d891a5c",
     "showTitle": false,
     "tableResultSettingsMap": {},
     "title": ""
    }
   },
   "outputs": [
    {
     "output_type": "stream",
     "name": "stdout",
     "output_type": "stream",
     "text": [
      "Destinos únicos:\n['París', 'Nueva York', 'Tokio', 'Londres']\n"
     ]
    }
   ],
   "source": [
    "# Datos\n",
    "destinos = [\"París\", \"Nueva York\", \"Londres\", \"París\", \"Tokio\", \"Londres\"]\n",
    "\n",
    "# Tarea\n",
    "# - Crear un RDD con los destinos.\n",
    "rdd_destinos = sc.parallelize(destinos)\n",
    "\n",
    "# - Obtener una lista de destinos únicos usando distinct().\n",
    "rdd_destinos_unicos = rdd_destinos.distinct()\n",
    "\n",
    "# - Mostrar su contenido usando collect()\n",
    "print(\"Destinos únicos:\")\n",
    "print(rdd_destinos_unicos.collect())"
   ]
  },
  {
   "cell_type": "markdown",
   "metadata": {
    "application/vnd.databricks.v1+cell": {
     "cellMetadata": {
      "byteLimit": 2048000,
      "rowLimit": 10000
     },
     "inputWidgets": {},
     "nuid": "1a090fa4-72bc-45cf-9ffe-4c289fccf0ba",
     "showTitle": false,
     "tableResultSettingsMap": {},
     "title": ""
    }
   },
   "source": [
    "# 8. sortBy(): Ordenar datos\n",
    "Devuelve un nuevo RDD ordenado según una función de ordenamiento.\n",
    "\n",
    "- https://spark.apache.org/docs/latest/api/python/reference/api/pyspark.RDD.sortBy.html\n",
    "\n",
    "Ejercicio  \n",
    "Tienes una lista de edades de estudiantes. Ordena las edades de menor a mayor.  \n",
    " \n",
    "Datos  \n",
    "edades = [21, 19, 22, 20, 18, 23]\n",
    "\n",
    "Tarea\n",
    " - Crear un RDD con las edades.\n",
    " - Ordenar las edades de menor a mayor usando sortBy().\n"
   ]
  },
  {
   "cell_type": "code",
   "execution_count": 0,
   "metadata": {
    "application/vnd.databricks.v1+cell": {
     "cellMetadata": {
      "byteLimit": 2048000,
      "rowLimit": 10000
     },
     "inputWidgets": {},
     "nuid": "a8517eac-ce76-42c8-b7e4-40060e2c06b4",
     "showTitle": false,
     "tableResultSettingsMap": {},
     "title": ""
    }
   },
   "outputs": [
    {
     "output_type": "stream",
     "name": "stdout",
     "output_type": "stream",
     "text": [
      "Edades ordenadas de menor a mayor:\n[18, 19, 20, 21, 22, 23]\n"
     ]
    }
   ],
   "source": [
    "# Datos\n",
    "edades = [21, 19, 22, 20, 18, 23]\n",
    "\n",
    "# Tarea\n",
    "# - Crear un RDD con las edades.\n",
    "rdd_edades = sc.parallelize(edades)\n",
    "\n",
    "# - Ordenar las edades de menor a mayor usando sortBy().\n",
    "rdd_edades_ordenadas = rdd_edades.sortBy(lambda x: x, ascending=True)\n",
    "\n",
    "# - Mostrar su contenido usando collect()\n",
    "print(\"Edades ordenadas de menor a mayor:\")\n",
    "print(rdd_edades_ordenadas.collect())"
   ]
  },
  {
   "cell_type": "markdown",
   "metadata": {
    "application/vnd.databricks.v1+cell": {
     "cellMetadata": {
      "byteLimit": 2048000,
      "rowLimit": 10000
     },
     "inputWidgets": {},
     "nuid": "945cb09c-2ebc-4d50-a93e-c96565e1aaa7",
     "showTitle": false,
     "tableResultSettingsMap": {},
     "title": ""
    }
   },
   "source": [
    "# 9. count(): Contar elementos\n",
    "Devuelve el número de elementos en el RDD.\n",
    "\n",
    "- https://spark.apache.org/docs/latest/api/python/reference/api/pyspark.RDD.count.html\n",
    "\n",
    "Calcula cuántos nombres hay en una lista de personas invitadas a una fiesta.  \n",
    " \n",
    " \n",
    "Datos  \n",
    "invitados = [\"Carlos\", \"Ana\", \"Luis\", \"Sofía\", \"Carlos\", \"María\"]\n",
    "\n",
    " Tarea\n",
    " - Crear un RDD con los nombres de los invitados.\n",
    " - Contar cuántos nombres hay en total.\n"
   ]
  },
  {
   "cell_type": "code",
   "execution_count": 0,
   "metadata": {
    "application/vnd.databricks.v1+cell": {
     "cellMetadata": {
      "byteLimit": 2048000,
      "rowLimit": 10000
     },
     "inputWidgets": {},
     "nuid": "e87270d0-ab40-4e33-8c41-84cafc2e89cb",
     "showTitle": false,
     "tableResultSettingsMap": {},
     "title": ""
    }
   },
   "outputs": [
    {
     "output_type": "stream",
     "name": "stdout",
     "output_type": "stream",
     "text": [
      "Total de invitados: 6\n"
     ]
    }
   ],
   "source": [
    "# Datos\n",
    "invitados = [\"Carlos\", \"Ana\", \"Luis\", \"Sofía\", \"Carlos\", \"María\"]\n",
    "\n",
    "# Tarea\n",
    "# - Crear un RDD con los nombres de los invitados.\n",
    "rdd_invitados = sc.parallelize(invitados)\n",
    "\n",
    "# - Contar cuántos nombres hay en total.\n",
    "total_invitados = rdd_invitados.count()\n",
    "\n",
    "# - Imprimir el total de invitados\n",
    "print(\"Total de invitados:\", total_invitados)"
   ]
  },
  {
   "cell_type": "markdown",
   "metadata": {
    "application/vnd.databricks.v1+cell": {
     "cellMetadata": {
      "byteLimit": 2048000,
      "rowLimit": 10000
     },
     "inputWidgets": {},
     "nuid": "8dfa7d4b-d717-4d6d-96fd-6825fe3c11db",
     "showTitle": false,
     "tableResultSettingsMap": {},
     "title": ""
    }
   },
   "source": [
    "# 10. take(): Obtener los primeros elementos\n",
    "Devuelve una lista con los primeros n elementos del RDD.\n",
    "\n",
    "- https://spark.apache.org/docs/latest/api/python/reference/api/pyspark.RDD.take.html\n",
    "\n",
    "De una lista de puntuaciones de videojuegos, muestra las 3 puntuaciones más altas.  \n",
    " \n",
    " \n",
    "Datos  \n",
    "puntuaciones = [50, 80, 100, 40, 90, 70]\n",
    "\n",
    " Tarea\n",
    " - Crear un RDD con las puntuaciones.\n",
    " - Mostrar las 3 puntuaciones más altas.\n"
   ]
  },
  {
   "cell_type": "code",
   "execution_count": 0,
   "metadata": {
    "application/vnd.databricks.v1+cell": {
     "cellMetadata": {
      "byteLimit": 2048000,
      "rowLimit": 10000
     },
     "inputWidgets": {},
     "nuid": "27f4bcf4-457a-4f84-a445-cb72254e3631",
     "showTitle": false,
     "tableResultSettingsMap": {},
     "title": ""
    }
   },
   "outputs": [
    {
     "output_type": "stream",
     "name": "stdout",
     "output_type": "stream",
     "text": [
      "Las 3 puntuaciones más altas: [100, 90, 80]\n"
     ]
    }
   ],
   "source": [
    "# Datos\n",
    "puntuaciones = [50, 80, 100, 40, 90, 70]\n",
    "\n",
    "# Tarea\n",
    "# - Crear un RDD con las puntuaciones.\n",
    "rdd_puntuaciones = sc.parallelize(puntuaciones)\n",
    "\n",
    "# - Obtener un RDD con las 3 puntuaciones más altas.\n",
    "top3 = rdd_puntuaciones.top(3)\n",
    "\n",
    "# - Mostrar su contenido usando collect()\n",
    "print(\"Las 3 puntuaciones más altas:\", top3)"
   ]
  },
  {
   "cell_type": "markdown",
   "metadata": {
    "application/vnd.databricks.v1+cell": {
     "cellMetadata": {
      "byteLimit": 2048000,
      "rowLimit": 10000
     },
     "inputWidgets": {},
     "nuid": "537d36b2-dac2-446c-92b7-24a9081c04b1",
     "showTitle": false,
     "tableResultSettingsMap": {},
     "title": ""
    }
   },
   "source": [
    "# 11. saveAsTextFile(): Guardar resultados\n",
    "Guarda el contenido del RDD como un archivo de texto en la ruta especificada.\n",
    "\n",
    "- https://spark.apache.org/docs/latest/api/python/reference/api/pyspark.RDD.saveAsTextFile.html\n",
    "  \n",
    "De una lista de nombres de películas, guarda los nombres en un archivo de texto.  \n",
    " \n",
    " \n",
    "Datos  \n",
    "peliculas = [\"Inception\", \"Avatar\", \"The Dark Knight\", \"Titanic\", \"Interstellar\"]\n",
    "\n",
    "Tarea\n",
    " - Crear un RDD con los nombres de las películas.\n",
    " - Guardar los nombres en un archivo de texto llamado \"peliculas.txt\".\n"
   ]
  },
  {
   "cell_type": "code",
   "execution_count": 0,
   "metadata": {
    "application/vnd.databricks.v1+cell": {
     "cellMetadata": {
      "byteLimit": 2048000,
      "rowLimit": 10000
     },
     "inputWidgets": {},
     "nuid": "6c0d3af7-7ec0-49eb-8de3-2dcb1730299d",
     "showTitle": false,
     "tableResultSettingsMap": {},
     "title": ""
    }
   },
   "outputs": [],
   "source": [
    "# Datos\n",
    "peliculas = [\"Inception\", \"Avatar\", \"The Dark Knight\", \"Titanic\", \"Interstellar\"]\n",
    "\n",
    "# Tarea\n",
    "# - Crear un RDD con los nombres de las películas.\n",
    "rdd_peliculas = sc.parallelize(peliculas)\n",
    "\n",
    "# - Guardar los nombres eAn un archivo de texto llamado \"peliculas.txt\".\n",
    "rdd_peliculas.saveAsTextFile(\"file:///c:/users/acalv/peliculas.txt\") \n"
   ]
  },
  {
   "cell_type": "markdown",
   "metadata": {
    "application/vnd.databricks.v1+cell": {
     "cellMetadata": {
      "byteLimit": 2048000,
      "rowLimit": 10000
     },
     "inputWidgets": {},
     "nuid": "dfb27b09-804e-4271-a0fc-35cc1e71f5e2",
     "showTitle": false,
     "tableResultSettingsMap": {},
     "title": ""
    }
   },
   "source": [
    "# 12. textFile(): Carga un fichero en un RDD\n",
    "Lee un archivo de texto y lo convierte en un RDD.\n",
    "\n",
    "- https://spark.apache.org/docs/latest/api/python/reference/api/pyspark.SparkContext.textFile.html\n",
    "\n",
    "Tarea\n",
    "- Leer el fichero 1800.csv del directorio BDASpark (\"file:///c:/BDASpark/1800.csv\")\n",
    "- Mostrar las líneas\n"
   ]
  },
  {
   "cell_type": "code",
   "execution_count": 0,
   "metadata": {
    "application/vnd.databricks.v1+cell": {
     "cellMetadata": {
      "byteLimit": 2048000,
      "rowLimit": 10000
     },
     "inputWidgets": {},
     "nuid": "b3f54276-817b-4de9-ae42-fb8702b99df5",
     "showTitle": false,
     "tableResultSettingsMap": {},
     "title": ""
    }
   },
   "outputs": [
    {
     "output_type": "stream",
     "name": "stdout",
     "output_type": "stream",
     "text": [
      "ITE00100554,18000101,TMAX,-75,,,E,\nITE00100554,18000101,TMIN,-148,,,E,\nGM000010962,18000101,PRCP,0,,,E,\nEZE00100082,18000101,TMAX,-86,,,E,\nEZE00100082,18000101,TMIN,-135,,,E,\nITE00100554,18000102,TMAX,-60,,I,E,\nITE00100554,18000102,TMIN,-125,,,E,\nGM000010962,18000102,PRCP,0,,,E,\nEZE00100082,18000102,TMAX,-44,,,E,\nEZE00100082,18000102,TMIN,-130,,,E,\nITE00100554,18000103,TMAX,-23,,,E,\nITE00100554,18000103,TMIN,-46,,I,E,\nGM000010962,18000103,PRCP,4,,,E,\nEZE00100082,18000103,TMAX,-10,,,E,\nEZE00100082,18000103,TMIN,-73,,,E,\nITE00100554,18000104,TMAX,0,,,E,\nITE00100554,18000104,TMIN,-13,,,E,\nGM000010962,18000104,PRCP,0,,,E,\nEZE00100082,18000104,TMAX,-55,,,E,\nEZE00100082,18000104,TMIN,-74,,,E,\nITE00100554,18000105,TMAX,10,,,E,\nITE00100554,18000105,TMIN,-6,,,E,\nGM000010962,18000105,PRCP,0,,,E,\nEZE00100082,18000105,TMAX,-40,,,E,\nEZE00100082,18000105,TMIN,-58,,,E,\nITE00100554,18000106,TMAX,13,,,E,\nITE00100554,18000106,TMIN,13,,,E,\nGM000010962,18000106,PRCP,0,,,E,\nEZE00100082,18000106,TMAX,-39,,,E,\nEZE00100082,18000106,TMIN,-57,,,E,\nITE00100554,18000107,TMAX,31,,,E,\nITE00100554,18000107,TMIN,10,,,E,\nGM000010962,18000107,PRCP,0,,,E,\nEZE00100082,18000107,TMAX,-30,,,E,\nEZE00100082,18000107,TMIN,-50,,,E,\nITE00100554,18000108,TMAX,29,,,E,\nITE00100554,18000108,TMIN,14,,,E,\nGM000010962,18000108,PRCP,0,,,E,\nEZE00100082,18000108,TMAX,-1,,,E,\nEZE00100082,18000108,TMIN,-31,,,E,\nITE00100554,18000109,TMAX,35,,,E,\nITE00100554,18000109,TMIN,23,,,E,\nGM000010962,18000109,PRCP,0,,,E,\nEZE00100082,18000109,TMAX,5,,,E,\nEZE00100082,18000109,TMIN,-46,,,E,\nITE00100554,18000110,TMAX,46,,,E,\nITE00100554,18000110,TMIN,31,,,E,\nGM000010962,18000110,PRCP,0,,,E,\nEZE00100082,18000110,TMAX,-46,,,E,\nEZE00100082,18000110,TMIN,-75,,,E,\nITE00100554,18000111,TMAX,66,,,E,\nITE00100554,18000111,TMIN,41,,,E,\nGM000010962,18000111,PRCP,31,,,E,\nEZE00100082,18000111,TMAX,1,,,E,\nEZE00100082,18000111,TMIN,-62,,,E,\nITE00100554,18000112,TMAX,41,,,E,\nITE00100554,18000112,TMIN,29,,,E,\nGM000010962,18000112,PRCP,0,,,E,\nEZE00100082,18000112,TMAX,-33,,,E,\nEZE00100082,18000112,TMIN,-60,,,E,\nITE00100554,18000113,TMAX,23,,,E,\nITE00100554,18000113,TMIN,13,,,E,\nGM000010962,18000113,PRCP,3,,,E,\nEZE00100082,18000113,TMAX,-20,,,E,\nEZE00100082,18000113,TMIN,-60,,,E,\nITE00100554,18000114,TMAX,41,,,E,\nITE00100554,18000114,TMIN,23,,,E,\nGM000010962,18000114,PRCP,0,,,E,\nEZE00100082,18000114,TMAX,0,,,E,\nEZE00100082,18000114,TMIN,-35,,,E,\nITE00100554,18000115,TMAX,54,,,E,\nITE00100554,18000115,TMIN,41,,,E,\nGM000010962,18000115,PRCP,0,,,E,\nEZE00100082,18000115,TMAX,10,,,E,\nEZE00100082,18000115,TMIN,-23,,,E,\nITE00100554,18000116,TMAX,56,,,E,\nITE00100554,18000116,TMIN,41,,,E,\nGM000010962,18000116,PRCP,0,,,E,\nEZE00100082,18000116,TMAX,-11,,,E,\nEZE00100082,18000116,TMIN,-37,,,E,\nITE00100554,18000117,TMAX,84,,,E,\nITE00100554,18000117,TMIN,48,,,E,\nGM000010962,18000117,PRCP,0,,,E,\nEZE00100082,18000117,TMAX,14,,,E,\nEZE00100082,18000117,TMIN,-35,,,E,\nITE00100554,18000118,TMAX,59,,,E,\nITE00100554,18000118,TMIN,46,,,E,\nGM000010962,18000118,PRCP,2,,,E,\nEZE00100082,18000118,TMAX,47,,,E,\nEZE00100082,18000118,TMIN,9,,,E,\nITE00100554,18000119,TMAX,59,,,E,\nITE00100554,18000119,TMIN,50,,,E,\nGM000010962,18000119,PRCP,0,,,E,\nEZE00100082,18000119,TMAX,66,,,E,\nEZE00100082,18000119,TMIN,34,,,E,\nITE00100554,18000120,TMAX,60,,,E,\nITE00100554,18000120,TMIN,25,,,E,\nGM000010962,18000120,PRCP,4,,,E,\nEZE00100082,18000120,TMAX,58,,,E,\nEZE00100082,18000120,TMIN,17,,,E,\nITE00100554,18000121,TMAX,80,,,E,\nITE00100554,18000121,TMIN,30,,,E,\nGM000010962,18000121,PRCP,6,,,E,\nEZE00100082,18000121,TMAX,31,,,E,\nEZE00100082,18000121,TMIN,8,,,E,\nITE00100554,18000122,TMAX,81,,,E,\nITE00100554,18000122,TMIN,74,,,E,\nGM000010962,18000122,PRCP,68,,,E,\nEZE00100082,18000122,TMAX,8,,,E,\nEZE00100082,18000122,TMIN,-16,,,E,\nITE00100554,18000123,TMAX,85,,,E,\nITE00100554,18000123,TMIN,75,,,E,\nGM000010962,18000123,PRCP,18,,,E,\nEZE00100082,18000123,TMAX,18,,,E,\nEZE00100082,18000123,TMIN,-16,,,E,\nITE00100554,18000124,TMAX,85,,,E,\nITE00100554,18000124,TMIN,75,,,E,\nGM000010962,18000124,PRCP,0,,,E,\nEZE00100082,18000124,TMAX,31,,,E,\nEZE00100082,18000124,TMIN,-3,,,E,\nITE00100554,18000125,TMAX,98,,,E,\nITE00100554,18000125,TMIN,75,,,E,\nGM000010962,18000125,PRCP,0,,,E,\nEZE00100082,18000125,TMAX,35,,,E,\nEZE00100082,18000125,TMIN,2,,,E,\nITE00100554,18000126,TMAX,75,,,E,\nITE00100554,18000126,TMIN,34,,,E,\nGM000010962,18000126,PRCP,0,,,E,\nEZE00100082,18000126,TMAX,44,,,E,\nEZE00100082,18000126,TMIN,16,,,E,\nITE00100554,18000127,TMAX,73,,,E,\nITE00100554,18000127,TMIN,29,,,E,\nGM000010962,18000127,PRCP,0,,,E,\nEZE00100082,18000127,TMAX,57,,,E,\nEZE00100082,18000127,TMIN,15,,,E,\nITE00100554,18000128,TMAX,79,,,E,\nITE00100554,18000128,TMIN,54,,,E,\nGM000010962,18000128,PRCP,4,,,E,\nEZE00100082,18000128,TMAX,69,,,E,\nEZE00100082,18000128,TMIN,33,,,E,\nITE00100554,18000129,TMAX,73,,,E,\nITE00100554,18000129,TMIN,50,,,E,\nGM000010962,18000129,PRCP,0,,,E,\nEZE00100082,18000129,TMAX,67,,,E,\nEZE00100082,18000129,TMIN,19,,,E,\nITE00100554,18000130,TMAX,66,,,E,\nITE00100554,18000130,TMIN,50,,,E,\nGM000010962,18000130,PRCP,0,,,E,\nEZE00100082,18000130,TMAX,29,,,E,\nEZE00100082,18000130,TMIN,3,,,E,\nITE00100554,18000131,TMAX,85,,,E,\nITE00100554,18000131,TMIN,50,,,E,\nGM000010962,18000131,PRCP,0,,,E,\nEZE00100082,18000131,TMAX,62,,,E,\nEZE00100082,18000131,TMIN,23,,,E,\nITE00100554,18000201,TMAX,91,,,E,\nITE00100554,18000201,TMIN,63,,,E,\nGM000010962,18000201,PRCP,13,,,E,\nEZE00100082,18000201,TMAX,48,,,E,\nEZE00100082,18000201,TMIN,17,,,E,\nITE00100554,18000202,TMAX,66,,,E,\nITE00100554,18000202,TMIN,54,,,E,\nGM000010962,18000202,PRCP,16,,,E,\nEZE00100082,18000202,TMAX,67,,,E,\nEZE00100082,18000202,TMIN,19,,,E,\nITE00100554,18000203,TMAX,56,,,E,\nITE00100554,18000203,TMIN,54,,,E,\nGM000010962,18000203,PRCP,0,,,E,\nEZE00100082,18000203,TMAX,53,,,E,\nEZE00100082,18000203,TMIN,2,,,E,\nITE00100554,18000204,TMAX,104,,,E,\nITE00100554,18000204,TMIN,59,,,E,\nGM000010962,18000204,PRCP,0,,,E,\nEZE00100082,18000204,TMAX,66,,,E,\nEZE00100082,18000204,TMIN,39,,,E,\nITE00100554,18000205,TMAX,79,,,E,\nITE00100554,18000205,TMIN,46,,,E,\nGM000010962,18000205,PRCP,0,,,E,\nEZE00100082,18000205,TMAX,59,,,E,\nEZE00100082,18000205,TMIN,22,,,E,\nITE00100554,18000206,TMAX,75,,,E,\nITE00100554,18000206,TMIN,41,,,E,\nGM000010962,18000206,PRCP,0,,,E,\nEZE00100082,18000206,TMAX,24,,,E,\nEZE00100082,18000206,TMIN,-3,,,E,\nITE00100554,18000207,TMAX,73,,,E,\nITE00100554,18000207,TMIN,35,,,E,\nGM000010962,18000207,PRCP,6,,,E,\nEZE00100082,18000207,TMAX,4,,,E,\nEZE00100082,18000207,TMIN,-22,,,E,\nITE00100554,18000208,TMAX,50,,,E,\nITE00100554,18000208,TMIN,25,,,E,\nGM000010962,18000208,PRCP,0,,,E,\nEZE00100082,18000208,TMAX,-20,,,E,\nEZE00100082,18000208,TMIN,-39,,,E,\nITE00100554,18000209,TMAX,35,,,E,\nITE00100554,18000209,TMIN,0,,,E,\nGM000010962,18000209,PRCP,0,,,E,\nEZE00100082,18000209,TMAX,-17,,,E,\nEZE00100082,18000209,TMIN,-36,,,E,\nITE00100554,18000210,TMAX,38,,,E,\nITE00100554,18000210,TMIN,16,,,E,\nGM000010962,18000210,PRCP,0,,,E,\nEZE00100082,18000210,TMAX,-25,,,E,\nEZE00100082,18000210,TMIN,-69,,,E,\nITE00100554,18000211,TMAX,21,,,E,\nITE00100554,18000211,TMIN,9,,,E,\nGM000010962,18000211,PRCP,0,,,E,\nEZE00100082,18000211,TMAX,-34,,,E,\nEZE00100082,18000211,TMIN,-102,,,E,\nITE00100554,18000212,TMAX,13,,,E,\nITE00100554,18000212,TMIN,3,,,E,\nGM000010962,18000212,PRCP,0,,,E,\nEZE00100082,18000212,TMAX,-22,,,E,\nEZE00100082,18000212,TMIN,-78,,,E,\nITE00100554,18000213,TMAX,13,,,E,\nITE00100554,18000213,TMIN,0,,,E,\nGM000010962,18000213,PRCP,0,,,E,\nEZE00100082,18000213,TMAX,1,,,E,\nEZE00100082,18000213,TMIN,-42,,,E,\nITE00100554,18000214,TMAX,13,,,E,\nITE00100554,18000214,TMIN,0,,,E,\nGM000010962,18000214,PRCP,0,,,E,\nEZE00100082,18000214,TMAX,5,,,E,\nEZE00100082,18000214,TMIN,-35,,,E,\nITE00100554,18000215,TMAX,21,,,E,\nITE00100554,18000215,TMIN,13,,,E,\nGM000010962,18000215,PRCP,0,,,E,\nEZE00100082,18000215,TMAX,18,,,E,\nEZE00100082,18000215,TMIN,0,,,E,\nITE00100554,18000216,TMAX,75,,,E,\nITE00100554,18000216,TMIN,13,,,E,\nGM000010962,18000216,PRCP,7,,,E,\nEZE00100082,18000216,TMAX,24,,,E,\nEZE00100082,18000216,TMIN,-6,,,E,\nITE00100554,18000217,TMAX,71,,,E,\nITE00100554,18000217,TMIN,23,,,E,\nGM000010962,18000217,PRCP,0,,,E,\nEZE00100082,18000217,TMAX,20,,,E,\nEZE00100082,18000217,TMIN,-13,,,E,\nITE00100554,18000218,TMAX,48,,,E,\nITE00100554,18000218,TMIN,21,,,E,\nGM000010962,18000218,PRCP,0,,,E,\nEZE00100082,18000218,TMAX,0,,,E,\nEZE00100082,18000218,TMIN,-52,,,E,\nITE00100554,18000219,TMAX,50,,,E,\nITE00100554,18000219,TMIN,38,,,E,\nGM000010962,18000219,PRCP,0,,,E,\nEZE00100082,18000219,TMAX,-6,,,E,\nEZE00100082,18000219,TMIN,-50,,,E,\nITE00100554,18000220,TMAX,66,,,E,\nITE00100554,18000220,TMIN,38,,,E,\nGM000010962,18000220,PRCP,0,,,E,\nEZE00100082,18000220,TMAX,-34,,,E,\nEZE00100082,18000220,TMIN,-72,,,E,\nITE00100554,18000221,TMAX,66,,,E,\nITE00100554,18000221,TMIN,25,,,E,\nGM000010962,18000221,PRCP,0,,,E,\nEZE00100082,18000221,TMAX,-16,,,E,\nEZE00100082,18000221,TMIN,-60,,,E,\nITE00100554,18000222,TMAX,63,,,E,\nITE00100554,18000222,TMIN,48,,,E,\nGM000010962,18000222,PRCP,0,,,E,\nEZE00100082,18000222,TMAX,33,,,E,\nEZE00100082,18000222,TMIN,-42,,,E,\nITE00100554,18000223,TMAX,81,,,E,\nITE00100554,18000223,TMIN,54,,,E,\nGM000010962,18000223,PRCP,0,,,E,\nEZE00100082,18000223,TMAX,40,,,E,\nEZE00100082,18000223,TMIN,17,,,E,\nITE00100554,18000224,TMAX,104,,,E,\nITE00100554,18000224,TMIN,73,,,E,\nGM000010962,18000224,PRCP,0,,,E,\nEZE00100082,18000224,TMAX,56,,,E,\nEZE00100082,18000224,TMIN,14,,,E,\nITE00100554,18000225,TMAX,116,,,E,\nITE00100554,18000225,TMIN,60,,,E,\nGM000010962,18000225,PRCP,0,,,E,\nEZE00100082,18000225,TMAX,20,,,E,\nEZE00100082,18000225,TMIN,4,,,E,\nITE00100554,18000226,TMAX,129,,,E,\nITE00100554,18000226,TMIN,88,,,E,\nGM000010962,18000226,PRCP,0,,,E,\nEZE00100082,18000226,TMAX,15,,,E,\nEZE00100082,18000226,TMIN,-57,,,E,\nITE00100554,18000227,TMAX,100,,,E,\nITE00100554,18000227,TMIN,88,,I,E,\nGM000010962,18000227,PRCP,6,,,E,\nEZE00100082,18000227,TMAX,-39,,,E,\nEZE00100082,18000227,TMIN,-74,,,E,\nITE00100554,18000228,TMAX,75,,I,E,\nITE00100554,18000228,TMIN,63,,,E,\nGM000010962,18000228,PRCP,0,,,E,\nEZE00100082,18000228,TMAX,25,,,E,\nEZE00100082,18000228,TMIN,-43,,,E,\nITE00100554,18000301,TMAX,100,,,E,\nITE00100554,18000301,TMIN,66,,,E,\nGM000010962,18000301,PRCP,42,,,E,\nEZE00100082,18000301,TMAX,-21,,,E,\nEZE00100082,18000301,TMIN,-37,,,E,\nITE00100554,18000302,TMAX,79,,,E,\nITE00100554,18000302,TMIN,60,,,E,\nGM000010962,18000302,PRCP,16,,,E,\nEZE00100082,18000302,TMAX,4,,,E,\nEZE00100082,18000302,TMIN,-40,,,E,\nITE00100554,18000303,TMAX,54,,,E,\nITE00100554,18000303,TMIN,46,,,E,\nGM000010962,18000303,PRCP,6,,,E,\nEZE00100082,18000303,TMAX,10,,,E,\nEZE00100082,18000303,TMIN,-30,,,E,\nITE00100554,18000304,TMAX,84,,,E,\nITE00100554,18000304,TMIN,29,,,E,\nGM000010962,18000304,PRCP,0,,,E,\nEZE00100082,18000304,TMAX,32,,,E,\nEZE00100082,18000304,TMIN,-23,,,E,\nITE00100554,18000305,TMAX,79,,,E,\nITE00100554,18000305,TMIN,21,,,E,\nGM000010962,18000305,PRCP,4,,,E,\nEZE00100082,18000305,TMAX,-14,,,E,\nEZE00100082,18000305,TMIN,-47,,,E,\nITE00100554,18000306,TMAX,60,,,E,\nITE00100554,18000306,TMIN,29,,,E,\nGM000010962,18000306,PRCP,0,,,E,\nEZE00100082,18000306,TMAX,-34,,,E,\nEZE00100082,18000306,TMIN,-70,,,E,\nITE00100554,18000307,TMAX,34,,,E,\nITE00100554,18000307,TMIN,16,,,E,\nGM000010962,18000307,PRCP,0,,,E,\nEZE00100082,18000307,TMAX,-42,,,E,\nEZE00100082,18000307,TMIN,-89,,,E,\nITE00100554,18000308,TMAX,38,,,E,\nITE00100554,18000308,TMIN,0,,,E,\nGM000010962,18000308,PRCP,0,,,E,\nEZE00100082,18000308,TMAX,-49,,,E,\nEZE00100082,18000308,TMIN,-130,,,E,\nITE00100554,18000309,TMAX,79,,,E,\nITE00100554,18000309,TMIN,16,,,E,\nGM000010962,18000309,PRCP,30,,,E,\nEZE00100082,18000309,TMAX,-63,,,E,\nEZE00100082,18000309,TMIN,-93,,,E,\nITE00100554,18000310,TMAX,75,,,E,\nITE00100554,18000310,TMIN,25,,,E,\nGM000010962,18000310,PRCP,0,,,E,\nEZE00100082,18000310,TMAX,-34,,,E,\nEZE00100082,18000310,TMIN,-110,,,E,\nITE00100554,18000311,TMAX,79,,,E,\nITE00100554,18000311,TMIN,29,,,E,\nGM000010962,18000311,PRCP,0,,,E,\nEZE00100082,18000311,TMAX,-33,,,E,\nEZE00100082,18000311,TMIN,-107,,,E,\nITE00100554,18000312,TMAX,69,,,E,\nITE00100554,18000312,TMIN,41,,,E,\nGM000010962,18000312,PRCP,7,,,E,\nEZE00100082,18000312,TMAX,-22,,,E,\nEZE00100082,18000312,TMIN,-87,,,E,\nITE00100554,18000313,TMAX,75,,,E,\nITE00100554,18000313,TMIN,44,,,E,\nGM000010962,18000313,PRCP,0,,,E,\nEZE00100082,18000313,TMAX,-24,,,E,\nEZE00100082,18000313,TMIN,-110,,,E,\nITE00100554,18000314,TMAX,100,,,E,\nITE00100554,18000314,TMIN,25,,,E,\nGM000010962,18000314,PRCP,0,,,E,\nEZE00100082,18000314,TMAX,11,,,E,\nEZE00100082,18000314,TMIN,-61,,,E,\nITE00100554,18000315,TMAX,109,,,E,\nITE00100554,18000315,TMIN,50,,,E,\nGM000010962,18000315,PRCP,0,,,E,\nEZE00100082,18000315,TMAX,-1,,,E,\nEZE00100082,18000315,TMIN,-52,,,E,\nITE00100554,18000316,TMAX,113,,,E,\nITE00100554,18000316,TMIN,35,,,E,\nGM000010962,18000316,PRCP,0,,,E,\nEZE00100082,18000316,TMAX,10,,,E,\nEZE00100082,18000316,TMIN,-67,,,E,\nITE00100554,18000317,TMAX,109,,,E,\nITE00100554,18000317,TMIN,54,,,E,\nGM000010962,18000317,PRCP,0,,,E,\nEZE00100082,18000317,TMAX,30,,,E,\nEZE00100082,18000317,TMIN,-52,,,E,\nITE00100554,18000318,TMAX,91,,,E,\nITE00100554,18000318,TMIN,56,,,E,\nGM000010962,18000318,PRCP,4,,,E,\nEZE00100082,18000318,TMAX,26,,,E,\nEZE00100082,18000318,TMIN,-35,,,E,\nITE00100554,18000319,TMAX,125,,,E,\nITE00100554,18000319,TMIN,60,,,E,\nGM000010962,18000319,PRCP,17,,,E,\nEZE00100082,18000319,TMAX,36,,,E,\nEZE00100082,18000319,TMIN,-19,,,E,\nITE00100554,18000320,TMAX,116,,,E,\nITE00100554,18000320,TMIN,73,,,E,\nGM000010962,18000320,PRCP,20,,,E,\nEZE00100082,18000320,TMAX,13,,,E,\nEZE00100082,18000320,TMIN,-38,,,E,\nITE00100554,18000321,TMAX,109,,,E,\nITE00100554,18000321,TMIN,50,,,E,\nGM000010962,18000321,PRCP,6,,,E,\nEZE00100082,18000321,TMAX,15,,,E,\nEZE00100082,18000321,TMIN,-48,,,E,\nITE00100554,18000322,TMAX,71,,,E,\nITE00100554,18000322,TMIN,48,,,E,\nGM000010962,18000322,PRCP,25,,,E,\nEZE00100082,18000322,TMAX,14,,,E,\nEZE00100082,18000322,TMIN,-57,,,E,\nITE00100554,18000323,TMAX,75,,,E,\nITE00100554,18000323,TMIN,19,,,E,\nGM000010962,18000323,PRCP,4,,,E,\nEZE00100082,18000323,TMAX,4,,,E,\nEZE00100082,18000323,TMIN,-78,,,E,\nITE00100554,18000324,TMAX,81,,,E,\nITE00100554,18000324,TMIN,10,,,E,\nGM000010962,18000324,PRCP,0,,,E,\nEZE00100082,18000324,TMAX,33,,,E,\nEZE00100082,18000324,TMIN,-24,,,E,\nITE00100554,18000325,TMAX,85,,,E,\nITE00100554,18000325,TMIN,25,,,E,\nGM000010962,18000325,PRCP,0,,,E,\nEZE00100082,18000325,TMAX,68,,,E,\nEZE00100082,18000325,TMIN,8,,,E,\nITE00100554,18000326,TMAX,110,,,E,\nITE00100554,18000326,TMIN,31,,,E,\nGM000010962,18000326,PRCP,0,,,E,\nEZE00100082,18000326,TMAX,71,,,E,\nEZE00100082,18000326,TMIN,9,,,E,\nITE00100554,18000327,TMAX,113,,,E,\nITE00100554,18000327,TMIN,48,,,E,\nGM000010962,18000327,PRCP,0,,,E,\nEZE00100082,18000327,TMAX,84,,,E,\nEZE00100082,18000327,TMIN,-5,,,E,\nITE00100554,18000328,TMAX,125,,,E,\nITE00100554,18000328,TMIN,54,,,E,\nGM000010962,18000328,PRCP,0,,,E,\nEZE00100082,18000328,TMAX,86,,,E,\nEZE00100082,18000328,TMIN,-23,,,E,\nITE00100554,18000329,TMAX,110,,,E,\nITE00100554,18000329,TMIN,85,,,E,\nGM000010962,18000329,PRCP,0,,,E,\nEZE00100082,18000329,TMAX,82,,,E,\nEZE00100082,18000329,TMIN,4,,,E,\nITE00100554,18000330,TMAX,141,,,E,\nITE00100554,18000330,TMIN,85,,,E,\nGM000010962,18000330,PRCP,0,,,E,\nEZE00100082,18000330,TMAX,91,,,E,\nEZE00100082,18000330,TMIN,10,,,E,\nITE00100554,18000331,TMAX,138,,,E,\nITE00100554,18000331,TMIN,75,,,E,\nGM000010962,18000331,PRCP,0,,,E,\nEZE00100082,18000331,TMAX,123,,,E,\nEZE00100082,18000331,TMIN,11,,,E,\nITE00100554,18000401,TMAX,109,,,E,\nITE00100554,18000401,TMIN,100,,,E,\nGM000010962,18000401,PRCP,0,,,E,\nEZE00100082,18000401,TMAX,98,,,E,\nEZE00100082,18000401,TMIN,50,,,E,\nITE00100554,18000402,TMAX,104,,,E,\nITE00100554,18000402,TMIN,98,,,E,\nGM000010962,18000402,PRCP,9,,,E,\nEZE00100082,18000402,TMAX,128,,,E,\nEZE00100082,18000402,TMIN,59,,,E,\nITE00100554,18000403,TMAX,128,,,E,\nITE00100554,18000403,TMIN,75,,,E,\nGM000010962,18000403,PRCP,0,,,E,\nEZE00100082,18000403,TMAX,116,,,E,\nEZE00100082,18000403,TMIN,61,,,E,\nITE00100554,18000404,TMAX,153,,,E,\nITE00100554,18000404,TMIN,75,,,E,\nGM000010962,18000404,PRCP,0,,,E,\nEZE00100082,18000404,TMAX,157,,,E,\nEZE00100082,18000404,TMIN,69,,,E,\nITE00100554,18000405,TMAX,166,,,E,\nITE00100554,18000405,TMIN,84,,,E,\nGM000010962,18000405,PRCP,0,,,E,\nEZE00100082,18000405,TMAX,134,,,E,\nEZE00100082,18000405,TMIN,65,,,E,\nITE00100554,18000406,TMAX,178,,,E,\nITE00100554,18000406,TMIN,96,,,E,\nGM000010962,18000406,PRCP,0,,,E,\nEZE00100082,18000406,TMAX,168,,,E,\nEZE00100082,18000406,TMIN,95,,,E,\nITE00100554,18000407,TMAX,198,,,E,\nITE00100554,18000407,TMIN,99,,,E,\nGM000010962,18000407,PRCP,0,,,E,\nEZE00100082,18000407,TMAX,160,,,E,\nEZE00100082,18000407,TMIN,74,,,E,\nITE00100554,18000408,TMAX,200,,,E,\nITE00100554,18000408,TMIN,109,,,E,\nGM000010962,18000408,PRCP,0,,,E,\nEZE00100082,18000408,TMAX,203,,,E,\nEZE00100082,18000408,TMIN,75,,,E,\nITE00100554,18000409,TMAX,200,,,E,\nITE00100554,18000409,TMIN,148,,,E,\nGM000010962,18000409,PRCP,0,,,E,\nEZE00100082,18000409,TMAX,193,,,E,\nEZE00100082,18000409,TMIN,105,,,E,\nITE00100554,18000410,TMAX,200,,,E,\nITE00100554,18000410,TMIN,129,,,E,\nGM000010962,18000410,PRCP,0,,,E,\nEZE00100082,18000410,TMAX,212,,,E,\nEZE00100082,18000410,TMIN,125,,,E,\nITE00100554,18000411,TMAX,200,,,E,\nITE00100554,18000411,TMIN,141,,,E,\nGM000010962,18000411,PRCP,0,,,E,\nEZE00100082,18000411,TMAX,171,,,E,\nEZE00100082,18000411,TMIN,95,,,E,\nITE00100554,18000412,TMAX,200,,,E,\nITE00100554,18000412,TMIN,116,,,E,\nGM000010962,18000412,PRCP,10,,,E,\nEZE00100082,18000412,TMAX,170,,,E,\nEZE00100082,18000412,TMIN,55,,,E,\nITE00100554,18000413,TMAX,181,,,E,\nITE00100554,18000413,TMIN,129,,,E,\nGM000010962,18000413,PRCP,40,,,E,\nEZE00100082,18000413,TMAX,185,,,E,\nEZE00100082,18000413,TMIN,99,,,E,\nITE00100554,18000414,TMAX,188,,,E,\nITE00100554,18000414,TMIN,91,,,E,\nGM000010962,18000414,PRCP,2,,,E,\nEZE00100082,18000414,TMAX,145,,,E,\nEZE00100082,18000414,TMIN,87,,,E,\nITE00100554,18000415,TMAX,206,,,E,\nITE00100554,18000415,TMIN,116,,,E,\nGM000010962,18000415,PRCP,0,,,E,\nEZE00100082,18000415,TMAX,194,,,E,\nEZE00100082,18000415,TMIN,109,,,E,\nITE00100554,18000416,TMAX,216,,,E,\nITE00100554,18000416,TMIN,129,,,E,\nGM000010962,18000416,PRCP,0,,,E,\nEZE00100082,18000416,TMAX,203,,,E,\nEZE00100082,18000416,TMIN,102,,,E,\nITE00100554,18000417,TMAX,213,,,E,\nITE00100554,18000417,TMIN,129,,,E,\nGM000010962,18000417,PRCP,0,,,E,\nEZE00100082,18000417,TMAX,248,,,E,\nEZE00100082,18000417,TMIN,110,,,E,\nITE00100554,18000418,TMAX,216,,,E,\nITE00100554,18000418,TMIN,134,,,E,\nGM000010962,18000418,PRCP,0,,,E,\nEZE00100082,18000418,TMAX,246,,,E,\nEZE00100082,18000418,TMIN,130,,,E,\nITE00100554,18000419,TMAX,191,,,E,\nITE00100554,18000419,TMIN,138,,,E,\nGM000010962,18000419,PRCP,5,,,E,\nEZE00100082,18000419,TMAX,208,,,E,\nEZE00100082,18000419,TMIN,146,,,E,\nITE00100554,18000420,TMAX,231,,,E,\nITE00100554,18000420,TMIN,150,,,E,\nGM000010962,18000420,PRCP,34,,,E,\nEZE00100082,18000420,TMAX,212,,,E,\nEZE00100082,18000420,TMIN,125,,,E,\nITE00100554,18000421,TMAX,235,,,E,\nITE00100554,18000421,TMIN,154,,,E,\nGM000010962,18000421,PRCP,2,,,E,\nEZE00100082,18000421,TMAX,228,,,E,\nEZE00100082,18000421,TMIN,153,,,E,\nITE00100554,18000422,TMAX,216,,,E,\nITE00100554,18000422,TMIN,166,,,E,\nGM000010962,18000422,PRCP,0,,,E,\nEZE00100082,18000422,TMAX,277,,,E,\nEZE00100082,18000422,TMIN,157,,,E,\nITE00100554,18000423,TMAX,191,,,E,\nITE00100554,18000423,TMIN,166,,,E,\nGM000010962,18000423,PRCP,0,,,E,\nEZE00100082,18000423,TMAX,250,,,E,\nEZE00100082,18000423,TMIN,185,,,E,\nITE00100554,18000424,TMAX,204,,,E,\nITE00100554,18000424,TMIN,146,,,E,\nGM000010962,18000424,PRCP,0,,,E,\nEZE00100082,18000424,TMAX,238,,,E,\nEZE00100082,18000424,TMIN,177,,,E,\nITE00100554,18000425,TMAX,163,,,E,\nITE00100554,18000425,TMIN,150,,,E,\nGM000010962,18000425,PRCP,0,,,E,\nEZE00100082,18000425,TMAX,230,,,E,\nEZE00100082,18000425,TMIN,166,,,E,\nITE00100554,18000426,TMAX,179,,,E,\nITE00100554,18000426,TMIN,154,,,E,\nGM000010962,18000426,PRCP,0,,,E,\nEZE00100082,18000426,TMAX,258,,,E,\nEZE00100082,18000426,TMIN,158,,,E,\nITE00100554,18000427,TMAX,204,,,E,\nITE00100554,18000427,TMIN,154,,,E,\nGM000010962,18000427,PRCP,0,,,E,\nEZE00100082,18000427,TMAX,279,,,E,\nEZE00100082,18000427,TMIN,160,,,E,\nITE00100554,18000428,TMAX,223,,,E,\nITE00100554,18000428,TMIN,159,,,E,\nGM000010962,18000428,PRCP,0,,,E,\nEZE00100082,18000428,TMAX,259,,,E,\nEZE00100082,18000428,TMIN,180,,,E,\nITE00100554,18000429,TMAX,225,,,E,\nITE00100554,18000429,TMIN,169,,,E,\nGM000010962,18000429,PRCP,0,,,E,\nEZE00100082,18000429,TMAX,286,,,E,\nEZE00100082,18000429,TMIN,166,,,E,\nITE00100554,18000430,TMAX,206,,,E,\nITE00100554,18000430,TMIN,159,,,E,\nGM000010962,18000430,PRCP,0,,,E,\nEZE00100082,18000430,TMAX,273,,,E,\nEZE00100082,18000430,TMIN,147,,,E,\nITE00100554,18000501,TMAX,206,,,E,\nITE00100554,18000501,TMIN,160,,,E,\nGM000010962,18000501,PRCP,97,,,E,\nEZE00100082,18000501,TMAX,183,,,E,\nEZE00100082,18000501,TMIN,127,,,E,\nITE00100554,18000502,TMAX,223,,,E,\nITE00100554,18000502,TMIN,160,,,E,\nGM000010962,18000502,PRCP,3,,,E,\nEZE00100082,18000502,TMAX,226,,,E,\nEZE00100082,18000502,TMIN,139,,,E,\nITE00100554,18000503,TMAX,235,,,E,\nITE00100554,18000503,TMIN,154,,,E,\nGM000010962,18000503,PRCP,0,,,E,\nEZE00100082,18000503,TMAX,240,,,E,\nEZE00100082,18000503,TMIN,164,,,E,\nITE00100554,18000504,TMAX,238,,,E,\nITE00100554,18000504,TMIN,156,,,E,\nGM000010962,18000504,PRCP,0,,,E,\nEZE00100082,18000504,TMAX,231,,,E,\nEZE00100082,18000504,TMIN,152,,,E,\nITE00100554,18000505,TMAX,225,,,E,\nITE00100554,18000505,TMIN,160,,,E,\nGM000010962,18000505,PRCP,0,,,E,\nEZE00100082,18000505,TMAX,217,,,E,\nEZE00100082,18000505,TMIN,160,,,E,\nITE00100554,18000506,TMAX,175,,,E,\nITE00100554,18000506,TMIN,140,,,E,\nGM000010962,18000506,PRCP,0,,,E,\nEZE00100082,18000506,TMAX,214,,,E,\nEZE00100082,18000506,TMIN,136,,,E,\nITE00100554,18000507,TMAX,188,,,E,\nITE00100554,18000507,TMIN,96,,,E,\nGM000010962,18000507,PRCP,0,,,E,\nEZE00100082,18000507,TMAX,231,,,E,\nEZE00100082,18000507,TMIN,116,,,E,\nITE00100554,18000508,TMAX,213,,,E,\nITE00100554,18000508,TMIN,121,,,E,\nGM000010962,18000508,PRCP,0,,,E,\nEZE00100082,18000508,TMAX,240,,,E,\nEZE00100082,18000508,TMIN,130,,,E,\nITE00100554,18000509,TMAX,225,,,E,\nITE00100554,18000509,TMIN,134,,,E,\nGM000010962,18000509,PRCP,0,,,E,\nEZE00100082,18000509,TMAX,245,,,E,\nEZE00100082,18000509,TMIN,151,,,E,\nITE00100554,18000510,TMAX,188,,,E,\nITE00100554,18000510,TMIN,154,,,E,\nGM000010962,18000510,PRCP,0,,,E,\nEZE00100082,18000510,TMAX,241,,,E,\nEZE00100082,18000510,TMIN,149,,,E,\nITE00100554,18000511,TMAX,210,,,E,\nITE00100554,18000511,TMIN,154,,,E,\nGM000010962,18000511,PRCP,11,,,E,\nEZE00100082,18000511,TMAX,162,,,E,\nEZE00100082,18000511,TMIN,103,,,E,\nITE00100554,18000512,TMAX,204,,,E,\nITE00100554,18000512,TMIN,150,,,E,\nGM000010962,18000512,PRCP,7,,,E,\nEZE00100082,18000512,TMAX,162,,,E,\nEZE00100082,18000512,TMIN,100,,,E,\nITE00100554,18000513,TMAX,188,,,E,\nITE00100554,18000513,TMIN,154,,,E,\nGM000010962,18000513,PRCP,25,,,E,\nEZE00100082,18000513,TMAX,197,,,E,\nEZE00100082,18000513,TMIN,122,,,E,\nITE00100554,18000514,TMAX,200,,,E,\nITE00100554,18000514,TMIN,134,,,E,\nGM000010962,18000514,PRCP,35,,,E,\nEZE00100082,18000514,TMAX,209,,,E,\nEZE00100082,18000514,TMIN,125,,,E,\nITE00100554,18000515,TMAX,213,,,E,\nITE00100554,18000515,TMIN,135,,,E,\nGM000010962,18000515,PRCP,7,,,E,\nEZE00100082,18000515,TMAX,161,,,E,\nEZE00100082,18000515,TMIN,116,,,E,\nITE00100554,18000516,TMAX,213,,,E,\nITE00100554,18000516,TMIN,135,,,E,\nGM000010962,18000516,PRCP,279,,,E,\nEZE00100082,18000516,TMAX,188,,,E,\nEZE00100082,18000516,TMIN,129,,,E,\nITE00100554,18000517,TMAX,209,,,E,\nITE00100554,18000517,TMIN,160,,,E,\nGM000010962,18000517,PRCP,0,,,E,\nEZE00100082,18000517,TMAX,220,,,E,\nEZE00100082,18000517,TMIN,124,,,E,\nITE00100554,18000518,TMAX,213,,,E,\nITE00100554,18000518,TMIN,146,,,E,\nGM000010962,18000518,PRCP,43,,,E,\nEZE00100082,18000518,TMAX,186,,,E,\nEZE00100082,18000518,TMIN,119,,,E,\nITE00100554,18000519,TMAX,200,,,E,\nITE00100554,18000519,TMIN,135,,,E,\nGM000010962,18000519,PRCP,0,,,E,\nEZE00100082,18000519,TMAX,172,,,E,\nEZE00100082,18000519,TMIN,105,,,E,\nITE00100554,18000520,TMAX,225,,,E,\nITE00100554,18000520,TMIN,138,,,E,\nGM000010962,18000520,PRCP,0,,,E,\nEZE00100082,18000520,TMAX,225,,,E,\nEZE00100082,18000520,TMIN,115,,,E,\nITE00100554,18000521,TMAX,238,,,E,\nITE00100554,18000521,TMIN,179,,,E,\nGM000010962,18000521,PRCP,0,,,E,\nEZE00100082,18000521,TMAX,247,,,E,\nEZE00100082,18000521,TMIN,136,,,E,\nITE00100554,18000522,TMAX,263,,,E,\nITE00100554,18000522,TMIN,166,,,E,\nGM000010962,18000522,PRCP,43,,,E,\nEZE00100082,18000522,TMAX,262,,,E,\nEZE00100082,18000522,TMIN,157,,,E,\nITE00100554,18000523,TMAX,250,,,E,\nITE00100554,18000523,TMIN,188,,,E,\nGM000010962,18000523,PRCP,71,,,E,\nEZE00100082,18000523,TMAX,270,,,E,\nEZE00100082,18000523,TMIN,183,,,E,\nITE00100554,18000524,TMAX,225,,,E,\nITE00100554,18000524,TMIN,185,,,E,\nGM000010962,18000524,PRCP,0,,,E,\nEZE00100082,18000524,TMAX,282,,,E,\nEZE00100082,18000524,TMIN,178,,,E,\nITE00100554,18000525,TMAX,238,,,E,\nITE00100554,18000525,TMIN,181,,,E,\nGM000010962,18000525,PRCP,305,,,E,\nEZE00100082,18000525,TMAX,232,,,E,\nEZE00100082,18000525,TMIN,174,,,E,\nITE00100554,18000526,TMAX,263,,,E,\nITE00100554,18000526,TMIN,198,,,E,\nGM000010962,18000526,PRCP,169,,,E,\nEZE00100082,18000526,TMAX,226,,,E,\nEZE00100082,18000526,TMIN,16\n\n*** WARNING: max output size exceeded, skipping output. ***\n\n3,,,E,\nGM000010962,18000808,PRCP,0,,,E,\nEZE00100082,18000808,TMAX,193,,,E,\nEZE00100082,18000808,TMIN,136,,,E,\nITE00100554,18000809,TMAX,240,,,E,\nITE00100554,18000809,TMIN,144,,,E,\nGM000010962,18000809,PRCP,9,,,E,\nEZE00100082,18000809,TMAX,214,,,E,\nEZE00100082,18000809,TMIN,117,,,E,\nITE00100554,18000810,TMAX,246,,,E,\nITE00100554,18000810,TMIN,159,,,E,\nGM000010962,18000810,PRCP,0,,,E,\nEZE00100082,18000810,TMAX,251,,,E,\nEZE00100082,18000810,TMIN,155,,,E,\nITE00100554,18000811,TMAX,271,,,E,\nITE00100554,18000811,TMIN,166,,,E,\nGM000010962,18000811,PRCP,0,,,E,\nEZE00100082,18000811,TMAX,246,,,E,\nEZE00100082,18000811,TMIN,155,,,E,\nITE00100554,18000812,TMAX,259,,,E,\nITE00100554,18000812,TMIN,184,,,E,\nGM000010962,18000812,PRCP,0,,,E,\nEZE00100082,18000812,TMAX,262,,,E,\nEZE00100082,18000812,TMIN,162,,,E,\nITE00100554,18000813,TMAX,281,,,E,\nITE00100554,18000813,TMIN,204,,,E,\nGM000010962,18000813,PRCP,0,,,E,\nEZE00100082,18000813,TMAX,287,,,E,\nEZE00100082,18000813,TMIN,165,,,E,\nITE00100554,18000814,TMAX,284,,,E,\nITE00100554,18000814,TMIN,221,,,E,\nGM000010962,18000814,PRCP,0,,,E,\nEZE00100082,18000814,TMAX,306,,,E,\nEZE00100082,18000814,TMIN,180,,,E,\nITE00100554,18000815,TMAX,298,,,E,\nITE00100554,18000815,TMIN,216,,,E,\nGM000010962,18000815,PRCP,0,,,E,\nEZE00100082,18000815,TMAX,307,,,E,\nEZE00100082,18000815,TMIN,181,,,E,\nITE00100554,18000816,TMAX,304,,,E,\nITE00100554,18000816,TMIN,216,,,E,\nGM000010962,18000816,PRCP,0,,,E,\nEZE00100082,18000816,TMAX,304,,,E,\nEZE00100082,18000816,TMIN,198,,,E,\nITE00100554,18000817,TMAX,309,,,E,\nITE00100554,18000817,TMIN,216,,,E,\nGM000010962,18000817,PRCP,0,,,E,\nEZE00100082,18000817,TMAX,275,,,E,\nEZE00100082,18000817,TMIN,178,,,E,\nITE00100554,18000818,TMAX,313,,,E,\nITE00100554,18000818,TMIN,221,,,E,\nGM000010962,18000818,PRCP,0,,,E,\nEZE00100082,18000818,TMAX,323,,,E,\nEZE00100082,18000818,TMIN,185,,,E,\nITE00100554,18000819,TMAX,323,,,E,\nITE00100554,18000819,TMIN,238,,,E,\nGM000010962,18000819,PRCP,0,,,E,\nEZE00100082,18000819,TMAX,290,,,E,\nEZE00100082,18000819,TMIN,195,,,E,\nITE00100554,18000820,TMAX,310,,,E,\nITE00100554,18000820,TMIN,235,,,E,\nGM000010962,18000820,PRCP,0,,,E,\nEZE00100082,18000820,TMAX,274,,,E,\nEZE00100082,18000820,TMIN,202,,,E,\nITE00100554,18000821,TMAX,298,,,E,\nITE00100554,18000821,TMIN,231,,,E,\nGM000010962,18000821,PRCP,36,,,E,\nEZE00100082,18000821,TMAX,253,,,E,\nEZE00100082,18000821,TMIN,195,,,E,\nITE00100554,18000822,TMAX,279,,,E,\nITE00100554,18000822,TMIN,209,,,E,\nGM000010962,18000822,PRCP,195,,,E,\nEZE00100082,18000822,TMAX,206,,,E,\nEZE00100082,18000822,TMIN,158,,,E,\nITE00100554,18000823,TMAX,213,,,E,\nITE00100554,18000823,TMIN,204,,,E,\nGM000010962,18000823,PRCP,0,,,E,\nEZE00100082,18000823,TMAX,231,,,E,\nEZE00100082,18000823,TMIN,119,,,E,\nITE00100554,18000824,TMAX,229,,,E,\nITE00100554,18000824,TMIN,148,,,E,\nGM000010962,18000824,PRCP,33,,,E,\nEZE00100082,18000824,TMAX,213,,,E,\nEZE00100082,18000824,TMIN,154,,,E,\nITE00100554,18000825,TMAX,241,,,E,\nITE00100554,18000825,TMIN,171,,,E,\nGM000010962,18000825,PRCP,0,,,E,\nEZE00100082,18000825,TMAX,200,,,E,\nEZE00100082,18000825,TMIN,133,,,E,\nITE00100554,18000826,TMAX,210,,,E,\nITE00100554,18000826,TMIN,159,,,E,\nGM000010962,18000826,PRCP,51,,,E,\nEZE00100082,18000826,TMAX,215,,,E,\nEZE00100082,18000826,TMIN,151,,,E,\nITE00100554,18000827,TMAX,234,,,E,\nITE00100554,18000827,TMIN,146,,,E,\nGM000010962,18000827,PRCP,268,,,E,\nEZE00100082,18000827,TMAX,220,,,E,\nEZE00100082,18000827,TMIN,148,,,E,\nITE00100554,18000828,TMAX,234,,,E,\nITE00100554,18000828,TMIN,154,,,E,\nGM000010962,18000828,PRCP,0,,,E,\nEZE00100082,18000828,TMAX,203,,,E,\nEZE00100082,18000828,TMIN,158,,,E,\nITE00100554,18000829,TMAX,241,,,E,\nITE00100554,18000829,TMIN,179,,,E,\nGM000010962,18000829,PRCP,0,,,E,\nEZE00100082,18000829,TMAX,203,,,E,\nEZE00100082,18000829,TMIN,149,,,E,\nITE00100554,18000830,TMAX,241,,,E,\nITE00100554,18000830,TMIN,163,,,E,\nGM000010962,18000830,PRCP,40,,,E,\nEZE00100082,18000830,TMAX,196,,,E,\nEZE00100082,18000830,TMIN,154,,,E,\nITE00100554,18000831,TMAX,240,,,E,\nITE00100554,18000831,TMIN,165,,,E,\nGM000010962,18000831,PRCP,50,,,E,\nEZE00100082,18000831,TMAX,177,,,E,\nEZE00100082,18000831,TMIN,147,,,E,\nITE00100554,18000901,TMAX,241,,,E,\nITE00100554,18000901,TMIN,184,,,E,\nGM000010962,18000901,PRCP,31,,,E,\nEZE00100082,18000901,TMAX,193,,,E,\nEZE00100082,18000901,TMIN,148,,,E,\nITE00100554,18000902,TMAX,179,,,E,\nITE00100554,18000902,TMIN,179,,,E,\nGM000010962,18000902,PRCP,0,,,E,\nEZE00100082,18000902,TMAX,209,,,E,\nEZE00100082,18000902,TMIN,152,,,E,\nITE00100554,18000903,TMAX,216,,,E,\nITE00100554,18000903,TMIN,166,,,E,\nGM000010962,18000903,PRCP,2,,,E,\nEZE00100082,18000903,TMAX,197,,,E,\nEZE00100082,18000903,TMIN,157,,,E,\nITE00100554,18000904,TMAX,229,,,E,\nITE00100554,18000904,TMIN,166,,,E,\nGM000010962,18000904,PRCP,2,,,E,\nEZE00100082,18000904,TMAX,214,,,E,\nEZE00100082,18000904,TMIN,141,,,E,\nITE00100554,18000905,TMAX,238,,,E,\nITE00100554,18000905,TMIN,191,,,E,\nGM000010962,18000905,PRCP,0,,,E,\nEZE00100082,18000905,TMAX,210,,,E,\nEZE00100082,18000905,TMIN,154,,,E,\nITE00100554,18000906,TMAX,238,,,E,\nITE00100554,18000906,TMIN,179,,,E,\nGM000010962,18000906,PRCP,20,,,E,\nEZE00100082,18000906,TMAX,225,,,E,\nEZE00100082,18000906,TMIN,173,,,E,\nITE00100554,18000907,TMAX,223,,,E,\nITE00100554,18000907,TMIN,178,,,E,\nGM000010962,18000907,PRCP,0,,,E,\nEZE00100082,18000907,TMAX,230,,,E,\nEZE00100082,18000907,TMIN,146,,,E,\nITE00100554,18000908,TMAX,238,,,E,\nITE00100554,18000908,TMIN,175,,,E,\nGM000010962,18000908,PRCP,56,,,E,\nEZE00100082,18000908,TMAX,227,,,E,\nEZE00100082,18000908,TMIN,184,,,E,\nITE00100554,18000909,TMAX,250,,,E,\nITE00100554,18000909,TMIN,188,,,E,\nGM000010962,18000909,PRCP,11,,,E,\nEZE00100082,18000909,TMAX,194,,,E,\nEZE00100082,18000909,TMIN,163,,,E,\nITE00100554,18000910,TMAX,238,,,E,\nITE00100554,18000910,TMIN,188,,,E,\nGM000010962,18000910,PRCP,0,,,E,\nEZE00100082,18000910,TMAX,202,,,E,\nEZE00100082,18000910,TMIN,152,,,E,\nITE00100554,18000911,TMAX,248,,,E,\nITE00100554,18000911,TMIN,163,,,E,\nGM000010962,18000911,PRCP,110,,,E,\nEZE00100082,18000911,TMAX,181,,,E,\nEZE00100082,18000911,TMIN,157,,,E,\nITE00100554,18000912,TMAX,238,,,E,\nITE00100554,18000912,TMIN,163,,,E,\nGM000010962,18000912,PRCP,1,,,E,\nEZE00100082,18000912,TMAX,186,,,E,\nEZE00100082,18000912,TMIN,141,,,E,\nITE00100554,18000913,TMAX,241,,,E,\nITE00100554,18000913,TMIN,154,,,E,\nGM000010962,18000913,PRCP,0,,,E,\nEZE00100082,18000913,TMAX,177,,,E,\nEZE00100082,18000913,TMIN,116,,,E,\nITE00100554,18000914,TMAX,229,,,E,\nITE00100554,18000914,TMIN,166,,,E,\nGM000010962,18000914,PRCP,0,,,E,\nEZE00100082,18000914,TMAX,183,,,E,\nEZE00100082,18000914,TMIN,104,,,E,\nITE00100554,18000915,TMAX,225,,,E,\nITE00100554,18000915,TMIN,159,,,E,\nGM000010962,18000915,PRCP,0,,,E,\nEZE00100082,18000915,TMAX,198,,,E,\nEZE00100082,18000915,TMIN,115,,,E,\nITE00100554,18000916,TMAX,229,,,E,\nITE00100554,18000916,TMIN,154,,,E,\nGM000010962,18000916,PRCP,0,,,E,\nEZE00100082,18000916,TMAX,205,,,E,\nEZE00100082,18000916,TMIN,111,,,E,\nITE00100554,18000917,TMAX,235,,,E,\nITE00100554,18000917,TMIN,163,,,E,\nGM000010962,18000917,PRCP,0,,,E,\nEZE00100082,18000917,TMAX,199,,,E,\nEZE00100082,18000917,TMIN,110,,,E,\nITE00100554,18000918,TMAX,246,,,E,\nITE00100554,18000918,TMIN,175,,,E,\nGM000010962,18000918,PRCP,4,,,E,\nEZE00100082,18000918,TMAX,217,,,E,\nEZE00100082,18000918,TMIN,118,,,E,\nITE00100554,18000919,TMAX,241,,,E,\nITE00100554,18000919,TMIN,184,,,E,\nGM000010962,18000919,PRCP,0,,,E,\nEZE00100082,18000919,TMAX,217,,,E,\nEZE00100082,18000919,TMIN,165,,,E,\nITE00100554,18000920,TMAX,225,,,E,\nITE00100554,18000920,TMIN,191,,,E,\nGM000010962,18000920,PRCP,2,,,E,\nEZE00100082,18000920,TMAX,210,,,E,\nEZE00100082,18000920,TMIN,142,,,E,\nITE00100554,18000921,TMAX,231,,,E,\nITE00100554,18000921,TMIN,191,,,E,\nGM000010962,18000921,PRCP,85,,,E,\nEZE00100082,18000921,TMAX,193,,,E,\nEZE00100082,18000921,TMIN,155,,,E,\nITE00100554,18000922,TMAX,235,,,E,\nITE00100554,18000922,TMIN,185,,,E,\nGM000010962,18000922,PRCP,33,,,E,\nEZE00100082,18000922,TMAX,169,,,E,\nEZE00100082,18000922,TMIN,136,,,E,\nITE00100554,18000923,TMAX,234,,,E,\nITE00100554,18000923,TMIN,163,,,E,\nGM000010962,18000923,PRCP,14,,,E,\nEZE00100082,18000923,TMAX,170,,,E,\nEZE00100082,18000923,TMIN,131,,,E,\nITE00100554,18000924,TMAX,234,,,E,\nITE00100554,18000924,TMIN,169,,,E,\nGM000010962,18000924,PRCP,49,,,E,\nEZE00100082,18000924,TMAX,164,,,E,\nEZE00100082,18000924,TMIN,132,,,E,\nITE00100554,18000925,TMAX,238,,,E,\nITE00100554,18000925,TMIN,171,,,E,\nGM000010962,18000925,PRCP,30,,,E,\nEZE00100082,18000925,TMAX,156,,,E,\nEZE00100082,18000925,TMIN,125,,,E,\nITE00100554,18000926,TMAX,198,,,E,\nITE00100554,18000926,TMIN,181,,,E,\nGM000010962,18000926,PRCP,10,,,E,\nEZE00100082,18000926,TMAX,144,,,E,\nEZE00100082,18000926,TMIN,115,,,E,\nITE00100554,18000927,TMAX,213,,,E,\nITE00100554,18000927,TMIN,129,,,E,\nGM000010962,18000927,PRCP,11,,,E,\nEZE00100082,18000927,TMAX,134,,,E,\nEZE00100082,18000927,TMIN,116,,,E,\nITE00100554,18000928,TMAX,213,,,E,\nITE00100554,18000928,TMIN,181,,,E,\nGM000010962,18000928,PRCP,14,,,E,\nEZE00100082,18000928,TMAX,158,,,E,\nEZE00100082,18000928,TMIN,114,,,E,\nITE00100554,18000929,TMAX,196,,,E,\nITE00100554,18000929,TMIN,119,,,E,\nGM000010962,18000929,PRCP,13,,,E,\nEZE00100082,18000929,TMAX,131,,,E,\nEZE00100082,18000929,TMIN,91,,,E,\nITE00100554,18000930,TMAX,200,,,E,\nITE00100554,18000930,TMIN,100,,,E,\nGM000010962,18000930,PRCP,0,,,E,\nEZE00100082,18000930,TMAX,157,,,E,\nEZE00100082,18000930,TMIN,85,,,E,\nITE00100554,18001001,TMAX,188,,,E,\nITE00100554,18001001,TMIN,129,,,E,\nGM000010962,18001001,PRCP,45,,,E,\nEZE00100082,18001001,TMAX,133,,,E,\nEZE00100082,18001001,TMIN,110,,,E,\nITE00100554,18001002,TMAX,194,,,E,\nITE00100554,18001002,TMIN,144,,,E,\nGM000010962,18001002,PRCP,127,,,E,\nEZE00100082,18001002,TMAX,135,,,E,\nEZE00100082,18001002,TMIN,98,,,E,\nITE00100554,18001003,TMAX,200,,,E,\nITE00100554,18001003,TMIN,144,,,E,\nGM000010962,18001003,PRCP,149,,,E,\nEZE00100082,18001003,TMAX,164,,,E,\nEZE00100082,18001003,TMIN,94,,,E,\nITE00100554,18001004,TMAX,200,,,E,\nITE00100554,18001004,TMIN,163,,,E,\nGM000010962,18001004,PRCP,48,,,E,\nEZE00100082,18001004,TMAX,136,,,E,\nEZE00100082,18001004,TMIN,109,,,E,\nITE00100554,18001005,TMAX,185,,,E,\nITE00100554,18001005,TMIN,141,,,E,\nGM000010962,18001005,PRCP,0,,,E,\nEZE00100082,18001005,TMAX,150,,,E,\nEZE00100082,18001005,TMIN,95,,,E,\nITE00100554,18001006,TMAX,181,,,E,\nITE00100554,18001006,TMIN,150,,,E,\nGM000010962,18001006,PRCP,0,,,E,\nEZE00100082,18001006,TMAX,149,,,E,\nEZE00100082,18001006,TMIN,76,,,E,\nITE00100554,18001007,TMAX,169,,,E,\nITE00100554,18001007,TMIN,154,,,E,\nGM000010962,18001007,PRCP,0,,,E,\nEZE00100082,18001007,TMAX,163,,,E,\nEZE00100082,18001007,TMIN,98,,,E,\nITE00100554,18001008,TMAX,184,,,E,\nITE00100554,18001008,TMIN,165,,,E,\nGM000010962,18001008,PRCP,0,,,E,\nEZE00100082,18001008,TMAX,165,,,E,\nEZE00100082,18001008,TMIN,104,,,E,\nITE00100554,18001009,TMAX,184,,,E,\nITE00100554,18001009,TMIN,166,,,E,\nGM000010962,18001009,PRCP,49,,,E,\nEZE00100082,18001009,TMAX,174,,,E,\nEZE00100082,18001009,TMIN,120,,,E,\nITE00100554,18001010,TMAX,181,,,E,\nITE00100554,18001010,TMIN,150,,,E,\nGM000010962,18001010,PRCP,32,,,E,\nEZE00100082,18001010,TMAX,169,,,E,\nEZE00100082,18001010,TMIN,125,,,E,\nITE00100554,18001011,TMAX,188,,,E,\nITE00100554,18001011,TMIN,150,,,E,\nGM000010962,18001011,PRCP,32,,,E,\nEZE00100082,18001011,TMAX,136,,,E,\nEZE00100082,18001011,TMIN,97,,,E,\nITE00100554,18001012,TMAX,175,,,E,\nITE00100554,18001012,TMIN,123,,,E,\nGM000010962,18001012,PRCP,0,,,E,\nEZE00100082,18001012,TMAX,147,,,E,\nEZE00100082,18001012,TMIN,99,,,E,\nITE00100554,18001013,TMAX,175,,,E,\nITE00100554,18001013,TMIN,113,,,E,\nGM000010962,18001013,PRCP,11,,,E,\nEZE00100082,18001013,TMAX,127,,,E,\nEZE00100082,18001013,TMIN,98,,,E,\nITE00100554,18001014,TMAX,171,,,E,\nITE00100554,18001014,TMIN,100,,,E,\nGM000010962,18001014,PRCP,0,,,E,\nEZE00100082,18001014,TMAX,135,,,E,\nEZE00100082,18001014,TMIN,93,,,E,\nITE00100554,18001015,TMAX,171,,,E,\nITE00100554,18001015,TMIN,96,,,E,\nGM000010962,18001015,PRCP,0,,,E,\nEZE00100082,18001015,TMAX,124,,,E,\nEZE00100082,18001015,TMIN,97,,,E,\nITE00100554,18001016,TMAX,166,,,E,\nITE00100554,18001016,TMIN,109,,,E,\nGM000010962,18001016,PRCP,33,,,E,\nEZE00100082,18001016,TMAX,119,,,E,\nEZE00100082,18001016,TMIN,72,,,E,\nITE00100554,18001017,TMAX,184,,,E,\nITE00100554,18001017,TMIN,116,,,E,\nGM000010962,18001017,PRCP,15,,,E,\nEZE00100082,18001017,TMAX,81,,,E,\nEZE00100082,18001017,TMIN,48,,,E,\nITE00100554,18001018,TMAX,154,,,E,\nITE00100554,18001018,TMIN,104,,,E,\nGM000010962,18001018,PRCP,11,,,E,\nEZE00100082,18001018,TMAX,99,,,E,\nEZE00100082,18001018,TMIN,22,,,E,\nITE00100554,18001019,TMAX,150,,,E,\nITE00100554,18001019,TMIN,75,,,E,\nGM000010962,18001019,PRCP,0,,,E,\nEZE00100082,18001019,TMAX,127,,,E,\nEZE00100082,18001019,TMIN,85,,,E,\nITE00100554,18001020,TMAX,149,,,E,\nITE00100554,18001020,TMIN,69,,,E,\nGM000010962,18001020,PRCP,0,,,E,\nEZE00100082,18001020,TMAX,136,,,E,\nEZE00100082,18001020,TMIN,75,,,E,\nITE00100554,18001021,TMAX,148,,,E,\nITE00100554,18001021,TMIN,71,,,E,\nGM000010962,18001021,PRCP,0,,,E,\nEZE00100082,18001021,TMAX,133,,,E,\nEZE00100082,18001021,TMIN,60,,,E,\nITE00100554,18001022,TMAX,129,,,E,\nITE00100554,18001022,TMIN,110,,,E,\nGM000010962,18001022,PRCP,12,,,E,\nEZE00100082,18001022,TMAX,106,,,E,\nEZE00100082,18001022,TMIN,52,,,E,\nITE00100554,18001023,TMAX,116,,,E,\nITE00100554,18001023,TMIN,113,,,E,\nGM000010962,18001023,PRCP,11,,,E,\nEZE00100082,18001023,TMAX,75,,,E,\nEZE00100082,18001023,TMIN,44,,,E,\nITE00100554,18001024,TMAX,104,,,E,\nITE00100554,18001024,TMIN,44,,,E,\nGM000010962,18001024,PRCP,0,,,E,\nEZE00100082,18001024,TMAX,92,,,E,\nEZE00100082,18001024,TMIN,33,,,E,\nITE00100554,18001025,TMAX,121,,,E,\nITE00100554,18001025,TMIN,31,,,E,\nGM000010962,18001025,PRCP,0,,,E,\nEZE00100082,18001025,TMAX,76,,,E,\nEZE00100082,18001025,TMIN,-11,,,E,\nITE00100554,18001026,TMAX,129,,,E,\nITE00100554,18001026,TMIN,50,,,E,\nGM000010962,18001026,PRCP,0,,,E,\nEZE00100082,18001026,TMAX,90,,,E,\nEZE00100082,18001026,TMIN,55,,,E,\nITE00100554,18001027,TMAX,134,,,E,\nITE00100554,18001027,TMIN,60,,,E,\nGM000010962,18001027,PRCP,0,,,E,\nEZE00100082,18001027,TMAX,102,,,E,\nEZE00100082,18001027,TMIN,45,,,E,\nITE00100554,18001028,TMAX,148,,,E,\nITE00100554,18001028,TMIN,125,,,E,\nGM000010962,18001028,PRCP,0,,,E,\nEZE00100082,18001028,TMAX,99,,,E,\nEZE00100082,18001028,TMIN,59,,,E,\nITE00100554,18001029,TMAX,150,,,E,\nITE00100554,18001029,TMIN,113,,,E,\nGM000010962,18001029,PRCP,2,,,E,\nEZE00100082,18001029,TMAX,97,,,E,\nEZE00100082,18001029,TMIN,60,,,E,\nITE00100554,18001030,TMAX,150,,,E,\nITE00100554,18001030,TMIN,116,,,E,\nGM000010962,18001030,PRCP,0,,,E,\nEZE00100082,18001030,TMAX,123,,,E,\nEZE00100082,18001030,TMIN,70,,,E,\nITE00100554,18001031,TMAX,125,,,E,\nITE00100554,18001031,TMIN,116,,,E,\nGM000010962,18001031,PRCP,0,,,E,\nEZE00100082,18001031,TMAX,90,,,E,\nEZE00100082,18001031,TMIN,22,,,E,\nITE00100554,18001101,TMAX,150,,,E,\nITE00100554,18001101,TMIN,116,,,E,\nGM000010962,18001101,PRCP,20,,,E,\nEZE00100082,18001101,TMAX,88,,,E,\nEZE00100082,18001101,TMIN,57,,,E,\nITE00100554,18001102,TMAX,141,,,E,\nITE00100554,18001102,TMIN,116,,,E,\nGM000010962,18001102,PRCP,63,,,E,\nEZE00100082,18001102,TMAX,93,,,E,\nEZE00100082,18001102,TMIN,60,,,E,\nITE00100554,18001103,TMAX,135,,,E,\nITE00100554,18001103,TMIN,90,,,E,\nGM000010962,18001103,PRCP,0,,,E,\nEZE00100082,18001103,TMAX,114,,,E,\nEZE00100082,18001103,TMIN,79,,,E,\nITE00100554,18001104,TMAX,113,,,E,\nITE00100554,18001104,TMIN,106,,,E,\nGM000010962,18001104,PRCP,0,,,E,\nEZE00100082,18001104,TMAX,116,,,E,\nEZE00100082,18001104,TMIN,79,,,E,\nITE00100554,18001105,TMAX,109,,,E,\nITE00100554,18001105,TMIN,100,,,E,\nGM000010962,18001105,PRCP,54,,,E,\nEZE00100082,18001105,TMAX,85,,,E,\nEZE00100082,18001105,TMIN,61,,,E,\nITE00100554,18001106,TMAX,113,,,E,\nITE00100554,18001106,TMIN,48,,,E,\nGM000010962,18001106,PRCP,59,,,E,\nEZE00100082,18001106,TMAX,84,,,E,\nEZE00100082,18001106,TMIN,51,,,E,\nITE00100554,18001107,TMAX,123,,,E,\nITE00100554,18001107,TMIN,50,,,E,\nGM000010962,18001107,PRCP,25,,,E,\nEZE00100082,18001107,TMAX,86,,,E,\nEZE00100082,18001107,TMIN,45,,,E,\nITE00100554,18001108,TMAX,110,,,E,\nITE00100554,18001108,TMIN,98,,,E,\nGM000010962,18001108,PRCP,0,,,E,\nEZE00100082,18001108,TMAX,122,,,E,\nEZE00100082,18001108,TMIN,74,,,E,\nITE00100554,18001109,TMAX,113,,,E,\nITE00100554,18001109,TMIN,109,,,E,\nGM000010962,18001109,PRCP,4,,,E,\nEZE00100082,18001109,TMAX,173,,,E,\nEZE00100082,18001109,TMIN,122,,,E,\nITE00100554,18001110,TMAX,146,,,E,\nITE00100554,18001110,TMIN,104,,,E,\nGM000010962,18001110,PRCP,0,,,E,\nEZE00100082,18001110,TMAX,147,,,E,\nEZE00100082,18001110,TMIN,64,,,E,\nITE00100554,18001111,TMAX,146,,,E,\nITE00100554,18001111,TMIN,116,,,E,\nGM000010962,18001111,PRCP,0,,,E,\nEZE00100082,18001111,TMAX,97,,,E,\nEZE00100082,18001111,TMIN,43,,,E,\nITE00100554,18001112,TMAX,134,,,E,\nITE00100554,18001112,TMIN,121,,,E,\nGM000010962,18001112,PRCP,0,,,E,\nEZE00100082,18001112,TMAX,103,,,E,\nEZE00100082,18001112,TMIN,45,,,E,\nITE00100554,18001113,TMAX,113,,,E,\nITE00100554,18001113,TMIN,98,,,E,\nGM000010962,18001113,PRCP,42,,,E,\nEZE00100082,18001113,TMAX,80,,,E,\nEZE00100082,18001113,TMIN,50,,,E,\nITE00100554,18001114,TMAX,131,,,E,\nITE00100554,18001114,TMIN,88,,,E,\nGM000010962,18001114,PRCP,39,,,E,\nEZE00100082,18001114,TMAX,81,,,E,\nEZE00100082,18001114,TMIN,27,,,E,\nITE00100554,18001115,TMAX,119,,,E,\nITE00100554,18001115,TMIN,66,,,E,\nGM000010962,18001115,PRCP,0,,,E,\nEZE00100082,18001115,TMAX,44,,,E,\nEZE00100082,18001115,TMIN,1,,,E,\nITE00100554,18001116,TMAX,94,,,E,\nITE00100554,18001116,TMIN,94,,,E,\nGM000010962,18001116,PRCP,0,,,E,\nEZE00100082,18001116,TMAX,63,,,E,\nEZE00100082,18001116,TMIN,30,,,E,\nITE00100554,18001117,TMAX,94,,,E,\nITE00100554,18001117,TMIN,79,,,E,\nGM000010962,18001117,PRCP,47,,,E,\nEZE00100082,18001117,TMAX,70,,,E,\nEZE00100082,18001117,TMIN,44,,,E,\nITE00100554,18001118,TMAX,98,,,E,\nITE00100554,18001118,TMIN,54,,,E,\nGM000010962,18001118,PRCP,13,,,E,\nEZE00100082,18001118,TMAX,70,,,E,\nEZE00100082,18001118,TMIN,50,,,E,\nITE00100554,18001119,TMAX,109,,,E,\nITE00100554,18001119,TMIN,81,,,E,\nGM000010962,18001119,PRCP,114,,,E,\nEZE00100082,18001119,TMAX,68,,,E,\nEZE00100082,18001119,TMIN,55,,,E,\nITE00100554,18001120,TMAX,116,,,E,\nITE00100554,18001120,TMIN,54,,,E,\nGM000010962,18001120,PRCP,62,,,E,\nEZE00100082,18001120,TMAX,57,,,E,\nEZE00100082,18001120,TMIN,15,,,E,\nITE00100554,18001121,TMAX,91,,,E,\nITE00100554,18001121,TMIN,46,,,E,\nGM000010962,18001121,PRCP,7,,,E,\nEZE00100082,18001121,TMAX,29,,,E,\nEZE00100082,18001121,TMIN,2,,,E,\nITE00100554,18001122,TMAX,60,,,E,\nITE00100554,18001122,TMIN,54,,,E,\nGM000010962,18001122,PRCP,0,,,E,\nEZE00100082,18001122,TMAX,34,,,E,\nEZE00100082,18001122,TMIN,0,,,E,\nITE00100554,18001123,TMAX,69,,,E,\nITE00100554,18001123,TMIN,21,,,E,\nGM000010962,18001123,PRCP,0,,,E,\nEZE00100082,18001123,TMAX,58,,,E,\nEZE00100082,18001123,TMIN,30,,,E,\nITE00100554,18001124,TMAX,63,,,E,\nITE00100554,18001124,TMIN,19,,,E,\nGM000010962,18001124,PRCP,0,,,E,\nEZE00100082,18001124,TMAX,69,,,E,\nEZE00100082,18001124,TMIN,14,,,E,\nITE00100554,18001125,TMAX,63,,,E,\nITE00100554,18001125,TMIN,40,,,E,\nGM000010962,18001125,PRCP,0,,,E,\nEZE00100082,18001125,TMAX,43,,,E,\nEZE00100082,18001125,TMIN,-5,,,E,\nITE00100554,18001126,TMAX,59,,,E,\nITE00100554,18001126,TMIN,54,,,E,\nGM000010962,18001126,PRCP,0,,,E,\nEZE00100082,18001126,TMAX,45,,,E,\nEZE00100082,18001126,TMIN,-6,,,E,\nITE00100554,18001127,TMAX,48,,,E,\nITE00100554,18001127,TMIN,41,,,E,\nGM000010962,18001127,PRCP,86,,,E,\nEZE00100082,18001127,TMAX,56,,,E,\nEZE00100082,18001127,TMIN,38,,,E,\nITE00100554,18001128,TMAX,63,,,E,\nITE00100554,18001128,TMIN,48,,,E,\nGM000010962,18001128,PRCP,56,,,E,\nEZE00100082,18001128,TMAX,38,,,E,\nEZE00100082,18001128,TMIN,17,,,E,\nITE00100554,18001129,TMAX,66,,,E,\nITE00100554,18001129,TMIN,59,,,E,\nGM000010962,18001129,PRCP,13,,,E,\nEZE00100082,18001129,TMAX,42,,,E,\nEZE00100082,18001129,TMIN,17,,,E,\nITE00100554,18001130,TMAX,66,,,E,\nITE00100554,18001130,TMIN,25,,,E,\nGM000010962,18001130,PRCP,0,,,E,\nEZE00100082,18001130,TMAX,22,,,E,\nEZE00100082,18001130,TMIN,0,,,E,\nITE00100554,18001201,TMAX,29,,,E,\nITE00100554,18001201,TMIN,9,,,E,\nGM000010962,18001201,PRCP,7,,,E,\nEZE00100082,18001201,TMAX,34,,,E,\nEZE00100082,18001201,TMIN,-2,,,E,\nITE00100554,18001202,TMAX,10,,,E,\nITE00100554,18001202,TMIN,-23,,,E,\nGM000010962,18001202,PRCP,0,,,E,\nEZE00100082,18001202,TMAX,39,,,E,\nEZE00100082,18001202,TMIN,-5,,,E,\nITE00100554,18001203,TMAX,16,,,E,\nITE00100554,18001203,TMIN,-4,,,E,\nGM000010962,18001203,PRCP,14,,,E,\nEZE00100082,18001203,TMAX,49,,,E,\nEZE00100082,18001203,TMIN,11,,,E,\nITE00100554,18001204,TMAX,13,,,E,\nITE00100554,18001204,TMIN,4,,,E,\nGM000010962,18001204,PRCP,0,,,E,\nEZE00100082,18001204,TMAX,34,,,E,\nEZE00100082,18001204,TMIN,-5,,,E,\nITE00100554,18001205,TMAX,54,,,E,\nITE00100554,18001205,TMIN,19,,,E,\nGM000010962,18001205,PRCP,0,,,E,\nEZE00100082,18001205,TMAX,23,,,E,\nEZE00100082,18001205,TMIN,4,,,E,\nITE00100554,18001206,TMAX,29,,,E,\nITE00100554,18001206,TMIN,13,,,E,\nGM000010962,18001206,PRCP,0,,,E,\nEZE00100082,18001206,TMAX,63,,,E,\nEZE00100082,18001206,TMIN,19,,,E,\nITE00100554,18001207,TMAX,13,,,E,\nITE00100554,18001207,TMIN,3,,,E,\nGM000010962,18001207,PRCP,0,,,E,\nEZE00100082,18001207,TMAX,38,,,E,\nEZE00100082,18001207,TMIN,0,,,E,\nITE00100554,18001208,TMAX,0,,,E,\nITE00100554,18001208,TMIN,-4,,,E,\nGM000010962,18001208,PRCP,0,,,E,\nEZE00100082,18001208,TMAX,24,,,E,\nEZE00100082,18001208,TMIN,-4,,,E,\nITE00100554,18001209,TMAX,10,,,E,\nITE00100554,18001209,TMIN,-10,,,E,\nGM000010962,18001209,PRCP,0,,,E,\nEZE00100082,18001209,TMAX,24,,,E,\nEZE00100082,18001209,TMIN,-17,,,E,\nITE00100554,18001210,TMAX,21,,I,E,\nITE00100554,18001210,TMIN,10,,,E,\nGM000010962,18001210,PRCP,0,,,E,\nEZE00100082,18001210,TMAX,27,,,E,\nEZE00100082,18001210,TMIN,-9,,,E,\nITE00100554,18001211,TMAX,41,,,E,\nITE00100554,18001211,TMIN,35,,I,E,\nGM000010962,18001211,PRCP,0,,,E,\nEZE00100082,18001211,TMAX,47,,,E,\nEZE00100082,18001211,TMIN,23,,,E,\nITE00100554,18001212,TMAX,46,,,E,\nITE00100554,18001212,TMIN,29,,,E,\nGM000010962,18001212,PRCP,0,,,E,\nEZE00100082,18001212,TMAX,44,,,E,\nEZE00100082,18001212,TMIN,35,,,E,\nITE00100554,18001213,TMAX,71,,,E,\nITE00100554,18001213,TMIN,46,,,E,\nGM000010962,18001213,PRCP,0,,,E,\nEZE00100082,18001213,TMAX,45,,,E,\nEZE00100082,18001213,TMIN,35,,,E,\nITE00100554,18001214,TMAX,85,,,E,\nITE00100554,18001214,TMIN,66,,,E,\nGM000010962,18001214,PRCP,0,,,E,\nEZE00100082,18001214,TMAX,38,,,E,\nEZE00100082,18001214,TMIN,27,,,E,\nITE00100554,18001215,TMAX,91,,,E,\nITE00100554,18001215,TMIN,73,,,E,\nGM000010962,18001215,PRCP,0,,,E,\nEZE00100082,18001215,TMAX,27,,,E,\nEZE00100082,18001215,TMIN,23,,,E,\nITE00100554,18001216,TMAX,66,,,E,\nITE00100554,18001216,TMIN,60,,,E,\nGM000010962,18001216,PRCP,0,,,E,\nEZE00100082,18001216,TMAX,23,,,E,\nEZE00100082,18001216,TMIN,-3,,,E,\nITE00100554,18001217,TMAX,50,,,E,\nITE00100554,18001217,TMIN,50,,,E,\nGM000010962,18001217,PRCP,0,,,E,\nEZE00100082,18001217,TMAX,-1,,,E,\nEZE00100082,18001217,TMIN,-14,,,E,\nITE00100554,18001218,TMAX,54,,,E,\nITE00100554,18001218,TMIN,48,,I,E,\nGM000010962,18001218,PRCP,0,,,E,\nEZE00100082,18001218,TMAX,-8,,,E,\nEZE00100082,18001218,TMIN,-35,,,E,\nITE00100554,18001219,TMAX,29,,I,E,\nITE00100554,18001219,TMIN,29,,I,E,\nGM000010962,18001219,PRCP,0,,,E,\nEZE00100082,18001219,TMAX,-14,,,E,\nEZE00100082,18001219,TMIN,-56,,,E,\nITE00100554,18001220,TMAX,13,,I,E,\nITE00100554,18001220,TMIN,10,,,E,\nGM000010962,18001220,PRCP,0,,,E,\nEZE00100082,18001220,TMAX,-14,,,E,\nEZE00100082,18001220,TMIN,-64,,,E,\nITE00100554,18001221,TMAX,10,,,E,\nITE00100554,18001221,TMIN,-13,,,E,\nGM000010962,18001221,PRCP,0,,,E,\nEZE00100082,18001221,TMAX,4,,,E,\nEZE00100082,18001221,TMIN,-83,,,E,\nITE00100554,18001222,TMAX,16,,,E,\nITE00100554,18001222,TMIN,-13,,,E,\nGM000010962,18001222,PRCP,13,,,E,\nEZE00100082,18001222,TMAX,54,,,E,\nEZE00100082,18001222,TMIN,4,,,E,\nITE00100554,18001223,TMAX,23,,,E,\nITE00100554,18001223,TMIN,-16,,,E,\nGM000010962,18001223,PRCP,0,,,E,\nEZE00100082,18001223,TMAX,52,,,E,\nEZE00100082,18001223,TMIN,30,,,E,\nITE00100554,18001224,TMAX,16,,,E,\nITE00100554,18001224,TMIN,4,,,E,\nGM000010962,18001224,PRCP,0,,,E,\nEZE00100082,18001224,TMAX,30,,,E,\nEZE00100082,18001224,TMIN,6,,,E,\nITE00100554,18001225,TMAX,25,,,E,\nITE00100554,18001225,TMIN,13,,,E,\nGM000010962,18001225,PRCP,0,,,E,\nEZE00100082,18001225,TMAX,21,,,E,\nEZE00100082,18001225,TMIN,11,,,E,\nITE00100554,18001226,TMAX,38,,,E,\nITE00100554,18001226,TMIN,25,,,E,\nGM000010962,18001226,PRCP,0,,,E,\nEZE00100082,18001226,TMAX,36,,,E,\nEZE00100082,18001226,TMIN,8,,,E,\nITE00100554,18001227,TMAX,10,,I,E,\nITE00100554,18001227,TMIN,9,,,E,\nGM000010962,18001227,PRCP,0,,,E,\nEZE00100082,18001227,TMAX,47,,,E,\nEZE00100082,18001227,TMIN,20,,,E,\nITE00100554,18001228,TMAX,35,,,E,\nITE00100554,18001228,TMIN,25,,,E,\nGM000010962,18001228,PRCP,7,,,E,\nEZE00100082,18001228,TMAX,43,,,E,\nEZE00100082,18001228,TMIN,7,,,E,\nITE00100554,18001229,TMAX,50,,,E,\nITE00100554,18001229,TMIN,16,,,E,\nGM000010962,18001229,PRCP,9,,,E,\nEZE00100082,18001229,TMAX,45,,,E,\nEZE00100082,18001229,TMIN,-3,,,E,\nITE00100554,18001230,TMAX,50,,,E,\nITE00100554,18001230,TMIN,31,,,E,\nGM000010962,18001230,PRCP,13,,,E,\nEZE00100082,18001230,TMAX,96,,,E,\nEZE00100082,18001230,TMIN,14,,,E,\nITE00100554,18001231,TMAX,50,,,E,\nITE00100554,18001231,TMIN,25,,,E,\nGM000010962,18001231,PRCP,16,,,E,\nEZE00100082,18001231,TMAX,14,,,E,\nEZE00100082,18001231,TMIN,-4,,,E,\n"
     ]
    }
   ],
   "source": [
    "# - Leer el fichero 1800.csv del directorio BDASpark (\"file:///c:/BDASpark/1800.csv\")\n",
    "# rdd_1800 = sc.textFile(\"file:///C:/BDASpark/1800.csv\")\n",
    "rdd_1800 = sc.textFile(\"dbfs:/FileStore/1800.csv\")\n",
    "\n",
    "# - Mostrar las líneas\n",
    "lineas = rdd_1800.collect()\n",
    "for linea in lineas:\n",
    "    print(linea)"
   ]
  },
  {
   "cell_type": "code",
   "execution_count": 0,
   "metadata": {
    "application/vnd.databricks.v1+cell": {
     "cellMetadata": {
      "byteLimit": 2048000,
      "rowLimit": 10000
     },
     "inputWidgets": {},
     "nuid": "f3e70771-cd76-45ad-8c0b-513f6ad178a2",
     "showTitle": false,
     "tableResultSettingsMap": {},
     "title": ""
    }
   },
   "outputs": [
    {
     "output_type": "display_data",
     "data": {
      "text/html": [
       "<style scoped>\n",
       "  .ansiout {\n",
       "    display: block;\n",
       "    unicode-bidi: embed;\n",
       "    white-space: pre-wrap;\n",
       "    word-wrap: break-word;\n",
       "    word-break: break-all;\n",
       "    font-family: \"Menlo\", \"Monaco\", \"Consolas\", \"Ubuntu Mono\", \"Source Code Pro\", monospace;\n",
       "    font-size: 13px;\n",
       "    color: #555;\n",
       "    margin-left: 4px;\n",
       "    line-height: 19px;\n",
       "  }\n",
       "</style>"
      ]
     },
     "metadata": {
      "application/vnd.databricks.v1+output": {
       "arguments": {},
       "data": "",
       "errorSummary": "The spark context has stopped and the driver is restarting. Your notebook will be automatically reattached.",
       "errorTraceType": "html",
       "metadata": {},
       "type": "ipynbError"
      }
     },
     "output_type": "display_data"
    }
   ],
   "source": [
    "sc.stop()"
   ]
  }
 ],
 "metadata": {
  "application/vnd.databricks.v1+notebook": {
   "computePreferences": null,
   "dashboards": [],
   "environmentMetadata": null,
   "language": "python",
   "notebookMetadata": {
    "pythonIndentUnit": 4
   },
   "notebookName": "EjerciciosRDD1",
   "widgets": {}
  },
  "kernelspec": {
   "display_name": "Python 3 (ipykernel)",
   "language": "python",
   "name": "python3"
  },
  "language_info": {
   "codemirror_mode": {
    "name": "ipython",
    "version": 3
   },
   "file_extension": ".py",
   "mimetype": "text/x-python",
   "name": "python",
   "nbconvert_exporter": "python",
   "pygments_lexer": "ipython3",
   "version": "3.10.16"
  }
 },
 "nbformat": 4,
 "nbformat_minor": 0
}
