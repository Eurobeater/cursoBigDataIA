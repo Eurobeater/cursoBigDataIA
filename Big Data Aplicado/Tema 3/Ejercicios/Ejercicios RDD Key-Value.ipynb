{
 "cells": [
  {
   "cell_type": "markdown",
   "metadata": {
    "application/vnd.databricks.v1+cell": {
     "cellMetadata": {},
     "inputWidgets": {},
     "nuid": "04bde2b4-f52f-4494-adc6-86c8a136423e",
     "showTitle": false,
     "tableResultSettingsMap": {},
     "title": ""
    }
   },
   "source": [
    "# RDD's Key-Value\n",
    "Las funciones Key-Value en PySpark operan sobre RDDs de pares clave-valor, es decir, cada elemento del RDD es una tupla (clave,valor). \n",
    "\n",
    "Permiten realizar transformaciones y agregaciones eficientes en distribuciones de datos.\n"
   ]
  },
  {
   "cell_type": "code",
   "execution_count": 0,
   "metadata": {
    "application/vnd.databricks.v1+cell": {
     "cellMetadata": {
      "byteLimit": 2048000,
      "rowLimit": 10000
     },
     "inputWidgets": {},
     "nuid": "54416d21-592f-43a6-a5b9-bbafa5964c1f",
     "showTitle": false,
     "tableResultSettingsMap": {},
     "title": ""
    }
   },
   "outputs": [],
   "source": [
    "# Datos de ejemplo\n",
    "rdd = sc.parallelize([(1, 10), (2, 20), (1, 30), (2, 40), (3, 50)])\n",
    "\n",
    "# 1. reduceByKey(): Aplica una función de reducción (por ejemplo, suma) a los valores con la misma clave.\n",
    "\n",
    "result = rdd.reduceByKey(lambda a, b: a + b).collect()\n",
    "print(\"reduceByKey result:\", result)"
   ]
  },
  {
   "cell_type": "code",
   "execution_count": 0,
   "metadata": {
    "application/vnd.databricks.v1+cell": {
     "cellMetadata": {
      "byteLimit": 2048000,
      "rowLimit": 10000
     },
     "inputWidgets": {},
     "nuid": "0bd48c1a-119c-4253-b595-13932737be7e",
     "showTitle": false,
     "tableResultSettingsMap": {},
     "title": ""
    }
   },
   "outputs": [],
   "source": [
    "# 2. groupByKey(): Agrupa valores por clave y los devuelve como iteradores.\n",
    "\n",
    "result = rdd.groupByKey().mapValues(list).collect()\n",
    "print(\"groupByKey result:\", result)"
   ]
  },
  {
   "cell_type": "code",
   "execution_count": 0,
   "metadata": {
    "application/vnd.databricks.v1+cell": {
     "cellMetadata": {
      "byteLimit": 2048000,
      "rowLimit": 10000
     },
     "inputWidgets": {},
     "nuid": "c8622f54-3466-4556-8857-7ae4d173d17c",
     "showTitle": false,
     "tableResultSettingsMap": {},
     "title": ""
    }
   },
   "outputs": [],
   "source": [
    "# 3. sortByKey(): Ordena el RDD por clave\n",
    "\n",
    "result = rdd.sortByKey().collect()\n",
    "print(\"sortByKey result:\", result)"
   ]
  },
  {
   "cell_type": "code",
   "execution_count": 0,
   "metadata": {
    "application/vnd.databricks.v1+cell": {
     "cellMetadata": {
      "byteLimit": 2048000,
      "rowLimit": 10000
     },
     "inputWidgets": {},
     "nuid": "5313521e-7012-437a-8cd5-21951cafc034",
     "showTitle": false,
     "tableResultSettingsMap": {},
     "title": ""
    }
   },
   "outputs": [],
   "source": [
    "# 4. keys(): Devuelve solo las claves\n",
    "\n",
    "result = rdd.keys().collect()\n",
    "print(\"keys result:\", result)"
   ]
  },
  {
   "cell_type": "code",
   "execution_count": 0,
   "metadata": {
    "application/vnd.databricks.v1+cell": {
     "cellMetadata": {
      "byteLimit": 2048000,
      "rowLimit": 10000
     },
     "inputWidgets": {},
     "nuid": "a8de80f4-8f93-4f3e-bd22-0defaffbc7fd",
     "showTitle": false,
     "tableResultSettingsMap": {},
     "title": ""
    }
   },
   "outputs": [],
   "source": [
    "# 5. values(): Devuelve solo los valores\n",
    "\n",
    "result = rdd.values().collect()\n",
    "print(\"values result:\", result)"
   ]
  },
  {
   "cell_type": "code",
   "execution_count": 0,
   "metadata": {
    "application/vnd.databricks.v1+cell": {
     "cellMetadata": {
      "byteLimit": 2048000,
      "rowLimit": 10000
     },
     "inputWidgets": {},
     "nuid": "da110d38-a7ed-45a2-a3f6-8a3512377565",
     "showTitle": false,
     "tableResultSettingsMap": {},
     "title": ""
    }
   },
   "outputs": [],
   "source": [
    "# 6. mapValues(): Aplica una transformación a los valores, manteniendo las claves\n",
    "\n",
    "result = rdd.mapValues(lambda x: x * 2).collect()\n",
    "print(\"mapValues result:\", result)"
   ]
  },
  {
   "cell_type": "markdown",
   "metadata": {
    "application/vnd.databricks.v1+cell": {
     "cellMetadata": {},
     "inputWidgets": {},
     "nuid": "0268616a-0167-485e-b40f-91b626e33ca5",
     "showTitle": false,
     "tableResultSettingsMap": {},
     "title": ""
    }
   },
   "source": [
    "# Ejercicios\n",
    "\n",
    "### 1. Media de contactos por edad\n",
    "El fichero contacts.csv tiene una lista de usuarios de una red social, con los siguientes datos (userID, name, age, contacts):   \n",
    "  \n",
    "        0,Will,33,385\n",
    "        1,Jean-Luc,26,2\n",
    "        2,Hugh,55,221\n",
    "        ...\n",
    "\n",
    "Obtener el número de contactos promedio para usuarios de cada edad.\n",
    "\n",
    "\n",
    "\n",
    "\n",
    "\n"
   ]
  },
  {
   "cell_type": "markdown",
   "metadata": {
    "application/vnd.databricks.v1+cell": {
     "cellMetadata": {},
     "inputWidgets": {},
     "nuid": "cd7505c6-d5d3-4b94-a1ce-a30644c45ab4",
     "showTitle": false,
     "tableResultSettingsMap": {},
     "title": ""
    }
   },
   "source": [
    "### 2. Temperaturas mínimas por localización  \n",
    "El fichero \"1800.csv\" contiene las temperaturas del año 1800 (loc,date,type,temp,...)   \n",
    "\n",
    "        ITE00100554,18000101,TMAX,-75,,,E,\n",
    "        ITE00100554,18000101,TMIN,-148,,,E,\n",
    "        GM000010962,18000101,PRCP,0,,,E,\n",
    "        EZE00100082,18000101,TMAX,-86,,,E,\n",
    "\n",
    "Obtener la temperatura mínima para cada localización."
   ]
  },
  {
   "cell_type": "markdown",
   "metadata": {
    "application/vnd.databricks.v1+cell": {
     "cellMetadata": {},
     "inputWidgets": {},
     "nuid": "a7f99b6b-d58e-44a4-9b25-3ff711983dff",
     "showTitle": false,
     "tableResultSettingsMap": {},
     "title": ""
    }
   },
   "source": [
    "### 3. Contar palabras de un libro\n",
    "Descargar el Quijote de la biblioteca Gutenberg y mostrar las 30 palabras que más se repiten, sin tener en cuenta mayúsculas y minúsculas, y considerando los signos de puntuación como separadores.\n",
    "\n",
    "Pista: La siguiente expresión convierte el texto a minúsculas, separa las palabras eliminando signos de puntuación y otros caracteres no alfanuméricos y devuelve una lista de palabras lista para análisis de texto (tokenización).  \n",
    "  \n",
    "      \n",
    "      re.compile(r'\\W+', re.UNICODE).split(text.lower())\n"
   ]
  }
 ],
 "metadata": {
  "application/vnd.databricks.v1+notebook": {
   "computePreferences": null,
   "dashboards": [],
   "environmentMetadata": null,
   "language": "python",
   "notebookMetadata": {
    "pythonIndentUnit": 4
   },
   "notebookName": "Ejercicios RDD Key-Value",
   "widgets": {}
  },
  "kernelspec": {
   "display_name": "Python (spark_env)",
   "language": "python",
   "name": "spark_env"
  },
  "language_info": {
   "codemirror_mode": {
    "name": "ipython",
    "version": 3
   },
   "file_extension": ".py",
   "mimetype": "text/x-python",
   "name": "python",
   "nbconvert_exporter": "python",
   "pygments_lexer": "ipython3",
   "version": "3.10.16"
  }
 },
 "nbformat": 4,
 "nbformat_minor": 0
}
