{
 "cells": [
  {
   "cell_type": "markdown",
   "metadata": {
    "application/vnd.databricks.v1+cell": {
     "cellMetadata": {},
     "inputWidgets": {},
     "nuid": "372cad7e-189f-49b7-a879-3f4e74086036",
     "showTitle": false,
     "tableResultSettingsMap": {},
     "title": ""
    }
   },
   "source": [
    "# 1. Introducción a DataFrames:\n",
    "## Conceptos básicos:\n",
    "Los DataFrames son una abstracción de datos estructurados, organizados en filas y columnas, con un esquema definido. Esta estructura facilita la manipulación y el análisis de datos utilizando las APIs de Spark SQL.\n",
    "\n",
    "## Creación de DataFrames:\n",
    "- **Desde RDDs**: Los DataFrames pueden crearse a partir de RDDs (colecciones distribuidas de datos). La creación de un DataFrame desde un RDD permite trabajar con datos no estructurados transformándolos en un formato tabular.\n",
    "- **Desde archivos**: Spark SQL permite la creación de DataFrames desde varios formatos de archivos, como CSV, JSON y Parquet. Puedes cargar estos archivos directamente en un DataFrame utilizando la API de Spark SQL. También se pueden usar otros formatos de archivo.\n",
    "- **Desde tablas Hive**: Puedes crear DataFrames a partir de tablas existentes en Hive, aprovechando el metastore de Hive.\n",
    "- **Otras fuentes**: Spark puede leer datos de diversas fuentes incluyendo bases de datos relacionales mediante JDBC, NoSQL, ORC, y otros sistemas de almacenamiento.\n"
   ]
  },
  {
   "cell_type": "markdown",
   "metadata": {
    "application/vnd.databricks.v1+cell": {
     "cellMetadata": {},
     "inputWidgets": {},
     "nuid": "1cfef7f1-5433-434d-abb5-7b23fca672bd",
     "showTitle": false,
     "tableResultSettingsMap": {},
     "title": ""
    }
   },
   "source": [
    "### 1. Cargar datos desde un RDD:\n",
    "Para convertir un RDD en un DataFrame, se utiliza la función `toDF()` o `createDataFrame()`.\n",
    "\n",
    "- **toDF()**: Infiere el esquema del DataFrame a partir del RDD, normalmente usado con una tupla o lista en Python.  https://spark.apache.org/docs/latest/api/python/reference/pyspark.sql/api/pyspark.sql.DataFrame.toDF.html (similar, la original no está documentada en https://spark.apache.org/docs/latest/api/python/reference/api/pyspark.RDD.html)\n",
    "- **createDataFrame()**: Permite especificar explícitamente el esquema (`StructType`) del DataFrame.  https://spark.apache.org/docs/latest/api/python/reference/pyspark.sql/api/pyspark.sql.SparkSession.createDataFrame.html"
   ]
  },
  {
   "cell_type": "code",
   "execution_count": 0,
   "metadata": {
    "application/vnd.databricks.v1+cell": {
     "cellMetadata": {
      "byteLimit": 2048000,
      "rowLimit": 10000
     },
     "inputWidgets": {},
     "nuid": "0a36ba3b-95fd-4ecc-8532-aefc34e6d84a",
     "showTitle": false,
     "tableResultSettingsMap": {},
     "title": ""
    }
   },
   "outputs": [],
   "source": [
    "# Inicializamos sesión\n",
    "\n",
    "from pyspark.sql import SparkSession\n",
    "spark = SparkSession.builder.appName(\"RDDtoDF\").getOrCreate()\n"
   ]
  },
  {
   "cell_type": "code",
   "execution_count": 0,
   "metadata": {
    "application/vnd.databricks.v1+cell": {
     "cellMetadata": {
      "byteLimit": 2048000,
      "rowLimit": 10000
     },
     "inputWidgets": {},
     "nuid": "2b37dca2-339c-4a46-80f8-39e65639626c",
     "showTitle": false,
     "tableResultSettingsMap": {},
     "title": ""
    }
   },
   "outputs": [
    {
     "output_type": "stream",
     "name": "stdout",
     "output_type": "stream",
     "text": [
      "Python version:  3.9.21 (main, Dec  4 2024, 08:53:34) \n[GCC 9.4.0]\n"
     ]
    }
   ],
   "source": [
    "import sys\n",
    "print(\"Python version: \", sys.version)"
   ]
  },
  {
   "cell_type": "code",
   "execution_count": 0,
   "metadata": {
    "application/vnd.databricks.v1+cell": {
     "cellMetadata": {
      "byteLimit": 2048000,
      "rowLimit": 10000
     },
     "inputWidgets": {},
     "nuid": "1c014c55-b5a0-48ee-9aca-55e5aded6fa4",
     "showTitle": false,
     "tableResultSettingsMap": {},
     "title": ""
    },
    "scrolled": true
   },
   "outputs": [
    {
     "output_type": "stream",
     "name": "stdout",
     "output_type": "stream",
     "text": [
      "Spark version:  3.3.2\n"
     ]
    }
   ],
   "source": [
    "from pyspark import SparkContext\n",
    "sc = SparkContext.getOrCreate()\n",
    "print(\"Spark version: \", sc.version)\n"
   ]
  },
  {
   "cell_type": "code",
   "execution_count": 0,
   "metadata": {
    "application/vnd.databricks.v1+cell": {
     "cellMetadata": {
      "byteLimit": 2048000,
      "rowLimit": 10000
     },
     "inputWidgets": {},
     "nuid": "fc7eb31e-0e22-4e9c-8dd2-5021b2e74623",
     "showTitle": false,
     "tableResultSettingsMap": {},
     "title": ""
    }
   },
   "outputs": [
    {
     "output_type": "stream",
     "name": "stdout",
     "output_type": "stream",
     "text": [
      "+-----+---+\n| name|age|\n+-----+---+\n|Alice| 34|\n|  Bob| 23|\n+-----+---+\n\n+--------------------+\n|                 _c0|\n+--------------------+\n|196\\t242\\t3\\t8812...|\n|186\\t302\\t3\\t8917...|\n|22\\t377\\t1\\t87888...|\n|244\\t51\\t2\\t88060...|\n|166\\t346\\t1\\t8863...|\n|298\\t474\\t4\\t8841...|\n|115\\t265\\t2\\t8811...|\n|253\\t465\\t5\\t8916...|\n|305\\t451\\t3\\t8863...|\n| 6\\t86\\t3\\t883603013|\n|62\\t257\\t2\\t87937...|\n|286\\t1014\\t5\\t879...|\n|200\\t222\\t5\\t8760...|\n|210\\t40\\t3\\t89103...|\n|224\\t29\\t3\\t88810...|\n|303\\t785\\t3\\t8794...|\n|122\\t387\\t5\\t8792...|\n|194\\t274\\t2\\t8795...|\n|291\\t1042\\t4\\t874...|\n|234\\t1184\\t2\\t892...|\n+--------------------+\nonly showing top 20 rows\n\n"
     ]
    }
   ],
   "source": [
    "## Ejemplo con toDF():\n",
    "rdd = spark.sparkContext.parallelize([(\"Alice\", 34), (\"Bob\", 23)])\n",
    "df = rdd.toDF([\"name\", \"age\"])\n",
    "df.show()\n",
    "\n",
    "## Ejemplo sobre rdd cargado de un fichero (error porque no consigue inferir el esquema)\n",
    "# lines = sc.textFile(\"dbfs:/FileStore/u.data\")\n",
    "df_peliculas = spark.read.option(\"header\", \"false\").csv(\"dbfs:/FileStore/u.data\")\n",
    "# df_peliculas = lines.toDF()\n",
    "df_peliculas.show()"
   ]
  },
  {
   "cell_type": "code",
   "execution_count": 0,
   "metadata": {
    "application/vnd.databricks.v1+cell": {
     "cellMetadata": {
      "byteLimit": 2048000,
      "rowLimit": 10000
     },
     "inputWidgets": {},
     "nuid": "d1269e2e-f012-427c-a51e-f767bcf9160f",
     "showTitle": false,
     "tableResultSettingsMap": {},
     "title": ""
    }
   },
   "outputs": [
    {
     "output_type": "stream",
     "name": "stdout",
     "output_type": "stream",
     "text": [
      "+-------+--------+------+---------+\n|usuario|pelicula|rating|timestamp|\n+-------+--------+------+---------+\n|    196|     242|     3|881250949|\n|    186|     302|     3|891717742|\n|     22|     377|     1|878887116|\n|    244|      51|     2|880606923|\n|    166|     346|     1|886397596|\n|    298|     474|     4|884182806|\n|    115|     265|     2|881171488|\n|    253|     465|     5|891628467|\n|    305|     451|     3|886324817|\n|      6|      86|     3|883603013|\n|     62|     257|     2|879372434|\n|    286|    1014|     5|879781125|\n|    200|     222|     5|876042340|\n|    210|      40|     3|891035994|\n|    224|      29|     3|888104457|\n|    303|     785|     3|879485318|\n|    122|     387|     5|879270459|\n|    194|     274|     2|879539794|\n|    291|    1042|     4|874834944|\n|    234|    1184|     2|892079237|\n+-------+--------+------+---------+\nonly showing top 20 rows\n\n"
     ]
    }
   ],
   "source": [
    "## Ejemplo con createDataFrame() especificando el esquema:\n",
    "from pyspark.sql import Row\n",
    "from pyspark.sql.types import StructType, StructField, StringType, IntegerType\n",
    "\n",
    "esquema = StructType([\n",
    "            StructField(\"usuario\",IntegerType(),False),\n",
    "            StructField(\"pelicula\",IntegerType(),False),\n",
    "            StructField(\"rating\", IntegerType(),False),\n",
    "            StructField(\"timestamp\",IntegerType(),False)\n",
    "])\n",
    "\n",
    "lineas_rdd = sc.textFile(\"dbfs:/FileStore/u.data\")\n",
    "\n",
    "# Convertimos un rdd de filas en un rdd de listas de 4 strings\n",
    "lineas_rdd_cadenas = lineas_rdd.map(lambda x: x.split())\n",
    "\n",
    "# Como el esquema espera enteros, convertimos el rdd a listas de 4 enteros\n",
    "lineas_rdd_enteros = lineas_rdd_cadenas.map(lambda x: [int(x[0]), int(x[1]), int(x[2]), int(x[3])])\n",
    "\n",
    "df_peliculas = spark.createDataFrame(lineas_rdd_enteros,esquema)\n",
    "df_peliculas.show()"
   ]
  },
  {
   "cell_type": "code",
   "execution_count": 0,
   "metadata": {
    "application/vnd.databricks.v1+cell": {
     "cellMetadata": {
      "byteLimit": 2048000,
      "rowLimit": 10000
     },
     "inputWidgets": {},
     "nuid": "90e29b00-9396-47ff-9a38-897a805d9d5b",
     "showTitle": false,
     "tableResultSettingsMap": {},
     "title": ""
    }
   },
   "outputs": [
    {
     "output_type": "stream",
     "name": "stdout",
     "output_type": "stream",
     "text": [
      "+-------+--------+------+---------+\n|usuario|pelicula|rating|timestamp|\n+-------+--------+------+---------+\n|    196|     242|     3|881250949|\n|    186|     302|     3|891717742|\n|     22|     377|     1|878887116|\n|    244|      51|     2|880606923|\n|    166|     346|     1|886397596|\n|    298|     474|     4|884182806|\n|    115|     265|     2|881171488|\n|    253|     465|     5|891628467|\n|    305|     451|     3|886324817|\n|      6|      86|     3|883603013|\n|     62|     257|     2|879372434|\n|    286|    1014|     5|879781125|\n|    200|     222|     5|876042340|\n|    210|      40|     3|891035994|\n|    224|      29|     3|888104457|\n|    303|     785|     3|879485318|\n|    122|     387|     5|879270459|\n|    194|     274|     2|879539794|\n|    291|    1042|     4|874834944|\n|    234|    1184|     2|892079237|\n+-------+--------+------+---------+\nonly showing top 20 rows\n\n"
     ]
    }
   ],
   "source": [
    "# Mismo caso pero definiendo la función para el map\n",
    "def leerFila(fila):\n",
    "    lista = fila.split()\n",
    "    return [int(lista[0]),int(lista[1]),int(lista[2]),int(lista[3])]\n",
    "\n",
    "lineas_rdd_filas = sc.textFile(\"dbfs:/FileStore/u.data\")\n",
    "lineas_rdd_enteros2 = lineas_rdd_filas.map(leerFila)\n",
    "\n",
    "df_peliculas2 = spark.createDataFrame(lineas_rdd_enteros2,esquema)\n",
    "df_peliculas2.show()"
   ]
  },
  {
   "cell_type": "markdown",
   "metadata": {
    "application/vnd.databricks.v1+cell": {
     "cellMetadata": {},
     "inputWidgets": {},
     "nuid": "9754af4c-f9db-42dd-9101-777b80d316aa",
     "showTitle": false,
     "tableResultSettingsMap": {},
     "title": ""
    }
   },
   "source": [
    "### 2. Cargar datos desde ficheros CSV:\n",
    "\n",
    "#### Sintaxis:\n",
    "Se utiliza `spark.read.csv()`. Se pueden especificar opciones como `header` para indicar si el archivo tiene encabezado e `inferSchema` para que Spark infiera los tipos de datos.\n",
    "\n",
    "- `header` indica si la primera línea del archivo CSV contiene los nombres de las columnas.\n",
    "- `inferSchema` permite a Spark determinar automáticamente los tipos de datos de cada columna.\n",
    "\n",
    "https://spark.apache.org/docs/latest/api/python/reference/pyspark.sql/api/pyspark.sql.DataFrameReader.csv.html\n",
    "\n",
    "#### Consideraciones\n",
    "- **Rutas de archivos**: Asegúrate de proporcionar las rutas correctas a tus archivos CSV y Parquet.\n",
    "- **Esquema**: Si no se utiliza `inferSchema` al leer archivos CSV, el esquema del DataFrame debe especificarse explícitamente.\n",
    "- **DataFrames**: Los DataFrames proporcionan una forma de procesar y analizar datos estructurados. A diferencia de los RDDs, los DataFrames están basados en un esquema, es decir, conocen los nombres y tipos de las columnas de un conjunto de datos."
   ]
  },
  {
   "cell_type": "code",
   "execution_count": 0,
   "metadata": {
    "application/vnd.databricks.v1+cell": {
     "cellMetadata": {
      "byteLimit": 2048000,
      "rowLimit": 10000
     },
     "inputWidgets": {},
     "nuid": "66430627-0af8-4efd-bd39-a93d54b45e97",
     "showTitle": false,
     "tableResultSettingsMap": {},
     "title": ""
    }
   },
   "outputs": [
    {
     "output_type": "stream",
     "name": "stdout",
     "output_type": "stream",
     "text": [
      "+-------+----+----------------+--------------------+-------------+-------+---------------------+-------------------+-------+---------------------+----------+------------------+------------+\n|Country|Year|Beginning Stocks|Domestic Consumption|Ending Stocks|Exports|Feed Waste Dom. Cons.|Food Use Dom. Cons.|Imports|Industrial Dom. Cons.|Production|Total Distribution|Total Supply|\n+-------+----+----------------+--------------------+-------------+-------+---------------------+-------------------+-------+---------------------+----------+------------------+------------+\n|Algeria|1964|               0|                  15|            0|      3|                    0|                 15|      0|                    0|        18|                18|          18|\n|Algeria|1965|               0|                  12|            0|      5|                    0|                 12|      0|                    0|        17|                17|          17|\n|Algeria|1966|               0|                  16|            0|      0|                    0|                 16|      0|                    0|        16|                16|          16|\n|Algeria|1967|               0|                  15|            0|      7|                    0|                 15|      0|                    0|        22|                22|          22|\n|Algeria|1968|               0|                  11|            0|      7|                    0|                 11|      0|                    0|        18|                18|          18|\n|Algeria|1969|               0|                  19|            0|      3|                    0|                 19|      0|                    0|        22|                22|          22|\n|Algeria|1970|               0|                  12|            0|      1|                    0|                 12|      0|                    0|        13|                13|          13|\n|Algeria|1971|               0|                  20|            2|      1|                    0|                 20|      0|                    0|        23|                23|          23|\n|Algeria|1972|               2|                  13|            2|      2|                    0|                 13|      0|                    0|        15|                17|          17|\n|Algeria|1973|               2|                  11|            3|      4|                    0|                 11|      0|                    0|        16|                18|          18|\n|Algeria|1974|               3|                  10|            1|      0|                    0|                 10|      0|                    0|         8|                11|          11|\n|Algeria|1975|               1|                  16|            3|      0|                    0|                 16|      0|                    0|        18|                19|          19|\n|Algeria|1976|               3|                  15|            3|      0|                    0|                 15|      0|                    0|        15|                18|          18|\n|Algeria|1977|               3|                   8|            0|      0|                    0|                  8|      0|                    0|         5|                 8|           8|\n|Algeria|1978|               0|                  13|            1|      0|                    0|                 13|      0|                    0|        14|                14|          14|\n|Algeria|1979|               1|                  11|            0|      0|                    0|                 11|      0|                    0|        10|                11|          11|\n|Algeria|1980|               0|                  18|            0|      0|                    0|                 18|      0|                    0|        18|                18|          18|\n|Algeria|1981|               0|                  15|            0|      0|                    0|                 15|      0|                    0|        15|                15|          15|\n|Algeria|1982|               0|                  16|            0|      0|                    0|                 16|      0|                    0|        16|                16|          16|\n|Algeria|1983|               0|                  13|            0|      0|                    0|                 13|      0|                    0|        13|                13|          13|\n+-------+----+----------------+--------------------+-------------+-------+---------------------+-------------------+-------+---------------------+----------+------------------+------------+\nonly showing top 20 rows\n\n"
     ]
    }
   ],
   "source": [
    "# Desde un fichero CSV\n",
    "df=spark.read.option(\"header\", \"true\").option(\"inferSchema\", \"true\").csv(\"dbfs:/FileStore/olive.csv\")\n",
    "df.show()\n"
   ]
  },
  {
   "cell_type": "markdown",
   "metadata": {
    "application/vnd.databricks.v1+cell": {
     "cellMetadata": {},
     "inputWidgets": {},
     "nuid": "492a0046-27f6-449e-9636-0fc0e73eb0d3",
     "showTitle": false,
     "tableResultSettingsMap": {},
     "title": ""
    }
   },
   "source": [
    "### 3. Cargar datos desde ficheros Parquet:\n",
    "Se utiliza `spark.read.parquet()`.  \n",
    "https://spark.apache.org/docs/latest/api/python/reference/pyspark.sql/api/pyspark.sql.DataFrameReader.parquet.html  \n",
    "\n",
    "#### Consideraciones\n",
    "- **Esquema**: El esquema se almacena en el mismo archivo."
   ]
  },
  {
   "cell_type": "code",
   "execution_count": 0,
   "metadata": {
    "application/vnd.databricks.v1+cell": {
     "cellMetadata": {
      "byteLimit": 2048000,
      "rowLimit": 10000
     },
     "inputWidgets": {},
     "nuid": "e45369da-016d-4cc3-85d3-05e774ca8a01",
     "showTitle": false,
     "tableResultSettingsMap": {},
     "title": ""
    }
   },
   "outputs": [
    {
     "output_type": "stream",
     "name": "stdout",
     "output_type": "stream",
     "text": [
      "+------------------+----+--------------+----------------+--------------------+-------------+-------+---------------------+-------------------+-------+---------------------+----------+------------------+------------+-----+\n|           Country|Year|Area Harvested|Beginning Stocks|Domestic Consumption|Ending Stocks|Exports|Feed Waste Dom. Cons.|Food Use Dom. Cons.|Imports|Industrial Dom. Cons.|Production|Total Distribution|Total Supply|Yield|\n+------------------+----+--------------+----------------+--------------------+-------------+-------+---------------------+-------------------+-------+---------------------+----------+------------------+------------+-----+\n|       Afghanistan|1964|           0.0|             0.0|                 0.0|          0.0|    0.0|                  0.0|                0.0|    0.0|                  0.0|       0.0|               0.0|         0.0|  0.0|\n|       Afghanistan|1965|           0.0|             0.0|                 0.0|          0.0|    0.0|                  0.0|                0.0|    0.0|                  0.0|       0.0|               0.0|         0.0|  0.0|\n|       Afghanistan|1966|           0.0|             0.0|                 0.0|          0.0|    0.0|                  0.0|                0.0|    0.0|                  0.0|       0.0|               0.0|         0.0|  0.0|\n|       Afghanistan|1967|           0.0|             0.0|                 0.0|          0.0|    0.0|                  0.0|                0.0|    0.0|                  0.0|       0.0|               0.0|         0.0|  0.0|\n|       Afghanistan|1968|           0.0|             0.0|                 0.0|          0.0|    0.0|                  0.0|                0.0|    0.0|                  0.0|       0.0|               0.0|         0.0|  0.0|\n|       Afghanistan|1969|           0.0|             0.0|                 0.0|          0.0|    0.0|                  0.0|                0.0|    0.0|                  0.0|       0.0|               0.0|         0.0|  0.0|\n|       Afghanistan|1970|           0.0|             0.0|                 0.0|          0.0|    0.0|                  0.0|                0.0|    0.0|                  0.0|       0.0|               0.0|         0.0|  0.0|\n|       Afghanistan|1971|           0.0|             0.0|                 0.0|          0.0|    0.0|                  0.0|                0.0|    0.0|                  0.0|       0.0|               0.0|         0.0|  0.0|\n|       Afghanistan|1972|           0.0|             0.0|                 0.0|          0.0|    0.0|                  0.0|                0.0|    0.0|                  0.0|       0.0|               0.0|         0.0|  0.0|\n|       Afghanistan|1973|           0.0|             0.0|                 0.0|          0.0|    0.0|                  0.0|                0.0|    0.0|                  0.0|       0.0|               0.0|         0.0|  0.0|\n|       Afghanistan|1974|           0.0|             0.0|                 0.0|          0.0|    0.0|                  0.0|                0.0|    0.0|                  0.0|       0.0|               0.0|         0.0|  0.0|\n|       Afghanistan|1975|           0.0|             0.0|                 0.0|          0.0|    0.0|                  0.0|                0.0|    0.0|                  0.0|       0.0|               0.0|         0.0|  0.0|\n|       Afghanistan|1976|           0.0|             0.0|                 0.0|          0.0|    0.0|                  0.0|                0.0|    0.0|                  0.0|       0.0|               0.0|         0.0|  0.0|\n|       Afghanistan|1977|           0.0|             0.0|                 0.0|          0.0|    0.0|                  0.0|                0.0|    0.0|                  0.0|       0.0|               0.0|         0.0|  0.0|\n|       Afghanistan|1978|           0.0|             0.0|                 0.0|          0.0|    0.0|                  0.0|                0.0|    0.0|                  0.0|       0.0|               0.0|         0.0|  0.0|\n|       Afghanistan|1979|           0.0|             0.0|                 0.0|          0.0|    0.0|                  0.0|                0.0|    0.0|                  0.0|       0.0|               0.0|         0.0|  0.0|\n|       Afghanistan|1980|           0.0|             0.0|                 0.0|          0.0|    0.0|                  0.0|                0.0|    0.0|                  0.0|       0.0|               0.0|         0.0|  0.0|\n|       Afghanistan|1981|           0.0|             0.0|                 0.0|          0.0|    0.0|                  0.0|                0.0|    0.0|                  0.0|       0.0|               0.0|         0.0|  0.0|\n|       Afghanistan|1982|           0.0|             0.0|                 0.0|          0.0|    0.0|                  0.0|                0.0|    0.0|                  0.0|       0.0|               0.0|         0.0|  0.0|\n|       Afghanistan|1983|           0.0|             0.0|                 0.0|          0.0|    0.0|                  0.0|                0.0|    0.0|                  0.0|       0.0|               0.0|         0.0|  0.0|\n|       Afghanistan|1984|           0.0|             0.0|                10.0|          0.0|    0.0|                  0.0|               10.0|   10.0|                  0.0|       0.0|              10.0|        10.0|  0.0|\n|       Afghanistan|1985|           0.0|             0.0|                10.0|          0.0|    0.0|                  0.0|               10.0|   10.0|                  0.0|       0.0|              10.0|        10.0|  0.0|\n|       Afghanistan|1986|           0.0|             0.0|                10.0|          0.0|    0.0|                  0.0|               10.0|   10.0|                  0.0|       0.0|              10.0|        10.0|  0.0|\n|       Afghanistan|1987|           0.0|             0.0|                15.0|          0.0|    0.0|                  0.0|               15.0|   15.0|                  0.0|       0.0|              15.0|        15.0|  0.0|\n|       Afghanistan|1988|           0.0|             0.0|                20.0|          0.0|    0.0|                  0.0|               20.0|   20.0|                  0.0|       0.0|              20.0|        20.0|  0.0|\n|       Afghanistan|1989|           0.0|             0.0|                25.0|          0.0|    0.0|                  0.0|               25.0|   25.0|                  0.0|       0.0|              25.0|        25.0|  0.0|\n|       Afghanistan|1990|           0.0|             0.0|                30.0|          0.0|    0.0|                  0.0|               30.0|   30.0|                  0.0|       0.0|              30.0|        30.0|  0.0|\n|       Afghanistan|1991|           0.0|             0.0|                35.0|          0.0|    0.0|                  0.0|               35.0|   35.0|                  0.0|       0.0|              35.0|        35.0|  0.0|\n|       Afghanistan|1992|           0.0|             0.0|                40.0|          0.0|    0.0|                  0.0|               40.0|   40.0|                  0.0|       0.0|              40.0|        40.0|  0.0|\n|       Afghanistan|1993|           0.0|             0.0|                45.0|          0.0|    0.0|                  0.0|               45.0|   45.0|                  0.0|       0.0|              45.0|        45.0|  0.0|\n|       Afghanistan|1994|           0.0|             0.0|                50.0|          0.0|    0.0|                  0.0|               50.0|   50.0|                  0.0|       0.0|              50.0|        50.0|  0.0|\n|       Afghanistan|1995|           0.0|             0.0|                50.0|          0.0|    0.0|                  0.0|               50.0|   50.0|                  0.0|       0.0|              50.0|        50.0|  0.0|\n|       Afghanistan|1996|           0.0|             0.0|                52.0|          0.0|    0.0|                  0.0|               52.0|   52.0|                  0.0|       0.0|              52.0|        52.0|  0.0|\n|       Afghanistan|1997|           0.0|             0.0|                60.0|          0.0|    0.0|                  0.0|               60.0|   60.0|                  0.0|       0.0|              60.0|        60.0|  0.0|\n|       Afghanistan|1998|           0.0|             0.0|                60.0|          0.0|    0.0|                  0.0|               60.0|   60.0|                  0.0|       0.0|              60.0|        60.0|  0.0|\n|       Afghanistan|1999|           0.0|             0.0|                65.0|          0.0|    0.0|                  0.0|               65.0|   65.0|                  0.0|       0.0|              65.0|        65.0|  0.0|\n|       Afghanistan|2000|           0.0|             0.0|                55.0|          5.0|    0.0|                  0.0|               55.0|   60.0|                  0.0|       0.0|              60.0|        60.0|  0.0|\n|       Afghanistan|2001|           0.0|             5.0|                45.0|         10.0|    0.0|                  0.0|               45.0|   50.0|                  0.0|       0.0|              55.0|        55.0|  0.0|\n|       Afghanistan|2002|           0.0|            10.0|                40.0|          0.0|    0.0|                  0.0|               40.0|   30.0|                  0.0|       0.0|              40.0|        40.0|  0.0|\n|       Afghanistan|2003|           0.0|             0.0|               125.0|         20.0|    0.0|                  0.0|              125.0|  145.0|                  0.0|       0.0|             145.0|       145.0|  0.0|\n|       Afghanistan|2004|           0.0|            20.0|               150.0|         55.0|    0.0|                  0.0|              150.0|  185.0|                  0.0|       0.0|             205.0|       205.0|  0.0|\n|       Afghanistan|2005|           0.0|            55.0|               151.0|         55.0|    0.0|                  0.0|              151.0|  151.0|                  0.0|       0.0|             206.0|       206.0|  0.0|\n|       Afghanistan|2006|           0.0|            55.0|               135.0|         65.0|    0.0|                  0.0|              135.0|  145.0|                  0.0|       0.0|             200.0|       200.0|  0.0|\n|       Afghanistan|2007|           0.0|            65.0|               125.0|         56.0|    0.0|                  0.0|              125.0|  116.0|                  0.0|       0.0|             181.0|       181.0|  0.0|\n|       Afghanistan|2008|           0.0|            56.0|               117.0|         23.0|    0.0|                  0.0|              117.0|   84.0|                  0.0|       0.0|             140.0|       140.0|  0.0|\n|       Afghanistan|2009|           0.0|            23.0|               118.0|          5.0|    0.0|                  0.0|              118.0|  100.0|                  0.0|       0.0|             123.0|       123.0|  0.0|\n|       Afghanistan|2010|           0.0|             5.0|               105.0|          5.0|    0.0|                  0.0|              105.0|  105.0|                  0.0|       0.0|             110.0|       110.0|  0.0|\n|       Afghanistan|2011|           0.0|             5.0|               110.0|          0.0|    0.0|                  0.0|              110.0|  105.0|                  0.0|       0.0|             110.0|       110.0|  0.0|\n|       Afghanistan|2012|           0.0|             0.0|               115.0|          0.0|    0.0|                  0.0|              115.0|  115.0|                  0.0|       0.0|             115.0|       115.0|  0.0|\n|       Afghanistan|2013|           0.0|             0.0|               115.0|          0.0|    0.0|                  0.0|              115.0|  115.0|                  0.0|       0.0|             115.0|       115.0|  0.0|\n|       Afghanistan|2014|           0.0|             0.0|               115.0|         32.0|    0.0|                  0.0|              115.0|  147.0|                  0.0|       0.0|             147.0|       147.0|  0.0|\n|       Afghanistan|2015|           0.0|            32.0|               120.0|         18.0|    0.0|                  0.0|              120.0|  106.0|                  0.0|       0.0|             138.0|       138.0|  0.0|\n|       Afghanistan|2016|           0.0|            18.0|               130.0|         23.0|    0.0|                  0.0|              130.0|  135.0|                  0.0|       0.0|             153.0|       153.0|  0.0|\n|       Afghanistan|2017|           0.0|            23.0|               140.0|         29.0|    0.0|                  0.0|              140.0|  146.0|                  0.0|       0.0|             169.0|       169.0|  0.0|\n|       Afghanistan|2018|           0.0|            29.0|               145.0|         36.0|    0.0|                  0.0|              145.0|  152.0|                  0.0|       0.0|             181.0|       181.0|  0.0|\n|       Afghanistan|2019|           0.0|            36.0|               150.0|         34.0|    0.0|                  0.0|              150.0|  148.0|                  0.0|       0.0|             184.0|       184.0|  0.0|\n|       Afghanistan|2020|           0.0|            34.0|               155.0|         36.0|    0.0|                  0.0|              155.0|  157.0|                  0.0|       0.0|             191.0|       191.0|  0.0|\n|       Afghanistan|2021|           0.0|            36.0|               205.0|         38.0|    0.0|                  0.0|              205.0|  207.0|                  0.0|       0.0|             243.0|       243.0|  0.0|\n|       Afghanistan|2022|           0.0|            38.0|               215.0|         43.0|    0.0|                  0.0|              215.0|  220.0|                  0.0|       0.0|             258.0|       258.0|  0.0|\n|       Afghanistan|2023|           0.0|            43.0|               220.0|         43.0|    0.0|                  0.0|              220.0|  220.0|                  0.0|       0.0|             263.0|       263.0|  0.0|\n|           Algeria|1964|           0.0|             0.0|                 0.0|          0.0|    0.0|                  0.0|                0.0|    0.0|                  0.0|       0.0|               0.0|         0.0|  0.0|\n|           Algeria|1965|           0.0|             0.0|                 0.0|          0.0|    0.0|                  0.0|                0.0|    0.0|                  0.0|       0.0|               0.0|         0.0|  0.0|\n|           Algeria|1966|           0.0|             0.0|                 0.0|          0.0|    0.0|                  0.0|                0.0|    0.0|                  0.0|       0.0|               0.0|         0.0|  0.0|\n|           Algeria|1967|           0.0|             0.0|                 0.0|          0.0|    0.0|                  0.0|                0.0|    0.0|                  0.0|       0.0|               0.0|         0.0|  0.0|\n|           Algeria|1968|           0.0|             0.0|                 0.0|          0.0|    0.0|                  0.0|                0.0|    0.0|                  0.0|       0.0|               0.0|         0.0|  0.0|\n|           Algeria|1969|           0.0|             0.0|                 0.0|          0.0|    0.0|                  0.0|                0.0|    0.0|                  0.0|       0.0|               0.0|         0.0|  0.0|\n|           Algeria|1970|           0.0|             0.0|                 0.0|          0.0|    0.0|                  0.0|                0.0|    0.0|                  0.0|       0.0|               0.0|         0.0|  0.0|\n|           Algeria|1971|           0.0|             0.0|                 0.0|          0.0|    0.0|                  0.0|                0.0|    0.0|                  0.0|       0.0|               0.0|         0.0|  0.0|\n|           Algeria|1972|           0.0|             0.0|                 0.0|          0.0|    0.0|                  0.0|                0.0|    0.0|                  0.0|       0.0|               0.0|         0.0|  0.0|\n|           Algeria|1973|           0.0|             0.0|                 0.0|          0.0|    0.0|                  0.0|                0.0|    0.0|                  0.0|       0.0|               0.0|         0.0|  0.0|\n|           Algeria|1974|           0.0|             0.0|                 0.0|          0.0|    0.0|                  0.0|                0.0|    0.0|                  0.0|       0.0|               0.0|         0.0|  0.0|\n|           Algeria|1975|           0.0|             0.0|                 0.0|          0.0|    0.0|                  0.0|                0.0|    0.0|                  0.0|       0.0|               0.0|         0.0|  0.0|\n|           Algeria|1976|           0.0|             0.0|                 0.0|          0.0|    0.0|                  0.0|                0.0|    0.0|                  0.0|       0.0|               0.0|         0.0|  0.0|\n|           Algeria|1977|           0.0|             0.0|                 0.0|          0.0|    0.0|                  0.0|                0.0|    0.0|                  0.0|       0.0|               0.0|         0.0|  0.0|\n|           Algeria|1978|           0.0|             0.0|                 4.0|          0.0|    0.0|                  0.0|                4.0|    4.0|                  0.0|       0.0|               4.0|         4.0|  0.0|\n|           Algeria|1979|           0.0|             0.0|                 5.0|          0.0|    0.0|                  0.0|                5.0|    5.0|                  0.0|       0.0|               5.0|         5.0|  0.0|\n|           Algeria|1980|           0.0|             0.0|                 3.0|          0.0|    0.0|                  0.0|                3.0|    3.0|                  0.0|       0.0|               3.0|         3.0|  0.0|\n|           Algeria|1981|           0.0|             0.0|                 6.0|          0.0|    0.0|                  0.0|                6.0|    6.0|                  0.0|       0.0|               6.0|         6.0|  0.0|\n|           Algeria|1982|           0.0|             0.0|                 3.0|          0.0|    0.0|                  0.0|                3.0|    3.0|                  0.0|       0.0|               3.0|         3.0|  0.0|\n|           Algeria|1983|           0.0|             0.0|                 3.0|          0.0|    0.0|                  0.0|                3.0|    3.0|                  0.0|       0.0|               3.0|         3.0|  0.0|\n|           Algeria|1984|           0.0|             0.0|                 4.0|          0.0|    0.0|                  0.0|                4.0|    4.0|                  0.0|       0.0|               4.0|         4.0|  0.0|\n|           Algeria|1985|           0.0|             0.0|                 1.0|          0.0|    0.0|                  0.0|                1.0|    1.0|                  0.0|       0.0|               1.0|         1.0|  0.0|\n|           Algeria|1986|           0.0|             0.0|                 0.0|          0.0|    0.0|                  0.0|                0.0|    0.0|                  0.0|       0.0|               0.0|         0.0|  0.0|\n|           Algeria|1987|           0.0|             0.0|                10.0|          0.0|    0.0|                  0.0|               10.0|   10.0|                  0.0|       0.0|              10.0|        10.0|  0.0|\n|           Algeria|1988|           0.0|             0.0|                10.0|          0.0|    0.0|                  0.0|               10.0|   10.0|                  0.0|       0.0|              10.0|        10.0|  0.0|\n|           Algeria|1989|           0.0|             0.0|                10.0|          0.0|    0.0|                  0.0|               10.0|   10.0|                  0.0|       0.0|              10.0|        10.0|  0.0|\n|           Algeria|1990|           0.0|             0.0|                10.0|          0.0|    0.0|                  0.0|               10.0|   10.0|                  0.0|       0.0|              10.0|        10.0|  0.0|\n|           Algeria|1991|           0.0|             0.0|                10.0|          0.0|    0.0|                  0.0|               10.0|   10.0|                  0.0|       0.0|              10.0|        10.0|  0.0|\n|           Algeria|1992|           0.0|             0.0|                15.0|          0.0|    0.0|                  0.0|               15.0|   15.0|                  0.0|       0.0|              15.0|        15.0|  0.0|\n|           Algeria|1993|           0.0|             0.0|                20.0|          0.0|    0.0|                  0.0|               20.0|   20.0|                  0.0|       0.0|              20.0|        20.0|  0.0|\n|           Algeria|1994|           0.0|             0.0|                13.0|          0.0|    0.0|                  0.0|               13.0|   13.0|                  0.0|       0.0|              13.0|        13.0|  0.0|\n|           Algeria|1995|           0.0|             0.0|                10.0|          0.0|    0.0|                  0.0|               10.0|   10.0|                  0.0|       0.0|              10.0|        10.0|  0.0|\n|           Algeria|1996|           0.0|             0.0|                20.0|          0.0|    0.0|                  0.0|               20.0|   20.0|                  0.0|       0.0|              20.0|        20.0|  0.0|\n|           Algeria|1997|           0.0|             0.0|                22.0|          0.0|    0.0|                  0.0|               22.0|   22.0|                  0.0|       0.0|              22.0|        22.0|  0.0|\n|           Algeria|1998|           0.0|             0.0|                18.0|          0.0|    0.0|                  0.0|               18.0|   18.0|                  0.0|       0.0|              18.0|        18.0|  0.0|\n|           Algeria|1999|           0.0|             0.0|                19.0|          0.0|    0.0|                  0.0|               19.0|   19.0|                  0.0|       0.0|              19.0|        19.0|  0.0|\n|           Algeria|2000|           0.0|             0.0|                61.0|          0.0|    0.0|                  0.0|               61.0|   61.0|                  0.0|       0.0|              61.0|        61.0|  0.0|\n|           Algeria|2001|           0.0|             0.0|                87.0|          0.0|    0.0|                  0.0|               87.0|   87.0|                  0.0|       0.0|              87.0|        87.0|  0.0|\n|           Algeria|2002|           0.0|             0.0|               120.0|          0.0|    0.0|                  0.0|              120.0|  120.0|                  0.0|       0.0|             120.0|       120.0|  0.0|\n|           Algeria|2003|           0.0|             0.0|               100.0|          0.0|    0.0|                  0.0|              100.0|  100.0|                  0.0|       0.0|             100.0|       100.0|  0.0|\n|           Algeria|2004|           0.0|             0.0|               129.0|          0.0|    0.0|                  0.0|              129.0|  129.0|                  0.0|       0.0|             129.0|       129.0|  0.0|\n|           Algeria|2005|           0.0|             0.0|                75.0|          0.0|    0.0|                  0.0|               75.0|   75.0|                  0.0|       0.0|              75.0|        75.0|  0.0|\n|           Algeria|2006|           0.0|             0.0|                98.0|          0.0|    0.0|                  0.0|               98.0|   98.0|                  0.0|       0.0|              98.0|        98.0|  0.0|\n|           Algeria|2007|           0.0|             0.0|               137.0|          0.0|    0.0|                  0.0|              137.0|  137.0|                  0.0|       0.0|             137.0|       137.0|  0.0|\n|           Algeria|2008|           0.0|             0.0|                56.0|          0.0|    0.0|                  0.0|               56.0|   56.0|                  0.0|       0.0|              56.0|        56.0|  0.0|\n|           Algeria|2009|           0.0|             0.0|                51.0|          0.0|    0.0|                  0.0|               51.0|   51.0|                  0.0|       0.0|              51.0|        51.0|  0.0|\n|           Algeria|2010|           0.0|             0.0|                60.0|          7.0|    0.0|                  0.0|               60.0|   67.0|                  0.0|       0.0|              67.0|        67.0|  0.0|\n|           Algeria|2011|           0.0|             7.0|                49.0|         16.0|    0.0|                  0.0|               49.0|   58.0|                  0.0|       0.0|              65.0|        65.0|  0.0|\n|           Algeria|2012|           0.0|            16.0|                80.0|         60.0|    0.0|                  0.0|               80.0|  124.0|                  0.0|       0.0|             140.0|       140.0|  0.0|\n|           Algeria|2013|           0.0|            60.0|                85.0|         31.0|    0.0|                  0.0|              \n\n*** WARNING: max output size exceeded, skipping output. ***\n\n    0.0|              240.0|   71.0|                 62.0|     236.0|             324.0|       324.0| 1.05|\n|  Congo (Kinshasa)|2013|         268.0|            18.0|               325.0|         47.0|    5.0|                  0.0|              265.0|   77.0|                 60.0|     282.0|             377.0|       377.0| 1.05|\n|  Congo (Kinshasa)|2014|         273.0|            47.0|               345.0|         70.0|    6.0|                  0.0|              285.0|   86.0|                 60.0|     288.0|             421.0|       421.0| 1.06|\n|  Congo (Kinshasa)|2015|         277.0|            70.0|               375.0|         67.0|    7.0|                  0.0|              315.0|   88.0|                 60.0|     291.0|             449.0|       449.0| 1.05|\n|  Congo (Kinshasa)|2016|         275.0|            67.0|               395.0|         62.0|    8.0|                  0.0|              335.0|  110.0|                 60.0|     288.0|             465.0|       465.0| 1.05|\n|  Congo (Kinshasa)|2017|         278.0|            62.0|               395.0|         52.0|    9.0|                  0.0|              345.0|  103.0|                 50.0|     291.0|             456.0|       456.0| 1.05|\n|  Congo (Kinshasa)|2018|         279.0|            52.0|               395.0|         55.0|    9.0|                  0.0|              355.0|  114.0|                 40.0|     293.0|             459.0|       459.0| 1.05|\n|  Congo (Kinshasa)|2019|         280.0|            55.0|               395.0|         60.0|   10.0|                  0.0|              365.0|  116.0|                 30.0|     294.0|             465.0|       465.0| 1.05|\n|  Congo (Kinshasa)|2020|         285.0|            60.0|               405.0|         46.0|   10.0|                  0.0|              375.0|  101.0|                 30.0|     300.0|             461.0|       461.0| 1.05|\n|  Congo (Kinshasa)|2021|         285.0|            46.0|               405.0|         16.0|   10.0|                  0.0|              380.0|   85.0|                 25.0|     300.0|             431.0|       431.0| 1.05|\n|  Congo (Kinshasa)|2022|         285.0|            16.0|               420.0|         16.0|   10.0|                  0.0|              390.0|  130.0|                 30.0|     300.0|             446.0|       446.0| 1.05|\n|  Congo (Kinshasa)|2023|         285.0|            16.0|               425.0|         16.0|   10.0|                  0.0|              395.0|  135.0|                 30.0|     300.0|             451.0|       451.0| 1.05|\n|        Costa Rica|1964|           0.0|             0.0|                10.0|          0.0|    0.0|                  0.0|               10.0|    1.0|                  0.0|       9.0|              10.0|        10.0|  0.0|\n|        Costa Rica|1965|           0.0|             0.0|                12.0|          0.0|    0.0|                  0.0|               12.0|    3.0|                  0.0|       9.0|              12.0|        12.0|  0.0|\n|        Costa Rica|1966|           0.0|             0.0|                12.0|          0.0|    0.0|                  0.0|               12.0|    2.0|                  0.0|      10.0|              12.0|        12.0|  0.0|\n|        Costa Rica|1967|           0.0|             0.0|                11.0|          0.0|    0.0|                  0.0|               11.0|    1.0|                  0.0|      10.0|              11.0|        11.0|  0.0|\n|        Costa Rica|1968|           0.0|             0.0|                13.0|          0.0|    0.0|                  0.0|               13.0|    2.0|                  0.0|      11.0|              13.0|        13.0|  0.0|\n|        Costa Rica|1969|           0.0|             0.0|                11.0|          0.0|    0.0|                  0.0|               11.0|    0.0|                  0.0|      11.0|              11.0|        11.0|  0.0|\n|        Costa Rica|1970|           0.0|             0.0|                15.0|          0.0|    0.0|                  0.0|               15.0|    1.0|                  0.0|      14.0|              15.0|        15.0|  0.0|\n|        Costa Rica|1971|           0.0|             0.0|                14.0|          0.0|    0.0|                  0.0|               14.0|    0.0|                  0.0|      14.0|              14.0|        14.0|  0.0|\n|        Costa Rica|1972|           0.0|             0.0|                22.0|          0.0|    0.0|                  0.0|               22.0|    0.0|                  0.0|      22.0|              22.0|        22.0|  0.0|\n|        Costa Rica|1973|           0.0|             0.0|                22.0|          0.0|    0.0|                  0.0|               22.0|    0.0|                  0.0|      22.0|              22.0|        22.0|  0.0|\n|        Costa Rica|1974|           0.0|             0.0|                22.0|          0.0|    0.0|                  0.0|               22.0|    0.0|                  0.0|      22.0|              22.0|        22.0|  0.0|\n|        Costa Rica|1975|           0.0|             0.0|                24.0|          0.0|    0.0|                  0.0|               24.0|    0.0|                  0.0|      24.0|              24.0|        24.0|  0.0|\n|        Costa Rica|1976|           0.0|             0.0|                26.0|          0.0|    0.0|                  0.0|               26.0|    0.0|                  0.0|      26.0|              26.0|        26.0|  0.0|\n|        Costa Rica|1977|           0.0|             0.0|                28.0|          0.0|    0.0|                  0.0|               28.0|    0.0|                  0.0|      28.0|              28.0|        28.0|  0.0|\n|        Costa Rica|1978|           0.0|             0.0|                31.0|          0.0|    0.0|                  0.0|               31.0|    0.0|                  0.0|      31.0|              31.0|        31.0|  0.0|\n|        Costa Rica|1979|           0.0|             0.0|                32.0|          0.0|    0.0|                  0.0|               32.0|    0.0|                  0.0|      32.0|              32.0|        32.0|  0.0|\n|        Costa Rica|1980|           0.0|             0.0|                31.0|          0.0|    0.0|                  0.0|               31.0|    0.0|                  0.0|      31.0|              31.0|        31.0|  0.0|\n|        Costa Rica|1981|           0.0|             0.0|                35.0|          0.0|    0.0|                  0.0|               35.0|    0.0|                  0.0|      35.0|              35.0|        35.0|  0.0|\n|        Costa Rica|1982|           0.0|             0.0|                40.0|          0.0|    0.0|                  0.0|               40.0|    0.0|                  0.0|      40.0|              40.0|        40.0|  0.0|\n|        Costa Rica|1983|           0.0|             0.0|                40.0|          0.0|    0.0|                  0.0|               40.0|    0.0|                  0.0|      40.0|              40.0|        40.0|  0.0|\n|        Costa Rica|1984|           0.0|             0.0|                40.0|          0.0|    0.0|                  0.0|               40.0|    0.0|                  0.0|      40.0|              40.0|        40.0|  0.0|\n|        Costa Rica|1985|           0.0|             0.0|                45.0|          0.0|    0.0|                  0.0|               45.0|    0.0|                  0.0|      45.0|              45.0|        45.0|  0.0|\n|        Costa Rica|1986|           0.0|             0.0|                54.0|          0.0|    0.0|                  0.0|               54.0|    0.0|                  0.0|      54.0|              54.0|        54.0|  0.0|\n|        Costa Rica|1987|           0.0|             0.0|                46.0|          0.0|   10.0|                  0.0|               46.0|    0.0|                  0.0|      56.0|              56.0|        56.0|  0.0|\n|        Costa Rica|1988|           0.0|             0.0|                44.0|          0.0|   14.0|                  0.0|               44.0|    0.0|                  0.0|      58.0|              58.0|        58.0|  0.0|\n|        Costa Rica|1989|           0.0|             0.0|                59.0|          0.0|   14.0|                  0.0|               59.0|    0.0|                  0.0|      73.0|              73.0|        73.0|  0.0|\n|        Costa Rica|1990|           0.0|             0.0|                52.0|          0.0|   12.0|                  0.0|               52.0|    0.0|                  0.0|      64.0|              64.0|        64.0|  0.0|\n|        Costa Rica|1991|           0.0|             0.0|                44.0|          0.0|   14.0|                  0.0|               44.0|    0.0|                  0.0|      58.0|              58.0|        58.0|  0.0|\n|        Costa Rica|1992|           0.0|             0.0|                47.0|          0.0|   14.0|                  0.0|               47.0|    0.0|                  0.0|      61.0|              61.0|        61.0|  0.0|\n|        Costa Rica|1993|           0.0|             0.0|                70.0|          0.0|   14.0|                  0.0|               70.0|    0.0|                  0.0|      84.0|              84.0|        84.0|  0.0|\n|        Costa Rica|1994|           0.0|             0.0|                46.0|          0.0|   42.0|                  0.0|               46.0|    0.0|                  0.0|      88.0|              88.0|        88.0|  0.0|\n|        Costa Rica|1995|           0.0|             0.0|                37.0|          0.0|   56.0|                  0.0|               37.0|    0.0|                  0.0|      93.0|              93.0|        93.0|  0.0|\n|        Costa Rica|1996|           0.0|             0.0|                26.0|          0.0|   71.0|                  0.0|               26.0|    0.0|                  0.0|      97.0|              97.0|        97.0|  0.0|\n|        Costa Rica|1997|           0.0|             0.0|                36.0|          0.0|   65.0|                  0.0|               36.0|    0.0|                  0.0|     101.0|             101.0|       101.0|  0.0|\n|        Costa Rica|1998|           0.0|             0.0|                38.0|          0.0|   71.0|                  0.0|               38.0|    0.0|                  0.0|     109.0|             109.0|       109.0|  0.0|\n|        Costa Rica|1999|          40.0|             0.0|                40.0|         22.0|   75.0|                  0.0|               40.0|    0.0|                  0.0|     137.0|             137.0|       137.0| 3.43|\n|        Costa Rica|2000|          40.0|            22.0|                45.0|         53.0|   79.0|                  0.0|               45.0|    5.0|                  0.0|     150.0|             177.0|       177.0| 3.75|\n|        Costa Rica|2001|          42.0|            53.0|                45.0|         64.0|   83.0|                  0.0|               45.0|   11.0|                  0.0|     128.0|             192.0|       192.0| 3.05|\n|        Costa Rica|2002|          43.0|            64.0|                35.0|         55.0|  107.0|                  0.0|               35.0|    2.0|                  0.0|     131.0|             197.0|       197.0| 3.05|\n|        Costa Rica|2003|          47.0|            55.0|                30.0|          7.0|  172.0|                  0.0|               30.0|    3.0|                  0.0|     151.0|             209.0|       209.0| 3.21|\n|        Costa Rica|2004|          50.0|             7.0|                45.0|          8.0|  133.0|                  0.0|               45.0|    4.0|                  0.0|     175.0|             186.0|       186.0|  3.5|\n|        Costa Rica|2005|          53.0|             8.0|                65.0|         44.0|  103.0|                  0.0|               55.0|    8.0|                 10.0|     196.0|             212.0|       212.0|  3.7|\n|        Costa Rica|2006|          54.0|            44.0|                75.0|         26.0|  138.0|                  0.0|               55.0|    5.0|                 20.0|     190.0|             239.0|       239.0| 3.52|\n|        Costa Rica|2007|          53.0|            26.0|                80.0|         30.0|  121.0|                  0.0|               55.0|    6.0|                 25.0|     199.0|             231.0|       231.0| 3.76|\n|        Costa Rica|2008|          55.0|            30.0|                86.0|         30.0|  126.0|                  0.0|               60.0|    6.0|                 26.0|     206.0|             242.0|       242.0| 3.75|\n|        Costa Rica|2009|          57.0|            30.0|                92.0|         46.0|  132.0|                  0.0|               62.0|   13.0|                 30.0|     227.0|             270.0|       270.0| 3.98|\n|        Costa Rica|2010|          60.0|            46.0|                96.0|         49.0|  168.0|                  0.0|               65.0|   25.0|                 31.0|     242.0|             313.0|       313.0| 4.03|\n|        Costa Rica|2011|          64.0|            49.0|                97.0|         49.0|  182.0|                  0.0|               65.0|   23.0|                 32.0|     256.0|             328.0|       328.0|  4.0|\n|        Costa Rica|2012|          75.0|            49.0|               102.0|        108.0|  170.0|                  0.0|               70.0|   31.0|                 32.0|     300.0|             380.0|       380.0|  4.0|\n|        Costa Rica|2013|          78.0|           108.0|               102.0|         79.0|  154.0|                  0.0|               70.0|   24.0|                 32.0|     203.0|             335.0|       335.0|  2.6|\n|        Costa Rica|2014|          69.0|            79.0|                95.0|         21.0|  159.0|                  0.0|               65.0|    8.0|                 30.0|     188.0|             275.0|       275.0| 2.73|\n|        Costa Rica|2015|          72.0|            21.0|                85.0|         41.0|  147.0|                  0.0|               60.0|    1.0|                 25.0|     251.0|             273.0|       273.0| 3.49|\n|        Costa Rica|2016|          77.0|            41.0|                70.0|         45.0|  174.0|                  0.0|               60.0|    1.0|                 10.0|     247.0|             289.0|       289.0| 3.21|\n|        Costa Rica|2017|          77.0|            45.0|                60.0|         24.0|  211.0|                  0.0|               50.0|    5.0|                 10.0|     245.0|             295.0|       295.0| 3.18|\n|        Costa Rica|2018|          72.0|            24.0|                50.0|         19.0|  211.0|                  0.0|               40.0|   13.0|                 10.0|     243.0|             280.0|       280.0| 3.38|\n|        Costa Rica|2019|          76.0|            19.0|                45.0|         13.0|  232.0|                  0.0|               35.0|   11.0|                 10.0|     260.0|             290.0|       290.0| 3.42|\n|        Costa Rica|2020|          76.0|            13.0|                49.0|         21.0|  217.0|                  0.0|               40.0|    8.0|                  9.0|     266.0|             287.0|       287.0|  3.5|\n|        Costa Rica|2021|          77.0|            21.0|                50.0|         52.0|  187.0|                  0.0|               40.0|    3.0|                 10.0|     265.0|             289.0|       289.0| 3.44|\n|        Costa Rica|2022|          77.0|            52.0|                52.0|         40.0|  240.0|                  0.0|               42.0|   10.0|                 10.0|     270.0|             332.0|       332.0| 3.51|\n|        Costa Rica|2023|          78.0|            40.0|                50.0|         40.0|  235.0|                  0.0|               40.0|   10.0|                 10.0|     275.0|             325.0|       325.0| 3.53|\n|     Cote d'Ivoire|1964|           0.0|             0.0|                16.0|          0.0|    0.0|                  0.0|               16.0|    1.0|                  0.0|      15.0|              16.0|        16.0|  0.0|\n|     Cote d'Ivoire|1965|           0.0|             0.0|                19.0|          0.0|    0.0|                  0.0|               19.0|    4.0|                  0.0|      15.0|              19.0|        19.0|  0.0|\n|     Cote d'Ivoire|1966|           0.0|             0.0|                16.0|          0.0|    0.0|                  0.0|               16.0|    1.0|                  0.0|      15.0|              16.0|        16.0|  0.0|\n|     Cote d'Ivoire|1967|           0.0|             0.0|                26.0|          0.0|    0.0|                  0.0|               26.0|    2.0|                  0.0|      24.0|              26.0|        26.0|  0.0|\n|     Cote d'Ivoire|1968|           0.0|             0.0|                47.0|          0.0|    1.0|                  0.0|               47.0|    1.0|                  0.0|      47.0|              48.0|        48.0|  0.0|\n|     Cote d'Ivoire|1969|           0.0|             0.0|                46.0|          0.0|   13.0|                  0.0|               46.0|    0.0|                  0.0|      59.0|              59.0|        59.0|  0.0|\n|     Cote d'Ivoire|1970|           0.0|             0.0|                64.0|          0.0|   28.0|                  0.0|               64.0|    0.0|                  0.0|      92.0|              92.0|        92.0|  0.0|\n|     Cote d'Ivoire|1971|           0.0|             0.0|                44.0|          0.0|   48.0|                  0.0|               44.0|    0.0|                  0.0|      92.0|              92.0|        92.0|  0.0|\n|     Cote d'Ivoire|1972|           0.0|             0.0|                85.0|          0.0|   55.0|                  0.0|               85.0|    0.0|                  0.0|     140.0|             140.0|       140.0|  0.0|\n|     Cote d'Ivoire|1973|           0.0|             0.0|                48.0|          0.0|  102.0|                  0.0|               48.0|    0.0|                  0.0|     150.0|             150.0|       150.0|  0.0|\n|     Cote d'Ivoire|1974|           0.0|             0.0|                57.0|          0.0|   94.0|                  0.0|               57.0|    0.0|                  0.0|     151.0|             151.0|       151.0|  0.0|\n|     Cote d'Ivoire|1975|           0.0|             0.0|                34.0|          0.0|   92.0|                  0.0|               34.0|    0.0|                  0.0|     126.0|             126.0|       126.0|  0.0|\n|     Cote d'Ivoire|1976|           0.0|             0.0|                56.0|          0.0|   79.0|                  0.0|               56.0|    0.0|                  0.0|     135.0|             135.0|       135.0|  0.0|\n|     Cote d'Ivoire|1977|           0.0|             0.0|                63.0|          0.0|   75.0|                  0.0|               63.0|    0.0|                  0.0|     138.0|             138.0|       138.0|  0.0|\n|     Cote d'Ivoire|1978|           0.0|             0.0|                75.0|          0.0|   49.0|                  0.0|               75.0|    0.0|                  0.0|     124.0|             124.0|       124.0|  0.0|\n|     Cote d'Ivoire|1979|           0.0|             0.0|               102.0|          0.0|   80.0|                  0.0|              102.0|    0.0|                  0.0|     182.0|             182.0|       182.0|  0.0|\n|     Cote d'Ivoire|1980|           0.0|             0.0|                84.0|          0.0|   63.0|                  0.0|               84.0|    0.0|                  0.0|     147.0|             147.0|       147.0|  0.0|\n|     Cote d'Ivoire|1981|           0.0|             0.0|                92.0|          0.0|   68.0|                  0.0|               92.0|    0.0|                  0.0|     160.0|             160.0|       160.0|  0.0|\n|     Cote d'Ivoire|1982|           0.0|             0.0|               104.0|          0.0|   58.0|                  0.0|              104.0|    0.0|                  0.0|     162.0|             162.0|       162.0|  0.0|\n|     Cote d'Ivoire|1983|           0.0|             0.0|               111.0|          0.0|   56.0|                  0.0|              111.0|    0.0|                  0.0|     167.0|             167.0|       167.0|  0.0|\n|     Cote d'Ivoire|1984|           0.0|             0.0|               108.0|          0.0|   56.0|                  0.0|               98.0|    0.0|                 10.0|     164.0|             164.0|       164.0|  0.0|\n|     Cote d'Ivoire|1985|           0.0|             0.0|               123.0|          0.0|   94.0|                  0.0|              112.0|    0.0|                 11.0|     217.0|             217.0|       217.0|  0.0|\n|     Cote d'Ivoire|1986|           0.0|             0.0|               107.0|          0.0|  120.0|                  0.0|               64.0|    0.0|                 43.0|     227.0|             227.0|       227.0|  0.0|\n|     Cote d'Ivoire|1987|          91.0|             0.0|               133.0|          0.0|   65.0|                  0.0|               71.0|    0.0|                 62.0|     198.0|             198.0|       198.0| 2.18|\n|     Cote d'Ivoire|1988|          93.0|             0.0|               151.0|          0.0|   52.0|                  0.0|               79.0|    0.0|                 72.0|     203.0|             203.0|       203.0| 2.18|\n|     Cote d'Ivoire|1989|         106.0|             0.0|               131.0|          0.0|  144.0|                  0.0|               85.0|    0.0|                 46.0|     275.0|             275.0|       275.0| 2.59|\n|     Cote d'Ivoire|1990|         133.0|             0.0|               150.0|          0.0|  128.0|                  0.0|               95.0|    0.0|                 55.0|     278.0|             278.0|       278.0| 2.09|\n|     Cote d'Ivoire|1991|         143.0|             0.0|               148.0|          0.0|  133.0|                  0.0|               98.0|    0.0|                 50.0|     281.0|             281.0|       281.0| 1.97|\n|     Cote d'Ivoire|1992|         148.0|             0.0|               135.0|         18.0|  140.0|                  0.0|               95.0|    0.0|                 40.0|     293.0|             293.0|       293.0| 1.98|\n|     Cote d'Ivoire|1993|         154.0|            18.0|               125.0|          5.0|  184.0|                  0.0|               88.0|    0.0|                 37.0|     296.0|             314.0|       314.0| 1.92|\n|     Cote d'Ivoire|1994|         157.0|             5.0|               160.0|         16.0|  120.0|                  0.0|              110.0|    5.0|                 50.0|     286.0|             296.0|       296.0| 1.82|\n|     Cote d'Ivoire|1995|         159.0|            16.0|               200.0|         14.0|  106.0|                  0.0|              125.0|    0.0|                 75.0|     304.0|             320.0|       320.0| 1.91|\n|     Cote d'Ivoire|1996|         163.0|            14.0|               200.0|          9.0|   90.0|                  0.0|              120.0|    0.0|                 80.0|     285.0|             299.0|       299.0| 1.75|\n|     Cote d'Ivoire|1997|         166.0|             9.0|               214.0|          1.0|   99.0|                  0.0|              139.0|   10.0|                 75.0|     295.0|             314.0|       314.0| 1.78|\n|     Cote d'Ivoire|1998|         166.0|             1.0|               242.0|          1.0|   73.0|                  0.0|              167.0|   10.0|                 75.0|     305.0|             316.0|       316.0| 1.84|\n|     Cote d'Ivoire|1999|         166.0|             1.0|               281.0|          1.0|   17.0|                  0.0|              200.0|   18.0|                 81.0|     280.0|             299.0|       299.0| 1.69|\n|     Cote d'Ivoire|2000|         159.0|             1.0|               205.0|         55.0|    1.0|                  0.0|              155.0|   12.0|                 50.0|     248.0|             261.0|       261.0| 1.56|\n|     Cote d'Ivoire|2001|         164.0|            55.0|               205.0|        126.0|    7.0|                  0.0|              155.0|   23.0|                 50.0|     260.0|             338.0|       338.0| 1.59|\n|     Cote d'Ivoire|2002|         176.0|           126.0|               202.0|        185.0|    1.0|                  0.0|              155.0|   28.0|                 47.0|     234.0|             388.0|       388.0| 1.33|\n|     Cote d'Ivoire|2003|         172.0|           185.0|               195.0|        192.0|  115.0|                  0.0|              150.0|    9.0|                 45.0|     308.0|             502.0|       502.0| 1.79|\n+------------------+----+--------------+----------------+--------------------+-------------+-------+---------------------+-------------------+-------+---------------------+----------+------------------+------------+-----+\nonly showing top 1000 rows\n\n"
     ]
    }
   ],
   "source": [
    "# Desde un único fichero parquet\n",
    "df=spark.read.parquet(\"dbfs:/FileStore/palm.parquet\")\n",
    "df.show(1000)\n"
   ]
  },
  {
   "cell_type": "markdown",
   "metadata": {
    "application/vnd.databricks.v1+cell": {
     "cellMetadata": {},
     "inputWidgets": {},
     "nuid": "1649034b-2028-44be-ae29-0f525bc1db54",
     "showTitle": true,
     "tableResultSettingsMap": {},
     "title": ""
    }
   },
   "source": [
    "# 2. API de DataFrames:\n",
    "Para realizar transformaciones en un DataFrame en Spark con Python, se utilizan diversas funciones que permiten modificar, seleccionar, o agregar datos. Esta es la sintaxis y ejemplos de uso de algunas de las transformaciones más comunes:\n",
    "\n",
    "\n",
    "## Transformaciones:\n",
    "- **select**: Permite seleccionar columnas específicas de un DataFrame.\n",
    "- **filter**: Permite filtrar filas basadas en una condición.\n",
    "- **withColumn**: Permite añadir nuevas columnas o modificar las existentes.\n",
    "- **Otras transformaciones**: La API incluye otras transformaciones para manipular los datos como groupBy, sort y join. También permite crear funciones definidas por el usuario para manipulación personalizada de datos.\n",
    "\n",
    "## Acciones:\n",
    "- **show**: Muestra las primeras filas de un DataFrame.\n",
    "- **count**: Cuenta el número de filas en un DataFrame.\n",
    "- **collect**: Retorna todos los elementos de un DataFrame al driver (cuidado con el uso en grandes datasets).\n",
    "- **Otras acciones**: Incluyen take, takeSample y describe para obtener información y estadísticas sobre los DataFrames."
   ]
  },
  {
   "cell_type": "markdown",
   "metadata": {
    "application/vnd.databricks.v1+cell": {
     "cellMetadata": {},
     "inputWidgets": {},
     "nuid": "3089b131-377f-47c9-b697-e59bd96b4d7c",
     "showTitle": false,
     "tableResultSettingsMap": {},
     "title": ""
    }
   },
   "source": [
    "## Consideraciones:\n",
    "\n",
    "- **Inmutabilidad**: Los DataFrames son inmutables; cada transformación crea un nuevo DataFrame.\n",
    "- **show()**: La función `show()` se utiliza para mostrar una muestra de los datos resultantes tras una transformación.\n",
    "- **Importaciones**: Algunas funciones requieren importaciones adicionales desde `pyspark.sql.functions`, como `col`, `lit`, `expr`, `avg`, `count`, etc.\n",
    "- **Expresiones SQL**: Puedes usar expresiones SQL con `expr()` y `selectExpr()` para transformaciones más complejas.\n",
    "- **Columnas**: Las columnas se pueden referenciar usando su nombre como string, usando la notación de corchetes sobre el DataFrame o con la función `col()`."
   ]
  },
  {
   "cell_type": "markdown",
   "metadata": {
    "application/vnd.databricks.v1+cell": {
     "cellMetadata": {},
     "inputWidgets": {},
     "nuid": "cdf8a0a8-53d1-4ffc-a284-369c836b69a8",
     "showTitle": false,
     "tableResultSettingsMap": {},
     "title": ""
    }
   },
   "source": [
    "### 1. select():\n",
    "Se utiliza para seleccionar un subconjunto de columnas de un DataFrame. También se puede usar `selectExpr()` para seleccionar columnas con expresiones SQL.\n",
    "https://spark.apache.org/docs/latest/api/python/reference/pyspark.sql/api/pyspark.sql.DataFrame.select.html"
   ]
  },
  {
   "cell_type": "code",
   "execution_count": 0,
   "metadata": {
    "application/vnd.databricks.v1+cell": {
     "cellMetadata": {
      "byteLimit": 2048000,
      "rowLimit": 10000
     },
     "inputWidgets": {},
     "nuid": "e50c8ffd-cf42-491d-92ab-e51a8c586628",
     "showTitle": false,
     "tableResultSettingsMap": {},
     "title": ""
    }
   },
   "outputs": [
    {
     "output_type": "stream",
     "name": "stdout",
     "output_type": "stream",
     "text": [
      "+-------+----+----------+\n|Country|Year|Production|\n+-------+----+----------+\n|Algeria|1964|        18|\n|Algeria|1965|        17|\n|Algeria|1966|        16|\n|Algeria|1967|        22|\n|Algeria|1968|        18|\n|Algeria|1969|        22|\n|Algeria|1970|        13|\n|Algeria|1971|        23|\n|Algeria|1972|        15|\n|Algeria|1973|        16|\n|Algeria|1974|         8|\n|Algeria|1975|        18|\n|Algeria|1976|        15|\n|Algeria|1977|         5|\n|Algeria|1978|        14|\n|Algeria|1979|        10|\n|Algeria|1980|        18|\n|Algeria|1981|        15|\n|Algeria|1982|        16|\n|Algeria|1983|        13|\n+-------+----+----------+\nonly showing top 20 rows\n\n+-------+----+----------------+--------------------+-------------+-------+---------------------+-------------------+-------+---------------------+----------+------------------+------------+\n|Country|Year|Beginning Stocks|Domestic Consumption|Ending Stocks|Exports|Feed Waste Dom. Cons.|Food Use Dom. Cons.|Imports|Industrial Dom. Cons.|Production|Total Distribution|Total Supply|\n+-------+----+----------------+--------------------+-------------+-------+---------------------+-------------------+-------+---------------------+----------+------------------+------------+\n|Algeria|1964|               0|                  15|            0|      3|                    0|                 15|      0|                    0|        18|                18|          18|\n|Algeria|1965|               0|                  12|            0|      5|                    0|                 12|      0|                    0|        17|                17|          17|\n|Algeria|1966|               0|                  16|            0|      0|                    0|                 16|      0|                    0|        16|                16|          16|\n|Algeria|1967|               0|                  15|            0|      7|                    0|                 15|      0|                    0|        22|                22|          22|\n|Algeria|1968|               0|                  11|            0|      7|                    0|                 11|      0|                    0|        18|                18|          18|\n|Algeria|1969|               0|                  19|            0|      3|                    0|                 19|      0|                    0|        22|                22|          22|\n|Algeria|1970|               0|                  12|            0|      1|                    0|                 12|      0|                    0|        13|                13|          13|\n|Algeria|1971|               0|                  20|            2|      1|                    0|                 20|      0|                    0|        23|                23|          23|\n|Algeria|1972|               2|                  13|            2|      2|                    0|                 13|      0|                    0|        15|                17|          17|\n|Algeria|1973|               2|                  11|            3|      4|                    0|                 11|      0|                    0|        16|                18|          18|\n|Algeria|1974|               3|                  10|            1|      0|                    0|                 10|      0|                    0|         8|                11|          11|\n|Algeria|1975|               1|                  16|            3|      0|                    0|                 16|      0|                    0|        18|                19|          19|\n|Algeria|1976|               3|                  15|            3|      0|                    0|                 15|      0|                    0|        15|                18|          18|\n|Algeria|1977|               3|                   8|            0|      0|                    0|                  8|      0|                    0|         5|                 8|           8|\n|Algeria|1978|               0|                  13|            1|      0|                    0|                 13|      0|                    0|        14|                14|          14|\n|Algeria|1979|               1|                  11|            0|      0|                    0|                 11|      0|                    0|        10|                11|          11|\n|Algeria|1980|               0|                  18|            0|      0|                    0|                 18|      0|                    0|        18|                18|          18|\n|Algeria|1981|               0|                  15|            0|      0|                    0|                 15|      0|                    0|        15|                15|          15|\n|Algeria|1982|               0|                  16|            0|      0|                    0|                 16|      0|                    0|        16|                16|          16|\n|Algeria|1983|               0|                  13|            0|      0|                    0|                 13|      0|                    0|        13|                13|          13|\n+-------+----+----------------+--------------------+-------------+-------+---------------------+-------------------+-------+---------------------+----------+------------------+------------+\nonly showing top 20 rows\n\n+-------+---------------+\n|Country|Production (Tm)|\n+-------+---------------+\n|Algeria|          18000|\n|Algeria|          17000|\n|Algeria|          16000|\n|Algeria|          22000|\n|Algeria|          18000|\n|Algeria|          22000|\n|Algeria|          13000|\n|Algeria|          23000|\n|Algeria|          15000|\n|Algeria|          16000|\n|Algeria|           8000|\n|Algeria|          18000|\n|Algeria|          15000|\n|Algeria|           5000|\n|Algeria|          14000|\n|Algeria|          10000|\n|Algeria|          18000|\n|Algeria|          15000|\n|Algeria|          16000|\n|Algeria|          13000|\n+-------+---------------+\nonly showing top 20 rows\n\n"
     ]
    }
   ],
   "source": [
    "df=spark.read.option(\"header\", \"true\").option(\"inferSchema\", \"true\").csv(\"dbfs:/FileStore/olive.csv\")\n",
    "\n",
    "df.select(\"Country\", \"Year\", \"Production\").show() \n",
    "df.select('*').show()\n",
    "df.select(df.Country, (df.Production * 1000).alias('Production (Tm)')).show()\n"
   ]
  },
  {
   "cell_type": "markdown",
   "metadata": {
    "application/vnd.databricks.v1+cell": {
     "cellMetadata": {},
     "inputWidgets": {},
     "nuid": "c397fbf1-0f69-4641-b8f7-c8ba492d17ee",
     "showTitle": false,
     "tableResultSettingsMap": {},
     "title": ""
    }
   },
   "source": [
    "### 2. filter() o where():\n",
    "Se utiliza para filtrar filas basadas en una condición. `filter()` y `where()` son sinónimos.\n",
    "https://spark.apache.org/docs/latest/api/python/reference/pyspark.sql/api/pyspark.sql.DataFrame.filter.html"
   ]
  },
  {
   "cell_type": "code",
   "execution_count": 0,
   "metadata": {
    "application/vnd.databricks.v1+cell": {
     "cellMetadata": {
      "byteLimit": 2048000,
      "rowLimit": 10000
     },
     "inputWidgets": {},
     "nuid": "aa921fc8-ccfb-4256-ac3c-4592532c37ae",
     "showTitle": false,
     "tableResultSettingsMap": {},
     "title": ""
    }
   },
   "outputs": [
    {
     "output_type": "stream",
     "name": "stdout",
     "output_type": "stream",
     "text": [
      "+-------+----+----------+\n|Country|Year|Production|\n+-------+----+----------+\n|  Spain|1964|       110|\n|  Spain|1965|       324|\n|  Spain|1966|       437|\n|  Spain|1967|       259|\n|  Spain|1968|       480|\n|  Spain|1969|       358|\n|  Spain|1970|       475|\n|  Spain|1971|       341|\n|  Spain|1972|       440|\n|  Spain|1973|       447|\n|  Spain|1974|       333|\n|  Spain|1975|       455|\n|  Spain|1976|       390|\n|  Spain|1977|       361|\n|  Spain|1978|       500|\n|  Spain|1979|       433|\n|  Spain|1980|       479|\n|  Spain|1981|       300|\n|  Spain|1982|       666|\n|  Spain|1983|       258|\n+-------+----+----------+\n\n"
     ]
    }
   ],
   "source": [
    "df.filter((df[\"Country\"] == \"Spain\") & (df[\"Year\"] < 1984)).select(\"Country\", \"Year\", \"Production\").show()\n"
   ]
  },
  {
   "cell_type": "markdown",
   "metadata": {
    "application/vnd.databricks.v1+cell": {
     "cellMetadata": {},
     "inputWidgets": {},
     "nuid": "c6b9e469-34c2-4e8c-87d7-bcbf4edc8d07",
     "showTitle": false,
     "tableResultSettingsMap": {},
     "title": ""
    }
   },
   "source": [
    "### 3. withColumn():\n",
    "Se utiliza para añadir una nueva columna o reemplazar una existente. La función `lit()` crea una columna con un valor literal y `expr()` permite usar expresiones SQL.\n",
    "https://spark.apache.org/docs/latest/api/python/reference/pyspark.sql/api/pyspark.sql.DataFrame.withColumn.html"
   ]
  },
  {
   "cell_type": "code",
   "execution_count": 0,
   "metadata": {
    "application/vnd.databricks.v1+cell": {
     "cellMetadata": {
      "byteLimit": 2048000,
      "rowLimit": 10000
     },
     "inputWidgets": {},
     "nuid": "c45bea72-ca67-4892-82a5-3a3126710b47",
     "showTitle": false,
     "tableResultSettingsMap": {},
     "title": ""
    }
   },
   "outputs": [
    {
     "output_type": "stream",
     "name": "stdout",
     "output_type": "stream",
     "text": [
      "+--------------+----+----------+---------------+------+----------+\n|       Country|Year|Production|Production (Tm)|Region|Diff_Years|\n+--------------+----+----------+---------------+------+----------+\n|European Union|1964|         0|              0| Spain|        61|\n|European Union|1965|         0|              0| Spain|        60|\n|European Union|1966|         0|              0| Spain|        59|\n|European Union|1967|         0|              0| Spain|        58|\n|European Union|1968|         0|              0| Spain|        57|\n|European Union|1969|         0|              0| Spain|        56|\n|European Union|1970|         0|              0| Spain|        55|\n|European Union|1971|         0|              0| Spain|        54|\n|European Union|1972|         0|              0| Spain|        53|\n|European Union|1973|         0|              0| Spain|        52|\n|European Union|1974|         0|              0| Spain|        51|\n|European Union|1975|         0|              0| Spain|        50|\n|European Union|1976|         0|              0| Spain|        49|\n|European Union|1977|         0|              0| Spain|        48|\n|European Union|1978|         0|              0| Spain|        47|\n|European Union|1979|         0|              0| Spain|        46|\n|European Union|1980|         0|              0| Spain|        45|\n|European Union|1981|         0|              0| Spain|        44|\n|European Union|1982|         0|              0| Spain|        43|\n|European Union|1983|         0|              0| Spain|        42|\n|European Union|1984|         0|              0| Spain|        41|\n|European Union|1985|         0|              0| Spain|        40|\n|European Union|1986|         0|              0| Spain|        39|\n|European Union|1987|         0|              0| Spain|        38|\n|European Union|1988|         0|              0| Spain|        37|\n|European Union|1989|         0|              0| Spain|        36|\n|European Union|1990|         0|              0| Spain|        35|\n|European Union|1991|         0|              0|    EU|        34|\n|European Union|1992|         0|              0|    EU|        33|\n|European Union|1993|         0|              0|    EU|        32|\n|European Union|1994|         0|              0|    EU|        31|\n|European Union|1995|         0|              0|    EU|        30|\n|European Union|1996|         0|              0|    EU|        29|\n|European Union|1997|         0|              0|    EU|        28|\n|European Union|1998|         0|              0|    EU|        27|\n|European Union|1999|      1867|        1867000|    EU|        26|\n|European Union|2000|      1871|        1871000|    EU|        25|\n|European Union|2001|      2402|        2402000|    EU|        24|\n|European Union|2002|      1944|        1944000|    EU|        23|\n|European Union|2003|      2415|        2415000|    EU|        22|\n|European Union|2004|      2350|        2350000|    EU|        21|\n|European Union|2005|      2025|        2025000|    EU|        20|\n|European Union|2006|      2132|        2132000|    EU|        19|\n|European Union|2007|      2235|        2235000|    EU|        18|\n|European Union|2008|      2110|        2110000|    EU|        17|\n|European Union|2009|      2450|        2450000|    EU|        16|\n|European Union|2010|      2500|        2500000|    EU|        15|\n|European Union|2011|      2700|        2700000|    EU|        14|\n|European Union|2012|      1625|        1625000|    EU|        13|\n|European Union|2013|      2483|        2483000|    EU|        12|\n|European Union|2014|      1435|        1435000|    EU|        11|\n|European Union|2015|      2324|        2324000|    EU|        10|\n|European Union|2016|      1752|        1752000|    EU|         9|\n|European Union|2017|      2188|        2188000|    EU|         8|\n|European Union|2018|      2264|        2264000|    EU|         7|\n|European Union|2019|      1925|        1925000|    EU|         6|\n|European Union|2020|      2051|        2051000|    EU|         5|\n|European Union|2021|      2272|        2272000|    EU|         4|\n|European Union|2022|      1392|        1392000|    EU|         3|\n|European Union|2023|      1415|        1415000|    EU|         2|\n|         Spain|1964|       110|         110000| Spain|        61|\n|         Spain|1965|       324|         324000| Spain|        60|\n|         Spain|1966|       437|         437000| Spain|        59|\n|         Spain|1967|       259|         259000| Spain|        58|\n|         Spain|1968|       480|         480000| Spain|        57|\n|         Spain|1969|       358|         358000| Spain|        56|\n|         Spain|1970|       475|         475000| Spain|        55|\n|         Spain|1971|       341|         341000| Spain|        54|\n|         Spain|1972|       440|         440000| Spain|        53|\n|         Spain|1973|       447|         447000| Spain|        52|\n|         Spain|1974|       333|         333000| Spain|        51|\n|         Spain|1975|       455|         455000| Spain|        50|\n|         Spain|1976|       390|         390000| Spain|        49|\n|         Spain|1977|       361|         361000| Spain|        48|\n|         Spain|1978|       500|         500000| Spain|        47|\n|         Spain|1979|       433|         433000| Spain|        46|\n|         Spain|1980|       479|         479000| Spain|        45|\n|         Spain|1981|       300|         300000| Spain|        44|\n|         Spain|1982|       666|         666000| Spain|        43|\n|         Spain|1983|       258|         258000| Spain|        42|\n|         Spain|1984|       689|         689000| Spain|        41|\n|         Spain|1985|       397|         397000| Spain|        40|\n|         Spain|1986|       493|         493000| Spain|        39|\n|         Spain|1987|       691|         691000| Spain|        38|\n|         Spain|1988|       376|         376000| Spain|        37|\n|         Spain|1989|       551|         551000| Spain|        36|\n|         Spain|1990|       639|         639000| Spain|        35|\n|         Spain|1991|         0|              0|    EU|        34|\n|         Spain|1992|         0|              0|    EU|        33|\n|         Spain|1993|         0|              0|    EU|        32|\n|         Spain|1994|         0|              0|    EU|        31|\n|         Spain|1995|         0|              0|    EU|        30|\n|         Spain|1996|         0|              0|    EU|        29|\n|         Spain|1997|         0|              0|    EU|        28|\n|         Spain|1998|         0|              0|    EU|        27|\n|         Spain|1999|         0|              0|    EU|        26|\n|         Spain|2000|         0|              0|    EU|        25|\n|         Spain|2001|         0|              0|    EU|        24|\n|         Spain|2002|         0|              0|    EU|        23|\n|         Spain|2003|         0|              0|    EU|        22|\n|         Spain|2004|         0|              0|    EU|        21|\n|         Spain|2005|         0|              0|    EU|        20|\n|         Spain|2006|         0|              0|    EU|        19|\n|         Spain|2007|         0|              0|    EU|        18|\n|         Spain|2008|         0|              0|    EU|        17|\n|         Spain|2009|         0|              0|    EU|        16|\n|         Spain|2010|         0|              0|    EU|        15|\n|         Spain|2011|         0|              0|    EU|        14|\n|         Spain|2012|         0|              0|    EU|        13|\n|         Spain|2013|         0|              0|    EU|        12|\n|         Spain|2014|         0|              0|    EU|        11|\n|         Spain|2015|         0|              0|    EU|        10|\n|         Spain|2016|         0|              0|    EU|         9|\n|         Spain|2017|         0|              0|    EU|         8|\n|         Spain|2018|         0|              0|    EU|         7|\n|         Spain|2019|         0|              0|    EU|         6|\n|         Spain|2020|         0|              0|    EU|         5|\n|         Spain|2021|         0|              0|    EU|         4|\n|         Spain|2022|         0|              0|    EU|         3|\n|         Spain|2023|         0|              0|    EU|         2|\n+--------------+----+----------+---------------+------+----------+\n\n"
     ]
    }
   ],
   "source": [
    "from pyspark.sql.functions import lit, expr\n",
    "from datetime import datetime\n",
    "\n",
    "df=spark.read.option(\"header\", \"true\").option(\"inferSchema\", \"true\").csv(\"dbfs:/FileStore/olive.csv\")\n",
    "df_Spain = df.filter((df[\"Country\"] == \"Spain\") | (df[\"Country\"] == \"European Union\")).select(\"Country\", \"Year\", \"Production\")\n",
    "\n",
    "df_Spain = df_Spain.withColumn(\"Production (Tm)\", df_Spain[\"Production\"]*1000)\n",
    "df_Spain = df_Spain.withColumn(\"Region\", expr(\"CASE WHEN Year <= 1990 THEN 'Spain' ELSE 'EU' END\"))\n",
    "\n",
    "current_year = datetime.now().year\n",
    "df_Spain = df_Spain.withColumn(\"Diff_Years\", lit(current_year) - df_Spain[\"Year\"])\n",
    "\n",
    "df_Spain.show(df_Spain.count())"
   ]
  },
  {
   "cell_type": "markdown",
   "metadata": {
    "application/vnd.databricks.v1+cell": {
     "cellMetadata": {},
     "inputWidgets": {},
     "nuid": "edc116d9-6f28-4c6c-b72f-0838571aec98",
     "showTitle": false,
     "tableResultSettingsMap": {},
     "title": ""
    }
   },
   "source": [
    "### 4. withColumnRenamed():\n",
    "Se utiliza para renombrar una columna existente.  \n",
    "https://spark.apache.org/docs/latest/api/python/reference/pyspark.sql/api/pyspark.sql.DataFrame.withColumnRenamed.html"
   ]
  },
  {
   "cell_type": "code",
   "execution_count": 0,
   "metadata": {
    "application/vnd.databricks.v1+cell": {
     "cellMetadata": {
      "byteLimit": 2048000,
      "rowLimit": 10000
     },
     "inputWidgets": {},
     "nuid": "fefdc6c9-33ad-4a19-ad76-93d161732906",
     "showTitle": false,
     "tableResultSettingsMap": {},
     "title": ""
    }
   },
   "outputs": [
    {
     "output_type": "stream",
     "name": "stdout",
     "output_type": "stream",
     "text": [
      "+--------------+----+----------+---------------+------+----------+\n|          País| Año|Production|Production (Tm)|Region|Diff_Years|\n+--------------+----+----------+---------------+------+----------+\n|European Union|1964|         0|              0| Spain|        61|\n|European Union|1965|         0|              0| Spain|        60|\n|European Union|1966|         0|              0| Spain|        59|\n|European Union|1967|         0|              0| Spain|        58|\n|European Union|1968|         0|              0| Spain|        57|\n|European Union|1969|         0|              0| Spain|        56|\n|European Union|1970|         0|              0| Spain|        55|\n|European Union|1971|         0|              0| Spain|        54|\n|European Union|1972|         0|              0| Spain|        53|\n|European Union|1973|         0|              0| Spain|        52|\n|European Union|1974|         0|              0| Spain|        51|\n|European Union|1975|         0|              0| Spain|        50|\n|European Union|1976|         0|              0| Spain|        49|\n|European Union|1977|         0|              0| Spain|        48|\n|European Union|1978|         0|              0| Spain|        47|\n|European Union|1979|         0|              0| Spain|        46|\n|European Union|1980|         0|              0| Spain|        45|\n|European Union|1981|         0|              0| Spain|        44|\n|European Union|1982|         0|              0| Spain|        43|\n|European Union|1983|         0|              0| Spain|        42|\n+--------------+----+----------+---------------+------+----------+\nonly showing top 20 rows\n\n"
     ]
    }
   ],
   "source": [
    "df_Spain.withColumnRenamed(\"Country\", \"País\").withColumnRenamed(\"Year\", \"Año\").show()"
   ]
  },
  {
   "cell_type": "markdown",
   "metadata": {
    "application/vnd.databricks.v1+cell": {
     "cellMetadata": {},
     "inputWidgets": {},
     "nuid": "62a6a02e-25f3-453f-99de-c18ec2c9a9a5",
     "showTitle": false,
     "tableResultSettingsMap": {},
     "title": ""
    }
   },
   "source": [
    "### 5. groupBy():\n",
    "Se utiliza para agrupar filas con valores iguales en una columna y realizar operaciones de agregación. Se combina con funciones de agregación como `count()`, `sum()`, `avg()`, `min()`, `max()`.  \n",
    "https://spark.apache.org/docs/latest/api/python/reference/pyspark.sql/api/pyspark.sql.DataFrame.groupBy.html"
   ]
  },
  {
   "cell_type": "code",
   "execution_count": 0,
   "metadata": {
    "application/vnd.databricks.v1+cell": {
     "cellMetadata": {
      "byteLimit": 2048000,
      "rowLimit": 10000
     },
     "inputWidgets": {},
     "nuid": "16e7a9e5-73c7-45f9-a489-f4bdcb17ce06",
     "showTitle": false,
     "tableResultSettingsMap": {},
     "title": ""
    }
   },
   "outputs": [
    {
     "output_type": "stream",
     "name": "stdout",
     "output_type": "stream",
     "text": [
      "+---------+---------+-------+\n|  Country|TotalProd|MaxProd|\n+---------+---------+-------+\n|Indonesia| 721653.0|47000.0|\n| Malaysia| 552873.0|20800.0|\n| Thailand|  49854.0| 3450.0|\n|  Nigeria|  43015.0| 1500.0|\n+---------+---------+-------+\nonly showing top 4 rows\n\n+---------+---------+\n|  Country|TotalProd|\n+---------+---------+\n|Indonesia| 721653.0|\n| Malaysia| 552873.0|\n| Thailand|  49854.0|\n|  Nigeria|  43015.0|\n+---------+---------+\nonly showing top 4 rows\n\n"
     ]
    }
   ],
   "source": [
    "# Podemos realizarlo de dos formas: utilizando funciones de F o con diccionarios. \n",
    "# La primera es más clara y permite realizar varias agregaciones sobre la misma columna.\n",
    "\n",
    "df=spark.read.parquet(\"dbfs:/FileStore/palm.parquet\")\n",
    "\n",
    "from pyspark.sql import functions as F\n",
    "df.select(df.Country, df.Year, df.Production) \\\n",
    "    .groupBy(\"Country\") \\\n",
    "    .agg(\n",
    "        F.sum(\"Production\").alias(\"TotalProd\"),\n",
    "        F.max(\"Production\").alias(\"MaxProd\")\n",
    "    ) \\\n",
    "    .orderBy(\"TotalProd\",ascending=False) \\\n",
    ".show(4)\n",
    "\n",
    "df.select(df.Country, df.Year, df.Production) \\\n",
    "    .groupBy(\"Country\") \\\n",
    "    .agg({\"Production\": \"sum\"}) \\\n",
    "    .withColumnRenamed(\"sum(Production)\", \"TotalProd\") \\\n",
    "    .orderBy(\"TotalProd\", ascending=False) \\\n",
    ".show(4)"
   ]
  },
  {
   "cell_type": "markdown",
   "metadata": {
    "application/vnd.databricks.v1+cell": {
     "cellMetadata": {},
     "inputWidgets": {},
     "nuid": "2fd8f953-f417-4fde-9ec9-695f8ba31716",
     "showTitle": false,
     "tableResultSettingsMap": {},
     "title": ""
    }
   },
   "source": [
    "### 6. sort() o orderBy():\n",
    "Se utiliza para ordenar las filas del DataFrame. `sort()` y `orderBy()` son equivalentes y pueden usar el orden ascendente (`asc`) o descendente (`desc`).  \n",
    "https://spark.apache.org/docs/latest/api/python/reference/pyspark.sql/api/pyspark.sql.DataFrame.sort.html  \n",
    "https://spark.apache.org/docs/latest/api/python/reference/pyspark.sql/api/pyspark.sql.DataFrame.orderBy.html"
   ]
  },
  {
   "cell_type": "code",
   "execution_count": 0,
   "metadata": {
    "application/vnd.databricks.v1+cell": {
     "cellMetadata": {
      "byteLimit": 2048000,
      "rowLimit": 10000
     },
     "inputWidgets": {},
     "nuid": "a6adf5f6-c556-411f-bfe4-c17ba44c6396",
     "showTitle": false,
     "tableResultSettingsMap": {},
     "title": ""
    }
   },
   "outputs": [
    {
     "output_type": "stream",
     "name": "stdout",
     "output_type": "stream",
     "text": [
      "+-----------+----+---------+\n|    Country|Year|TotalProd|\n+-----------+----+---------+\n|Afghanistan|2022|      0.0|\n|Afghanistan|2021|      0.0|\n|Afghanistan|1999|      0.0|\n|Afghanistan|2009|      0.0|\n|Afghanistan|2012|      0.0|\n+-----------+----+---------+\nonly showing top 5 rows\n\n+--------+----+---------+\n| Country|Year|TotalProd|\n+--------+----+---------+\n|Zimbabwe|1965|      0.0|\n|Zimbabwe|1964|      0.0|\n|Zimbabwe|1991|      0.0|\n|Zimbabwe|1978|      0.0|\n|Zimbabwe|2013|      0.0|\n+--------+----+---------+\nonly showing top 5 rows\n\n+-----------------+----+---------+\n|          Country|Year|TotalProd|\n+-----------------+----+---------+\n|      El Salvador|1975|      0.0|\n|            Italy|2023|      0.0|\n|Former Yugoslavia|1971|      0.0|\n|            Haiti|2012|      0.0|\n|          Ireland|1976|      0.0|\n+-----------------+----+---------+\nonly showing top 5 rows\n\n+---------+----+---------+\n|  Country|Year|TotalProd|\n+---------+----+---------+\n|Indonesia|2023|  47000.0|\n|Indonesia|2022|  46500.0|\n|Indonesia|2020|  43500.0|\n|Indonesia|2019|  42500.0|\n|Indonesia|2021|  42000.0|\n+---------+----+---------+\nonly showing top 5 rows\n\n"
     ]
    }
   ],
   "source": [
    "from pyspark.sql import functions as F\n",
    "df=spark.read.parquet(\"dbfs:/FileStore/palm.parquet\")\n",
    "df = df.select(df.Country, df.Year, df.Production).groupBy(\"Country\",\"Year\").agg(F.sum(\"Production\").alias(\"TotalProd\"))\n",
    "df.sort(\"Country\").show(5)\n",
    "df.sort(df[\"Country\"].desc()).show(5)\n",
    "df.orderBy(\"TotalProd\").show(5)\n",
    "df.orderBy(df[\"TotalProd\"].desc()).show(5)"
   ]
  },
  {
   "cell_type": "markdown",
   "metadata": {
    "application/vnd.databricks.v1+cell": {
     "cellMetadata": {},
     "inputWidgets": {},
     "nuid": "934b6fef-2f7c-4489-8369-b48bd3d04877",
     "showTitle": false,
     "tableResultSettingsMap": {},
     "title": ""
    }
   },
   "source": [
    "### 7. drop():\n",
    "Se utiliza para eliminar una o varias columnas del DataFrame.  \n",
    "https://spark.apache.org/docs/latest/api/python/reference/pyspark.sql/api/pyspark.sql.DataFrame.drop.html"
   ]
  },
  {
   "cell_type": "code",
   "execution_count": 0,
   "metadata": {
    "application/vnd.databricks.v1+cell": {
     "cellMetadata": {
      "byteLimit": 2048000,
      "rowLimit": 10000
     },
     "inputWidgets": {},
     "nuid": "2e9a8470-9feb-4931-99f5-3a5dec3d8afb",
     "showTitle": false,
     "tableResultSettingsMap": {},
     "title": ""
    }
   },
   "outputs": [
    {
     "output_type": "stream",
     "name": "stdout",
     "output_type": "stream",
     "text": [
      "+--------------+----+----------+---------------+------+----------+\n|       Country|Year|Production|Production (Tm)|Region|Diff_Years|\n+--------------+----+----------+---------------+------+----------+\n|European Union|1964|         0|              0| Spain|        61|\n|European Union|1965|         0|              0| Spain|        60|\n|European Union|1966|         0|              0| Spain|        59|\n|European Union|1967|         0|              0| Spain|        58|\n|European Union|1968|         0|              0| Spain|        57|\n+--------------+----+----------+---------------+------+----------+\nonly showing top 5 rows\n\n+--------------+----------+---------------+------+\n|       Country|Production|Production (Tm)|Region|\n+--------------+----------+---------------+------+\n|European Union|         0|              0| Spain|\n|European Union|         0|              0| Spain|\n|European Union|         0|              0| Spain|\n|European Union|         0|              0| Spain|\n|European Union|         0|              0| Spain|\n+--------------+----------+---------------+------+\nonly showing top 5 rows\n\n"
     ]
    }
   ],
   "source": [
    "df_Spain.show(5)\n",
    "df_Spain_reducido = df_Spain.drop(\"Year\", \"Diff_Years\")\n",
    "df_Spain_reducido.show(5)"
   ]
  },
  {
   "cell_type": "markdown",
   "metadata": {
    "application/vnd.databricks.v1+cell": {
     "cellMetadata": {},
     "inputWidgets": {},
     "nuid": "d39039dd-a46a-4c37-9956-cc5147f4111a",
     "showTitle": false,
     "tableResultSettingsMap": {},
     "title": ""
    }
   },
   "source": [
    "### 8. distinct():\n",
    "Se utiliza para eliminar las filas duplicadas del DataFrame.  \n",
    "https://spark.apache.org/docs/latest/api/python/reference/pyspark.sql/api/pyspark.sql.DataFrame.distinct.html"
   ]
  },
  {
   "cell_type": "code",
   "execution_count": 0,
   "metadata": {
    "application/vnd.databricks.v1+cell": {
     "cellMetadata": {
      "byteLimit": 2048000,
      "rowLimit": 10000
     },
     "inputWidgets": {},
     "nuid": "428e6a3b-d56e-4895-90d3-d093d28ae8b1",
     "showTitle": false,
     "tableResultSettingsMap": {},
     "title": ""
    }
   },
   "outputs": [
    {
     "output_type": "stream",
     "name": "stdout",
     "output_type": "stream",
     "text": [
      "+--------------+----------+---------------+------+\n|       Country|Production|Production (Tm)|Region|\n+--------------+----------+---------------+------+\n|European Union|         0|              0|    EU|\n|European Union|      2188|        2188000|    EU|\n|European Union|      2500|        2500000|    EU|\n|European Union|      2110|        2110000|    EU|\n|European Union|      2324|        2324000|    EU|\n|European Union|      1944|        1944000|    EU|\n|European Union|      2025|        2025000|    EU|\n|European Union|      2350|        2350000|    EU|\n|European Union|      2483|        2483000|    EU|\n|European Union|         0|              0| Spain|\n|European Union|      1435|        1435000|    EU|\n|European Union|      2132|        2132000|    EU|\n|European Union|      2415|        2415000|    EU|\n|European Union|      2700|        2700000|    EU|\n|European Union|      2235|        2235000|    EU|\n|European Union|      2402|        2402000|    EU|\n|European Union|      1752|        1752000|    EU|\n|European Union|      1871|        1871000|    EU|\n|European Union|      1867|        1867000|    EU|\n|European Union|      1625|        1625000|    EU|\n+--------------+----------+---------------+------+\nonly showing top 20 rows\n\n"
     ]
    }
   ],
   "source": [
    "df_Spain_reducido.distinct().show()\n"
   ]
  },
  {
   "cell_type": "markdown",
   "metadata": {
    "application/vnd.databricks.v1+cell": {
     "cellMetadata": {},
     "inputWidgets": {},
     "nuid": "9dc887e0-1adf-4f97-a545-050d13b695e3",
     "showTitle": false,
     "tableResultSettingsMap": {},
     "title": ""
    }
   },
   "source": [
    "### 9. join():\n",
    "Se utiliza para combinar dos DataFrames basados en una o varias columnas en común. Se puede especificar el tipo de join: 'inner', 'outer', 'left_outer', 'right_outer', o 'leftsemi'.  \n",
    "https://spark.apache.org/docs/latest/api/python/reference/pyspark.sql/api/pyspark.sql.DataFrame.join.html"
   ]
  },
  {
   "cell_type": "code",
   "execution_count": 0,
   "metadata": {
    "application/vnd.databricks.v1+cell": {
     "cellMetadata": {
      "byteLimit": 2048000,
      "rowLimit": 10000
     },
     "inputWidgets": {},
     "nuid": "cfce3bc6-614f-4146-9dff-1073171a9075",
     "showTitle": false,
     "tableResultSettingsMap": {},
     "title": ""
    }
   },
   "outputs": [
    {
     "output_type": "stream",
     "name": "stdout",
     "output_type": "stream",
     "text": [
      "+--------------------+-------+\n|               Title|Ratings|\n+--------------------+-------+\n|    Star Wars (1977)|    583|\n|      Contact (1997)|    509|\n|        Fargo (1996)|    508|\n|Return of the Jed...|    507|\n|    Liar Liar (1997)|    485|\n|English Patient, ...|    481|\n|       Scream (1996)|    478|\n|    Toy Story (1995)|    452|\n|Air Force One (1997)|    431|\n|Independence Day ...|    429|\n+--------------------+-------+\nonly showing top 10 rows\n\n"
     ]
    }
   ],
   "source": [
    "from pyspark.sql.types import StructType, StructField, IntegerType, StringType\n",
    "from pyspark.sql import functions as F\n",
    "\n",
    "# Definir el esquema del DataFrame de ratings\n",
    "esquemaRatings = StructType([\n",
    "    StructField(\"UserID\", IntegerType(), True),\n",
    "    StructField(\"MovieID\", IntegerType(), True),\n",
    "    StructField(\"Rating\", IntegerType(), True),\n",
    "    StructField(\"Timestamp\", IntegerType(), True)\n",
    "])\n",
    "\n",
    "# Cargar el archivo de ratings u-data en un DataFrame, con separador el tabulador \\t\n",
    "dfRatings = spark.read.csv(\"dbfs:/FileStore/u.data\", sep=\"\\t\", schema=esquemaRatings, header=False)\n",
    "\n",
    "# Definir esquema para el DataFrame de películas\n",
    "esquemaPeliculas = StructType([\n",
    "    StructField(\"MovieID\", IntegerType(), True),\n",
    "    StructField(\"Title\", StringType(), True),\n",
    "    StructField(\"ReleaseDate\", StringType(), True),\n",
    "    StructField(\"EmptyColumn\", StringType(), True),\n",
    "    StructField(\"IMDB_URL\", StringType(), True),\n",
    "    StructField(\"Unknown\", IntegerType(), True),\n",
    "    StructField(\"Action\", IntegerType(), True),\n",
    "    StructField(\"Adventure\", IntegerType(), True),\n",
    "    StructField(\"Animation\", IntegerType(), True),\n",
    "    StructField(\"Children\", IntegerType(), True),\n",
    "    StructField(\"Comedy\", IntegerType(), True),\n",
    "    StructField(\"Crime\", IntegerType(), True),\n",
    "    StructField(\"Documentary\", IntegerType(), True),\n",
    "    StructField(\"Drama\", IntegerType(), True),\n",
    "    StructField(\"Fantasy\", IntegerType(), True),\n",
    "    StructField(\"FilmNoir\", IntegerType(), True),\n",
    "    StructField(\"Horror\", IntegerType(), True),\n",
    "    StructField(\"Musical\", IntegerType(), True),\n",
    "    StructField(\"Mystery\", IntegerType(), True),\n",
    "    StructField(\"Romance\", IntegerType(), True),\n",
    "    StructField(\"SciFi\", IntegerType(), True),\n",
    "    StructField(\"Thriller\", IntegerType(), True),\n",
    "    StructField(\"War\", IntegerType(), True),\n",
    "    StructField(\"Western\", IntegerType(), True)\n",
    "])\n",
    "\n",
    "# Cargar el archivo de películas en un DataFrame, con separador |\n",
    "dfPeliculas = spark.read.csv(\"dbfs:/FileStore/u.item\", sep=\"|\", schema=esquemaPeliculas, header=False)\n",
    "\n",
    "# Mostrar las 10 películas con más votos\n",
    "dfRatingsNombres = dfRatings.join(dfPeliculas,on=\"MovieID\",how=\"inner\")\n",
    "dfRatingsAgrupados = dfRatingsNombres.groupBy(\"Title\").agg(F.count(\"Title\").alias(\"Ratings\")).orderBy(\"Ratings\",ascending=False)\n",
    "dfRatingsAgrupados.show(10)\n"
   ]
  },
  {
   "cell_type": "markdown",
   "metadata": {
    "application/vnd.databricks.v1+cell": {
     "cellMetadata": {},
     "inputWidgets": {},
     "nuid": "85eb1d81-32cd-4e8b-863f-887dfab28601",
     "showTitle": false,
     "tableResultSettingsMap": {},
     "title": ""
    }
   },
   "source": [
    "### 10. union() o unionAll():\n",
    "Se utiliza para combinar dos DataFrames con las mismas columnas. `union()` elimina duplicados, `unionAll()` no.  \n",
    "    https://spark.apache.org/docs/latest/api/python/reference/pyspark.sql/api/pyspark.sql.DataFrame.union.html\n",
    "y https://spark.apache.org/docs/latest/api/python/reference/pyspark.sql/api/pyspark.sql.DataFrame.unionAll.html"
   ]
  },
  {
   "cell_type": "code",
   "execution_count": 0,
   "metadata": {
    "application/vnd.databricks.v1+cell": {
     "cellMetadata": {
      "byteLimit": 2048000,
      "rowLimit": 10000
     },
     "inputWidgets": {},
     "nuid": "f77ca6cf-1695-4e86-9e84-3e64186dd5ea",
     "showTitle": false,
     "tableResultSettingsMap": {},
     "title": ""
    }
   },
   "outputs": [
    {
     "output_type": "stream",
     "name": "stdout",
     "output_type": "stream",
     "text": [
      "+---------------+-------+----------+\n|          Title|Ratings|MeanRating|\n+---------------+-------+----------+\n|      Inception|    200|       8.5|\n|         Avatar|    150|       7.8|\n|        Titanic|    180|       7.9|\n|The Dark Knight|    220|       9.0|\n|      Inception|    200|       8.5|\n|   Interstellar|    130|       8.6|\n+---------------+-------+----------+\n\n"
     ]
    }
   ],
   "source": [
    "# Crear dos dataframes con los mismos campos (películas más veces puntuadas y películas mejor puntuadas)\n",
    "data_best = [\n",
    "    (\"Inception\", 200, 8.5),\n",
    "    (\"Avatar\", 150, 7.8),\n",
    "    (\"Titanic\", 180, 7.9)\n",
    "]\n",
    "dfRatingsBest = spark.createDataFrame(data_best, [\"Title\", \"Ratings\", \"MeanRating\"])\n",
    "\n",
    "data_top = [\n",
    "    (\"The Dark Knight\", 220, 9.0),\n",
    "    (\"Inception\", 200, 8.5),\n",
    "    (\"Interstellar\", 130, 8.6)\n",
    "]\n",
    "dfRatingsTop = spark.createDataFrame(data_top, [\"Title\", \"Ratings\", \"MeanRating\"])\n",
    "\n",
    "# Hacer la unión y mostrarlos.\n",
    "dfUnion = dfRatingsBest.union(dfRatingsTop)\n",
    "dfUnion.show()\n",
    "\n",
    "# Películas más veces puntuadas\n",
    "# dfRatingsBest (Title, Ratings, MeanRating)\n",
    "\n",
    "# Películas mejor puntuadas, con más de 100 votos\n",
    "# dfRatingsTop (Title, Ratings, MeanRating)\n",
    "\n",
    "# dfRatingsBest.union(dfRatingsTop).show()\n",
    "\n"
   ]
  },
  {
   "cell_type": "markdown",
   "metadata": {
    "application/vnd.databricks.v1+cell": {
     "cellMetadata": {},
     "inputWidgets": {},
     "nuid": "b7d3f8d0-9f96-4f71-9077-58340a4c772b",
     "showTitle": false,
     "tableResultSettingsMap": {},
     "title": ""
    }
   },
   "source": [
    "### 11. map():\n",
    "Se utiliza para aplicar una función a cada fila del DataFrame, convirtiéndolo a RDD.  \n",
    "La función map() se aplica a RDDs (Resilient Distributed Datasets), no directamente a DataFrames. Para usar map en un DataFrame, primero debes convertirlo a un RDD usando df.rdd.   \n",
    "https://spark.apache.org/docs/latest/api/python/reference/api/pyspark.RDD.map.html\n"
   ]
  },
  {
   "cell_type": "code",
   "execution_count": 0,
   "metadata": {
    "application/vnd.databricks.v1+cell": {
     "cellMetadata": {
      "byteLimit": 2048000,
      "rowLimit": 10000
     },
     "inputWidgets": {},
     "nuid": "717e90f1-a94f-41c8-9315-209b12bc4fbd",
     "showTitle": false,
     "tableResultSettingsMap": {},
     "title": ""
    }
   },
   "outputs": [],
   "source": [
    "# Obtener una lista de nombres de películas y un diccionario con el número de votos en cada puntuación:\n",
    "\n",
    "# Nos quedamos con las columnas MovieID y Rating\n",
    "dfRatings = dfRatings.select(\"MovieID\", \"Rating\")\n",
    "\n",
    "# Convertir el DataFrame de ratings a un RDD de filas\n",
    "rddFilas = dfRatings.rdd\n",
    "\n",
    "# Convertir el RDD de filas a un RDD de tuplas\n",
    "rddTuplas = rddFilas.map(lambda fila: (fila[0], (fila[1],1)))\n",
    "\n",
    "# Función para crear un diccionario con el número de votos para cada puntuación\n",
    "def crearRatingDict(tuplas):\n",
    "    RatingDict = {}\n",
    "    for rating, cont in tuplas:\n",
    "        if rating in RatingDict:\n",
    "            RatingDict[rating] += cont\n",
    "        else:\n",
    "            RatingDict[rating] = cont\n",
    "    return RatingDict\n",
    "\n",
    "# Agrupar por MovieID y agregar las puntuaciones\n",
    "rddRatingsAgrupados = rddTuplas.groupByKey().mapValues(crearRatingDict)\n",
    "\n",
    "# Volver a convertir a dataframe y hacer join con películas para obtener el nombre\n",
    "dfRatingDict = rddRatingsAgrupados.toDF([\"MovieID\", \"RatingDict\"])\n",
    "dfJoined = dfPeliculas.join(dfRatingDict, on=\"MovieID\", how=\"inner\")\n",
    "\n",
    "# Mostrar 10 películas con su nombre y puntuaciones\n",
    "dfJoined.select(\"Title\", \"RatingDict\").show(10, truncate=False)\n"
   ]
  }
 ],
 "metadata": {
  "application/vnd.databricks.v1+notebook": {
   "computePreferences": null,
   "dashboards": [],
   "environmentMetadata": null,
   "language": "python",
   "notebookMetadata": {
    "pythonIndentUnit": 4
   },
   "notebookName": "Ejercicios Dataframes pyspark v2",
   "widgets": {}
  },
  "kernelspec": {
   "display_name": "spark_env",
   "language": "python",
   "name": "python3"
  },
  "language_info": {
   "codemirror_mode": {
    "name": "ipython",
    "version": 3
   },
   "file_extension": ".py",
   "mimetype": "text/x-python",
   "name": "python",
   "nbconvert_exporter": "python",
   "pygments_lexer": "ipython3",
   "version": "3.10.16"
  }
 },
 "nbformat": 4,
 "nbformat_minor": 0
}
