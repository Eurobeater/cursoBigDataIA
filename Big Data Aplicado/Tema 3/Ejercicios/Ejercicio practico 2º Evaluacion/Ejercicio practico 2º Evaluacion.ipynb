{
 "cells": [
  {
   "cell_type": "markdown",
   "metadata": {
    "application/vnd.databricks.v1+cell": {
     "cellMetadata": {
      "byteLimit": 2048000,
      "rowLimit": 10000
     },
     "inputWidgets": {},
     "nuid": "78f34454-6d7c-4438-982c-70be139f536f",
     "showTitle": false,
     "tableResultSettingsMap": {},
     "title": ""
    }
   },
   "source": [
    "# Cargar el archivo en un RDD"
   ]
  },
  {
   "cell_type": "code",
   "execution_count": 0,
   "metadata": {
    "application/vnd.databricks.v1+cell": {
     "cellMetadata": {
      "byteLimit": 2048000,
      "rowLimit": 10000
     },
     "inputWidgets": {},
     "nuid": "3749cfda-7bc9-4662-b90b-f5b817c04a43",
     "showTitle": false,
     "tableResultSettingsMap": {},
     "title": ""
    }
   },
   "outputs": [
    {
     "output_type": "stream",
     "name": "stdout",
     "output_type": "stream",
     "text": [
      "Out[22]: ['Feb 20 14:05:29 host IPTABLES: SRC=192.168.1.100 DPT=1007 PROTO=TCP LEN=112 TOS=0x00 PREC=0x00 TTL=90 ID=39938',\n 'Feb 20 03:12:57 host IPTABLES: SRC=192.168.1.14 DPT=21 PROTO=TCP LEN=117 TOS=0x00 PREC=0x00 TTL=93 ID=2860 ADMIN: Cambio de regla ejecutado',\n 'Feb 20 22:35:59 host IPTABLES: SRC=192.168.1.150 DPT=3389 PROTO=TCP LEN=135 TOS=0x00 PREC=0x00 TTL=102 ID=48471 ADMIN: Cambio de regla ejecutado',\n 'Feb 20 17:29:26 host IPTABLES: SRC=192.168.1.9 DPT=8080 PROTO=TCP LEN=102 TOS=0x00 PREC=0x00 TTL=57 ID=15999',\n 'Feb 20 16:51:06 host IPTABLES: SRC=192.168.1.85 DPT=443 PROTO=TCP LEN=99 TOS=0x00 PREC=0x00 TTL=97 ID=48716']"
     ]
    }
   ],
   "source": [
    "from pyspark import SparkContext, SparkConf\n",
    "\n",
    "sc = SparkContext.getOrCreate()\n",
    "\n",
    "rdd_logs = sc.textFile(\"dbfs:/FileStore/firewall_log.txt\")\n",
    "\n",
    "rdd_logs.take(5)\n"
   ]
  },
  {
   "cell_type": "markdown",
   "metadata": {
    "application/vnd.databricks.v1+cell": {
     "cellMetadata": {
      "byteLimit": 2048000,
      "rowLimit": 10000
     },
     "inputWidgets": {},
     "nuid": "5e27393c-0198-4b10-9db9-1e2861c2a9c2",
     "showTitle": false,
     "tableResultSettingsMap": {},
     "title": ""
    }
   },
   "source": [
    "# Filtrado de Eventos de Tráfico"
   ]
  },
  {
   "cell_type": "code",
   "execution_count": 0,
   "metadata": {
    "application/vnd.databricks.v1+cell": {
     "cellMetadata": {
      "byteLimit": 2048000,
      "rowLimit": 10000
     },
     "inputWidgets": {},
     "nuid": "b82667f8-806b-4a2c-b11b-db64d4f63dcc",
     "showTitle": false,
     "tableResultSettingsMap": {},
     "title": ""
    }
   },
   "outputs": [
    {
     "output_type": "stream",
     "name": "stdout",
     "output_type": "stream",
     "text": [
      "Out[23]: ['Feb 20 14:05:29 host IPTABLES: SRC=192.168.1.100 DPT=1007 PROTO=TCP LEN=112 TOS=0x00 PREC=0x00 TTL=90 ID=39938',\n 'Feb 20 03:12:57 host IPTABLES: SRC=192.168.1.14 DPT=21 PROTO=TCP LEN=117 TOS=0x00 PREC=0x00 TTL=93 ID=2860 ADMIN: Cambio de regla ejecutado',\n 'Feb 20 22:35:59 host IPTABLES: SRC=192.168.1.150 DPT=3389 PROTO=TCP LEN=135 TOS=0x00 PREC=0x00 TTL=102 ID=48471 ADMIN: Cambio de regla ejecutado',\n 'Feb 20 17:29:26 host IPTABLES: SRC=192.168.1.9 DPT=8080 PROTO=TCP LEN=102 TOS=0x00 PREC=0x00 TTL=57 ID=15999',\n 'Feb 20 16:51:06 host IPTABLES: SRC=192.168.1.85 DPT=443 PROTO=TCP LEN=99 TOS=0x00 PREC=0x00 TTL=97 ID=48716']"
     ]
    }
   ],
   "source": [
    "rdd_trafico = rdd_logs.filter(lambda line: \"IPTABLES:\" in line)\n",
    "\n",
    "rdd_trafico.take(5)\n"
   ]
  },
  {
   "cell_type": "markdown",
   "metadata": {
    "application/vnd.databricks.v1+cell": {
     "cellMetadata": {
      "byteLimit": 2048000,
      "rowLimit": 10000
     },
     "inputWidgets": {},
     "nuid": "1b8517d8-1891-4c3b-93b3-e2ccf17512a0",
     "showTitle": false,
     "tableResultSettingsMap": {},
     "title": ""
    }
   },
   "source": [
    "# Parsear los Datos"
   ]
  },
  {
   "cell_type": "code",
   "execution_count": 0,
   "metadata": {
    "application/vnd.databricks.v1+cell": {
     "cellMetadata": {
      "byteLimit": 2048000,
      "rowLimit": 10000
     },
     "inputWidgets": {},
     "nuid": "1070437f-0394-4dfa-af95-225d10f40b71",
     "showTitle": false,
     "tableResultSettingsMap": {},
     "title": ""
    }
   },
   "outputs": [
    {
     "output_type": "stream",
     "name": "stdout",
     "output_type": "stream",
     "text": [
      "Out[24]: [('192.168.1.100', ('Feb 20 14:05:29', '1007')),\n ('192.168.1.14', ('Feb 20 03:12:57', '21')),\n ('192.168.1.150', ('Feb 20 22:35:59', '3389')),\n ('192.168.1.9', ('Feb 20 17:29:26', '8080')),\n ('192.168.1.85', ('Feb 20 16:51:06', '443')),\n ('192.168.1.110', ('Feb 20 23:08:00', '80')),\n ('192.168.1.110', ('Feb 20 23:08:00', '3306')),\n ('192.168.1.110', ('Feb 20 23:08:00', '3306')),\n ('192.168.1.110', ('Feb 20 23:08:00', '21')),\n ('192.168.1.234', ('Feb 20 20:30:33', '3389'))]"
     ]
    }
   ],
   "source": [
    "import re\n",
    "\n",
    "def parse_line(line):\n",
    "    parts = line.split()\n",
    "    \n",
    "    timestamp = \" \".join(parts[:3])\n",
    "\n",
    "    src_match = re.search(r\"SRC=([\\d\\.]+)\", line)\n",
    "    src_ip = src_match.group(1) if src_match else \"UNKNOWN\"\n",
    "\n",
    "    dpt_match = re.search(r\"DPT=([\\d;]+)\", line)\n",
    "    dpt_ports = dpt_match.group(1).split(\";\") if dpt_match else []\n",
    "\n",
    "    return [(src_ip, (timestamp, port)) for port in dpt_ports]\n",
    "\n",
    "rdd_parsed = rdd_trafico.flatMap(parse_line)\n",
    "\n",
    "rdd_parsed.take(10)\n"
   ]
  },
  {
   "cell_type": "markdown",
   "metadata": {
    "application/vnd.databricks.v1+cell": {
     "cellMetadata": {
      "byteLimit": 2048000,
      "rowLimit": 10000
     },
     "inputWidgets": {},
     "nuid": "c39229eb-79d7-47e3-97c4-8f59e4942eb2",
     "showTitle": false,
     "tableResultSettingsMap": {},
     "title": ""
    }
   },
   "source": [
    "# Agrupar los Puertos por IP"
   ]
  },
  {
   "cell_type": "code",
   "execution_count": 0,
   "metadata": {
    "application/vnd.databricks.v1+cell": {
     "cellMetadata": {
      "byteLimit": 2048000,
      "rowLimit": 10000
     },
     "inputWidgets": {},
     "nuid": "52eb6b5b-6a6d-49c6-aecb-18694f4e0b2f",
     "showTitle": false,
     "tableResultSettingsMap": {},
     "title": ""
    }
   },
   "outputs": [
    {
     "output_type": "stream",
     "name": "stdout",
     "output_type": "stream",
     "text": [
      "Out[25]: [('192.168.1.100',\n  [('Feb 20 14:05:22', '1027'),\n   ('Feb 20 14:05:29', '1007'),\n   ('Feb 20 14:09:26', '1004'),\n   ('Feb 20 14:09:26', '1019'),\n   ('Feb 20 14:13:53', '1000'),\n   ('Feb 20 14:13:53', '1020'),\n   ('Feb 20 14:13:53', '1026'),\n   ('Feb 20 14:13:53', '1028'),\n   ('Feb 20 14:18:31', '1005'),\n   ('Feb 20 14:18:31', '1010'),\n   ('Feb 20 14:18:31', '1025'),\n   ('Feb 20 14:19:28', '1012'),\n   ('Feb 20 14:20:27', '1008'),\n   ('Feb 20 14:20:27', '1014'),\n   ('Feb 20 14:20:27', '1021'),\n   ('Feb 20 14:21:01', '1001'),\n   ('Feb 20 14:21:01', '1013'),\n   ('Feb 20 14:21:01', '1017'),\n   ('Feb 20 14:26:08', '1006'),\n   ('Feb 20 14:27:05', '1003'),\n   ('Feb 20 14:31:00', '1022'),\n   ('Feb 20 14:32:45', '1024'),\n   ('Feb 20 14:35:01', '1023'),\n   ('Feb 20 14:37:23', '1002'),\n   ('Feb 20 14:37:23', '1011'),\n   ('Feb 20 14:37:23', '1016'),\n   ('Feb 20 14:37:23', '1029'),\n   ('Feb 20 14:38:31', '443'),\n   ('Feb 20 14:41:25', '1018'),\n   ('Feb 20 14:54:32', '1015'),\n   ('Feb 20 14:56:14', '1009'),\n   ('Feb 20 21:42:38', '3306')]),\n ('192.168.1.110',\n  [('Feb 20 01:10:25', '22'),\n   ('Feb 20 01:10:25', '8080'),\n   ('Feb 20 23:08:00', '21'),\n   ('Feb 20 23:08:00', '3306'),\n   ('Feb 20 23:08:00', '80')]),\n ('192.168.1.234',\n  [('Feb 20 00:44:12', '53'),\n   ('Feb 20 04:28:17', '21'),\n   ('Feb 20 04:28:17', '25'),\n   ('Feb 20 04:28:17', '53'),\n   ('Feb 20 19:09:33', '443'),\n   ('Feb 20 20:30:33', '3389'),\n   ('Feb 20 23:33:04', '21')]),\n ('192.168.1.41',\n  [('Feb 20 01:41:46', '21'),\n   ('Feb 20 01:41:46', '3389'),\n   ('Feb 20 01:41:46', '8080'),\n   ('Feb 20 09:29:22', '8080'),\n   ('Feb 20 10:28:32', '22'),\n   ('Feb 20 10:56:39', '80'),\n   ('Feb 20 11:36:57', '53'),\n   ('Feb 20 11:36:57', '8080'),\n   ('Feb 20 11:55:26', '53'),\n   ('Feb 20 16:38:15', '8080'),\n   ('Feb 20 18:57:00', '8080')]),\n ('192.168.1.207',\n  [('Feb 20 01:13:31', '22'),\n   ('Feb 20 03:29:22', '443'),\n   ('Feb 20 13:02:36', '21'),\n   ('Feb 20 13:02:36', '25'),\n   ('Feb 20 13:02:36', '443'),\n   ('Feb 20 17:08:39', '22')])]"
     ]
    }
   ],
   "source": [
    "rdd_grouped = (\n",
    "    rdd_parsed\n",
    "    .map(lambda x: (x[0], (x[1][0], x[1][1])))\n",
    "    .groupByKey()\n",
    "    .mapValues(lambda values: sorted(set(values)))\n",
    ")\n",
    "\n",
    "rdd_grouped.take(5)\n"
   ]
  },
  {
   "cell_type": "markdown",
   "metadata": {
    "application/vnd.databricks.v1+cell": {
     "cellMetadata": {
      "byteLimit": 2048000,
      "rowLimit": 10000
     },
     "inputWidgets": {},
     "nuid": "e6f706d8-3a64-41c2-a063-9d117fcc9520",
     "showTitle": false,
     "tableResultSettingsMap": {},
     "title": ""
    }
   },
   "source": [
    "# Detectar IPs con Escaneo de Puertos"
   ]
  },
  {
   "cell_type": "code",
   "execution_count": 0,
   "metadata": {
    "application/vnd.databricks.v1+cell": {
     "cellMetadata": {
      "byteLimit": 2048000,
      "rowLimit": 10000
     },
     "inputWidgets": {},
     "nuid": "13b7f6a8-caa4-4361-a71c-a0a1fd94894b",
     "showTitle": false,
     "tableResultSettingsMap": {},
     "title": ""
    }
   },
   "outputs": [
    {
     "output_type": "stream",
     "name": "stdout",
     "output_type": "stream",
     "text": [
      "Cantidad de registros en rdd_escaneo: 153\nEjemplos de rdd_escaneo: [('192.168.1.100', {'Feb 20 14:05:': 2, 'Feb 20 14:09:': 2, 'Feb 20 14:13:': 4, 'Feb 20 14:18:': 3, 'Feb 20 14:20:': 3, 'Feb 20 14:21:': 3, 'Feb 20 14:37:': 4}), ('192.168.1.110', {'Feb 20 01:10:': 2, 'Feb 20 23:08:': 3}), ('192.168.1.234', {'Feb 20 04:28:': 3}), ('192.168.1.41', {'Feb 20 01:41:': 3, 'Feb 20 11:36:': 2}), ('192.168.1.207', {'Feb 20 13:02:': 3})]\n"
     ]
    }
   ],
   "source": [
    "def detectar_escaneo(data):\n",
    "    ip, registros = data\n",
    "    registros_ordenados = sorted(registros)\n",
    "    puertos_por_hora = {}\n",
    "    for timestamp, puerto in registros_ordenados:\n",
    "        hora = timestamp[:13]\n",
    "        if hora not in puertos_por_hora:\n",
    "            puertos_por_hora[hora] = set()\n",
    "        puertos_por_hora[hora].add(puerto)\n",
    "        \n",
    "    return ip, {h: len(p) for h, p in puertos_por_hora.items() if len(p) > 1}\n",
    "\n",
    "rdd_escaneo = rdd_grouped.map(detectar_escaneo).filter(lambda x: len(x[1]) > 0)\n",
    "\n",
    "print(\"Cantidad de registros en rdd_escaneo:\", rdd_escaneo.count())\n",
    "print(\"Ejemplos de rdd_escaneo:\", rdd_escaneo.take(5))\n"
   ]
  },
  {
   "cell_type": "markdown",
   "metadata": {
    "application/vnd.databricks.v1+cell": {
     "cellMetadata": {
      "byteLimit": 2048000,
      "rowLimit": 10000
     },
     "inputWidgets": {},
     "nuid": "68557e6e-bc47-4190-bc50-a632ce6019c9",
     "showTitle": false,
     "tableResultSettingsMap": {},
     "title": ""
    }
   },
   "source": [
    "# Convertir RDD a DataFrame"
   ]
  },
  {
   "cell_type": "code",
   "execution_count": 0,
   "metadata": {
    "application/vnd.databricks.v1+cell": {
     "cellMetadata": {
      "byteLimit": 2048000,
      "rowLimit": 10000
     },
     "inputWidgets": {},
     "nuid": "12238618-4d2f-4b9f-8f87-b81d42e066ba",
     "showTitle": false,
     "tableResultSettingsMap": {},
     "title": ""
    }
   },
   "outputs": [
    {
     "output_type": "stream",
     "name": "stdout",
     "output_type": "stream",
     "text": [
      "+-------------+-------------+-------------+\n|       SRC_IP|         Hora|PuertosUnicos|\n+-------------+-------------+-------------+\n| 192.168.1.13|Feb 20 23:43:|            4|\n|192.168.1.100|Feb 20 14:13:|            4|\n| 192.168.1.77|Feb 20 03:13:|            4|\n|192.168.1.100|Feb 20 14:37:|            4|\n| 192.168.1.14|Feb 20 08:59:|            4|\n|192.168.1.231|Feb 20 01:12:|            4|\n|192.168.1.146|Feb 20 00:47:|            4|\n| 192.168.1.39|Feb 20 10:50:|            4|\n| 192.168.1.83|Feb 20 22:42:|            4|\n| 192.168.1.20|Feb 20 00:15:|            4|\n|  192.168.1.1|Feb 20 03:39:|            4|\n|192.168.1.176|Feb 20 20:39:|            4|\n|192.168.1.159|Feb 20 09:18:|            4|\n|192.168.1.130|Feb 20 10:24:|            4|\n|192.168.1.159|Feb 20 22:51:|            4|\n| 192.168.1.93|Feb 20 01:14:|            4|\n|192.168.1.229|Feb 20 08:42:|            4|\n| 192.168.1.95|Feb 20 01:48:|            4|\n| 192.168.1.12|Feb 20 01:24:|            4|\n| 192.168.1.91|Feb 20 01:16:|            4|\n+-------------+-------------+-------------+\nonly showing top 20 rows\n\n"
     ]
    }
   ],
   "source": [
    "from pyspark.sql import SparkSession, Row\n",
    "spark = SparkSession.builder.getOrCreate()\n",
    "\n",
    "df_escaneos = rdd_escaneo.flatMap(\n",
    "    lambda x: [(x[0], hora, num_puertos) for hora, num_puertos in x[1].items()]\n",
    ").map(lambda x: Row(SRC_IP=x[0], Hora=x[1], PuertosUnicos=x[2])).toDF()\n",
    "\n",
    "df_escaneos.orderBy(\"PuertosUnicos\", ascending=False).show()\n"
   ]
  },
  {
   "cell_type": "markdown",
   "metadata": {
    "application/vnd.databricks.v1+cell": {
     "cellMetadata": {
      "byteLimit": 2048000,
      "rowLimit": 10000
     },
     "inputWidgets": {},
     "nuid": "540f8dd5-0d1e-484c-b417-8c70d4ab7bd0",
     "showTitle": false,
     "tableResultSettingsMap": {},
     "title": ""
    }
   },
   "source": [
    "# Guardar el Resultado\n"
   ]
  },
  {
   "cell_type": "code",
   "execution_count": 0,
   "metadata": {
    "application/vnd.databricks.v1+cell": {
     "cellMetadata": {
      "byteLimit": 2048000,
      "rowLimit": 10000
     },
     "inputWidgets": {},
     "nuid": "400a4ebf-4ffe-48d2-bdca-c7514698030a",
     "showTitle": false,
     "tableResultSettingsMap": {},
     "title": ""
    }
   },
   "outputs": [
    {
     "output_type": "stream",
     "name": "stdout",
     "output_type": "stream",
     "text": [
      "+-------------+-------------+-------------+\n|       SRC_IP|         Hora|PuertosUnicos|\n+-------------+-------------+-------------+\n|192.168.1.100|Feb 20 14:05:|            2|\n|192.168.1.100|Feb 20 14:09:|            2|\n|192.168.1.100|Feb 20 14:13:|            4|\n|192.168.1.100|Feb 20 14:18:|            3|\n|192.168.1.100|Feb 20 14:20:|            3|\n|192.168.1.100|Feb 20 14:21:|            3|\n|192.168.1.100|Feb 20 14:37:|            4|\n|192.168.1.110|Feb 20 01:10:|            2|\n|192.168.1.110|Feb 20 23:08:|            3|\n|192.168.1.234|Feb 20 04:28:|            3|\n| 192.168.1.41|Feb 20 01:41:|            3|\n| 192.168.1.41|Feb 20 11:36:|            2|\n|192.168.1.207|Feb 20 13:02:|            3|\n|192.168.1.105|Feb 20 10:47:|            2|\n| 192.168.1.53|Feb 20 14:38:|            2|\n|192.168.1.191|Feb 20 08:18:|            3|\n|192.168.1.191|Feb 20 17:52:|            2|\n|192.168.1.191|Feb 20 18:28:|            2|\n|192.168.1.149|Feb 20 04:36:|            3|\n|192.168.1.216|Feb 20 02:48:|            3|\n|192.168.1.231|Feb 20 01:12:|            4|\n|192.168.1.170|Feb 20 05:27:|            3|\n|  192.168.1.2|Feb 20 05:43:|            3|\n|  192.168.1.2|Feb 20 18:07:|            2|\n|192.168.1.153|Feb 20 07:45:|            2|\n|192.168.1.103|Feb 20 13:30:|            3|\n|192.168.1.135|Feb 20 13:59:|            3|\n|192.168.1.135|Feb 20 17:11:|            3|\n| 192.168.1.84|Feb 20 00:34:|            3|\n|192.168.1.228|Feb 20 15:06:|            3|\n|192.168.1.201|Feb 20 07:47:|            3|\n|192.168.1.201|Feb 20 16:23:|            2|\n| 192.168.1.20|Feb 20 00:15:|            4|\n| 192.168.1.38|Feb 20 11:31:|            3|\n| 192.168.1.63|Feb 20 17:22:|            3|\n|192.168.1.162|Feb 20 03:10:|            2|\n|192.168.1.162|Feb 20 07:34:|            3|\n| 192.168.1.71|Feb 20 20:25:|            3|\n| 192.168.1.71|Feb 20 23:29:|            3|\n| 192.168.1.25|Feb 20 02:50:|            2|\n| 192.168.1.25|Feb 20 06:48:|            2|\n| 192.168.1.25|Feb 20 17:53:|            3|\n| 192.168.1.19|Feb 20 02:32:|            3|\n| 192.168.1.19|Feb 20 15:20:|            2|\n|192.168.1.202|Feb 20 08:01:|            2|\n|192.168.1.202|Feb 20 10:22:|            3|\n|192.168.1.202|Feb 20 15:56:|            2|\n| 192.168.1.75|Feb 20 06:46:|            3|\n| 192.168.1.26|Feb 20 21:18:|            3|\n|192.168.1.214|Feb 20 17:55:|            3|\n+-------------+-------------+-------------+\nonly showing top 50 rows\n\n"
     ]
    }
   ],
   "source": [
    "df_escaneos.write.mode(\"overwrite\").csv(\"dbfs:/FileStore/deteccion_escaneo\")\n",
    "df_escaneos.show(50)\n",
    "\n"
   ]
  }
 ],
 "metadata": {
  "application/vnd.databricks.v1+notebook": {
   "computePreferences": null,
   "dashboards": [],
   "environmentMetadata": {
    "base_environment": "",
    "client": "1"
   },
   "language": "python",
   "notebookMetadata": {
    "pythonIndentUnit": 4
   },
   "notebookName": "Ejercicio practico 2º Evaluacion",
   "widgets": {}
  }
 },
 "nbformat": 4,
 "nbformat_minor": 0
}
